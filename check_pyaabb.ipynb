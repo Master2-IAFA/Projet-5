{
 "cells": [
  {
   "cell_type": "code",
   "execution_count": 1,
   "metadata": {},
   "outputs": [],
   "source": [
    "import numpy as np\n",
    "from pyaabb import pyaabb\n",
    "import k3d"
   ]
  },
  {
   "cell_type": "code",
   "execution_count": 2,
   "metadata": {},
   "outputs": [],
   "source": [
    "def create_boxes(point_lst):\n",
    "    min_corners = []\n",
    "    max_corners = []\n",
    "\n",
    "    for p in point_lst:\n",
    "        min_tmp = []\n",
    "        max_tmp = []\n",
    "        for i in range(3):\n",
    "            min_tmp.append(min(p[0][i], p[1][i]))\n",
    "            max_tmp.append(max(p[0][i], p[1][i]))\n",
    "        min_corners.append(min_tmp)\n",
    "        max_corners.append(max_tmp)\n",
    "\n",
    "    corners = np.concatenate((np.array(min_corners)[:, None], np.array(max_corners)[:, None]), axis=1)\n",
    "    return corners\n"
   ]
  },
  {
   "cell_type": "code",
   "execution_count": 3,
   "metadata": {},
   "outputs": [],
   "source": [
    "def generate_dots(theta, z):\n",
    "    r = z**2 + 1\n",
    "    x = r * np.sin(theta)\n",
    "    y = r * np.cos(theta)\n",
    "    return x, y"
   ]
  },
  {
   "cell_type": "markdown",
   "metadata": {},
   "source": [
    "# 1"
   ]
  },
  {
   "cell_type": "code",
   "execution_count": 5,
   "metadata": {},
   "outputs": [],
   "source": [
    "theta = np.linspace(0, 1, 10, dtype=np.float32)\n",
    "z = np.linspace(-5, 1, 10, dtype=np.float32)\n",
    "x, y = generate_dots(theta, z)\n",
    "\n",
    "tmp_1 = np.concatenate((x[0:-1, None], y[0:-1, None], z[0:-1, None]), axis=-1)\n",
    "tmp_2 = np.concatenate((x[1:, None], y[1:, None], z[1:, None]), axis=-1)\n",
    "point_lines = np.concatenate((tmp_1[:, None], tmp_2[:, None]), axis=1)"
   ]
  },
  {
   "cell_type": "code",
   "execution_count": 7,
   "metadata": {},
   "outputs": [],
   "source": [
    "corners = create_boxes(point_lines)\n",
    "method = pyaabb.AABB()\n",
    "method.build(corners)"
   ]
  },
  {
   "cell_type": "code",
   "execution_count": 9,
   "metadata": {},
   "outputs": [
    {
     "name": "stdout",
     "output_type": "stream",
     "text": [
      "[0. 0. 0.] segment id []\n",
      "[ 0.5  2.  -1. ] segment id []\n",
      "[ 1.   1.  -0.5] segment id [6]\n",
      "[0.5 0.5 0.5] segment id []\n",
      "[ 3.27194715  9.4495697  -3.        ] segment id [2, 3]\n",
      "[ 2.77082992  5.81836414 -2.33333325] segment id [3, 4]\n"
     ]
    }
   ],
   "source": [
    "i = np.random.randint(0, len(point_lines))\n",
    "points = np.array([[0, 0, 0], \n",
    "                   [0.5,  2, -1], \n",
    "                   [1, 1, -0.5], \n",
    "                   [0.5, 0.5, 0.5], \n",
    "                   point_lines[i][0], \n",
    "                   point_lines[i][1]]).astype(float)\n",
    "\n",
    "for p in points:\n",
    "        print(p, 'segment id {}'.format(method.point_find_bbox(p)))"
   ]
  },
  {
   "cell_type": "code",
   "execution_count": 4,
   "metadata": {},
   "outputs": [],
   "source": [
    "def illustrate(point_lines, points):\n",
    "    plot = k3d.plot()\n",
    "\n",
    "    line = k3d.line(point_lines, width=0.2)\n",
    "    plot += line\n",
    "    for p in points:\n",
    "        c = [0xff0000]\n",
    "        id_ = method.point_find_bbox(p)\n",
    "        if len(id_) > 0:\n",
    "            point = k3d.points(p, colors=c, point_size=0.3)\n",
    "            for i in id_:\n",
    "                line = k3d.line(point_lines[i], colors=[c, c], width=0.2)\n",
    "                plot += line\n",
    "        else:\n",
    "            point = k3d.points(p, colors=0xf0001, point_size=0.3)\n",
    "        plot += point\n",
    "\n",
    "    plot.display()\n"
   ]
  },
  {
   "cell_type": "code",
   "execution_count": 11,
   "metadata": {},
   "outputs": [
    {
     "data": {
      "application/vnd.jupyter.widget-view+json": {
       "model_id": "b2ea6fd3a53147479f6dddc2ea5f0ca8",
       "version_major": 2,
       "version_minor": 0
      },
      "text/plain": [
       "Output()"
      ]
     },
     "metadata": {},
     "output_type": "display_data"
    }
   ],
   "source": [
    "illustrate(point_lines, points)"
   ]
  },
  {
   "cell_type": "markdown",
   "metadata": {},
   "source": [
    "# 2"
   ]
  },
  {
   "cell_type": "code",
   "execution_count": 5,
   "metadata": {},
   "outputs": [],
   "source": [
    "theta = np.linspace(0, 1, 10, dtype=np.float32)\n",
    "z = np.linspace(-1, 1, 10, dtype=np.float32)\n",
    "x, y = generate_dots(theta, z)\n",
    "\n",
    "tmp_1 = np.concatenate((x[0:-1, None], y[0:-1, None], z[0:-1, None]), axis=-1)\n",
    "tmp_2 = np.concatenate((x[1:, None], y[1:, None], z[1:, None]), axis=-1)\n",
    "point_lines = np.concatenate((tmp_1[:, None], tmp_2[:, None]), axis=1)"
   ]
  },
  {
   "cell_type": "code",
   "execution_count": 6,
   "metadata": {},
   "outputs": [],
   "source": [
    "corners = create_boxes(point_lines)\n",
    "method = pyaabb.AABB()\n",
    "method.build(corners)"
   ]
  },
  {
   "cell_type": "code",
   "execution_count": 9,
   "metadata": {},
   "outputs": [
    {
     "name": "stdout",
     "output_type": "stream",
     "text": [
      "[0. 0. 0.] segment id [0, 1, 2, 3, 4, 5, 6, 7, 8]\n",
      "[ 0.5  2.  -1. ] segment id [0, 1, 2, 3, 4, 5, 6, 7, 8]\n",
      "[ 1.   1.  -0.5] segment id [0, 1, 2, 3, 4, 5, 6, 7, 8]\n",
      "[0.5 0.5 0.5] segment id [0, 1, 2, 3, 4, 5, 6, 7, 8]\n",
      "[1000. 1000. 1000.] segment id [0, 1, 2, 3, 4, 5, 6, 7, 8]\n",
      "[0.53392667 0.86009651 0.11111111] segment id [0, 1, 2, 3, 4, 5, 6, 7, 8]\n",
      "[0.68707758 0.87320811 0.33333334] segment id [0, 1, 2, 3, 4, 5, 6, 7, 8]\n"
     ]
    }
   ],
   "source": [
    "i = np.random.randint(0, len(point_lines))\n",
    "points = np.array([[0, 0, 0], \n",
    "                   [0.5,  2, -1], \n",
    "                   [1, 1, -0.5], \n",
    "                   [0.5, 0.5, 0.5], \n",
    "                   [1000, 1000, 1000],\n",
    "                   point_lines[i][0], \n",
    "                   point_lines[i][1]]).astype(float)\n",
    "\n",
    "for p in points:\n",
    "        print(p, 'segment id {}'.format(method.point_find_bbox(p)))"
   ]
  },
  {
   "cell_type": "code",
   "execution_count": 10,
   "metadata": {},
   "outputs": [
    {
     "data": {
      "application/vnd.jupyter.widget-view+json": {
       "model_id": "bfa0c6ca93074feca135f9ebad262785",
       "version_major": 2,
       "version_minor": 0
      },
      "text/plain": [
       "Output()"
      ]
     },
     "metadata": {},
     "output_type": "display_data"
    }
   ],
   "source": [
    "illustrate(point_lines, points)"
   ]
  },
  {
   "cell_type": "markdown",
   "metadata": {},
   "source": [
    "# 3"
   ]
  },
  {
   "cell_type": "code",
   "execution_count": 23,
   "metadata": {},
   "outputs": [],
   "source": [
    "theta = np.linspace(0, 1, 10, dtype=np.float32)\n",
    "z = np.linspace(-3, 3, 10, dtype=np.float32)\n",
    "x, y = generate_dots(theta, z)\n",
    "\n",
    "tmp_1 = np.concatenate((x[0:-1, None], y[0:-1, None], z[0:-1, None]), axis=-1)\n",
    "tmp_2 = np.concatenate((x[1:, None], y[1:, None], z[1:, None]), axis=-1)\n",
    "point_lines = np.concatenate((tmp_1[:, None], tmp_2[:, None]), axis=1)"
   ]
  },
  {
   "cell_type": "code",
   "execution_count": 24,
   "metadata": {},
   "outputs": [],
   "source": [
    "corners = create_boxes(point_lines)\n",
    "method = pyaabb.AABB()\n",
    "method.build(corners)"
   ]
  },
  {
   "cell_type": "code",
   "execution_count": 25,
   "metadata": {},
   "outputs": [
    {
     "name": "stdout",
     "output_type": "stream",
     "text": [
      "[0. 0. 0.] segment id []\n",
      "[ 2.  3. -1.] segment id []\n",
      "[ 1.   1.  -0.5] segment id []\n",
      "[0.5 0.5 0.5] segment id []\n",
      "[ 0.65438944  1.88991392 -1.        ] segment id [2, 3]\n",
      "[ 0.47772932  1.00316632 -0.33333334] segment id [3, 4]\n"
     ]
    }
   ],
   "source": [
    "i = np.random.randint(0, len(point_lines))\n",
    "points = np.array([[0, 0, 0], \n",
    "                   [2,  3, -1], \n",
    "                   [1, 1, -0.5], \n",
    "                   [0.5, 0.5, 0.5], \n",
    "                   point_lines[i][0], \n",
    "                   point_lines[i][1]]).astype(float)\n",
    "\n",
    "for p in points:\n",
    "        print(p, 'segment id {}'.format(method.point_find_bbox(p)))"
   ]
  },
  {
   "cell_type": "code",
   "execution_count": 26,
   "metadata": {},
   "outputs": [
    {
     "data": {
      "application/vnd.jupyter.widget-view+json": {
       "model_id": "10f071cb070d4bd0a181cc2d000cb776",
       "version_major": 2,
       "version_minor": 0
      },
      "text/plain": [
       "Output()"
      ]
     },
     "metadata": {},
     "output_type": "display_data"
    }
   ],
   "source": [
    "illustrate(point_lines, points)"
   ]
  },
  {
   "cell_type": "code",
   "execution_count": null,
   "metadata": {},
   "outputs": [],
   "source": []
  }
 ],
 "metadata": {
  "kernelspec": {
   "display_name": "Python 3",
   "language": "python",
   "name": "python3"
  },
  "language_info": {
   "codemirror_mode": {
    "name": "ipython",
    "version": 3
   },
   "file_extension": ".py",
   "mimetype": "text/x-python",
   "name": "python",
   "nbconvert_exporter": "python",
   "pygments_lexer": "ipython3",
   "version": "3.7.3"
  }
 },
 "nbformat": 4,
 "nbformat_minor": 2
}
