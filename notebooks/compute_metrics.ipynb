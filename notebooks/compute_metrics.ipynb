{
 "cells": [
  {
   "cell_type": "code",
   "execution_count": 1,
   "metadata": {},
   "outputs": [],
   "source": [
    "%load_ext autoreload\n",
    "%autoreload 2"
   ]
  },
  {
   "cell_type": "code",
   "execution_count": 2,
   "metadata": {},
   "outputs": [
    {
     "name": "stderr",
     "output_type": "stream",
     "text": [
      "Matplotlib created a temporary config/cache directory at /tmp/matplotlib-hd5fu9k_ because the default path (/home/user/.cache/matplotlib) is not a writable directory; it is highly recommended to set the MPLCONFIGDIR environment variable to a writable directory, in particular to speed up the import of Matplotlib and to better support multiprocessing.\n"
     ]
    }
   ],
   "source": [
    "from copy import deepcopy\n",
    "from collections import defaultdict\n",
    "import json\n",
    "import warnings\n",
    "import glob\n",
    "import os\n",
    "import re\n",
    "from functools import partial\n",
    "\n",
    "import h5py\n",
    "from joblib import Parallel, delayed\n",
    "import k3d\n",
    "import matplotlib.pyplot as plt\n",
    "import numpy as np\n",
    "from tqdm import tqdm\n",
    "import yaml"
   ]
  },
  {
   "cell_type": "code",
   "execution_count": 3,
   "metadata": {},
   "outputs": [],
   "source": [
    "def display_sharpness(mesh=None, plot_meshvert=True,\n",
    "                      samples=None, samples_distances=None,\n",
    "                      sharp_vert=None, sharp_curves=None,\n",
    "                      directions=None, directions_width=0.0025,\n",
    "                      samples_color=0x0000ff, samples_psize=0.002, \n",
    "                      mesh_color=0xbbbbbb, meshvert_color=0x666666, meshvert_psize=0.0025,\n",
    "                      sharpvert_color=0xff0000, sharpvert_psize=0.0025,\n",
    "                      sharpcurve_color=None, sharpcurve_width=0.0025,\n",
    "                      as_image=False, plot_height=768):\n",
    "    \n",
    "    plot = k3d.plot(height=plot_height)\n",
    "    \n",
    "    if None is not mesh:\n",
    "        k3d_mesh = k3d.mesh(mesh.vertices, mesh.faces, color=mesh_color)\n",
    "        plot += k3d_mesh\n",
    "\n",
    "        if plot_meshvert:\n",
    "            k3d_points = k3d.points(mesh.vertices, \n",
    "                                    point_size=meshvert_psize, color=meshvert_color)\n",
    "            plot += k3d_points\n",
    "            k3d_points.shader='flat'\n",
    "\n",
    "    if None is not samples:\n",
    "        colors = None\n",
    "        if None is not samples_distances:\n",
    "            max_dist = 0.5\n",
    "\n",
    "            colors = k3d.helpers.map_colors(\n",
    "                samples_distances, k3d.colormaps.matplotlib_color_maps.coolwarm_r, [0, max_dist]\n",
    "            ).astype(np.uint32)\n",
    "            k3d_points = k3d.points(samples, point_size=samples_psize, colors=colors)\n",
    "        else:\n",
    "            k3d_points = k3d.points(samples, point_size=samples_psize, color=samples_color)\n",
    "        plot += k3d_points\n",
    "        k3d_points.shader='flat'\n",
    "        \n",
    "        if None is not directions:\n",
    "            vectors = k3d.vectors(\n",
    "                samples,\n",
    "                directions * samples_distances[..., np.newaxis],\n",
    "                use_head=False, \n",
    "                line_width=directions_width)\n",
    "            print(vectors)\n",
    "            plot += vectors\n",
    "\n",
    "#             directions_to_plot = np.hstack((samples, samples + directions))\n",
    "            \n",
    "#             for i, dir_to_plot in enumerate(directions_to_plot):\n",
    "#                 dir_to_plot = dir_to_plot.reshape((2, 3))\n",
    "#                 if np.all(dir_to_plot[0] == dir_to_plot[1]):\n",
    "#                     continue\n",
    "#                 color = int(colors[i]) if None is not colors else samples_color\n",
    "#                 plt_line = k3d.line(dir_to_plot, \n",
    "#                                     shader='mesh', width=directions_width, color=color)\n",
    "#                 plot += plt_line\n",
    "\n",
    "    if None is not sharp_vert:\n",
    "        k3d_points = k3d.points(sharp_vert,\n",
    "                                point_size=sharpvert_psize, color=sharpvert_color)\n",
    "        plot += k3d_points\n",
    "        k3d_points.shader='flat'\n",
    "        \n",
    "        if None is not sharp_curves:            \n",
    "            if None is not sharpcurve_color:\n",
    "                color = sharpcurve_color\n",
    "            else:\n",
    "                import randomcolor\n",
    "                rand_color = randomcolor.RandomColor()\n",
    "            for i, vert_ind in enumerate(sharp_curves):\n",
    "                sharp_points_curve = mesh.vertices[vert_ind]\n",
    "                \n",
    "                if None is sharpcurve_color:\n",
    "                    color = rand_color.generate(hue='red')[0]\n",
    "                    color = int('0x' + color[1:], 16)\n",
    "                plt_line = k3d.line(sharp_points_curve, \n",
    "                                    shader='mesh', width=sharpcurve_width, color=color)\n",
    "                plot += plt_line\n",
    "        \n",
    "    plot.grid_visible = False\n",
    "    plot.display()\n",
    "    \n",
    "    if as_image:\n",
    "        plot.fetch_screenshot()\n",
    "        return Image(data=b64decode(plot.screenshot))"
   ]
  },
  {
   "cell_type": "code",
   "execution_count": 27,
   "metadata": {},
   "outputs": [],
   "source": [
    "datafiles = glob.glob(\n",
    "    os.path.join('/logs/whole_images/predictions/abc_0022_00221312_0cdd179f2b755db6d27ea303_001_32x32/predictions/', '*.npy')\n",
    ")"
   ]
  },
  {
   "cell_type": "code",
   "execution_count": 28,
   "metadata": {},
   "outputs": [],
   "source": [
    "def get_num(basename):\n",
    "    match = re.match('^test_(\\d+)\\.npy$', basename)\n",
    "    return int(match.groups()[0])"
   ]
  },
  {
   "cell_type": "code",
   "execution_count": 29,
   "metadata": {},
   "outputs": [],
   "source": [
    "datafiles.sort(key=lambda name: get_num(os.path.basename(name)))"
   ]
  },
  {
   "cell_type": "code",
   "execution_count": 30,
   "metadata": {},
   "outputs": [],
   "source": [
    "patches = [\n",
    "    {'distances': np.load(f)}\n",
    "    for f in datafiles\n",
    "]"
   ]
  },
  {
   "cell_type": "code",
   "execution_count": 31,
   "metadata": {},
   "outputs": [],
   "source": [
    "from sharpf.utils.abc_utils.hdf5.dataset import Hdf5File, PreloadTypes\n",
    "import sharpf.utils.abc_utils.hdf5.io_struct as io"
   ]
  },
  {
   "cell_type": "code",
   "execution_count": 35,
   "metadata": {},
   "outputs": [],
   "source": [
    "PredictionsIO = io.HDF5IO({\n",
    "    'distances': io.Float64('distances'),\n",
    "},\n",
    "len_label='distances',\n",
    "compression='lzf')"
   ]
  },
  {
   "cell_type": "code",
   "execution_count": 36,
   "metadata": {},
   "outputs": [],
   "source": [
    "def save_predictions(patches, filename):\n",
    "    # turn a list of dicts into a dict of torch tensors:\n",
    "    # default_collate([{'a': 'str1', 'x': np.random.normal()}, {'a': 'str2', 'x': np.random.normal()}])\n",
    "    # Out[26]: {'a': ['str1', 'str2'], 'x': tensor([0.4252, 0.1414], dtype=torch.float64)}\n",
    "    collate_fn = partial(io.collate_mapping_with_io, io=PredictionsIO)\n",
    "    patches = collate_fn(patches)\n",
    "    \n",
    "    with h5py.File(filename, 'w') as f:\n",
    "        PredictionsIO.write(f, 'distances', patches['distances'])"
   ]
  },
  {
   "cell_type": "code",
   "execution_count": 37,
   "metadata": {},
   "outputs": [],
   "source": [
    "save_predictions(\n",
    "    patches,\n",
    "    os.path.join('/logs/whole_images/predictions/abc_0022_00221312_0cdd179f2b755db6d27ea303_001_32x32/predictions', 'test_predictions_0.hdf5'))"
   ]
  },
  {
   "cell_type": "code",
   "execution_count": 55,
   "metadata": {},
   "outputs": [],
   "source": [
    "save_predictions(patches[16384:], os.path.join('/logs/baseline-image-predictions/predictions/', 'train_1.hdf5'))"
   ]
  },
  {
   "cell_type": "code",
   "execution_count": null,
   "metadata": {},
   "outputs": [],
   "source": []
  },
  {
   "cell_type": "code",
   "execution_count": 38,
   "metadata": {},
   "outputs": [],
   "source": [
    "def convert_npylist_to_hdf5(input_dir, output_dir):\n",
    "    datafiles = glob.glob(os.path.join(input_dir, '*.npy'))\n",
    "    datafiles.sort(key=lambda name: get_num(os.path.basename(name)))\n",
    "    \n",
    "    patches = [{'distances': np.load(f)} for f in datafiles]\n",
    "    \n",
    "    PredictionsIO = io.HDF5IO({\n",
    "        'distances': io.Float64('distances'),\n",
    "        },\n",
    "        len_label='distances',\n",
    "        compression='lzf')\n",
    "    save_predictions(patches, os.path.join(output_dir, 'test_predictions_0.hdf5'))"
   ]
  },
  {
   "cell_type": "code",
   "execution_count": 39,
   "metadata": {},
   "outputs": [
    {
     "name": "stdout",
     "output_type": "stream",
     "text": [
      "/logs/whole_images/predictions/abc_0022_00221312_0cdd179f2b755db6d27ea303_001_32x32/predictions\n"
     ]
    }
   ],
   "source": [
    "input_root_dir = '/logs/whole_images/predictions/'\n",
    "for d in glob.glob(os.path.join(input_root_dir, '*')):\n",
    "    input_dir = os.path.join(d, 'predictions')\n",
    "    output_dir = os.path.join(d, 'predictions')\n",
    "    convert_npylist_to_hdf5(input_dir, output_dir)\n",
    "    print(input_dir)"
   ]
  },
  {
   "cell_type": "code",
   "execution_count": null,
   "metadata": {},
   "outputs": [],
   "source": []
  },
  {
   "cell_type": "code",
   "execution_count": null,
   "metadata": {},
   "outputs": [],
   "source": []
  },
  {
   "cell_type": "code",
   "execution_count": 15,
   "metadata": {},
   "outputs": [],
   "source": [
    "WholePointCloudIO = io.HDF5IO({\n",
    "    'points': io.VarFloat64('points'),\n",
    "    'normals': io.VarFloat64('normals'),\n",
    "    'distances': io.VarFloat64('distances'),\n",
    "    'directions': io.VarFloat64('directions'),\n",
    "    'indexes_in_whole': io.VarInt32('indexes_in_whole'),\n",
    "    'item_id': io.AsciiString('item_id'),\n",
    "    'orig_vert_indices': io.VarInt32('orig_vert_indices'),\n",
    "    'orig_face_indexes': io.VarInt32('orig_face_indexes'),\n",
    "    'has_sharp': io.Bool('has_sharp'),\n",
    "    'num_sharp_curves': io.Int8('num_sharp_curves'),\n",
    "    'num_surfaces': io.Int8('num_surfaces'),\n",
    "    'has_smell_coarse_surfaces_by_num_faces': io.Bool('has_smell_coarse_surfaces_by_num_faces'),\n",
    "    'has_smell_coarse_surfaces_by_angles': io.Bool('has_smell_coarse_surfaces_by_angles'),\n",
    "    'has_smell_deviating_resolution': io.Bool('has_smell_deviating_resolution'),\n",
    "    'has_smell_sharpness_discontinuities': io.Bool('has_smell_sharpness_discontinuities'),\n",
    "    'has_smell_bad_face_sampling': io.Bool('has_smell_bad_face_sampling'),\n",
    "    'has_smell_mismatching_surface_annotation': io.Bool('has_smell_mismatching_surface_annotation'),\n",
    "},\n",
    "len_label='has_sharp',\n",
    "compression='lzf')"
   ]
  },
  {
   "cell_type": "code",
   "execution_count": 16,
   "metadata": {},
   "outputs": [],
   "source": [
    "dataset = Hdf5File('/logs/whole_00000058_666139e3bff64d4e8a6ce183_007.hdf5',\n",
    "                   io=WholePointCloudIO,\n",
    "                   preload=PreloadTypes.LAZY,\n",
    "                   labels='*')"
   ]
  },
  {
   "cell_type": "code",
   "execution_count": 26,
   "metadata": {},
   "outputs": [],
   "source": [
    "ground_truth = [patch for patch in dataset]"
   ]
  },
  {
   "cell_type": "code",
   "execution_count": 23,
   "metadata": {},
   "outputs": [
    {
     "name": "stdout",
     "output_type": "stream",
     "text": [
      "Vectors(colors=array([], dtype=uint32), head_color=255, id=140632896413032, line_width=0.0025, model_matrix=array([[1., 0., 0., 0.],\n",
      "       [0., 1., 0., 0.],\n",
      "       [0., 0., 1., 0.],\n",
      "       [0., 0., 0., 1.]], dtype=float32), origin_color=255, origins=array([[-1.1771371 ,  5.0430923 ,  0.95777905],\n",
      "       [-1.4035254 ,  4.9713063 ,  0.74531245],\n",
      "       [-1.4096197 ,  5.553408  ,  0.3806929 ],\n",
      "       ...,\n",
      "       [-1.3656868 ,  5.4095035 ,  0.5164818 ],\n",
      "       [-1.1793903 ,  5.475799  ,  0.86218834],\n",
      "       [-0.88081044,  5.287148  ,  1.165706  ]], dtype=float32), type='Vectors', vectors=array([[ 4.38009873e-02,  5.69069646e-02, -3.75263914e-02],\n",
      "       [-6.62795678e-02, -7.58058205e-02,  3.98790501e-02],\n",
      "       [-9.43520921e-04,  4.46590751e-01,  2.06651734e-04],\n",
      "       ...,\n",
      "       [ 2.97393388e-04, -3.09502542e-01, -1.04794635e-04],\n",
      "       [-6.93584161e-06, -3.75798166e-01,  4.59753255e-06],\n",
      "       [ 5.55561332e-04, -1.87147081e-01, -7.84820702e-04]], dtype=float32))\n"
     ]
    },
    {
     "data": {
      "application/vnd.jupyter.widget-view+json": {
       "model_id": "92fda06bf3f34381a7366e78c8e73195",
       "version_major": 2,
       "version_minor": 0
      },
      "text/plain": [
       "Output()"
      ]
     },
     "metadata": {},
     "output_type": "display_data"
    }
   ],
   "source": [
    "idx = np.random.randint(len(dataset))\n",
    "\n",
    "patch = dataset[idx]\n",
    "\n",
    "display_sharpness(None, plot_meshvert=False, meshvert_psize=0.01,\n",
    "                  samples=patch['points'].reshape((-1, 3)), samples_distances=patch['distances'],\n",
    "                  samples_color=0x0000ff, samples_psize=0.03,\n",
    "                  directions=patch['directions'].reshape((-1, 3)))"
   ]
  },
  {
   "cell_type": "code",
   "execution_count": 53,
   "metadata": {},
   "outputs": [],
   "source": [
    "from collections import defaultdict\n",
    "\n",
    "def combine_predictions(predictions, patches):\n",
    "    n_points = np.concatenate([\n",
    "        patch['indexes_in_whole']\n",
    "        for patch in patches]).max() + 1\n",
    "    \n",
    "    whole_model_points_pred = np.zeros((n_points, 3))\n",
    "    whole_model_distances_pred = np.ones(n_points) * np.inf\n",
    "    whole_model_distances_gt = np.ones(n_points) * np.inf\n",
    "\n",
    "    d = defaultdict(list)\n",
    "    for prediction, patch in tqdm(zip(predictions, patches)):\n",
    "        distances = prediction['distances']\n",
    "        indexes = patch['indexes_in_whole']\n",
    "        whole_model_points_pred[indexes] = patch['points'].reshape((-1, 3))\n",
    "\n",
    "#         assign_mask = whole_model_distances_pred[indexes] > distances\n",
    "#         whole_model_distances_pred[indexes[assign_mask]] = np.minimum(distances[assign_mask], 1.0)\n",
    "        for i, idx in enumerate(indexes):\n",
    "            d[idx].append(distances[i])\n",
    "\n",
    "        whole_model_distances_gt[indexes] = distances\n",
    "    \n",
    "    for idx, values in d.items():\n",
    "        whole_model_distances_pred[idx] = np.median(values)\n",
    "        \n",
    "    return whole_model_points_pred, whole_model_distances_pred, whole_model_distances_gt, d"
   ]
  },
  {
   "cell_type": "code",
   "execution_count": 54,
   "metadata": {},
   "outputs": [
    {
     "name": "stderr",
     "output_type": "stream",
     "text": [
      "1101it [00:06, 176.43it/s]\n"
     ]
    }
   ],
   "source": [
    "whole_model_points_pred, whole_model_distances_pred, whole_model_distances_gt, d = combine_predictions(patches, ground_truth)"
   ]
  },
  {
   "cell_type": "code",
   "execution_count": 55,
   "metadata": {},
   "outputs": [
    {
     "data": {
      "application/vnd.jupyter.widget-view+json": {
       "model_id": "1135e0af6588456b8664f35f89a66aa9",
       "version_major": 2,
       "version_minor": 0
      },
      "text/plain": [
       "Output()"
      ]
     },
     "metadata": {},
     "output_type": "display_data"
    }
   ],
   "source": [
    "display_sharpness(None, plot_meshvert=False, meshvert_psize=0.01,\n",
    "                  samples=whole_model_points_pred,\n",
    "                  samples_distances=whole_model_distances_pred,\n",
    "                  samples_color=0x0000ff, samples_psize=0.03)"
   ]
  },
  {
   "cell_type": "code",
   "execution_count": null,
   "metadata": {},
   "outputs": [],
   "source": []
  },
  {
   "cell_type": "code",
   "execution_count": null,
   "metadata": {},
   "outputs": [],
   "source": []
  },
  {
   "cell_type": "code",
   "execution_count": null,
   "metadata": {},
   "outputs": [],
   "source": []
  },
  {
   "cell_type": "markdown",
   "metadata": {},
   "source": [
    "## Range-image business below"
   ]
  },
  {
   "cell_type": "code",
   "execution_count": 47,
   "metadata": {},
   "outputs": [],
   "source": [
    "\n",
    "DepthMapIO = io.HDF5IO({\n",
    "    'image': io.Float64('image'),\n",
    "    'normals': io.Float64('normals'),\n",
    "    'distances': io.Float64('distances'),\n",
    "    'directions': io.Float64('directions'),\n",
    "    'item_id': io.AsciiString('item_id'),\n",
    "    'orig_vert_indices': io.VarInt32('orig_vert_indices'),\n",
    "    'orig_face_indexes': io.VarInt32('orig_face_indexes'),\n",
    "    'has_sharp': io.Bool('has_sharp'),\n",
    "    'num_sharp_curves': io.Int8('num_sharp_curves'),\n",
    "    'num_surfaces': io.Int8('num_surfaces'),\n",
    "    'camera_pose': io.Float64('camera_pose'),\n",
    "    'mesh_scale': io.Float64('mesh_scale'),\n",
    "    'has_smell_coarse_surfaces_by_num_faces': io.Bool('has_smell_coarse_surfaces_by_num_faces'),\n",
    "    'has_smell_coarse_surfaces_by_angles': io.Bool('has_smell_coarse_surfaces_by_angles'),\n",
    "    'has_smell_deviating_resolution': io.Bool('has_smell_deviating_resolution'),\n",
    "    'has_smell_sharpness_discontinuities': io.Bool('has_smell_sharpness_discontinuities'),\n",
    "    'has_smell_bad_face_sampling': io.Bool('has_smell_bad_face_sampling'),\n",
    "    'has_smell_mismatching_surface_annotation': io.Bool('has_smell_mismatching_surface_annotation'),\n",
    "    'has_smell_raycasting_background': io.Bool('has_smell_raycasting_background'),\n",
    "    'has_smell_depth_discontinuity': io.Bool('has_smell_depth_discontinuity'),\n",
    "    'has_smell_mesh_self_intersections': io.Bool('has_smell_mesh_self_intersections'),\n",
    "},\n",
    "len_label='has_sharp',\n",
    "compression='lzf')\n"
   ]
  },
  {
   "cell_type": "code",
   "execution_count": 56,
   "metadata": {},
   "outputs": [],
   "source": [
    "predictions = Hdf5File(os.path.join('/logs/baseline-image-predictions/predictions/', 'train_0.hdf5'),\n",
    "                   io=PredictionsIO,\n",
    "                   preload=PreloadTypes.LAZY,\n",
    "                   labels=['distances'])"
   ]
  },
  {
   "cell_type": "code",
   "execution_count": 57,
   "metadata": {},
   "outputs": [
    {
     "data": {
      "text/plain": [
       "{'distances': array([[0.99973714, 0.99972999, 0.99975073, ..., 0.99974805, 0.9997434 ,\n",
       "         0.99975163],\n",
       "        [0.99973071, 0.99973589, 0.999749  , ..., 0.99975079, 0.99975276,\n",
       "         0.99974746],\n",
       "        [0.99973089, 0.99972665, 0.99973828, ..., 0.99975896, 0.99975002,\n",
       "         0.99975771],\n",
       "        ...,\n",
       "        [0.99975735, 0.99976063, 0.99974817, ..., 0.99974597, 0.99974418,\n",
       "         0.99975371],\n",
       "        [0.99976039, 0.99974757, 0.99974734, ..., 0.99974495, 0.99974656,\n",
       "         0.99976104],\n",
       "        [0.99976128, 0.99975652, 0.99974781, ..., 0.99976695, 0.99976295,\n",
       "         0.99976122]])}"
      ]
     },
     "execution_count": 57,
     "metadata": {},
     "output_type": "execute_result"
    }
   ],
   "source": [
    "predictions[0]"
   ]
  },
  {
   "cell_type": "code",
   "execution_count": 48,
   "metadata": {},
   "outputs": [],
   "source": [
    "ground_truth = Hdf5File(os.path.join('/logs/baseline-image-predictions/', 'train_0.hdf5'),\n",
    "                   io=DepthMapIO,\n",
    "                   preload=PreloadTypes.LAZY,\n",
    "                   labels='*')"
   ]
  },
  {
   "cell_type": "code",
   "execution_count": 49,
   "metadata": {},
   "outputs": [
    {
     "data": {
      "text/plain": [
       "{'has_sharp': False,\n",
       " 'directions': array([[[0., 0., 0.],\n",
       "         [0., 0., 0.],\n",
       "         [0., 0., 0.],\n",
       "         ...,\n",
       "         [0., 0., 0.],\n",
       "         [0., 0., 0.],\n",
       "         [0., 0., 0.]],\n",
       " \n",
       "        [[0., 0., 0.],\n",
       "         [0., 0., 0.],\n",
       "         [0., 0., 0.],\n",
       "         ...,\n",
       "         [0., 0., 0.],\n",
       "         [0., 0., 0.],\n",
       "         [0., 0., 0.]],\n",
       " \n",
       "        [[0., 0., 0.],\n",
       "         [0., 0., 0.],\n",
       "         [0., 0., 0.],\n",
       "         ...,\n",
       "         [0., 0., 0.],\n",
       "         [0., 0., 0.],\n",
       "         [0., 0., 0.]],\n",
       " \n",
       "        ...,\n",
       " \n",
       "        [[0., 0., 0.],\n",
       "         [0., 0., 0.],\n",
       "         [0., 0., 0.],\n",
       "         ...,\n",
       "         [0., 0., 0.],\n",
       "         [0., 0., 0.],\n",
       "         [0., 0., 0.]],\n",
       " \n",
       "        [[0., 0., 0.],\n",
       "         [0., 0., 0.],\n",
       "         [0., 0., 0.],\n",
       "         ...,\n",
       "         [0., 0., 0.],\n",
       "         [0., 0., 0.],\n",
       "         [0., 0., 0.]],\n",
       " \n",
       "        [[0., 0., 0.],\n",
       "         [0., 0., 0.],\n",
       "         [0., 0., 0.],\n",
       "         ...,\n",
       "         [0., 0., 0.],\n",
       "         [0., 0., 0.],\n",
       "         [0., 0., 0.]]]),\n",
       " 'has_smell_depth_discontinuity': False,\n",
       " 'normals': array([[[-0., -1.,  0.],\n",
       "         [-0., -1.,  0.],\n",
       "         [-0., -1.,  0.],\n",
       "         ...,\n",
       "         [-0., -1.,  0.],\n",
       "         [-0., -1.,  0.],\n",
       "         [-0., -1.,  0.]],\n",
       " \n",
       "        [[-0., -1.,  0.],\n",
       "         [-0., -1.,  0.],\n",
       "         [-0., -1.,  0.],\n",
       "         ...,\n",
       "         [-0., -1.,  0.],\n",
       "         [-0., -1.,  0.],\n",
       "         [-0., -1.,  0.]],\n",
       " \n",
       "        [[-0., -1.,  0.],\n",
       "         [-0., -1.,  0.],\n",
       "         [-0., -1.,  0.],\n",
       "         ...,\n",
       "         [-0., -1.,  0.],\n",
       "         [-0., -1.,  0.],\n",
       "         [-0., -1.,  0.]],\n",
       " \n",
       "        ...,\n",
       " \n",
       "        [[ 0., -1.,  0.],\n",
       "         [ 0., -1.,  0.],\n",
       "         [ 0., -1.,  0.],\n",
       "         ...,\n",
       "         [ 0., -1.,  0.],\n",
       "         [ 0., -1.,  0.],\n",
       "         [ 0., -1.,  0.]],\n",
       " \n",
       "        [[ 0., -1.,  0.],\n",
       "         [ 0., -1.,  0.],\n",
       "         [ 0., -1.,  0.],\n",
       "         ...,\n",
       "         [ 0., -1.,  0.],\n",
       "         [ 0., -1.,  0.],\n",
       "         [ 0., -1.,  0.]],\n",
       " \n",
       "        [[ 0., -1.,  0.],\n",
       "         [ 0., -1.,  0.],\n",
       "         [ 0., -1.,  0.],\n",
       "         ...,\n",
       "         [ 0., -1.,  0.],\n",
       "         [ 0., -1.,  0.],\n",
       "         [ 0., -1.,  0.]]]),\n",
       " 'item_id': b'00215143_7281827bbf69909928281b7a_000',\n",
       " 'has_smell_mesh_self_intersections': False,\n",
       " 'distances': array([[1., 1., 1., ..., 1., 1., 1.],\n",
       "        [1., 1., 1., ..., 1., 1., 1.],\n",
       "        [1., 1., 1., ..., 1., 1., 1.],\n",
       "        ...,\n",
       "        [1., 1., 1., ..., 1., 1., 1.],\n",
       "        [1., 1., 1., ..., 1., 1., 1.],\n",
       "        [1., 1., 1., ..., 1., 1., 1.]]),\n",
       " 'has_smell_sharpness_discontinuities': False,\n",
       " 'has_smell_bad_face_sampling': False,\n",
       " 'num_sharp_curves': 0,\n",
       " 'camera_pose': array([[ 1.51639312e-02,  9.99274365e-01, -3.49399205e-02,\n",
       "         -3.91342700e+00],\n",
       "        [-3.97833482e-01,  3.80886185e-02,  9.16666667e-01,\n",
       "         -5.26062163e+01],\n",
       "        [ 9.17332315e-01, -6.36527161e-17,  3.98122373e-01,\n",
       "         -2.27498486e+01],\n",
       "        [ 0.00000000e+00,  0.00000000e+00,  0.00000000e+00,\n",
       "          1.00000000e+00]]),\n",
       " 'num_surfaces': 1,\n",
       " 'image': array([[59.3438634 , 59.34469443, 59.34552545, ..., 59.39455589,\n",
       "         59.39538692, 59.39621794],\n",
       "        [59.3351834 , 59.33601442, 59.33684545, ..., 59.38587589,\n",
       "         59.38670691, 59.38753794],\n",
       "        [59.3265034 , 59.32733442, 59.32816545, ..., 59.37719589,\n",
       "         59.37802691, 59.37885793],\n",
       "        ...,\n",
       "        [58.81438321, 58.81521423, 58.81604525, ..., 58.86507569,\n",
       "         58.86590672, 58.86673774],\n",
       "        [58.8057032 , 58.80653423, 58.80736525, ..., 58.85639569,\n",
       "         58.85722671, 58.85805774],\n",
       "        [58.7970232 , 58.79785422, 58.79868525, ..., 58.84771569,\n",
       "         58.84854671, 58.84937774]]),\n",
       " 'mesh_scale': 5.714285373687744,\n",
       " 'orig_face_indexes': array([23884, 23885, 23886, ..., 30579, 30580, 30581], dtype=int32),\n",
       " 'has_smell_mismatching_surface_annotation': True,\n",
       " 'has_smell_deviating_resolution': False,\n",
       " 'has_smell_raycasting_background': False,\n",
       " 'orig_vert_indices': array([  125,   126,   166, ..., 16298, 16299, 16300], dtype=int32),\n",
       " 'has_smell_coarse_surfaces_by_num_faces': False,\n",
       " 'has_smell_coarse_surfaces_by_angles': False}"
      ]
     },
     "execution_count": 49,
     "metadata": {},
     "output_type": "execute_result"
    }
   ],
   "source": [
    "ground_truth[0]"
   ]
  },
  {
   "cell_type": "code",
   "execution_count": 59,
   "metadata": {
    "scrolled": true
   },
   "outputs": [
    {
     "data": {
      "text/plain": [
       "array([[-0.00026286, -0.00027001, -0.00024927, ..., -0.00025195,\n",
       "        -0.0002566 , -0.00024837],\n",
       "       [-0.00026929, -0.00026411, -0.000251  , ..., -0.00024921,\n",
       "        -0.00024724, -0.00025254],\n",
       "       [-0.00026911, -0.00027335, -0.00026172, ..., -0.00024104,\n",
       "        -0.00024998, -0.00024229],\n",
       "       ...,\n",
       "       [-0.00024265, -0.00023937, -0.00025183, ..., -0.00025403,\n",
       "        -0.00025582, -0.00024629],\n",
       "       [-0.00023961, -0.00025243, -0.00025266, ..., -0.00025505,\n",
       "        -0.00025344, -0.00023896],\n",
       "       [-0.00023872, -0.00024348, -0.00025219, ..., -0.00023305,\n",
       "        -0.00023705, -0.00023878]])"
      ]
     },
     "execution_count": 59,
     "metadata": {},
     "output_type": "execute_result"
    }
   ],
   "source": [
    "predictions[0]['distances'] - ground_truth[0]['distances']"
   ]
  },
  {
   "cell_type": "code",
   "execution_count": 80,
   "metadata": {},
   "outputs": [],
   "source": [
    "from collections import Callable, Mapping\n",
    "from copy import deepcopy\n",
    "from typing import Tuple, MutableMapping\n",
    "\n",
    "import numpy as np\n",
    "\n",
    "\n",
    "class Metric(Callable):\n",
    "    def __call__(self, true_instance, pred_label):\n",
    "        pass\n",
    "\n",
    "\n",
    "class PointwiseSquaredError(Metric):\n",
    "    \"\"\"Points with error above threshold are considered bad.\"\"\"\n",
    "    def __call__(self, true_instance, pred_label):\n",
    "        true_distances = true_instance['distances']\n",
    "        pred_distances = pred_label['distances']\n",
    "        diff_sq = np.square(true_distances - pred_distances)\n",
    "        return diff_sq\n",
    "\n",
    "\n",
    "class RMSE(Metric):\n",
    "    def __call__(self, true_instance, pred_label):\n",
    "        diff_sq = PointwiseSquaredError()(true_instance, pred_label)\n",
    "        return np.sqrt(\n",
    "            np.mean(diff_sq))\n",
    "\n",
    "\n",
    "class BadPoints(Metric):\n",
    "    \"\"\"Points with error above threshold are considered bad.\"\"\"\n",
    "    def __init__(self, threshold):\n",
    "        self._threshold_sq = threshold ** 2\n",
    "\n",
    "    def __call__(self, true_instance, pred_label):\n",
    "        diff_sq = PointwiseSquaredError()(true_instance, pred_label)\n",
    "        return np.sum(diff_sq > self._threshold_sq)\n",
    "\n",
    "\n",
    "class PointwiseMaskSelector(Callable):\n",
    "    def __call__(self, true_instance: MutableMapping, pred_label: MutableMapping) \\\n",
    "            -> Tuple[MutableMapping, MutableMapping]:\n",
    "        pass\n",
    "\n",
    "\n",
    "class DistanceLessThan(PointwiseMaskSelector):\n",
    "    def __init__(self, threshold):\n",
    "        self._threshold = threshold\n",
    "\n",
    "    def __call__(self, true_instance, pred_label):\n",
    "        masked_true_instance = deepcopy(true_instance)\n",
    "        true_distances = masked_true_instance['distances']\n",
    "        selection_mask = true_distances < self._threshold\n",
    "        masked_true_instance['distances'] = true_distances[selection_mask]\n",
    "\n",
    "        masked_pred_label = deepcopy(pred_label)\n",
    "        pred_distances = masked_pred_label['distances']\n",
    "        masked_pred_label['distances'] = pred_distances[selection_mask]\n",
    "        return masked_true_instance, masked_pred_label\n"
   ]
  },
  {
   "cell_type": "code",
   "execution_count": 69,
   "metadata": {},
   "outputs": [],
   "source": [
    "mask_selector = DistanceLessThan(1.0)\n",
    "\n",
    "\n",
    "# RMSE = SquareRoot(Mean(PointwiseSquaredError()))\n",
    "\n",
    "# metric = RMSE()\n",
    "\n",
    "# metric(true_instance, pred_label)\n",
    "\n"
   ]
  },
  {
   "cell_type": "code",
   "execution_count": 74,
   "metadata": {},
   "outputs": [],
   "source": [
    "# true_instance, pred_label = mask_selector(ground_truth[0], predictions[0])\n",
    "true_instance, pred_label = ground_truth[0], predictions[0]"
   ]
  },
  {
   "cell_type": "code",
   "execution_count": 77,
   "metadata": {},
   "outputs": [],
   "source": [
    "rmse = RMSE()"
   ]
  },
  {
   "cell_type": "code",
   "execution_count": 78,
   "metadata": {},
   "outputs": [
    {
     "data": {
      "text/plain": [
       "0.0002433365716020843"
      ]
     },
     "execution_count": 78,
     "metadata": {},
     "output_type": "execute_result"
    }
   ],
   "source": [
    "rmse(true_instance, pred_label)"
   ]
  },
  {
   "cell_type": "code",
   "execution_count": 91,
   "metadata": {},
   "outputs": [],
   "source": [
    "bad_points = BadPoints(0.0001)"
   ]
  },
  {
   "cell_type": "code",
   "execution_count": 92,
   "metadata": {},
   "outputs": [
    {
     "data": {
      "text/plain": [
       "4096"
      ]
     },
     "execution_count": 92,
     "metadata": {},
     "output_type": "execute_result"
    }
   ],
   "source": [
    "bad_points(true_instance, pred_label)"
   ]
  },
  {
   "cell_type": "code",
   "execution_count": 88,
   "metadata": {},
   "outputs": [],
   "source": [
    "poinwise_sqe = PointwiseSquaredError()"
   ]
  },
  {
   "cell_type": "code",
   "execution_count": 90,
   "metadata": {},
   "outputs": [
    {
     "data": {
      "text/plain": [
       "8.460574463242665e-08"
      ]
     },
     "execution_count": 90,
     "metadata": {},
     "output_type": "execute_result"
    }
   ],
   "source": [
    "poinwise_sqe(true_instance, pred_label)"
   ]
  },
  {
   "cell_type": "code",
   "execution_count": 110,
   "metadata": {},
   "outputs": [
    {
     "name": "stderr",
     "output_type": "stream",
     "text": [
      "100%|██████████| 16384/16384 [00:01<00:00, 11654.70it/s]\n"
     ]
    }
   ],
   "source": [
    "rmse = RMSE()\n",
    "bad_points = BadPoints(0.1)\n",
    "\n",
    "n_instances = len(ground_truth)\n",
    "\n",
    "rmse_values = np.zeros(n_instances)\n",
    "bad_points_values = np.zeros(n_instances)\n",
    "\n",
    "for idx in tqdm(range(n_instances)):\n",
    "    true_instance, pred_label = ground_truth[idx], predictions[idx]\n",
    "    rmse_values[idx] = rmse(true_instance, pred_label)\n",
    "    bad_points_values[idx] = bad_points(true_instance, pred_label)"
   ]
  },
  {
   "cell_type": "code",
   "execution_count": 139,
   "metadata": {},
   "outputs": [
    {
     "data": {
      "text/plain": [
       "(0.0, 1.0)"
      ]
     },
     "execution_count": 139,
     "metadata": {},
     "output_type": "execute_result"
    },
    {
     "data": {
      "image/png": "[encoded data removed]",
      "text/plain": [
       "<Figure size 1152x576 with 1 Axes>"
      ]
     },
     "metadata": {
      "needs_background": "light"
     },
     "output_type": "display_data"
    }
   ],
   "source": [
    "plt.figure(figsize=(16, 8))\n",
    "_ = plt.hist(\n",
    "    rmse_values,\n",
    "    bins=np.linspace(0, 1, 21),\n",
    "    range=[0, 1],\n",
    "    log=True,\n",
    "    histtype='stepfilled',\n",
    "    alpha=0.5\n",
    ")\n",
    "plt.gca().tick_params(axis='both', which='both', labelsize=18)\n",
    "plt.gca().set_xlim([0, 1])"
   ]
  },
  {
   "cell_type": "code",
   "execution_count": 140,
   "metadata": {},
   "outputs": [
    {
     "data": {
      "text/plain": [
       "(0.0, 4096.0)"
      ]
     },
     "execution_count": 140,
     "metadata": {},
     "output_type": "execute_result"
    },
    {
     "data": {
      "image/png": "[encoded data removed]",
      "text/plain": [
       "<Figure size 1152x576 with 1 Axes>"
      ]
     },
     "metadata": {
      "needs_background": "light"
     },
     "output_type": "display_data"
    }
   ],
   "source": [
    "plt.figure(figsize=(16, 8))\n",
    "_ = plt.hist(\n",
    "    bad_points_values,\n",
    "    bins=np.linspace(0, 4096, 33),\n",
    "    range=[0, 4096],\n",
    "    log=True,\n",
    "    histtype='stepfilled',\n",
    "    alpha=0.5\n",
    ")\n",
    "plt.gca().tick_params(axis='both', which='both', labelsize=18)\n",
    "plt.gca().set_xlim([0, 4096])"
   ]
  },
  {
   "cell_type": "code",
   "execution_count": null,
   "metadata": {},
   "outputs": [],
   "source": []
  }
 ],
 "metadata": {
  "kernelspec": {
   "display_name": "Python 3",
   "language": "python",
   "name": "python3"
  },
  "language_info": {
   "codemirror_mode": {
    "name": "ipython",
    "version": 3
   },
   "file_extension": ".py",
   "mimetype": "text/x-python",
   "name": "python",
   "nbconvert_exporter": "python",
   "pygments_lexer": "ipython3",
   "version": "3.6.5"
  }
 },
 "nbformat": 4,
 "nbformat_minor": 4
}
