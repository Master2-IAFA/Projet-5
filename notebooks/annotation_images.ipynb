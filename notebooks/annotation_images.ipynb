{
 "cells": [
  {
   "cell_type": "code",
   "execution_count": 1,
   "metadata": {},
   "outputs": [],
   "source": [
    "%load_ext autoreload\n",
    "%autoreload 2"
   ]
  },
  {
   "cell_type": "code",
   "execution_count": 2,
   "metadata": {},
   "outputs": [],
   "source": [
    "from copy import deepcopy\n",
    "\n",
    "import k3d\n",
    "import yaml\n",
    "import numpy as np\n",
    "\n",
    "import matplotlib.pyplot as plt\n",
    "\n",
    "from tqdm import tqdm\n",
    "import json\n",
    "\n",
    "import torch\n",
    "\n",
    "import trimesh.transformations as tt\n",
    "import trimesh\n",
    "from io import BytesIO"
   ]
  },
  {
   "cell_type": "code",
   "execution_count": 3,
   "metadata": {},
   "outputs": [],
   "source": [
    "import os\n",
    "os.environ['OMP_NUM_THREADS'] = '8'"
   ]
  },
  {
   "cell_type": "code",
   "execution_count": 4,
   "metadata": {},
   "outputs": [],
   "source": [
    "def display_sharpness(mesh=None, plot_meshvert=True,\n",
    "                      samples=None, samples_distances=None,\n",
    "                      sharp_vert=None, sharp_curves=None,\n",
    "                      directions=None, directions_width=0.0025,\n",
    "                      samples_color=0x0000ff, samples_psize=0.002, \n",
    "                      mesh_color=0xbbbbbb, meshvert_color=0x666666, meshvert_psize=0.0025,\n",
    "                      sharpvert_color=0xff0000, sharpvert_psize=0.0025,\n",
    "                      sharpcurve_color=None, sharpcurve_width=0.0025,\n",
    "                      as_image=False, plot_height=768):\n",
    "    \n",
    "    plot = k3d.plot(height=plot_height)\n",
    "    \n",
    "    if None is not mesh:\n",
    "        k3d_mesh = k3d.mesh(mesh.vertices, mesh.faces, color=mesh_color)\n",
    "        plot += k3d_mesh\n",
    "\n",
    "        if plot_meshvert:\n",
    "            k3d_points = k3d.points(mesh.vertices, \n",
    "                                    point_size=meshvert_psize, color=meshvert_color)\n",
    "            plot += k3d_points\n",
    "            k3d_points.shader='flat'\n",
    "\n",
    "    if None is not samples:\n",
    "        colors = None\n",
    "        if None is not samples_distances:\n",
    "            max_dist = np.max(samples_distances)\n",
    "\n",
    "            colors = k3d.helpers.map_colors(\n",
    "                samples_distances, k3d.colormaps.basic_color_maps.WarmCool, [0, max_dist]\n",
    "            ).astype(np.uint32)\n",
    "            k3d_points = k3d.points(samples, point_size=samples_psize, colors=colors)\n",
    "        else:\n",
    "            k3d_points = k3d.points(samples, point_size=samples_psize, color=samples_color)\n",
    "        plot += k3d_points\n",
    "        k3d_points.shader='flat'\n",
    "        \n",
    "        if None is not directions:\n",
    "            k3d_vectors = k3d.vectors(samples, directions, \n",
    "                                      color=samples_color, \n",
    "                                      head_size=10.0, \n",
    "                                      line_width=0.1)\n",
    "            plot += k3d_vectors\n",
    "\n",
    "#             directions_to_plot = np.hstack((samples, samples + directions))\n",
    "            \n",
    "#             for i, dir_to_plot in enumerate(directions_to_plot):\n",
    "#                 dir_to_plot = dir_to_plot.reshape((2, 3))\n",
    "#                 if np.all(dir_to_plot[0] == dir_to_plot[1]):\n",
    "#                     continue\n",
    "#                 color = int(colors[i]) if None is not colors else samples_color\n",
    "#                 plt_line = k3d.line(dir_to_plot, \n",
    "#                                     shader='mesh', width=directions_width, color=color)\n",
    "#                 plot += plt_line\n",
    "\n",
    "    if None is not sharp_vert:\n",
    "        k3d_points = k3d.points(sharp_vert,\n",
    "                                point_size=sharpvert_psize, color=sharpvert_color)\n",
    "        plot += k3d_points\n",
    "        k3d_points.shader='flat'\n",
    "        \n",
    "        if None is not sharp_curves:            \n",
    "            if None is not sharpcurve_color:\n",
    "                color = sharpcurve_color\n",
    "            else:\n",
    "                import randomcolor\n",
    "                rand_color = randomcolor.RandomColor()\n",
    "            for i, vert_ind in enumerate(sharp_curves):\n",
    "                sharp_points_curve = mesh.vertices[vert_ind]\n",
    "                \n",
    "                if None is sharpcurve_color:\n",
    "                    color = rand_color.generate(hue='red')[0]\n",
    "                    color = int('0x' + color[1:], 16)\n",
    "                plt_line = k3d.line(sharp_points_curve, \n",
    "                                    shader='mesh', width=sharpcurve_width, color=color)\n",
    "                plot += plt_line\n",
    "        \n",
    "    plot.grid_visible = False\n",
    "    plot.display()\n",
    "    \n",
    "    if as_image:\n",
    "        plot.fetch_screenshot()\n",
    "        return Image(data=b64decode(plot.screenshot))"
   ]
  },
  {
   "cell_type": "code",
   "execution_count": 5,
   "metadata": {},
   "outputs": [],
   "source": [
    "# mm/pixel\n",
    "HIGH_RES = 0.02\n",
    "MED_RES = 0.05\n",
    "LOW_RES = 0.125\n",
    "XLOW_RES = 0.25"
   ]
  },
  {
   "cell_type": "markdown",
   "metadata": {},
   "source": [
    "## 1. Working with point patches"
   ]
  },
  {
   "cell_type": "code",
   "execution_count": 23,
   "metadata": {},
   "outputs": [],
   "source": [
    "from sharpf.data import DataGenerationException\n",
    "from sharpf.utils.abc_utils.abc.abc_data import ABCModality, ABCChunk, ABC_7Z_FILEMASK\n",
    "from sharpf.data.annotation import ANNOTATOR_BY_TYPE\n",
    "from sharpf.data.camera_pose_manager import POSE_MANAGER_BY_TYPE\n",
    "from sharpf.data.datasets.sharpf_io import save_depth_maps\n",
    "from sharpf.data.imaging import IMAGING_BY_TYPE\n",
    "from sharpf.data.noisers import NOISE_BY_TYPE\n",
    "from sharpf.utils.abc_utils.abc import feature_utils\n",
    "from sharpf.utils.py_utils.console import eprint_t\n",
    "from sharpf.utils.py_utils.os import add_suffix\n",
    "from sharpf.utils.py_utils.config import load_func_from_config\n",
    "from sharpf.utils.abc_utils.mesh.io import trimesh_load\n",
    "from sharpf.utils.plotting import display_depth_sharpness\n",
    "from sharpf.utils.camera_utils.camera_pose import camera_to_display"
   ]
  },
  {
   "cell_type": "code",
   "execution_count": 9,
   "metadata": {},
   "outputs": [],
   "source": [
    "with ABCChunk(['/data/abc_0056_obj_v00.7z', '/data/abc_0056_feat_v00.7z']) as data_holder:\n",
    "    item = data_holder[0]"
   ]
  },
  {
   "cell_type": "code",
   "execution_count": 10,
   "metadata": {},
   "outputs": [
    {
     "data": {
      "text/plain": [
       "'00560001_b9953e64f327f7706c42a1f3_000'"
      ]
     },
     "execution_count": 10,
     "metadata": {},
     "output_type": "execute_result"
    }
   ],
   "source": [
    "item.item_id"
   ]
  },
  {
   "cell_type": "code",
   "execution_count": 11,
   "metadata": {},
   "outputs": [],
   "source": [
    "mesh = trimesh_load(item.obj)\n",
    "features = yaml.load(item.feat, Loader=yaml.Loader)"
   ]
  },
  {
   "cell_type": "code",
   "execution_count": 12,
   "metadata": {},
   "outputs": [
    {
     "data": {
      "text/plain": [
       "{'shape_fabrication_extent': 10.0,\n",
       " 'short_curve_quantile': 0.25,\n",
       " 'base_n_points_per_short_curve': 8,\n",
       " 'base_resolution_3d': 0.125,\n",
       " 'camera_pose': {'type': 'composite',\n",
       "  'sequences': [{'type': 'sphere_to_origin', 'n_images': 10},\n",
       "   {'type': 'xy_translation', 'n_images': 100},\n",
       "   {'type': 'z_rotation', 'n_images': 5}]},\n",
       " 'imaging': {'type': 'raycasting',\n",
       "  'projection': 'ortho',\n",
       "  'resolution_image': 64,\n",
       "  'resolution_3d': 0.02,\n",
       "  'fov': [115, 85, 80],\n",
       "  'validate_image': True},\n",
       " 'noise': {'type': 'many_noisers', 'subtype': 'z_direction', 'scale': [0.0]},\n",
       " 'annotation': {'type': 'surface_based_aabb',\n",
       "  'distance_upper_bound': 1.0,\n",
       "  'validate_annotation': True}}"
      ]
     },
     "execution_count": 12,
     "metadata": {},
     "output_type": "execute_result"
    }
   ],
   "source": [
    "import json\n",
    "with open('/code/scripts/data_scripts/configs/depthmap_datasets/dataset_config_high_res_clean_64x64.json') as config_file:\n",
    "    config = json.load(config_file)\n",
    "\n",
    "config"
   ]
  },
  {
   "cell_type": "code",
   "execution_count": 13,
   "metadata": {},
   "outputs": [],
   "source": [
    "shape_fabrication_extent = config.get('shape_fabrication_extent', 10.0)\n",
    "base_n_points_per_short_curve = config.get('base_n_points_per_short_curve', 8)\n",
    "base_resolution_3d = config.get('base_resolution_3d', LOW_RES)\n",
    "\n",
    "short_curve_quantile = config.get('short_curve_quantile', 0.05)\n",
    "\n",
    "pose_manager = load_func_from_config(POSE_MANAGER_BY_TYPE, config['camera_pose'])\n",
    "imaging = load_func_from_config(IMAGING_BY_TYPE, config['imaging'])\n",
    "noiser = load_func_from_config(NOISE_BY_TYPE, config['noise'])\n",
    "annotator = load_func_from_config(ANNOTATOR_BY_TYPE, config['annotation'])"
   ]
  },
  {
   "cell_type": "code",
   "execution_count": 14,
   "metadata": {},
   "outputs": [],
   "source": [
    "def scale_mesh(mesh, features, shape_fabrication_extent, resolution_3d,\n",
    "               short_curve_quantile=0.05, n_points_per_short_curve=4):\n",
    "    # compute standard size spatial extent\n",
    "    mesh_extent = np.max(mesh.bounding_box.extents)\n",
    "    mesh = mesh.apply_scale(shape_fabrication_extent / mesh_extent)\n",
    "\n",
    "    # compute lengths of curves\n",
    "    sharp_curves_lengths = feature_utils.get_curves_extents(mesh, features)\n",
    "\n",
    "    least_len = np.quantile(sharp_curves_lengths, short_curve_quantile)\n",
    "    least_len_mm = resolution_3d * n_points_per_short_curve\n",
    "\n",
    "    scale = least_len_mm / least_len\n",
    "    mesh = mesh.apply_scale(scale)\n",
    "\n",
    "    return mesh, scale\n"
   ]
  },
  {
   "cell_type": "code",
   "execution_count": 15,
   "metadata": {
    "scrolled": false
   },
   "outputs": [],
   "source": [
    "mesh, mesh_scale = scale_mesh(mesh, features, shape_fabrication_extent, base_resolution_3d,\n",
    "                              short_curve_quantile=short_curve_quantile,\n",
    "                              n_points_per_short_curve=base_n_points_per_short_curve)\n",
    "\n",
    "mesh = mesh.apply_translation(-mesh.vertices.mean(axis=0))"
   ]
  },
  {
   "cell_type": "code",
   "execution_count": 16,
   "metadata": {},
   "outputs": [
    {
     "name": "stdout",
     "output_type": "stream",
     "text": [
      "53.91470905763444\n"
     ]
    }
   ],
   "source": [
    "print(np.max(mesh.bounding_box.extents))"
   ]
  },
  {
   "cell_type": "code",
   "execution_count": 17,
   "metadata": {
    "scrolled": false
   },
   "outputs": [
    {
     "name": "stderr",
     "output_type": "stream",
     "text": [
      "/home/user/miniconda/envs/py36/lib/python3.6/site-packages/traittypes/traittypes.py:101: UserWarning: Given trait value dtype \"float64\" does not match required type \"float32\". A coerced copy has been created.\n",
      "  np.dtype(self.dtype).name))\n",
      "/home/user/miniconda/envs/py36/lib/python3.6/site-packages/traittypes/traittypes.py:101: UserWarning: Given trait value dtype \"int64\" does not match required type \"uint32\". A coerced copy has been created.\n",
      "  np.dtype(self.dtype).name))\n"
     ]
    },
    {
     "data": {
      "application/vnd.jupyter.widget-view+json": {
       "model_id": "0590f78a89974d9b904cde8c59e72b43",
       "version_major": 2,
       "version_minor": 0
      },
      "text/plain": [
       "Output()"
      ]
     },
     "metadata": {},
     "output_type": "display_data"
    }
   ],
   "source": [
    "\n",
    "display_sharpness(\n",
    "    mesh, plot_meshvert=False, meshvert_psize=imaging.resolution_3d / 2,\n",
    "    sharp_vert=None, sharpvert_psize=2. * imaging.resolution_3d,\n",
    "    samples=None, samples_psize=1. * imaging.resolution_3d,\n",
    ")"
   ]
  },
  {
   "cell_type": "code",
   "execution_count": 18,
   "metadata": {},
   "outputs": [],
   "source": [
    "# generate camera poses\n",
    "pose_manager.prepare(mesh)"
   ]
  },
  {
   "cell_type": "code",
   "execution_count": 19,
   "metadata": {},
   "outputs": [],
   "source": [
    "pose_manager_iter = iter(pose_manager)"
   ]
  },
  {
   "cell_type": "code",
   "execution_count": 96,
   "metadata": {},
   "outputs": [],
   "source": [
    "camera_pose = next(pose_manager_iter)"
   ]
  },
  {
   "cell_type": "code",
   "execution_count": 97,
   "metadata": {},
   "outputs": [
    {
     "data": {
      "application/vnd.jupyter.widget-view+json": {
       "model_id": "48b560ab98e640ce94eb790abe6add5b",
       "version_major": 2,
       "version_minor": 0
      },
      "text/plain": [
       "Output()"
      ]
     },
     "metadata": {},
     "output_type": "display_data"
    }
   ],
   "source": [
    "camera_to_world = np.linalg.inv(camera_pose.world_to_camera_4x4)\n",
    "\n",
    "# camera_to_world = pose.camera_to_world_4x4\n",
    "\n",
    "camera_center = np.array([\n",
    "    camera_pose.frame_origin,\n",
    "    camera_pose.frame_origin,\n",
    "    camera_pose.frame_origin,\n",
    "])\n",
    "\n",
    "camera_frame = np.array([\n",
    "    camera_pose.frame_axes\n",
    "]) * 25\n",
    "\n",
    "display_sharpness(\n",
    "    mesh, plot_meshvert=True, meshvert_psize=imaging.resolution_3d / 2,\n",
    "    sharp_vert=camera_pose.camera_to_world(imaging.rays_origins), sharpvert_psize=0.5,\n",
    "    samples=camera_center, samples_psize=5.0,\n",
    "    directions=camera_frame\n",
    ")"
   ]
  },
  {
   "cell_type": "code",
   "execution_count": 98,
   "metadata": {},
   "outputs": [],
   "source": [
    "# extract neighbourhood\n",
    "try:\n",
    "    image, points, normals, mesh_face_indexes = \\\n",
    "        imaging.get_image_from_pose(mesh, camera_pose, return_hit_face_indexes=True)\n",
    "except DataGenerationException as e:\n",
    "    eprint_t(str(e))"
   ]
  },
  {
   "cell_type": "code",
   "execution_count": 99,
   "metadata": {},
   "outputs": [
    {
     "data": {
      "image/png": "[encoded data removed]",
      "text/plain": [
       "<Figure size 576x576 with 1 Axes>"
      ]
     },
     "metadata": {
      "needs_background": "light"
     },
     "output_type": "display_data"
    }
   ],
   "source": [
    "display_depth_sharpness(\n",
    "    depth_images=[camera_to_display(image)]\n",
    ")"
   ]
  },
  {
   "cell_type": "code",
   "execution_count": 100,
   "metadata": {},
   "outputs": [
    {
     "data": {
      "application/vnd.jupyter.widget-view+json": {
       "model_id": "ee87c0faaa634c8e90f352be036de9b9",
       "version_major": 2,
       "version_minor": 0
      },
      "text/plain": [
       "Output()"
      ]
     },
     "metadata": {},
     "output_type": "display_data"
    }
   ],
   "source": [
    "display_sharpness(\n",
    "    mesh, plot_meshvert=True, meshvert_psize=imaging.resolution_3d / 2,\n",
    "    sharp_vert=camera_pose.camera_to_world(imaging.rays_origins), sharpvert_psize=0.5,\n",
    "    samples=camera_pose.camera_to_world(imaging.image_to_points(image)), samples_psize=0.1,\n",
    "    directions=None\n",
    ")"
   ]
  },
  {
   "cell_type": "code",
   "execution_count": 101,
   "metadata": {},
   "outputs": [],
   "source": [
    "nbhood, mesh_vertex_indexes, mesh_face_indexes = \\\n",
    "            feature_utils.submesh_from_hit_surfaces(mesh, features, mesh_face_indexes)\n",
    "\n",
    "# create annotations: condition the features onto the nbhood\n",
    "nbhood_features = feature_utils.compute_features_nbhood(mesh, features, mesh_vertex_indexes, mesh_face_indexes)\n",
    "\n",
    "# remove vertices lying on the boundary (sharp edges found in 1 face only)\n",
    "nbhood_features = feature_utils.remove_boundary_features(nbhood, nbhood_features, how='edges')"
   ]
  },
  {
   "cell_type": "code",
   "execution_count": 102,
   "metadata": {},
   "outputs": [],
   "source": [
    "i = noiser.make_noise(\n",
    "    camera_pose.world_to_camera(points),\n",
    "    normals,\n",
    "    z_direction=np.array([0., 0., -1.]))"
   ]
  },
  {
   "cell_type": "code",
   "execution_count": 103,
   "metadata": {},
   "outputs": [],
   "source": [
    "configuration, noisy_points = next(i)"
   ]
  },
  {
   "cell_type": "code",
   "execution_count": 104,
   "metadata": {},
   "outputs": [],
   "source": [
    "annotator.validate_annotation = False"
   ]
  },
  {
   "cell_type": "code",
   "execution_count": 105,
   "metadata": {},
   "outputs": [],
   "source": [
    "# compute the TSharpDF\n",
    "try:\n",
    "    distances, directions, has_sharp = annotator.annotate(\n",
    "        nbhood, nbhood_features, camera_pose.camera_to_world(noisy_points))\n",
    "except DataGenerationException as e:\n",
    "    eprint_t(str(e))"
   ]
  },
  {
   "cell_type": "code",
   "execution_count": 106,
   "metadata": {},
   "outputs": [
    {
     "data": {
      "application/vnd.jupyter.widget-view+json": {
       "model_id": "39ac1026f0f248aeb6e6af10d5ef396f",
       "version_major": 2,
       "version_minor": 0
      },
      "text/plain": [
       "Output()"
      ]
     },
     "metadata": {},
     "output_type": "display_data"
    }
   ],
   "source": [
    "display_sharpness(\n",
    "    nbhood, plot_meshvert=True, meshvert_psize=imaging.resolution_3d / 2,\n",
    "#     sharp_vert=camera_pose.camera_to_world(imaging.rays_origins), sharpvert_psize=0.5,\n",
    "    samples=camera_pose.camera_to_world(imaging.image_to_points(image)), samples_psize=0.1,\n",
    "    samples_distances=distances\n",
    ")"
   ]
  },
  {
   "cell_type": "code",
   "execution_count": 107,
   "metadata": {},
   "outputs": [],
   "source": [
    "# convert everything to images\n",
    "ray_indexes = np.where(image.ravel() != 0)[0]\n",
    "noisy_image = imaging.points_to_image(noisy_points, ray_indexes)\n",
    "normals = imaging.points_to_image(normals, ray_indexes, assign_channels=[0, 1, 2])\n",
    "distances = imaging.points_to_image(distances.reshape(-1, 1), ray_indexes, assign_channels=[0])\n",
    "directions = imaging.points_to_image(directions, ray_indexes, assign_channels=[0, 1, 2])"
   ]
  },
  {
   "cell_type": "code",
   "execution_count": 108,
   "metadata": {},
   "outputs": [
    {
     "data": {
      "image/png": "[encoded data removed]",
      "text/plain": [
       "<Figure size 2304x1152 with 2 Axes>"
      ]
     },
     "metadata": {
      "needs_background": "light"
     },
     "output_type": "display_data"
    }
   ],
   "source": [
    "display_depth_sharpness(\n",
    "    depth_images=[camera_to_display(image)],\n",
    "    sharpness_images=[camera_to_display(distances)],\n",
    "    axes_size=(16, 16), \n",
    ")"
   ]
  },
  {
   "cell_type": "code",
   "execution_count": null,
   "metadata": {},
   "outputs": [],
   "source": []
  },
  {
   "cell_type": "code",
   "execution_count": null,
   "metadata": {},
   "outputs": [],
   "source": [
    "# compute statistics\n",
    "num_sharp_curves = len([curve for curve in nbhood_features['curves'] if curve['sharp']])\n",
    "num_surfaces = len(nbhood_features['surfaces'])\n",
    "\n",
    "patch_info = {\n",
    "    'image': noisy_image,\n",
    "    'normals': normals,\n",
    "    'distances': distances,\n",
    "    'directions': directions,\n",
    "    'item_id': item.item_id,\n",
    "    'orig_vert_indices': mesh_vertex_indexes,\n",
    "    'orig_face_indexes': mesh_face_indexes,\n",
    "    'has_sharp': has_sharp,\n",
    "    'num_sharp_curves': num_sharp_curves,\n",
    "    'num_surfaces': num_surfaces,\n",
    "    'camera_pose': camera_pose.camera_to_world_4x4,\n",
    "    'mesh_scale': mesh_scale\n",
    "}"
   ]
  },
  {
   "cell_type": "code",
   "execution_count": null,
   "metadata": {},
   "outputs": [],
   "source": [
    "point_patches = [patch_info]"
   ]
  },
  {
   "cell_type": "code",
   "execution_count": null,
   "metadata": {},
   "outputs": [],
   "source": [
    "save_depth_maps(point_patches, '/logs/abc_0056_test.hdf5')"
   ]
  },
  {
   "cell_type": "code",
   "execution_count": null,
   "metadata": {},
   "outputs": [],
   "source": [
    "!ls -lah /logs/abc_0056_test.hdf5"
   ]
  },
  {
   "cell_type": "code",
   "execution_count": null,
   "metadata": {},
   "outputs": [],
   "source": []
  },
  {
   "cell_type": "code",
   "execution_count": null,
   "metadata": {},
   "outputs": [],
   "source": []
  }
 ],
 "metadata": {
  "kernelspec": {
   "display_name": "Python 3",
   "language": "python",
   "name": "python3"
  },
  "language_info": {
   "codemirror_mode": {
    "name": "ipython",
    "version": 3
   },
   "file_extension": ".py",
   "mimetype": "text/x-python",
   "name": "python",
   "nbconvert_exporter": "python",
   "pygments_lexer": "ipython3",
   "version": "3.6.5"
  }
 },
 "nbformat": 4,
 "nbformat_minor": 4
}
