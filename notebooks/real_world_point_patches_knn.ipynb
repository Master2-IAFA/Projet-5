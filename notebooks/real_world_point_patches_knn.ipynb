{
 "cells": [
  {
   "cell_type": "code",
   "execution_count": 1,
   "metadata": {},
   "outputs": [],
   "source": [
    "%load_ext autoreload\n",
    "%autoreload 2"
   ]
  },
  {
   "cell_type": "code",
   "execution_count": 2,
   "metadata": {},
   "outputs": [
    {
     "name": "stderr",
     "output_type": "stream",
     "text": [
      "Matplotlib created a temporary config/cache directory at /tmp/matplotlib-vdmckkog because the default path (/home/user/.cache/matplotlib) is not a writable directory; it is highly recommended to set the MPLCONFIGDIR environment variable to a writable directory, in particular to speed up the import of Matplotlib and to better support multiprocessing.\n"
     ]
    }
   ],
   "source": [
    "from copy import deepcopy\n",
    "from collections import deque\n",
    "from glob import glob\n",
    "from io import StringIO, BytesIO\n",
    "import json\n",
    "from functools import partial\n",
    "\n",
    "\n",
    "from scipy.spatial import cKDTree\n",
    "import h5py\n",
    "import k3d\n",
    "import yaml\n",
    "import numpy as np\n",
    "import matplotlib.pyplot as plt\n",
    "from tqdm import tqdm\n",
    "import pymesh\n",
    "import torch\n",
    "import trimesh.transformations as tt\n",
    "import trimesh\n",
    "import xml.etree.ElementTree as ET"
   ]
  },
  {
   "cell_type": "code",
   "execution_count": 3,
   "metadata": {},
   "outputs": [],
   "source": [
    "import os\n",
    "os.environ['OMP_NUM_THREADS'] = '8'"
   ]
  },
  {
   "cell_type": "code",
   "execution_count": 33,
   "metadata": {},
   "outputs": [],
   "source": [
    "def display_sharpness(mesh=None, plot_meshvert=True,\n",
    "                      samples=None, samples_distances=None,\n",
    "                      sharp_vert=None, sharp_curves=None,\n",
    "                      directions=None, directions_width=0.0025,\n",
    "                      samples_color=0x0000ff, samples_psize=0.002, \n",
    "                      mesh_color=0xbbbbbb, meshvert_color=0x666666, meshvert_psize=0.0025,\n",
    "                      sharpvert_color=0xff0000, sharpvert_psize=0.0025,\n",
    "                      sharpcurve_color=None, sharpcurve_width=0.0025,\n",
    "                      as_image=False, plot_height=768,\n",
    "                      cmap=k3d.colormaps.matplotlib_color_maps.coolwarm_r,\n",
    "                      max_dist=1.0):\n",
    "    \n",
    "    plot = k3d.plot(height=plot_height)\n",
    "    \n",
    "    if None is not mesh:\n",
    "        k3d_mesh = k3d.mesh(mesh.vertices, mesh.faces, color=mesh_color)\n",
    "        plot += k3d_mesh\n",
    "\n",
    "        if plot_meshvert:\n",
    "            k3d_points = k3d.points(mesh.vertices, \n",
    "                                    point_size=meshvert_psize, color=meshvert_color)\n",
    "            plot += k3d_points\n",
    "            k3d_points.shader='flat'\n",
    "\n",
    "    if None is not samples:\n",
    "        colors = None\n",
    "        if None is not samples_distances:\n",
    "            colors = k3d.helpers.map_colors(\n",
    "                samples_distances, cmap, [0, max_dist]\n",
    "            ).astype(np.uint32)\n",
    "            k3d_points = k3d.points(samples, point_size=samples_psize, colors=colors)\n",
    "        else:\n",
    "            if samples_color == 'z':\n",
    "                v = -np.array([0., 0., 1.])\n",
    "                max_dist = np.max(np.dot(samples, v))\n",
    "                min_dist = np.min(np.dot(samples, v))\n",
    "                colors = k3d.helpers.map_colors(\n",
    "                    np.dot(samples, v), k3d.colormaps.matplotlib_color_maps.viridis, [min_dist, max_dist]\n",
    "                ).astype(np.uint32)\n",
    "                k3d_points = k3d.points(samples, point_size=samples_psize, colors=colors)\n",
    "                \n",
    "            else:\n",
    "                k3d_points = k3d.points(samples, point_size=samples_psize, color=samples_color)\n",
    "                \n",
    "        plot += k3d_points\n",
    "        k3d_points.shader='flat'\n",
    "        \n",
    "        if None is not directions:\n",
    "            vectors = k3d.vectors(\n",
    "                samples,\n",
    "                directions * samples_distances[..., np.newaxis],\n",
    "                use_head=False, \n",
    "                line_width=directions_width)\n",
    "            print(vectors)\n",
    "            plot += vectors\n",
    "\n",
    "#             directions_to_plot = np.hstack((samples, samples + directions))\n",
    "            \n",
    "#             for i, dir_to_plot in enumerate(directions_to_plot):\n",
    "#                 dir_to_plot = dir_to_plot.reshape((2, 3))\n",
    "#                 if np.all(dir_to_plot[0] == dir_to_plot[1]):\n",
    "#                     continue\n",
    "#                 color = int(colors[i]) if None is not colors else samples_color\n",
    "#                 plt_line = k3d.line(dir_to_plot, \n",
    "#                                     shader='mesh', width=directions_width, color=color)\n",
    "#                 plot += plt_line\n",
    "\n",
    "    if None is not sharp_vert:\n",
    "        k3d_points = k3d.points(sharp_vert,\n",
    "                                point_size=sharpvert_psize, color=sharpvert_color)\n",
    "        plot += k3d_points\n",
    "        k3d_points.shader='flat'\n",
    "        \n",
    "        if None is not sharp_curves:            \n",
    "            if None is not sharpcurve_color:\n",
    "                color = sharpcurve_color\n",
    "            else:\n",
    "                import randomcolor\n",
    "                rand_color = randomcolor.RandomColor()\n",
    "            for i, vert_ind in enumerate(sharp_curves):\n",
    "                sharp_points_curve = mesh.vertices[vert_ind]\n",
    "                \n",
    "                if None is sharpcurve_color:\n",
    "                    color = rand_color.generate(hue='red')[0]\n",
    "                    color = int('0x' + color[1:], 16)\n",
    "                plt_line = k3d.line(sharp_points_curve, \n",
    "                                    shader='mesh', width=sharpcurve_width, color=color)\n",
    "                plot += plt_line\n",
    "        \n",
    "    plot.grid_visible = False\n",
    "    plot.display()\n",
    "    \n",
    "    if as_image:\n",
    "        plot.fetch_screenshot()\n",
    "        return Image(data=b64decode(plot.screenshot))"
   ]
  },
  {
   "cell_type": "code",
   "execution_count": 5,
   "metadata": {},
   "outputs": [],
   "source": [
    "# mm/pixel\n",
    "HIGH_RES = 0.02\n",
    "MED_RES = 0.05\n",
    "LOW_RES = 0.125\n",
    "XLOW_RES = 0.25"
   ]
  },
  {
   "cell_type": "markdown",
   "metadata": {},
   "source": [
    "## 1. Working with point patches"
   ]
  },
  {
   "cell_type": "code",
   "execution_count": 6,
   "metadata": {},
   "outputs": [],
   "source": [
    "from sharpf.data import DataGenerationException\n",
    "from sharpf.utils.abc_utils.abc.abc_data import ABCModality, ABCChunk, ABC_7Z_FILEMASK\n",
    "from sharpf.data.annotation import ANNOTATOR_BY_TYPE\n",
    "from sharpf.data.camera_pose_manager import POSE_MANAGER_BY_TYPE\n",
    "from sharpf.data.imaging import IMAGING_BY_TYPE\n",
    "from sharpf.data.noisers import NOISE_BY_TYPE\n",
    "from sharpf.utils.abc_utils.abc import feature_utils\n",
    "from sharpf.utils.py_utils.console import eprint_t\n",
    "from sharpf.utils.py_utils.os import add_suffix\n",
    "from sharpf.utils.py_utils.config import load_func_from_config\n",
    "from sharpf.utils.abc_utils.mesh.io import trimesh_load\n",
    "from sharpf.utils.plotting import display_depth_sharpness\n",
    "from sharpf.utils.camera_utils.camera_pose import camera_to_display, CameraPose\n",
    "from sharpf.utils.abc_utils.mesh.indexing import reindex_zerobased, compute_relative_indexes\n",
    "import sharpf.data.data_smells as smells\n",
    "import sharpf.utils.abc_utils.hdf5.io_struct as io"
   ]
  },
  {
   "cell_type": "code",
   "execution_count": 7,
   "metadata": {},
   "outputs": [],
   "source": [
    "import numpy\n",
    "\n",
    "# https://github.com/corochann/chainer-pointnet/blob/master/chainer_pointnet/utils/sampling.py\n",
    "\n",
    "def l2_norm(x, y):\n",
    "    \"\"\"Calculate l2 norm (distance) of `x` and `y`.\n",
    "    Args:\n",
    "        x (numpy.ndarray or cupy): (batch_size, num_point, coord_dim)\n",
    "        y (numpy.ndarray): (batch_size, num_point, coord_dim)\n",
    "    Returns (numpy.ndarray): (batch_size, num_point,)\n",
    "    \"\"\"\n",
    "    return ((x - y) ** 2).sum(axis=2)\n",
    "\n",
    "\n",
    "def farthest_point_sampling(pts, k, initial_idx=None, metrics=l2_norm,\n",
    "                            skip_initial=False, indices_dtype=numpy.int32,\n",
    "                            distances_dtype=numpy.float32):\n",
    "    \"\"\"Batch operation of farthest point sampling\n",
    "    Code referenced from below link by @Graipher\n",
    "    https://codereview.stackexchange.com/questions/179561/farthest-point-algorithm-in-python\n",
    "    Args:\n",
    "        pts (numpy.ndarray or cupy.ndarray): 2-dim array (num_point, coord_dim)\n",
    "            or 3-dim array (batch_size, num_point, coord_dim)\n",
    "            When input is 2-dim array, it is treated as 3-dim array with\n",
    "            `batch_size=1`.\n",
    "        k (int): number of points to sample\n",
    "        initial_idx (int): initial index to start farthest point sampling.\n",
    "            `None` indicates to sample from random index,\n",
    "            in this case the returned value is not deterministic.\n",
    "        metrics (callable): metrics function, indicates how to calc distance.\n",
    "        skip_initial (bool): If True, initial point is skipped to store as\n",
    "            farthest point. It stabilizes the function output.\n",
    "        xp (numpy or cupy):\n",
    "        indices_dtype (): dtype of output `indices`\n",
    "        distances_dtype (): dtype of output `distances`\n",
    "    Returns (tuple): `indices` and `distances`.\n",
    "        indices (numpy.ndarray or cupy.ndarray): 2-dim array (batch_size, k, )\n",
    "            indices of sampled farthest points.\n",
    "            `pts[indices[i, j]]` represents `i-th` batch element of `j-th`\n",
    "            farthest point.\n",
    "        distances (numpy.ndarray or cupy.ndarray): 3-dim array\n",
    "            (batch_size, k, num_point)\n",
    "    \"\"\"\n",
    "    if pts.ndim == 2:\n",
    "        # insert batch_size axis\n",
    "        pts = pts[None, ...]\n",
    "    assert pts.ndim == 3\n",
    "    xp = np\n",
    "    batch_size, num_point, coord_dim = pts.shape\n",
    "    indices = xp.zeros((batch_size, k, ), dtype=indices_dtype)\n",
    "\n",
    "    # distances[bs, i, j] is distance between i-th farthest point `pts[bs, i]`\n",
    "    # and j-th input point `pts[bs, j]`.\n",
    "    distances = xp.zeros((batch_size, k, num_point), dtype=distances_dtype)\n",
    "    if initial_idx is None:\n",
    "        indices[:, 0] = xp.random.randint(len(pts))\n",
    "    else:\n",
    "        indices[:, 0] = initial_idx\n",
    "\n",
    "    batch_indices = xp.arange(batch_size)\n",
    "    farthest_point = pts[batch_indices, indices[:, 0]]\n",
    "    # minimum distances to the sampled farthest point\n",
    "    try:\n",
    "        min_distances = metrics(farthest_point[:, None, :], pts)\n",
    "    except Exception as e:\n",
    "        import IPython; IPython.embed()\n",
    "\n",
    "    if skip_initial:\n",
    "        # Override 0-th `indices` by the farthest point of `initial_idx`\n",
    "        indices[:, 0] = xp.argmax(min_distances, axis=1)\n",
    "        farthest_point = pts[batch_indices, indices[:, 0]]\n",
    "        min_distances = metrics(farthest_point[:, None, :], pts)\n",
    "\n",
    "    distances[:, 0, :] = min_distances\n",
    "    for i in tqdm(range(1, k)):\n",
    "        indices[:, i] = xp.argmax(min_distances, axis=1)\n",
    "        farthest_point = pts[batch_indices, indices[:, i]]\n",
    "        dist = metrics(farthest_point[:, None, :], pts)\n",
    "        distances[:, i, :] = dist\n",
    "        min_distances = xp.minimum(min_distances, dist)\n",
    "    return indices, distances\n",
    "\n"
   ]
  },
  {
   "cell_type": "code",
   "execution_count": 8,
   "metadata": {},
   "outputs": [],
   "source": [
    "def patch_using_bfs(nn_indexes, centroid_idx):\n",
    "    patch_points = {centroid_idx}\n",
    "    stack = deque()\n",
    "    stack.append(centroid_idx)\n",
    "    \n",
    "    while len(stack) > 0 and len(patch_points) < 4096:\n",
    "        point_idx = stack.popleft()        \n",
    "        for i in nn_indexes[point_idx]:\n",
    "            if i not in patch_points and i not in stack:\n",
    "                patch_points.add(point_idx)\n",
    "                stack.append(i)\n",
    "#         print(len(stack), len(patch_points))\n",
    "\n",
    "    return np.array(list(patch_points))\n",
    "\n",
    "\n",
    "def patches_from_point_cloud(points, n_patches):\n",
    "    # spread patch centroids across the point clouds\n",
    "    inds, ds = farthest_point_sampling(points, k=n_patches)\n",
    "    \n",
    "    # get kNN graph from point cloud\n",
    "    tree = cKDTree(points, leafsize=1024)\n",
    "    nn_distances, nn_indexes = tree.query(points, k=5, n_jobs=10)\n",
    "    \n",
    "    # startting from each seed centroid, traverse kNN graph and yield patches (slow)\n",
    "    for centroid_idx in tqdm(inds[0]):\n",
    "        yield patch_using_bfs(nn_indexes, centroid_idx)"
   ]
  },
  {
   "cell_type": "code",
   "execution_count": 39,
   "metadata": {},
   "outputs": [],
   "source": [
    "from sharpf.utils.convertor_utils.convertors_io import ViewIO\n",
    "from sharpf.utils.abc_utils.hdf5.dataset import Hdf5File, PreloadTypes\n",
    "from sharpf.data.annotation import ANNOTATOR_BY_TYPE\n",
    "import igl\n",
    "from sharpf.utils.abc_utils.abc.feature_utils import (\n",
    "    compute_features_nbhood,\n",
    "    remove_boundary_features,\n",
    "    submesh_from_hit_surfaces)\n",
    "import sharpf.data.data_smells as smells"
   ]
  },
  {
   "cell_type": "code",
   "execution_count": 11,
   "metadata": {},
   "outputs": [
    {
     "name": "stdout",
     "output_type": "stream",
     "text": [
      "Reading input data...obj...yml...hdf5...\n"
     ]
    }
   ],
   "source": [
    "input_dir = '/data/SharpF_200_68_96/83top_folder'\n",
    "stl_filename = glob(os.path.join(input_dir, '*.stl'))[0]\n",
    "obj_filename = glob(os.path.join(input_dir, '*.obj'))[0]\n",
    "yml_filename = glob(os.path.join(input_dir, '*.yml'))[0]\n",
    "hdf5_filename = glob(os.path.join(input_dir, '*_preprocessed.hdf5'))[0]\n",
    "item_id = os.path.basename(stl_filename).split('__')[0]\n",
    "\n",
    "print('Reading input data...', end='')\n",
    "with open(obj_filename, 'rb') as obj_file:\n",
    "    print('obj...', end='')\n",
    "    obj_mesh, _, _ = trimesh_load(BytesIO(obj_file.read()))\n",
    "\n",
    "with open(yml_filename, 'rb') as yml_file:\n",
    "    print('yml...', end='')\n",
    "    yml_features = yaml.load(BytesIO(yml_file.read()), Loader=yaml.Loader)\n",
    "\n",
    "print('hdf5...')\n",
    "dataset = Hdf5File(\n",
    "    hdf5_filename,\n",
    "    io=ViewIO,\n",
    "    preload=PreloadTypes.LAZY,\n",
    "    labels='*')\n"
   ]
  },
  {
   "cell_type": "code",
   "execution_count": 13,
   "metadata": {},
   "outputs": [
    {
     "name": "stderr",
     "output_type": "stream",
     "text": [
      "Loading scans: 100%|██████████| 12/12 [00:00<00:00, 3435.14it/s]"
     ]
    },
    {
     "name": "stdout",
     "output_type": "stream",
     "text": [
      "n_patches =  121\n"
     ]
    },
    {
     "name": "stderr",
     "output_type": "stream",
     "text": [
      "\n"
     ]
    }
   ],
   "source": [
    "DEFAULT_PATCH_SIZE = 4096\n",
    "\n",
    "obj_alignment_transform = dataset[0]['obj_alignment']\n",
    "obj_scale = dataset[0]['obj_scale']\n",
    "mesh = obj_mesh.copy() \\\n",
    "    .apply_scale(obj_scale) \\\n",
    "    .apply_transform(obj_alignment_transform)\n",
    "\n",
    "# Get the whole point cloud from scans\n",
    "point_cloud = []\n",
    "for scan in tqdm(dataset, desc='Loading scans'):\n",
    "    points = scan['points'].reshape((-1, 3))\n",
    "    points_alignment = scan['points_alignment']\n",
    "\n",
    "    aligned_points = tt.transform_points(points, points_alignment)\n",
    "    point_cloud.append(aligned_points)\n",
    "\n",
    "point_cloud = np.concatenate(point_cloud)\n",
    "\n",
    "n_patches = int(len(point_cloud) * 10 / DEFAULT_PATCH_SIZE)\n",
    "print('n_patches = ', n_patches)\n"
   ]
  },
  {
   "cell_type": "code",
   "execution_count": 20,
   "metadata": {},
   "outputs": [
    {
     "name": "stdout",
     "output_type": "stream",
     "text": [
      "{'resampling': <class 'sharpf.data.annotation.SharpnessResamplingAnnotator'>, 'global_aabb': <class 'sharpf.data.annotation.AABBGlobalAnnotator'>, 'surface_based_aabb': <class 'sharpf.data.annotation.AABBSurfacePatchAnnotator'>} {'type': 'surface_based_aabb', 'distance_upper_bound': 2.5, 'always_check_adjacent_surfaces': True}\n"
     ]
    }
   ],
   "source": [
    "max_distance_to_feature = 2.5\n",
    "\n",
    "# Prepare annotation stuff\n",
    "annotation_config = {\n",
    "    \"type\": \"surface_based_aabb\",\n",
    "    \"distance_upper_bound\": max_distance_to_feature,\n",
    "    \"always_check_adjacent_surfaces\": True\n",
    "}\n",
    "annotator = load_func_from_config(ANNOTATOR_BY_TYPE, annotation_config)\n"
   ]
  },
  {
   "cell_type": "code",
   "execution_count": 41,
   "metadata": {},
   "outputs": [],
   "source": [
    "smell_sharpness_discontinuities = smells.SmellSharpnessDiscontinuities.from_config({})"
   ]
  },
  {
   "cell_type": "code",
   "execution_count": 43,
   "metadata": {
    "scrolled": true
   },
   "outputs": [
    {
     "name": "stderr",
     "output_type": "stream",
     "text": [
      "Cropping annotated patches: 0it [00:00, ?it/s]\n",
      "\n",
      "  0%|          | 0/120 [00:00<?, ?it/s]\u001b[A\u001b[A\n",
      "\n",
      " 39%|███▉      | 47/120 [00:00<00:00, 463.20it/s]\u001b[A\u001b[A\n",
      "\n",
      "100%|██████████| 120/120 [00:00<00:00, 484.79it/s][A\u001b[A\n",
      "\n",
      "\n",
      "  0%|          | 0/121 [00:13<?, ?it/s]\u001b[A\u001b[A\n",
      "Cropping annotated patches: 1it [00:01,  1.91s/it]\n",
      "\n",
      "Cropping annotated patches: 3it [00:02,  1.39s/it]\u001b[A\n",
      "\n",
      "Cropping annotated patches: 4it [00:02,  1.09s/it]\u001b[A\n",
      "\n",
      "Cropping annotated patches: 5it [00:04,  1.24s/it]\u001b[A\n",
      "\n",
      "Cropping annotated patches: 6it [00:04,  1.01it/s]\u001b[A\n",
      "\n",
      "Cropping annotated patches: 7it [00:05,  1.24it/s]\u001b[A\n",
      "\n",
      "Cropping annotated patches: 9it [00:08,  1.01s/it]\u001b[A\n",
      "\n",
      "Cropping annotated patches: 10it [00:11,  1.66s/it][A\n",
      "\n",
      "Cropping annotated patches: 11it [00:13,  1.91s/it]\u001b[A\n",
      "\n",
      "Cropping annotated patches: 12it [00:16,  2.25s/it]\u001b[A\n",
      "\n",
      "Cropping annotated patches: 13it [00:17,  1.70s/it]\u001b[A\n",
      "\n",
      "Cropping annotated patches: 16it [00:19,  1.41s/it]\u001b[A\n",
      "\n",
      "Cropping annotated patches: 18it [00:21,  1.34s/it]\u001b[A\n",
      "\n",
      "Cropping annotated patches: 19it [00:22,  1.07s/it]\u001b[A\n",
      "\n",
      "Cropping annotated patches: 20it [00:24,  1.43s/it]\u001b[A\n",
      "\n",
      "Cropping annotated patches: 21it [00:24,  1.12s/it]\u001b[A\n",
      "\n",
      "Cropping annotated patches: 22it [00:27,  1.51s/it]\u001b[A\n",
      "\n",
      "Cropping annotated patches: 23it [00:27,  1.16s/it]\u001b[A\n",
      "\n",
      "Cropping annotated patches: 24it [00:27,  1.10it/s]\u001b[A\n",
      "\n",
      "Cropping annotated patches: 25it [00:30,  1.37s/it]\u001b[A\n",
      "\n",
      "Cropping annotated patches: 26it [00:30,  1.08s/it]\u001b[A\n",
      "\n",
      "Cropping annotated patches: 27it [00:31,  1.16it/s]\u001b[A\n",
      "\n",
      "Cropping annotated patches: 29it [00:33,  1.06it/s]\u001b[A\n",
      "\n",
      "Cropping annotated patches: 30it [00:33,  1.26it/s]\u001b[A\n",
      "\n",
      "Cropping annotated patches: 31it [00:35,  1.21s/it]\u001b[A\n",
      "\n",
      "Cropping annotated patches: 32it [00:38,  1.63s/it]\u001b[A\n",
      "\n",
      "Cropping annotated patches: 33it [00:41,  1.93s/it]\u001b[A\n",
      "\n",
      "Cropping annotated patches: 34it [00:43,  2.09s/it]\u001b[A\n",
      "\n",
      "Cropping annotated patches: 35it [00:46,  2.26s/it]\u001b[A\n",
      "\n",
      "Cropping annotated patches: 36it [00:49,  2.48s/it]\u001b[A\n",
      "\n",
      "Cropping annotated patches: 37it [00:49,  1.86s/it]\u001b[A\n",
      "\n",
      "Cropping annotated patches: 38it [00:51,  1.97s/it]\u001b[A\n",
      "\n",
      "Cropping annotated patches: 39it [00:54,  2.13s/it]\u001b[A\n",
      "\n",
      "Cropping annotated patches: 40it [00:56,  2.19s/it]\u001b[A\n",
      "\n",
      "Cropping annotated patches: 41it [00:57,  1.65s/it]\u001b[A\n",
      "\n",
      "Cropping annotated patches: 42it [01:00,  2.26s/it]\u001b[A\n",
      "\n",
      "Cropping annotated patches: 43it [01:01,  1.72s/it]\u001b[A\n",
      "\n",
      "Cropping annotated patches: 44it [01:01,  1.32s/it]\u001b[A\n",
      "\n",
      "Cropping annotated patches: 45it [01:04,  1.67s/it]\u001b[A\n",
      "\n",
      "Cropping annotated patches: 47it [01:07,  1.62s/it]\u001b[A\n",
      "\n",
      "Cropping annotated patches: 49it [01:07,  1.19s/it]\u001b[A\n",
      "\n",
      "Cropping annotated patches: 50it [01:10,  1.56s/it]\u001b[A\n",
      "\n",
      "Cropping annotated patches: 51it [01:12,  1.84s/it]\u001b[A\n",
      "\n",
      "Cropping annotated patches: 52it [01:15,  2.07s/it]\u001b[A\n",
      "\n",
      "Cropping annotated patches: 53it [01:16,  2.00s/it]\u001b[A\n",
      "\n",
      "Cropping annotated patches: 54it [01:19,  2.03s/it]\u001b[A\n",
      "\n",
      "Cropping annotated patches: 55it [01:19,  1.53s/it]\u001b[A\n",
      "\n",
      "Cropping annotated patches: 56it [01:19,  1.18s/it]\u001b[A\n",
      "\n",
      "Cropping annotated patches: 57it [01:22,  1.60s/it]\u001b[A\n",
      "\n",
      "Cropping annotated patches: 58it [01:22,  1.23s/it]\u001b[A\n",
      "\n",
      "Cropping annotated patches: 59it [01:24,  1.52s/it]\u001b[A\n",
      "\n",
      "Cropping annotated patches: 60it [01:27,  1.77s/it]\u001b[A\n",
      "\n",
      "Cropping annotated patches: 61it [01:27,  1.36s/it]\u001b[A\n",
      "\n",
      "Cropping annotated patches: 62it [01:31,  2.03s/it]\u001b[A\n",
      "\n",
      "Cropping annotated patches: 63it [01:31,  1.54s/it]\u001b[A\n",
      "\n",
      "Cropping annotated patches: 65it [01:33,  1.41s/it]\u001b[A\n",
      "\n",
      "Cropping annotated patches: 66it [01:36,  1.78s/it]\u001b[A\n",
      "\n",
      "Cropping annotated patches: 67it [01:39,  2.20s/it]\u001b[A\n",
      "\n",
      "Cropping annotated patches: 68it [01:40,  1.68s/it]\u001b[A\n",
      "\n",
      "Cropping annotated patches: 69it [01:40,  1.29s/it]\u001b[A\n",
      "\n",
      "Cropping annotated patches: 70it [01:42,  1.61s/it]\u001b[A\n",
      "\n",
      "Cropping annotated patches: 71it [01:43,  1.22s/it]\u001b[A\n",
      "\n",
      "Cropping annotated patches: 72it [01:43,  1.04it/s]\u001b[A\n",
      "\n",
      "Cropping annotated patches: 73it [01:46,  1.45s/it]\u001b[A\n",
      "\n",
      "Cropping annotated patches: 74it [01:48,  1.81s/it]\u001b[A\n",
      "\n",
      "Cropping annotated patches: 75it [01:51,  2.03s/it]\u001b[A\n",
      "\n",
      "Cropping annotated patches: 76it [01:53,  2.05s/it]\u001b[A\n",
      "\n",
      "Cropping annotated patches: 77it [01:56,  2.43s/it]\u001b[A\n",
      "\n",
      "Cropping annotated patches: 78it [01:57,  1.82s/it]\u001b[A\n",
      "\n",
      "Cropping annotated patches: 79it [01:58,  1.76s/it]\u001b[A\n",
      "\n",
      "Cropping annotated patches: 80it [02:01,  2.09s/it]\u001b[A\n",
      "\n",
      "Cropping annotated patches: 81it [02:04,  2.35s/it]\u001b[A\n",
      "\n",
      "Cropping annotated patches: 82it [02:04,  1.74s/it]\u001b[A\n",
      "\n",
      "Cropping annotated patches: 83it [02:07,  2.06s/it]\u001b[A\n",
      "\n",
      "Cropping annotated patches: 84it [02:10,  2.18s/it]\u001b[A\n",
      "\n",
      "Cropping annotated patches: 85it [02:12,  2.25s/it]\u001b[A\n",
      "\n",
      "Cropping annotated patches: 86it [02:15,  2.49s/it]\u001b[A\n",
      "\n",
      "Cropping annotated patches: 87it [02:18,  2.56s/it]\u001b[A\n",
      "\n",
      "Cropping annotated patches: 88it [02:20,  2.53s/it]\u001b[A\n",
      "\n",
      "Cropping annotated patches: 89it [02:21,  1.89s/it]\u001b[A\n",
      "\n",
      "Cropping annotated patches: 90it [02:23,  2.08s/it]\u001b[A\n",
      "\n",
      "Cropping annotated patches: 91it [02:24,  1.58s/it]\u001b[A\n",
      "\n",
      "Cropping annotated patches: 92it [02:26,  1.75s/it]\u001b[A\n",
      "\n",
      "Cropping annotated patches: 93it [02:26,  1.35s/it]\u001b[A\n",
      "\n",
      "Cropping annotated patches: 94it [02:29,  1.63s/it]\u001b[A\n",
      "\n",
      "Cropping annotated patches: 95it [02:29,  1.26s/it]\u001b[A\n",
      "\n",
      "Cropping annotated patches: 96it [02:32,  1.66s/it]\u001b[A\n",
      "\n",
      "Cropping annotated patches: 97it [02:34,  1.99s/it]\u001b[A\n",
      "\n",
      "Cropping annotated patches: 98it [02:37,  2.12s/it]\u001b[A\n",
      "\n",
      "Cropping annotated patches: 99it [02:39,  2.26s/it]\u001b[A\n",
      "\n",
      "Cropping annotated patches: 100it [02:42,  2.31s/it][A\n",
      "\n",
      "Cropping annotated patches: 101it [02:42,  1.74s/it]\u001b[A\n",
      "\n",
      "Cropping annotated patches: 102it [02:45,  2.16s/it]\u001b[A\n",
      "\n",
      "Cropping annotated patches: 103it [02:48,  2.28s/it]\u001b[A\n",
      "\n",
      "Cropping annotated patches: 104it [02:48,  1.71s/it]\u001b[A\n",
      "\n",
      "Cropping annotated patches: 105it [02:49,  1.29s/it]\u001b[A\n",
      "\n",
      "Cropping annotated patches: 106it [02:51,  1.58s/it]\u001b[A\n",
      "\n",
      "Cropping annotated patches: 107it [02:51,  1.22s/it]\u001b[A\n",
      "\n",
      "Cropping annotated patches: 108it [02:52,  1.02it/s]\u001b[A\n",
      "\n",
      "Cropping annotated patches: 109it [02:54,  1.39s/it]\u001b[A\n",
      "\n",
      "Cropping annotated patches: 110it [02:54,  1.10s/it]\u001b[A\n",
      "\n",
      "Cropping annotated patches: 111it [02:56,  1.29s/it]\u001b[A\n",
      "\n",
      "Cropping annotated patches: 112it [02:59,  1.68s/it]\u001b[A\n",
      "\n",
      "Cropping annotated patches: 113it [03:01,  1.97s/it]\u001b[A\n",
      "\n",
      "Cropping annotated patches: 114it [03:05,  2.60s/it]\u001b[A\n",
      "\n",
      "Cropping annotated patches: 115it [03:09,  2.79s/it]\u001b[A\n",
      "\n",
      "Cropping annotated patches: 116it [03:09,  2.08s/it]\u001b[A\n",
      "\n",
      "Cropping annotated patches: 117it [03:13,  2.56s/it]\u001b[A\n",
      "\n",
      "Cropping annotated patches: 118it [03:13,  1.90s/it]\u001b[A\n",
      "\n",
      "Cropping annotated patches: 119it [03:16,  2.14s/it]\u001b[A\n",
      "\n",
      "Cropping annotated patches: 120it [03:19,  2.40s/it]\u001b[A\n",
      "\n",
      "Cropping annotated patches: 121it [03:19,  1.80s/it]\u001b[A\n",
      "\n",
      "100%|██████████| 121/121 [03:19<00:00,  1.65s/it]\u001b[A\u001b[A\n",
      "Cropping annotated patches: 121it [03:19,  1.65s/it]"
     ]
    },
    {
     "name": "stdout",
     "output_type": "stream",
     "text": [
      "Total 71 patches\n"
     ]
    },
    {
     "name": "stderr",
     "output_type": "stream",
     "text": [
      "\n"
     ]
    }
   ],
   "source": [
    "max_point_mesh_distance_mm = 10.0\n",
    "\n",
    "point_patches = []\n",
    "iterable = patches_from_point_cloud(point_cloud, n_patches)\n",
    "for patch_point_indexes in tqdm(iterable, desc='Cropping annotated patches'):\n",
    "    if len(patch_point_indexes) == DEFAULT_PATCH_SIZE:\n",
    "        points = point_cloud[patch_point_indexes]\n",
    "\n",
    "        distance_sq, mesh_face_indexes, _ = igl.point_mesh_squared_distance(\n",
    "            points,\n",
    "            mesh.vertices,\n",
    "            mesh.faces)\n",
    "        indexes = np.where(np.sqrt(distance_sq) < max_point_mesh_distance_mm)[0]\n",
    "        if len(indexes) < DEFAULT_PATCH_SIZE:\n",
    "            continue\n",
    "\n",
    "        nbhood, mesh_vertex_indexes, mesh_face_indexes = \\\n",
    "            submesh_from_hit_surfaces(mesh, yml_features, mesh_face_indexes)\n",
    "\n",
    "#           mesh_vertex_indexes = np.unique(mesh.faces[mesh_face_indexes])\n",
    "#           nbhood = reindex_zerobased(\n",
    "#               mesh,\n",
    "#               mesh_vertex_indexes,\n",
    "#               mesh_face_indexes)\n",
    "\n",
    "        # create annotations: condition the features onto the nbhood\n",
    "        nbhood_features = compute_features_nbhood(\n",
    "            mesh,\n",
    "            yml_features,\n",
    "            mesh_face_indexes,\n",
    "            mesh_vertex_indexes=mesh_vertex_indexes)\n",
    "\n",
    "        # remove vertices lying on the boundary (sharp edges found in 1 face only)\n",
    "        nbhood_features = remove_boundary_features(\n",
    "            nbhood,\n",
    "            nbhood_features,\n",
    "            how='edges')\n",
    "\n",
    "        distances, directions, has_sharp = annotator.annotate(\n",
    "            nbhood,\n",
    "            nbhood_features,\n",
    "            points)\n",
    "\n",
    "        num_sharp_curves = len([curve for curve in nbhood_features['curves'] if curve['sharp']])\n",
    "        num_surfaces = len(nbhood_features['surfaces'])\n",
    "        has_smell_sharpness_discontinuities = smell_sharpness_discontinuities.run(points, distances)\n",
    "        point_patches.append({\n",
    "            'points': np.ravel(points),\n",
    "            'normals': np.ravel(np.zeros_like(points)),\n",
    "            'distances': np.ravel(distances),\n",
    "            'directions': np.ravel(directions),\n",
    "            'has_sharp': has_sharp,\n",
    "            'orig_vert_indices': mesh_vertex_indexes,\n",
    "            'orig_face_indexes': mesh_face_indexes,\n",
    "            'indexes_in_whole': patch_point_indexes,\n",
    "            'item_id': item_id,\n",
    "            'num_sharp_curves': num_sharp_curves,\n",
    "            'num_surfaces': num_surfaces,\n",
    "            'has_smell_coarse_surfaces_by_num_faces': False,\n",
    "            'has_smell_coarse_surfaces_by_angles': False,\n",
    "            'has_smell_deviating_resolution': False,\n",
    "            'has_smell_sharpness_discontinuities': has_smell_sharpness_discontinuities,\n",
    "            'has_smell_bad_face_sampling': False,\n",
    "            'has_smell_mismatching_surface_annotation': False,\n",
    "        })\n",
    "\n",
    "print('Total {} patches'.format(len(point_patches)))\n"
   ]
  },
  {
   "cell_type": "code",
   "execution_count": 27,
   "metadata": {},
   "outputs": [],
   "source": [
    "def fuse_points(n_points, list_predictions, list_indexes_in_whole, list_points, max_distance_to_feature):\n",
    "    fused_points = np.zeros((n_points, 3))\n",
    "    fused_distances = np.ones(n_points) * np.inf\n",
    "    # fused_directions = np.ones((n_points, 3)) * np.inf\n",
    "\n",
    "    iterable = zip(list_predictions, list_indexes_in_whole, list_points)\n",
    "    for distances, indexes, points in tqdm(iterable):\n",
    "        fused_points[indexes] = points\n",
    "        assign_mask = fused_distances[indexes] > distances\n",
    "        fused_distances[indexes[assign_mask]] = np.minimum(distances[assign_mask], max_distance_to_feature)\n",
    "        # fused_directions[indexes[assign_mask]] = directions[assign_mask]\n",
    "\n",
    "    return fused_points, fused_distances, {}"
   ]
  },
  {
   "cell_type": "code",
   "execution_count": 48,
   "metadata": {},
   "outputs": [
    {
     "name": "stderr",
     "output_type": "stream",
     "text": [
      "71it [00:00, 5758.62it/s]\n"
     ]
    }
   ],
   "source": [
    "ground_truth = point_patches\n",
    "\n",
    "list_distances = [patch['distances'] for patch in ground_truth]\n",
    "list_indexes_in_whole = [patch['indexes_in_whole'].astype(int) for patch in ground_truth]\n",
    "list_points = [patch['points'].reshape((-1, 3)) for patch in ground_truth]\n",
    "n_points = np.concatenate([patch['indexes_in_whole'] for patch in ground_truth]).max() + 1\n",
    "\n",
    "fused_points_gt, fused_distances_gt, _ = fuse_points(\n",
    "    n_points, list_distances, list_indexes_in_whole, list_points,\n",
    "    max_distance_to_feature)"
   ]
  },
  {
   "cell_type": "code",
   "execution_count": 49,
   "metadata": {},
   "outputs": [
    {
     "data": {
      "application/vnd.jupyter.widget-view+json": {
       "model_id": "4959da38a21c4de28b021400079a757e",
       "version_major": 2,
       "version_minor": 0
      },
      "text/plain": [
       "Output()"
      ]
     },
     "metadata": {},
     "output_type": "display_data"
    }
   ],
   "source": [
    "display_sharpness(\n",
    "    mesh,\n",
    "    samples=ground_truth[3]['points'],\n",
    "    samples_psize=0.3,\n",
    "    samples_distances=ground_truth[3]['distances'],\n",
    "    max_dist=max_distance_to_feature\n",
    ")"
   ]
  },
  {
   "cell_type": "code",
   "execution_count": 50,
   "metadata": {},
   "outputs": [
    {
     "data": {
      "text/plain": [
       "True"
      ]
     },
     "execution_count": 50,
     "metadata": {},
     "output_type": "execute_result"
    }
   ],
   "source": [
    "smell_sharpness_discontinuities.run(\n",
    "    ground_truth[3]['points'].reshape(-1, 3), \n",
    "    ground_truth[3]['distances'])"
   ]
  },
  {
   "cell_type": "code",
   "execution_count": 52,
   "metadata": {},
   "outputs": [
    {
     "data": {
      "text/plain": [
       "{'points': array([-114.14838074,  -99.57734313,  -36.54392843, ..., -114.19724698,\n",
       "         -99.68412767,  -35.91024094]),\n",
       " 'normals': array([0., 0., 0., ..., 0., 0., 0.]),\n",
       " 'distances': array([2.5, 2.5, 2.5, ..., 2.5, 2.5, 2.5]),\n",
       " 'directions': array([0., 0., 0., ..., 0., 0., 0.]),\n",
       " 'has_sharp': True,\n",
       " 'orig_vert_indices': TrackedArray([    0,     1,     2, ..., 59158, 59159, 59160]),\n",
       " 'orig_face_indexes': array([     0,      1,      2, ..., 117907, 117908, 117909]),\n",
       " 'indexes_in_whole': array([ 8192,  8193, 32795, ...,  8189,  8190,  8191]),\n",
       " 'item_id': '00517588_65037d0f70b8613b50bba515_000',\n",
       " 'num_sharp_curves': 22,\n",
       " 'num_surfaces': 16,\n",
       " 'has_smell_coarse_surfaces_by_num_faces': False,\n",
       " 'has_smell_coarse_surfaces_by_angles': False,\n",
       " 'has_smell_deviating_resolution': False,\n",
       " 'has_smell_sharpness_discontinuities': True,\n",
       " 'has_smell_bad_face_sampling': False,\n",
       " 'has_smell_mismatching_surface_annotation': False}"
      ]
     },
     "execution_count": 52,
     "metadata": {},
     "output_type": "execute_result"
    }
   ],
   "source": [
    "ground_truth[3]"
   ]
  },
  {
   "cell_type": "code",
   "execution_count": null,
   "metadata": {},
   "outputs": [],
   "source": []
  },
  {
   "cell_type": "code",
   "execution_count": null,
   "metadata": {},
   "outputs": [],
   "source": []
  },
  {
   "cell_type": "markdown",
   "metadata": {},
   "source": [
    "## OLD STUFF"
   ]
  },
  {
   "cell_type": "code",
   "execution_count": 9,
   "metadata": {},
   "outputs": [],
   "source": [
    "def load_scans(base_dir):\n",
    "    matlab_project_filename = glob(os.path.join(base_dir, '*.mlp'))[0]\n",
    "    root = ET.parse(matlab_project_filename).getroot()\n",
    "\n",
    "    points_by_scan = []\n",
    "    transform_by_scan_4x4 = []\n",
    "\n",
    "    item_id = None\n",
    "    for type_tag in root.findall('MeshGroup/MLMesh'):\n",
    "        filename = type_tag.get('filename')\n",
    "        if filename.endswith('.obj'):\n",
    "            item_id = filename\n",
    "\n",
    "        elif filename.endswith('.ply'):\n",
    "            try:\n",
    "                transform = np.loadtxt(\n",
    "                    StringIO(type_tag.find('MLMatrix44').text))\n",
    "                points = trimesh.load(os.path.join(base_dir, filename)).vertices\n",
    "            except ValueError as e:\n",
    "                continue\n",
    "            \n",
    "            transform_by_scan_4x4.append(transform)\n",
    "            points_by_scan.append(points)\n",
    "            \n",
    "    return points_by_scan, transform_by_scan_4x4, item_id"
   ]
  },
  {
   "cell_type": "code",
   "execution_count": 10,
   "metadata": {},
   "outputs": [],
   "source": [
    "UnlabeledPointCloudIO = io.HDF5IO({\n",
    "        'points': io.Float64('points'),\n",
    "        'indexes_in_whole': io.Int32('indexes_in_whole'),\n",
    "        'distances': io.Float64('distances'),\n",
    "        'item_id': io.AsciiString('item_id'),\n",
    "    },\n",
    "    len_label='has_sharp',\n",
    "    compression='lzf')\n",
    "\n",
    "\n",
    "def save_point_crops(patches, filename):\n",
    "    # turn a list of dicts into a dict of torch tensors:\n",
    "    # default_collate([{'a': 'str1', 'x': np.random.normal()}, {'a': 'str2', 'x': np.random.normal()}])\n",
    "    # Out[26]: {'a': ['str1', 'str2'], 'x': tensor([0.4252, 0.1414], dtype=torch.float64)}\n",
    "    collate_fn = partial(io.collate_mapping_with_io, io=UnlabeledPointCloudIO)\n",
    "    patches = collate_fn(patches)\n",
    "\n",
    "    with h5py.File(filename, 'w') as f:\n",
    "        for key in ['points', 'indexes_in_whole', 'distances']:\n",
    "            UnlabeledPointCloudIO.write(f, key, patches[key].numpy())\n",
    "        UnlabeledPointCloudIO.write(f, 'item_id', patches['item_id'])"
   ]
  },
  {
   "cell_type": "code",
   "execution_count": 11,
   "metadata": {},
   "outputs": [],
   "source": [
    "def process_scans(input_dir, output_filename):\n",
    "    points_by_scan, transform_by_scan_4x4, item_id = load_scans(input_dir)\n",
    "    \n",
    "    all_points = np.concatenate([\n",
    "        tt.transform_points(points, transform)\n",
    "        for points, transform in zip(points_by_scan, transform_by_scan_4x4)])\n",
    "    n_patches = int(len(all_points) * 10 / 4096)\n",
    "    print('n_patches = ', n_patches)\n",
    "    \n",
    "    point_patches = []\n",
    "    for patch_point_indexes in patches_from_point_cloud(all_points, n_patches):\n",
    "        if len(patch_point_indexes) == 4096:\n",
    "            point_patches.append({\n",
    "                'points': all_points[patch_point_indexes],\n",
    "                'distances': np.ones(4096),\n",
    "                'indexes_in_whole': patch_point_indexes,\n",
    "                'item_id': item_id\n",
    "            })\n",
    "            \n",
    "    save_point_crops(point_patches, output_filename)\n",
    "    return all_points, point_patches"
   ]
  },
  {
   "cell_type": "code",
   "execution_count": 212,
   "metadata": {},
   "outputs": [],
   "source": [
    "s = !find /data/abc/sharp_features_whole_models/SL -maxdepth 1 -mindepth 1 -type d "
   ]
  },
  {
   "cell_type": "code",
   "execution_count": 213,
   "metadata": {},
   "outputs": [],
   "source": [
    "todo = [os.path.basename(d) for d in s\n",
    "       if not os.path.exists(\n",
    "           '/data/abc/sharp_features_whole_models/SL/{}/{}.hdf5'.format(os.path.basename(d), os.path.basename(d)))]"
   ]
  },
  {
   "cell_type": "code",
   "execution_count": 223,
   "metadata": {},
   "outputs": [],
   "source": [
    "todo = [\n",
    "#     'smallest_345',\n",
    " 'bat_320',\n",
    " 'smallest_40',\n",
    " 'small_40',\n",
    " 'cross_40',\n",
    " 'Detail_45',\n",
    " 'car_320',\n",
    " 'cube_small_40',\n",
    " 'hook_40cm']"
   ]
  },
  {
   "cell_type": "code",
   "execution_count": 224,
   "metadata": {},
   "outputs": [
    {
     "name": "stdout",
     "output_type": "stream",
     "text": [
      "bat_320\n"
     ]
    },
    {
     "name": "stderr",
     "output_type": "stream",
     "text": [
      "100%|██████████| 92/92 [00:00<00:00, 548.64it/s]"
     ]
    },
    {
     "name": "stdout",
     "output_type": "stream",
     "text": [
      "n_patches =  93\n"
     ]
    },
    {
     "name": "stderr",
     "output_type": "stream",
     "text": [
      "\n",
      "100%|██████████| 93/93 [00:09<00:00, 10.04it/s]\n"
     ]
    },
    {
     "name": "stdout",
     "output_type": "stream",
     "text": [
      "smallest_40\n"
     ]
    },
    {
     "name": "stderr",
     "output_type": "stream",
     "text": [
      " 14%|█▎        | 27/198 [00:00<00:00, 266.61it/s]"
     ]
    },
    {
     "name": "stdout",
     "output_type": "stream",
     "text": [
      "n_patches =  199\n"
     ]
    },
    {
     "name": "stderr",
     "output_type": "stream",
     "text": [
      "100%|██████████| 198/198 [00:00<00:00, 321.39it/s]\n",
      "100%|██████████| 199/199 [00:25<00:00,  7.92it/s]\n"
     ]
    },
    {
     "name": "stdout",
     "output_type": "stream",
     "text": [
      "small_40\n"
     ]
    },
    {
     "name": "stderr",
     "output_type": "stream",
     "text": [
      "  1%|          | 7/1083 [00:00<00:16, 63.89it/s]"
     ]
    },
    {
     "name": "stdout",
     "output_type": "stream",
     "text": [
      "n_patches =  1084\n"
     ]
    },
    {
     "name": "stderr",
     "output_type": "stream",
     "text": [
      "100%|██████████| 1083/1083 [00:17<00:00, 61.39it/s]\n",
      "100%|██████████| 1084/1084 [02:19<00:00,  7.75it/s]\n"
     ]
    },
    {
     "name": "stdout",
     "output_type": "stream",
     "text": [
      "cross_40\n",
      "n_patches =  7325\n"
     ]
    },
    {
     "name": "stderr",
     "output_type": "stream",
     "text": [
      "100%|██████████| 7324/7324 [15:11<00:00,  8.03it/s]\n",
      "100%|██████████| 7325/7325 [17:20<00:00,  7.04it/s]\n"
     ]
    },
    {
     "name": "stdout",
     "output_type": "stream",
     "text": [
      "Detail_45\n",
      "n_patches =  28178\n"
     ]
    },
    {
     "ename": "MemoryError",
     "evalue": "Unable to allocate 1.18 TiB for an array with shape (1, 28178, 11541725) and data type float32",
     "output_type": "error",
     "traceback": [
      "\u001b[0;31m---------------------------------------------------------------------------\u001b[0m",
      "\u001b[0;31mMemoryError\u001b[0m                               Traceback (most recent call last)",
      "\u001b[0;32m<ipython-input-224-d56bf870cc60>\u001b[0m in \u001b[0;36m<module>\u001b[0;34m\u001b[0m\n\u001b[1;32m      3\u001b[0m     all_points, point_patches = process_scans(\n\u001b[1;32m      4\u001b[0m         \u001b[0;34m'/data/abc/sharp_features_whole_models/SL/{}/'\u001b[0m\u001b[0;34m.\u001b[0m\u001b[0mformat\u001b[0m\u001b[0;34m(\u001b[0m\u001b[0mname\u001b[0m\u001b[0;34m)\u001b[0m\u001b[0;34m,\u001b[0m\u001b[0;34m\u001b[0m\u001b[0m\n\u001b[0;32m----> 5\u001b[0;31m         \u001b[0;34m'/data/abc/sharp_features_whole_models/SL/{}/{}.hdf5'\u001b[0m\u001b[0;34m.\u001b[0m\u001b[0mformat\u001b[0m\u001b[0;34m(\u001b[0m\u001b[0mname\u001b[0m\u001b[0;34m,\u001b[0m \u001b[0mname\u001b[0m\u001b[0;34m)\u001b[0m\u001b[0;34m\u001b[0m\u001b[0m\n\u001b[0m\u001b[1;32m      6\u001b[0m     )\n",
      "\u001b[0;32m<ipython-input-163-112ceb2544b4>\u001b[0m in \u001b[0;36mprocess_scans\u001b[0;34m(input_dir, output_filename)\u001b[0m\n\u001b[1;32m      9\u001b[0m \u001b[0;34m\u001b[0m\u001b[0m\n\u001b[1;32m     10\u001b[0m     \u001b[0mpoint_patches\u001b[0m \u001b[0;34m=\u001b[0m \u001b[0;34m[\u001b[0m\u001b[0;34m]\u001b[0m\u001b[0;34m\u001b[0m\u001b[0m\n\u001b[0;32m---> 11\u001b[0;31m     \u001b[0;32mfor\u001b[0m \u001b[0mpatch_point_indexes\u001b[0m \u001b[0;32min\u001b[0m \u001b[0mpatches_from_point_cloud\u001b[0m\u001b[0;34m(\u001b[0m\u001b[0mall_points\u001b[0m\u001b[0;34m,\u001b[0m \u001b[0mn_patches\u001b[0m\u001b[0;34m)\u001b[0m\u001b[0;34m:\u001b[0m\u001b[0;34m\u001b[0m\u001b[0m\n\u001b[0m\u001b[1;32m     12\u001b[0m         \u001b[0;32mif\u001b[0m \u001b[0mlen\u001b[0m\u001b[0;34m(\u001b[0m\u001b[0mpatch_point_indexes\u001b[0m\u001b[0;34m)\u001b[0m \u001b[0;34m==\u001b[0m \u001b[0;36m4096\u001b[0m\u001b[0;34m:\u001b[0m\u001b[0;34m\u001b[0m\u001b[0m\n\u001b[1;32m     13\u001b[0m             point_patches.append({\n",
      "\u001b[0;32m<ipython-input-154-b7c83155cec3>\u001b[0m in \u001b[0;36mpatches_from_point_cloud\u001b[0;34m(points, n_patches)\u001b[0m\n\u001b[1;32m     17\u001b[0m \u001b[0;32mdef\u001b[0m \u001b[0mpatches_from_point_cloud\u001b[0m\u001b[0;34m(\u001b[0m\u001b[0mpoints\u001b[0m\u001b[0;34m,\u001b[0m \u001b[0mn_patches\u001b[0m\u001b[0;34m)\u001b[0m\u001b[0;34m:\u001b[0m\u001b[0;34m\u001b[0m\u001b[0m\n\u001b[1;32m     18\u001b[0m     \u001b[0;31m# spread patch centroids across the point clouds\u001b[0m\u001b[0;34m\u001b[0m\u001b[0;34m\u001b[0m\u001b[0m\n\u001b[0;32m---> 19\u001b[0;31m     \u001b[0minds\u001b[0m\u001b[0;34m,\u001b[0m \u001b[0mds\u001b[0m \u001b[0;34m=\u001b[0m \u001b[0mfarthest_point_sampling\u001b[0m\u001b[0;34m(\u001b[0m\u001b[0mpoints\u001b[0m\u001b[0;34m,\u001b[0m \u001b[0mk\u001b[0m\u001b[0;34m=\u001b[0m\u001b[0mn_patches\u001b[0m\u001b[0;34m)\u001b[0m\u001b[0;34m\u001b[0m\u001b[0m\n\u001b[0m\u001b[1;32m     20\u001b[0m \u001b[0;34m\u001b[0m\u001b[0m\n\u001b[1;32m     21\u001b[0m     \u001b[0;31m# get kNN graph from point cloud\u001b[0m\u001b[0;34m\u001b[0m\u001b[0;34m\u001b[0m\u001b[0m\n",
      "\u001b[0;32m<ipython-input-153-68b3c8423cb2>\u001b[0m in \u001b[0;36mfarthest_point_sampling\u001b[0;34m(pts, k, initial_idx, metrics, skip_initial, indices_dtype, distances_dtype)\u001b[0m\n\u001b[1;32m     52\u001b[0m     \u001b[0;31m# distances[bs, i, j] is distance between i-th farthest point `pts[bs, i]`\u001b[0m\u001b[0;34m\u001b[0m\u001b[0;34m\u001b[0m\u001b[0m\n\u001b[1;32m     53\u001b[0m     \u001b[0;31m# and j-th input point `pts[bs, j]`.\u001b[0m\u001b[0;34m\u001b[0m\u001b[0;34m\u001b[0m\u001b[0m\n\u001b[0;32m---> 54\u001b[0;31m     \u001b[0mdistances\u001b[0m \u001b[0;34m=\u001b[0m \u001b[0mxp\u001b[0m\u001b[0;34m.\u001b[0m\u001b[0mzeros\u001b[0m\u001b[0;34m(\u001b[0m\u001b[0;34m(\u001b[0m\u001b[0mbatch_size\u001b[0m\u001b[0;34m,\u001b[0m \u001b[0mk\u001b[0m\u001b[0;34m,\u001b[0m \u001b[0mnum_point\u001b[0m\u001b[0;34m)\u001b[0m\u001b[0;34m,\u001b[0m \u001b[0mdtype\u001b[0m\u001b[0;34m=\u001b[0m\u001b[0mdistances_dtype\u001b[0m\u001b[0;34m)\u001b[0m\u001b[0;34m\u001b[0m\u001b[0m\n\u001b[0m\u001b[1;32m     55\u001b[0m     \u001b[0;32mif\u001b[0m \u001b[0minitial_idx\u001b[0m \u001b[0;32mis\u001b[0m \u001b[0;32mNone\u001b[0m\u001b[0;34m:\u001b[0m\u001b[0;34m\u001b[0m\u001b[0m\n\u001b[1;32m     56\u001b[0m         \u001b[0mindices\u001b[0m\u001b[0;34m[\u001b[0m\u001b[0;34m:\u001b[0m\u001b[0;34m,\u001b[0m \u001b[0;36m0\u001b[0m\u001b[0;34m]\u001b[0m \u001b[0;34m=\u001b[0m \u001b[0mxp\u001b[0m\u001b[0;34m.\u001b[0m\u001b[0mrandom\u001b[0m\u001b[0;34m.\u001b[0m\u001b[0mrandint\u001b[0m\u001b[0;34m(\u001b[0m\u001b[0mlen\u001b[0m\u001b[0;34m(\u001b[0m\u001b[0mpts\u001b[0m\u001b[0;34m)\u001b[0m\u001b[0;34m)\u001b[0m\u001b[0;34m\u001b[0m\u001b[0m\n",
      "\u001b[0;31mMemoryError\u001b[0m: Unable to allocate 1.18 TiB for an array with shape (1, 28178, 11541725) and data type float32"
     ]
    }
   ],
   "source": [
    "for name in todo:\n",
    "    print(name)\n",
    "    all_points, point_patches = process_scans(\n",
    "        '/data/abc/sharp_features_whole_models/SL/{}/'.format(name),\n",
    "        '/data/abc/sharp_features_whole_models/SL/{}/{}.hdf5'.format(name, name)\n",
    "    )"
   ]
  },
  {
   "cell_type": "code",
   "execution_count": 184,
   "metadata": {},
   "outputs": [],
   "source": [
    "# points_by_scan, transform_by_scan_4x4, item_id = load_scans('/data/abc/sharp_features_whole_models/SL/Castle_45/')\n",
    "\n",
    "# all_points = np.concatenate([\n",
    "#     tt.transform_points(points, transform)\n",
    "#     for points, transform in zip(points_by_scan, transform_by_scan_4x4)])\n",
    "\n",
    "# display_sharpness(samples=all_points, samples_psize=0.1, samples_color='z')"
   ]
  },
  {
   "cell_type": "code",
   "execution_count": null,
   "metadata": {},
   "outputs": [],
   "source": []
  },
  {
   "cell_type": "code",
   "execution_count": 197,
   "metadata": {},
   "outputs": [
    {
     "name": "stderr",
     "output_type": "stream",
     "text": [
      "File /data/abc/sharp_features_whole_models/SL/Cross_345/Cross_345.hdf5 is not compatible with Hdf5File I/O interface <class 'sharpf.utils.abc_utils.hdf5.io_struct.HDF5IO'>\n",
      "File /data/abc/sharp_features_whole_models/SL/Cross_345/Cross_345.hdf5 is not compatible with Hdf5File I/O interface <class 'sharpf.utils.abc_utils.hdf5.io_struct.HDF5IO'>\n",
      "77it [00:00, 6802.77it/s]\n"
     ]
    },
    {
     "data": {
      "application/vnd.jupyter.widget-view+json": {
       "model_id": "380addc7acf4466a8f9f4cd0a78082c7",
       "version_major": 2,
       "version_minor": 0
      },
      "text/plain": [
       "Output()"
      ]
     },
     "metadata": {},
     "output_type": "display_data"
    }
   ],
   "source": [
    "from sharpf.utils.abc_utils.hdf5.dataset import Hdf5File, PreloadTypes \n",
    "\n",
    "ground_truth = Hdf5File('/data/abc/sharp_features_whole_models/SL/Cross_345/Cross_345.hdf5',\n",
    "                   io=UnlabeledPointCloudIO,\n",
    "                   preload=PreloadTypes.LAZY,\n",
    "                   labels='*')\n",
    "\n",
    "\n",
    "n_points = np.concatenate([patch['indexes_in_whole'] for patch in ground_truth]).max() + 1\n",
    "whole_model_points_gt = np.zeros((n_points, 3))\n",
    "whole_model_distances_gt = np.ones(n_points) * np.inf\n",
    "\n",
    "for patch in tqdm(ground_truth):\n",
    "    distances = patch['distances']\n",
    "    indexes = patch['indexes_in_whole']\n",
    "    whole_model_points_gt[indexes] = patch['points'].reshape((-1, 3))\n",
    "\n",
    "    assign_mask = whole_model_distances_gt[indexes] > distances\n",
    "    whole_model_distances_gt[indexes[assign_mask]] = np.minimum(distances[assign_mask], 1.0)\n",
    "\n",
    "\n",
    "    \n",
    "display_sharpness(samples=whole_model_points_gt, samples_psize=0.1, samples_color='z')"
   ]
  },
  {
   "cell_type": "code",
   "execution_count": null,
   "metadata": {},
   "outputs": [],
   "source": []
  },
  {
   "cell_type": "code",
   "execution_count": 12,
   "metadata": {},
   "outputs": [],
   "source": [
    "def display_depth_sharpness(\n",
    "    depth_images=None,\n",
    "    sharpness_images=None,\n",
    "    axes_size=(8, 8),\n",
    "    ncols=1,\n",
    "    dpi=72,\n",
    "):\n",
    "    import matplotlib.cm\n",
    "    import matplotlib.pyplot as plt\n",
    "\n",
    "    def fix_chw_array(image_array):\n",
    "        if None is not image_array:\n",
    "            image_array = np.asanyarray(image_array).copy()\n",
    "            assert len(image_array.shape) in [2, 3], \"Don't understand the datatype with shape {}\".format(\n",
    "                image_array.shape)\n",
    "            if len(image_array.shape) == 2:\n",
    "                image_array = image_array[np.newaxis, ...]\n",
    "        return image_array\n",
    "\n",
    "    depth_images = fix_chw_array(depth_images)\n",
    "    sharpness_images = fix_chw_array(sharpness_images)\n",
    "\n",
    "    if None is not depth_images and None is not sharpness_images:\n",
    "        assert len(depth_images) == len(sharpness_images), 'depth and sharpness images dont coincide by length'\n",
    "        n_images = len(depth_images)\n",
    "        ncols, nrows, series = 2 * ncols, n_images // ncols, 2\n",
    "\n",
    "        axes_size = axes_size[0] * ncols, axes_size[1] * nrows\n",
    "        _, axs = plt.subplots(figsize=axes_size, nrows=nrows, ncols=ncols)\n",
    "\n",
    "    elif None is not depth_images:\n",
    "        n_images = len(depth_images)\n",
    "        ncols, nrows, series = ncols, n_images // ncols, 1\n",
    "\n",
    "        _, axs = plt.subplots(\n",
    "            figsize=(axes_size[0] / dpi, axes_size[1] / dpi),\n",
    "            nrows=nrows, ncols=ncols,\n",
    "            dpi=dpi)\n",
    "\n",
    "    elif None is not sharpness_images:\n",
    "        n_images = len(sharpness_images)\n",
    "        ncols, nrows, series = ncols, n_images // ncols, 1\n",
    "\n",
    "        _, axs = plt.subplots(figsize=axes_size, nrows=nrows, ncols=ncols)\n",
    "\n",
    "    else:\n",
    "        raise ValueError('at least one of \"depth_images\" or \"sharpness_images\" must be specified')\n",
    "\n",
    "    if nrows == 1:\n",
    "        axs = [[axs]] if ncols == 1 else [axs]\n",
    "\n",
    "    if None is not depth_images:\n",
    "        depth_cmap = matplotlib.cm.get_cmap('viridis')\n",
    "        depth_cmap.set_bad(color='black')\n",
    "\n",
    "        for row in range(nrows):\n",
    "            for col in range(0, ncols, series):\n",
    "                depth_idx = (row * ncols + col) // series\n",
    "                depth_ax = axs[row][col]\n",
    "\n",
    "                depth_image = depth_images[depth_idx].copy()\n",
    "                background_idx = depth_image == 0\n",
    "                depth_image[background_idx] = np.nan\n",
    "\n",
    "                depth_ax.imshow(depth_image, interpolation='nearest', cmap=depth_cmap)\n",
    "                depth_ax.axis('off')\n",
    "\n",
    "    if None is not sharpness_images:\n",
    "        sharpness_cmap = matplotlib.cm.get_cmap('coolwarm_r')\n",
    "        sharpness_cmap.set_bad(color='black')\n",
    "\n",
    "        for row in range(nrows):\n",
    "            for col in range(0, ncols, series):\n",
    "                sharpness_idx = (row * ncols + col) // series\n",
    "                sharpness_ax = axs[row][col + 1] if series == 2 else axs[row][col]\n",
    "\n",
    "                sharpness_image = sharpness_images[sharpness_idx].copy()\n",
    "                background_idx = sharpness_image == 0\n",
    "                sharpness_image[background_idx] = np.nan\n",
    "\n",
    "                tol = 1e-3\n",
    "                sharpness_ax.imshow(sharpness_image, interpolation='nearest', cmap=sharpness_cmap,\n",
    "                                    vmin=-tol, vmax=0.5 + tol)\n",
    "                sharpness_ax.axis('off')\n",
    "\n",
    "    plt.tight_layout(pad=0, h_pad=0.25, w_pad=0.25)\n"
   ]
  },
  {
   "cell_type": "code",
   "execution_count": 13,
   "metadata": {},
   "outputs": [],
   "source": [
    "import trimesh"
   ]
  },
  {
   "cell_type": "code",
   "execution_count": 114,
   "metadata": {},
   "outputs": [],
   "source": [
    "scan = trimesh.load('/data/abc/sharp_features_whole_models/20201113_castle_45/20201113_castle_45 0.ply')"
   ]
  },
  {
   "cell_type": "code",
   "execution_count": 46,
   "metadata": {},
   "outputs": [
    {
     "data": {
      "text/plain": [
       "TrackedArray([77.41112328, 70.11870193, 91.43399811])"
      ]
     },
     "execution_count": 46,
     "metadata": {},
     "output_type": "execute_result"
    }
   ],
   "source": [
    "scan.vertices.max(axis=0) - scan.vertices.min(axis=0)"
   ]
  },
  {
   "cell_type": "code",
   "execution_count": 1212,
   "metadata": {},
   "outputs": [],
   "source": [
    "M = np.loadtxt('/data/abc/sharp_features_whole_models/20201113_castle_45/scan_res_0036/vertex_matrix.txt')"
   ]
  },
  {
   "cell_type": "code",
   "execution_count": 1103,
   "metadata": {},
   "outputs": [
    {
     "data": {
      "text/plain": [
       "[[0.725622, -0.687009, -0.0386136, 0.0],\n",
       " [0.676218, 0.701596, 0.224705, 0.0],\n",
       " [-0.127283, -0.189162, 0.973661, 0.0],\n",
       " [0.0, 0.0, 0.0, 1.0]]"
      ]
     },
     "execution_count": 1103,
     "metadata": {},
     "output_type": "execute_result"
    }
   ],
   "source": [
    "M.tolist()"
   ]
  },
  {
   "cell_type": "code",
   "execution_count": 96,
   "metadata": {},
   "outputs": [
    {
     "data": {
      "text/plain": [
       "['CImgGeom',\n",
       " 'CProjCentr',\n",
       " 'f',\n",
       " '12.5',\n",
       " 'fnom',\n",
       " '25',\n",
       " 'alf,om,kap',\n",
       " '0.279565 0.108026 -0.0677464',\n",
       " 'X0',\n",
       " '-120.33 -87.2555 456.92',\n",
       " 'CParamDig1i',\n",
       " 'm',\n",
       " '0.00319817 0.00319801',\n",
       " 'b',\n",
       " '1101.91 1018.32',\n",
       " 'adp',\n",
       " '-1.0912e-05 0.000401048 -1.70564e-05',\n",
       " '1.81835e-07 5.46208e-05 -4.92555e-05']"
      ]
     },
     "execution_count": 96,
     "metadata": {},
     "output_type": "execute_result"
    }
   ],
   "source": [
    "with open('/data/abc/sharp_features_whole_models/20201113_castle_45/scan_res_0036/Raw/impara01.txt') as f:\n",
    "    impara01 = f.read().strip().split('\\n')\n",
    "impara01"
   ]
  },
  {
   "cell_type": "code",
   "execution_count": 134,
   "metadata": {},
   "outputs": [],
   "source": [
    "params_by_name = read_calibration_params('/data/abc/sharp_features_whole_models/20201113_castle_45/scan_res_0036/Raw/impara01.txt')\n"
   ]
  },
  {
   "cell_type": "code",
   "execution_count": 135,
   "metadata": {},
   "outputs": [],
   "source": [
    "angles = params_by_name['alf,om,kap']\n",
    "X0 = params_by_name['X0']\n",
    "f = params_by_name['f']\n",
    "s_x, s_y = params_by_name['m'] * 1e3\n",
    "o_x, o_y = params_by_name['b']"
   ]
  },
  {
   "cell_type": "code",
   "execution_count": 1163,
   "metadata": {},
   "outputs": [],
   "source": [
    "angles_a = np.array([0.15291, 0.133293, 0.028952])\n",
    "angles_b = np.array([-0.136839, 0.101843, 0.0673695])\n",
    "X0_a = np.array([-63.267, -94.0244, 483.965])\n",
    "X0_b = np.array([73.6741, -88.2884, 483.547])\n",
    "f = 12.5\n",
    "s_x_a, s_y_a = 0.00319817 * 1e3, 0.00319801 * 1e3\n",
    "s_x_b, s_y_b = 0.00319268 * 1e3, 0.00319314 * 1e3\n",
    "o_x_a, o_y_a = 1101.91, 1018.32\n",
    "o_x_b, o_y_b = 1078.9, 1079.47"
   ]
  },
  {
   "cell_type": "code",
   "execution_count": 1281,
   "metadata": {},
   "outputs": [
    {
     "data": {
      "application/vnd.jupyter.widget-view+json": {
       "model_id": "cfb2144ba7e74f67a2eec1bcc6741b73",
       "version_major": 2,
       "version_minor": 0
      },
      "text/plain": [
       "Output()"
      ]
     },
     "metadata": {},
     "output_type": "display_data"
    }
   ],
   "source": [
    "display_sharpness(\n",
    "    None,\n",
    "    samples=scan.vertices,\n",
    "    samples_color='z',\n",
    "    samples_psize=0.05,\n",
    "    sharp_vert=[X0_a, X0_b, [0,0,0]],\n",
    "    sharpvert_psize=10.0\n",
    ")"
   ]
  },
  {
   "cell_type": "code",
   "execution_count": 876,
   "metadata": {},
   "outputs": [],
   "source": []
  },
  {
   "cell_type": "code",
   "execution_count": 50,
   "metadata": {},
   "outputs": [],
   "source": [
    "from collections import defaultdict\n",
    "from io import StringIO\n",
    "\n",
    "def read_calibration_params(filename):\n",
    "    PARAM_NAMES = ['CImgGeom',\n",
    "        'CProjCentr',\n",
    "        'f',\n",
    "        'fnom',\n",
    "        'alf,om,kap',\n",
    "        'X0',\n",
    "        'CParamDig1i',\n",
    "        'm',\n",
    "        'b',\n",
    "        'adp']\n",
    "    params_by_name = defaultdict(list)\n",
    "    with open(filename) as f:\n",
    "        for line in f:\n",
    "            s = line.strip()\n",
    "            if s in PARAM_NAMES:\n",
    "                key_to_set = s\n",
    "            else:\n",
    "                if None is not key_to_set:\n",
    "                    params_by_name.setdefault(key_to_set, list())\n",
    "                    params_by_name[key_to_set].append(s)\n",
    "\n",
    "    params_by_name = {\n",
    "        name: np.loadtxt(\n",
    "            StringIO(' '.join(values)))\n",
    "        for name, values in params_by_name.items()\n",
    "    }\n",
    "    \n",
    "    params_by_name = {\n",
    "        name: values if len(values.shape) > 0 else float(values)\n",
    "        for name, values in params_by_name.items()\n",
    "    }\n",
    "    return params_by_name"
   ]
  },
  {
   "cell_type": "code",
   "execution_count": 104,
   "metadata": {},
   "outputs": [],
   "source": [
    "def get_camera_intrinsic_f(f):\n",
    "    return np.array([\n",
    "        [f, 0, 0],\n",
    "        [0, f, 0],\n",
    "        [0, 0, 1],\n",
    "    ])\n",
    "\n",
    "\n",
    "def get_camera_intrinsic_s(s_x, s_y, o_x, o_y):\n",
    "    return np.array([\n",
    "        [1. / s_x, 0, o_x],\n",
    "        [0, 1. / s_y, o_y],\n",
    "        [0, 0, 1]\n",
    "    ])\n",
    "\n",
    "\n",
    "def get_camera_extrinsic(angles, translation):\n",
    "    return CameraPose.from_camera_axes(\n",
    "        R=tt.euler_matrix(*angles, axes='sxyz')[:3, :3],\n",
    "        t=translation\n",
    "    )"
   ]
  },
  {
   "cell_type": "code",
   "execution_count": 105,
   "metadata": {},
   "outputs": [],
   "source": [
    "from typing import Tuple\n",
    "\n",
    "\n",
    "def project_to_camera(\n",
    "    points,\n",
    "    pose: CameraPose,\n",
    "    Kf: np.array,\n",
    "    Ks: np.array,\n",
    "    image_size: Tuple[int, int],\n",
    "):\n",
    "    X_world = points\n",
    "    \n",
    "    # transform to camera frame\n",
    "    X_camera = pose.world_to_camera(X_world)\n",
    "    \n",
    "    # project using perspective projection\n",
    "    x_image = np.dot(Kf, X_camera.T).T\n",
    "    \n",
    "    # separate XY (image coordinates) and Z\n",
    "    x_image_saved = x_image.copy()\n",
    "    depth = x_image[:, 2].copy()\n",
    "    x_image[:, 2] = 1.\n",
    "    \n",
    "    # obtain XY in pixel coordinates\n",
    "    x_pixel = np.dot(Ks, x_image.T).T\n",
    "    x_pixel = np.round(x_pixel).astype(np.int32)\n",
    "    \n",
    "    # construct image\n",
    "    image_offset = np.min(x_pixel, axis=0)[:2]\n",
    "    image_size = np.max(x_pixel, axis=0) - np.min(x_pixel, axis=0) + 1\n",
    "    print('Overwriting image_size with ', (image_size[1], image_size[0]))\n",
    "    \n",
    "    image = np.zeros((image_size[1], image_size[0]))\n",
    "    image[\n",
    "        x_pixel[:, 1] - image_offset[1], \n",
    "        x_pixel[:, 0] - image_offset[0]] = depth\n",
    "\n",
    "    # image = np.zeros((image_size[1] + 1, image_size[0] + 1))\n",
    "    # image[x_pixel[:, 1], x_pixel[:, 0]] = depth\n",
    "\n",
    "    return X_camera, x_pixel, x_image_saved, image, (image_offset[0], image_offset[1]), "
   ]
  },
  {
   "cell_type": "code",
   "execution_count": 106,
   "metadata": {},
   "outputs": [],
   "source": [
    "def pad_to_size(image, target_size=(512, 512), pad_value=1.0):\n",
    "    image = np.atleast_3d(image)\n",
    "    h, w, c = image.shape\n",
    "\n",
    "    # create new image of desired size and color (blue) for padding\n",
    "    ww, hh = target_size\n",
    "    padded = np.full((hh, ww, c), pad_value, dtype=np.float)\n",
    "\n",
    "    # compute center offset\n",
    "    xx = (ww - w) // 2\n",
    "    yy = (hh - h) // 2\n",
    "\n",
    "    # copy img image into center of result image\n",
    "    padded[yy:yy + h, xx:xx + w] = image\n",
    "\n",
    "    return padded.squeeze()"
   ]
  },
  {
   "cell_type": "code",
   "execution_count": null,
   "metadata": {},
   "outputs": [],
   "source": []
  },
  {
   "cell_type": "code",
   "execution_count": 136,
   "metadata": {},
   "outputs": [],
   "source": [
    "pose = get_camera_extrinsic(angles, X0)\n",
    "\n",
    "Kf = get_camera_intrinsic_f(f)\n",
    "\n",
    "Ks = get_camera_intrinsic_s(s_x, s_y, o_x, o_y)"
   ]
  },
  {
   "cell_type": "code",
   "execution_count": 57,
   "metadata": {},
   "outputs": [
    {
     "name": "stdout",
     "output_type": "stream",
     "text": [
      "Overwriting image_size with  (275, 316)\n"
     ]
    }
   ],
   "source": [
    "X_camera, x_pixel, x_image, image, image_offset = project_to_camera(\n",
    "    scan.vertices,\n",
    "    pose, \n",
    "    Kf,\n",
    "    Ks,\n",
    "    image_size=(2048, 1536)\n",
    ")"
   ]
  },
  {
   "cell_type": "code",
   "execution_count": 58,
   "metadata": {},
   "outputs": [
    {
     "name": "stderr",
     "output_type": "stream",
     "text": [
      "/home/user/miniconda/envs/py36/lib/python3.6/site-packages/ipykernel_launcher.py:54: MatplotlibDeprecationWarning: You are modifying the state of a globally registered colormap. In future versions, you will not be able to modify a registered colormap in-place. To remove this warning, you can make a copy of the colormap first. cmap = copy.copy(mpl.cm.get_cmap(\"viridis\"))\n"
     ]
    },
    {
     "data": {
      "image/png": "[encoded data removed]",
      "text/plain": [
       "<Figure size 512x512 with 1 Axes>"
      ]
     },
     "metadata": {
      "needs_background": "light"
     },
     "output_type": "display_data"
    }
   ],
   "source": [
    "padded = pad_to_size(image, target_size=(512, 512), pad_value=0.)\n",
    "display_depth_sharpness(\n",
    "    [padded[::-1]],\n",
    "    axes_size=(padded.shape[1], padded.shape[0]),\n",
    "    dpi=100\n",
    ")\n",
    "plt.savefig('a.png', dpi=100)"
   ]
  },
  {
   "cell_type": "code",
   "execution_count": 37,
   "metadata": {},
   "outputs": [
    {
     "ename": "NameError",
     "evalue": "name 'image' is not defined",
     "output_type": "error",
     "traceback": [
      "\u001b[0;31m---------------------------------------------------------------------------\u001b[0m",
      "\u001b[0;31mNameError\u001b[0m                                 Traceback (most recent call last)",
      "\u001b[0;32m<ipython-input-37-b884edee75ad>\u001b[0m in \u001b[0;36m<module>\u001b[0;34m\u001b[0m\n\u001b[1;32m      1\u001b[0m display_depth_sharpness(\n\u001b[0;32m----> 2\u001b[0;31m     \u001b[0;34m[\u001b[0m\u001b[0mimage\u001b[0m\u001b[0;34m[\u001b[0m\u001b[0;34m:\u001b[0m\u001b[0;34m:\u001b[0m\u001b[0;34m-\u001b[0m\u001b[0;36m1\u001b[0m\u001b[0;34m]\u001b[0m\u001b[0;34m]\u001b[0m\u001b[0;34m,\u001b[0m\u001b[0;34m\u001b[0m\u001b[0m\n\u001b[0m\u001b[1;32m      3\u001b[0m     \u001b[0maxes_size\u001b[0m\u001b[0;34m=\u001b[0m\u001b[0;34m(\u001b[0m\u001b[0mimage\u001b[0m\u001b[0;34m.\u001b[0m\u001b[0mshape\u001b[0m\u001b[0;34m[\u001b[0m\u001b[0;36m1\u001b[0m\u001b[0;34m]\u001b[0m\u001b[0;34m,\u001b[0m \u001b[0mimage\u001b[0m\u001b[0;34m.\u001b[0m\u001b[0mshape\u001b[0m\u001b[0;34m[\u001b[0m\u001b[0;36m0\u001b[0m\u001b[0;34m]\u001b[0m\u001b[0;34m)\u001b[0m\u001b[0;34m,\u001b[0m\u001b[0;34m\u001b[0m\u001b[0m\n\u001b[1;32m      4\u001b[0m     \u001b[0mdpi\u001b[0m\u001b[0;34m=\u001b[0m\u001b[0;36m100\u001b[0m\u001b[0;34m\u001b[0m\u001b[0m\n\u001b[1;32m      5\u001b[0m )\n",
      "\u001b[0;31mNameError\u001b[0m: name 'image' is not defined"
     ]
    }
   ],
   "source": [
    "display_depth_sharpness(\n",
    "    [image[::-1]],\n",
    "    axes_size=(image.shape[1], image.shape[0]),\n",
    "    dpi=100\n",
    ")\n",
    "plt.savefig('b.png', dpi=100)"
   ]
  },
  {
   "cell_type": "code",
   "execution_count": 18,
   "metadata": {},
   "outputs": [],
   "source": [
    "def reproject_image_to_points(\n",
    "    image,\n",
    "    pose: CameraPose,\n",
    "    Kf: np.array,\n",
    "    Ks: np.array,\n",
    "    image_offset: Tuple[int, int],\n",
    "):\n",
    "    image_size = (\n",
    "        image.shape[1] + image_offset[0], \n",
    "        image.shape[0] + image_offset[1])\n",
    "\n",
    "#     x_mm = np.linspace(0, 2048 / s_x, 2048)\n",
    "#     y_mm = np.linspace(0, 1536 / s_y, 1536)\n",
    "    i = np.arange(image_offset[0], image_offset[0] + image.shape[1])\n",
    "    j = np.arange(image_offset[1], image_offset[1] + image.shape[0])\n",
    "    i, j = np.meshgrid(i, j)\n",
    "    \n",
    "    x_pixel = np.stack((i, j, np.ones_like(i))) #.reshape((3, -1)).T\n",
    "    x_pixel = x_pixel[:, image != 0].T\n",
    "    \n",
    "    x_image = np.dot(\n",
    "        np.linalg.inv(Ks),\n",
    "        x_pixel.T).T\n",
    "    x_image[:, 2] = image[image != 0].ravel()\n",
    "\n",
    "    X_camera = np.dot(\n",
    "        np.linalg.inv(Kf),\n",
    "        x_image.T).T\n",
    "    \n",
    "    X = pose.camera_to_world(X_camera)\n",
    "    \n",
    "    return x_pixel, x_image, X_camera, X"
   ]
  },
  {
   "cell_type": "code",
   "execution_count": 1201,
   "metadata": {},
   "outputs": [],
   "source": [
    "x_pixel_re, x_image_re, X_camera_re, X_re = reproject_image_to_points(image, pose, Kf, Ks, image_offset)"
   ]
  },
  {
   "cell_type": "code",
   "execution_count": 1202,
   "metadata": {},
   "outputs": [
    {
     "name": "stderr",
     "output_type": "stream",
     "text": [
      "/home/user/miniconda/envs/py36/lib/python3.6/site-packages/traittypes/traittypes.py:101: UserWarning: Given trait value dtype \"float64\" does not match required type \"float32\". A coerced copy has been created.\n",
      "  np.dtype(self.dtype).name))\n"
     ]
    },
    {
     "data": {
      "application/vnd.jupyter.widget-view+json": {
       "model_id": "1bc3b153507b4ff19403357dbdae74f6",
       "version_major": 2,
       "version_minor": 0
      },
      "text/plain": [
       "Output()"
      ]
     },
     "metadata": {},
     "output_type": "display_data"
    }
   ],
   "source": [
    "display_sharpness(\n",
    "    samples=X_camera_re, samples_color='z', samples_psize=0.5,\n",
    "    sharp_vert=X_camera, sharpvert_color=0xcccccc, sharpvert_psize=0.5,\n",
    ")"
   ]
  },
  {
   "cell_type": "code",
   "execution_count": 166,
   "metadata": {},
   "outputs": [],
   "source": [
    "from functools import partial\n",
    "import h5py\n",
    "import sharpf.utils.abc_utils.hdf5.io_struct as io\n",
    "\n",
    "\n",
    "UnlabeledSLDepthMapIO = io.HDF5IO({\n",
    "        'image': io.Float64('image'),\n",
    "        'image_offset': io.Float64('image_offset'),\n",
    "        'item_id': io.AsciiString('item_id'),\n",
    "        'camera_extrinsics': io.Float64('camera_extrinsics'),\n",
    "        'camera_intrinsics_f': io.Float64('camera_intrinsics_f'),\n",
    "        'camera_intrinsics_s': io.Float64('camera_intrinsics_s'),\n",
    "    },\n",
    "    len_label='has_sharp',\n",
    "    compression='lzf')\n",
    "\n",
    "\n",
    "def save_depth_maps(patches, filename):\n",
    "    # turn a list of dicts into a dict of torch tensors:\n",
    "    # default_collate([{'a': 'str1', 'x': np.random.normal()}, {'a': 'str2', 'x': np.random.normal()}])\n",
    "    # Out[26]: {'a': ['str1', 'str2'], 'x': tensor([0.4252, 0.1414], dtype=torch.float64)}\n",
    "    collate_fn = partial(io.collate_mapping_with_io, io=UnlabeledSLDepthMapIO)\n",
    "    patches = collate_fn(patches)\n",
    "\n",
    "    with h5py.File(filename, 'w') as f:\n",
    "        UnlabeledSLDepthMapIO.write(f, 'image', patches['image'].numpy())\n",
    "        UnlabeledSLDepthMapIO.write(f, 'image_offset', patches['image_offset'].numpy())\n",
    "        UnlabeledSLDepthMapIO.write(f, 'item_id', patches['item_id'])\n",
    "        UnlabeledSLDepthMapIO.write(f, 'camera_extrinsics', patches['camera_extrinsics'].numpy())\n",
    "        UnlabeledSLDepthMapIO.write(f, 'camera_intrinsics_f', patches['camera_intrinsics_f'].numpy())\n",
    "        UnlabeledSLDepthMapIO.write(f, 'camera_intrinsics_s', patches['camera_intrinsics_s'].numpy())        \n",
    "\n",
    "\n",
    "        \n",
    "def rangevision_project_to_hdf5(\n",
    "    input_dir: str,\n",
    "    output_filename: str,\n",
    "    camera='a',\n",
    "    target_size=(512, 512)\n",
    "):\n",
    "    scans = sorted(glob(os.path.join(input_dir, 'scan_res_*')))\n",
    "    ply_files = sorted(glob(os.path.join(input_dir, '*.ply')))\n",
    "    \n",
    "    patches = []\n",
    "    for scan_dir, ply_file in tqdm(zip(scans, ply_files)):\n",
    "        print(scan_dir)\n",
    "        \n",
    "        scan = trimesh.load(ply_file)\n",
    "        \n",
    "        params_by_name = read_calibration_params(\n",
    "            os.path.join(scan_dir, 'Raw/impar{}01.txt'.format(camera)))\n",
    "\n",
    "        angles = params_by_name['alf,om,kap']\n",
    "        X0 = params_by_name['X0']\n",
    "        f = params_by_name['f']\n",
    "        s_x, s_y = params_by_name['m'] * 1e3\n",
    "        o_x, o_y = params_by_name['b']\n",
    "\n",
    "        pose = get_camera_extrinsic(angles, X0)\n",
    "        Kf = get_camera_intrinsic_f(f)\n",
    "        Ks = get_camera_intrinsic_s(s_x, s_y, o_x, o_y)\n",
    "\n",
    "        X_camera, x_pixel, x_image, image, image_offset = project_to_camera(\n",
    "            scan.vertices,\n",
    "            pose, \n",
    "            Kf,\n",
    "            Ks,\n",
    "            image_size=(2048, 1536))\n",
    "        padded = pad_to_size(image, target_size=target_size, pad_value=0.)\n",
    "        \n",
    "        patches.append({\n",
    "            'image': padded,\n",
    "            'image_offset': np.array(image_offset),\n",
    "            'item_id': '__'.join([\n",
    "                os.path.basename(input_dir),\n",
    "                os.path.basename(scan_dir),\n",
    "                os.path.basename(ply_file)]),\n",
    "            'camera_extrinsics': pose.camera_to_world_4x4,\n",
    "            'camera_intrinsics_f': Kf,\n",
    "            'camera_intrinsics_s': Ks,\n",
    "        })\n",
    "        \n",
    "    save_depth_maps(patches, output_filename)\n",
    "    return patches\n"
   ]
  },
  {
   "cell_type": "code",
   "execution_count": 171,
   "metadata": {},
   "outputs": [
    {
     "name": "stderr",
     "output_type": "stream",
     "text": [
      "\r",
      "0it [00:00, ?it/s]"
     ]
    },
    {
     "name": "stdout",
     "output_type": "stream",
     "text": [
      "/data/abc/sharp_features_whole_models/20201112_40cm_hook/scan_res_0024\n"
     ]
    },
    {
     "name": "stderr",
     "output_type": "stream",
     "text": [
      "\r",
      "1it [00:00,  1.12it/s]"
     ]
    },
    {
     "name": "stdout",
     "output_type": "stream",
     "text": [
      "Overwriting image_size with  (214, 234)\n",
      "/data/abc/sharp_features_whole_models/20201112_40cm_hook/scan_res_0025\n"
     ]
    },
    {
     "name": "stderr",
     "output_type": "stream",
     "text": [
      "\r",
      "2it [00:01,  1.10it/s]"
     ]
    },
    {
     "name": "stdout",
     "output_type": "stream",
     "text": [
      "Overwriting image_size with  (215, 201)\n",
      "/data/abc/sharp_features_whole_models/20201112_40cm_hook/scan_res_0026\n"
     ]
    },
    {
     "name": "stderr",
     "output_type": "stream",
     "text": [
      "\r",
      "3it [00:03,  1.06s/it]"
     ]
    },
    {
     "name": "stdout",
     "output_type": "stream",
     "text": [
      "Overwriting image_size with  (299, 196)\n",
      "/data/abc/sharp_features_whole_models/20201112_40cm_hook/scan_res_0027\n"
     ]
    },
    {
     "name": "stderr",
     "output_type": "stream",
     "text": [
      "\r",
      "4it [00:04,  1.13s/it]"
     ]
    },
    {
     "name": "stdout",
     "output_type": "stream",
     "text": [
      "Overwriting image_size with  (241, 211)\n",
      "/data/abc/sharp_features_whole_models/20201112_40cm_hook/scan_res_0028\n"
     ]
    },
    {
     "name": "stderr",
     "output_type": "stream",
     "text": [
      "\r",
      "5it [00:05,  1.22s/it]"
     ]
    },
    {
     "name": "stdout",
     "output_type": "stream",
     "text": [
      "Overwriting image_size with  (187, 275)\n",
      "/data/abc/sharp_features_whole_models/20201112_40cm_hook/scan_res_0029\n"
     ]
    },
    {
     "name": "stderr",
     "output_type": "stream",
     "text": [
      "\r",
      "6it [00:07,  1.30s/it]"
     ]
    },
    {
     "name": "stdout",
     "output_type": "stream",
     "text": [
      "Overwriting image_size with  (179, 316)\n",
      "/data/abc/sharp_features_whole_models/20201112_40cm_hook/scan_res_0030\n"
     ]
    },
    {
     "name": "stderr",
     "output_type": "stream",
     "text": [
      "\r",
      "7it [00:09,  1.39s/it]"
     ]
    },
    {
     "name": "stdout",
     "output_type": "stream",
     "text": [
      "Overwriting image_size with  (220, 307)\n",
      "/data/abc/sharp_features_whole_models/20201112_40cm_hook/scan_res_0031\n"
     ]
    },
    {
     "name": "stderr",
     "output_type": "stream",
     "text": [
      "\r",
      "8it [00:10,  1.49s/it]"
     ]
    },
    {
     "name": "stdout",
     "output_type": "stream",
     "text": [
      "Overwriting image_size with  (213, 318)\n",
      "/data/abc/sharp_features_whole_models/20201112_40cm_hook/scan_res_0032\n"
     ]
    },
    {
     "name": "stderr",
     "output_type": "stream",
     "text": [
      "\r",
      "9it [00:12,  1.48s/it]"
     ]
    },
    {
     "name": "stdout",
     "output_type": "stream",
     "text": [
      "Overwriting image_size with  (255, 294)\n",
      "/data/abc/sharp_features_whole_models/20201112_40cm_hook/scan_res_0033\n"
     ]
    },
    {
     "name": "stderr",
     "output_type": "stream",
     "text": [
      "\r",
      "10it [00:13,  1.47s/it]"
     ]
    },
    {
     "name": "stdout",
     "output_type": "stream",
     "text": [
      "Overwriting image_size with  (305, 223)\n",
      "/data/abc/sharp_features_whole_models/20201112_40cm_hook/scan_res_0034\n"
     ]
    },
    {
     "name": "stderr",
     "output_type": "stream",
     "text": [
      "\r",
      "11it [00:15,  1.55s/it]"
     ]
    },
    {
     "name": "stdout",
     "output_type": "stream",
     "text": [
      "Overwriting image_size with  (308, 232)\n",
      "/data/abc/sharp_features_whole_models/20201112_40cm_hook/scan_res_0035\n"
     ]
    },
    {
     "name": "stderr",
     "output_type": "stream",
     "text": [
      "12it [00:16,  1.41s/it]"
     ]
    },
    {
     "name": "stdout",
     "output_type": "stream",
     "text": [
      "Overwriting image_size with  (312, 217)\n"
     ]
    },
    {
     "name": "stderr",
     "output_type": "stream",
     "text": [
      "\n"
     ]
    }
   ],
   "source": [
    "patches = rangevision_project_to_hdf5(\n",
    "    '/data/abc/sharp_features_whole_models/20201112_40cm_hook/',\n",
    "    '/data/abc/sharp_features_whole_models/20201112_40cm_hook/20201112_40cm_hook.hdf5',\n",
    ")"
   ]
  },
  {
   "cell_type": "code",
   "execution_count": 144,
   "metadata": {},
   "outputs": [],
   "source": [
    "images = [image for image in images]"
   ]
  },
  {
   "cell_type": "code",
   "execution_count": 145,
   "metadata": {},
   "outputs": [],
   "source": [
    "images_display = [pad_to_size(image, target_size=(512, 512), pad_value=0.) for image in images]"
   ]
  },
  {
   "cell_type": "code",
   "execution_count": 146,
   "metadata": {},
   "outputs": [],
   "source": [
    "yy, xx = np.where(images_display[0])"
   ]
  },
  {
   "cell_type": "code",
   "execution_count": 147,
   "metadata": {},
   "outputs": [],
   "source": [
    "# X_camera, x_pixel, x_image, image, image_offset = project_to_camera(\n",
    "#     scan.vertices,\n",
    "#     pose, \n",
    "#     Kf,\n",
    "#     Ks,\n",
    "#     image_size=(2048, 1536))"
   ]
  },
  {
   "cell_type": "code",
   "execution_count": 149,
   "metadata": {},
   "outputs": [
    {
     "name": "stderr",
     "output_type": "stream",
     "text": [
      "/home/user/miniconda/envs/py36/lib/python3.6/site-packages/ipykernel_launcher.py:54: MatplotlibDeprecationWarning: You are modifying the state of a globally registered colormap. In future versions, you will not be able to modify a registered colormap in-place. To remove this warning, you can make a copy of the colormap first. cmap = copy.copy(mpl.cm.get_cmap(\"viridis\"))\n"
     ]
    },
    {
     "data": {
      "image/png": "[encoded data removed]",
      "text/plain": [
       "<Figure size 160x160 with 1 Axes>"
      ]
     },
     "metadata": {
      "needs_background": "light"
     },
     "output_type": "display_data"
    }
   ],
   "source": [
    "display_depth_sharpness(\n",
    "    [images_display[0]],\n",
    "    axes_size=(160, 160),\n",
    "    ncols=1,\n",
    "    dpi=100\n",
    ")"
   ]
  },
  {
   "cell_type": "code",
   "execution_count": 150,
   "metadata": {},
   "outputs": [],
   "source": [
    "images_display[0][np.min(yy):-np.min(yy), np.min(xx):-np.min(xx)]\n",
    "x_pixel_re, x_image_re, X_camera_re, X_re = reproject_image_to_points(\n",
    "    images[0],\n",
    "    pose,\n",
    "    Kf, \n",
    "    Ks,\n",
    "    image_offsets[0]\n",
    ")"
   ]
  },
  {
   "cell_type": "code",
   "execution_count": 151,
   "metadata": {},
   "outputs": [
    {
     "data": {
      "application/vnd.jupyter.widget-view+json": {
       "model_id": "ecedf33427804e05badc0736c7d8b214",
       "version_major": 2,
       "version_minor": 0
      },
      "text/plain": [
       "Output()"
      ]
     },
     "metadata": {},
     "output_type": "display_data"
    }
   ],
   "source": [
    "display_sharpness(\n",
    "    samples=scan.vertices,\n",
    "    samples_color='z',\n",
    "    samples_psize=0.1,\n",
    "    sharp_vert=X_re,\n",
    "    sharpvert_color=0xcccccc,\n",
    "    sharpvert_psize=0.1\n",
    ")"
   ]
  },
  {
   "cell_type": "code",
   "execution_count": null,
   "metadata": {},
   "outputs": [],
   "source": []
  },
  {
   "cell_type": "code",
   "execution_count": null,
   "metadata": {},
   "outputs": [],
   "source": []
  },
  {
   "cell_type": "code",
   "execution_count": null,
   "metadata": {},
   "outputs": [],
   "source": []
  },
  {
   "cell_type": "code",
   "execution_count": 127,
   "metadata": {},
   "outputs": [
    {
     "name": "stderr",
     "output_type": "stream",
     "text": [
      "/home/user/miniconda/envs/py36/lib/python3.6/site-packages/ipykernel_launcher.py:54: MatplotlibDeprecationWarning: You are modifying the state of a globally registered colormap. In future versions, you will not be able to modify a registered colormap in-place. To remove this warning, you can make a copy of the colormap first. cmap = copy.copy(mpl.cm.get_cmap(\"viridis\"))\n"
     ]
    },
    {
     "data": {
      "image/png": "[encoded data removed]",
      "text/plain": [
       "<Figure size 160x160 with 1 Axes>"
      ]
     },
     "metadata": {
      "needs_background": "light"
     },
     "output_type": "display_data"
    }
   ],
   "source": [
    "display_depth_sharpness(\n",
    "    [images_display[0][np.min(yy):-np.min(yy), np.min(xx):-np.min(xx)]],\n",
    "    axes_size=(160, 160),\n",
    "    ncols=1,\n",
    "    dpi=100\n",
    ")"
   ]
  },
  {
   "cell_type": "code",
   "execution_count": 128,
   "metadata": {},
   "outputs": [
    {
     "name": "stderr",
     "output_type": "stream",
     "text": [
      "/home/user/miniconda/envs/py36/lib/python3.6/site-packages/ipykernel_launcher.py:54: MatplotlibDeprecationWarning: You are modifying the state of a globally registered colormap. In future versions, you will not be able to modify a registered colormap in-place. To remove this warning, you can make a copy of the colormap first. cmap = copy.copy(mpl.cm.get_cmap(\"viridis\"))\n"
     ]
    },
    {
     "data": {
      "image/png": "[encoded data removed]",
      "text/plain": [
       "<Figure size 160x160 with 1 Axes>"
      ]
     },
     "metadata": {
      "needs_background": "light"
     },
     "output_type": "display_data"
    }
   ],
   "source": [
    "display_depth_sharpness(\n",
    "    [images[0]],\n",
    "    axes_size=(160, 160),\n",
    "    ncols=1,\n",
    "    dpi=100\n",
    ")"
   ]
  },
  {
   "cell_type": "code",
   "execution_count": 60,
   "metadata": {},
   "outputs": [],
   "source": []
  },
  {
   "cell_type": "code",
   "execution_count": null,
   "metadata": {},
   "outputs": [],
   "source": []
  }
 ],
 "metadata": {
  "kernelspec": {
   "display_name": "Python 3",
   "language": "python",
   "name": "python3"
  },
  "language_info": {
   "codemirror_mode": {
    "name": "ipython",
    "version": 3
   },
   "file_extension": ".py",
   "mimetype": "text/x-python",
   "name": "python",
   "nbconvert_exporter": "python",
   "pygments_lexer": "ipython3",
   "version": "3.6.5"
  }
 },
 "nbformat": 4,
 "nbformat_minor": 4
}
