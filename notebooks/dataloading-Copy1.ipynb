{
 "cells": [
  {
   "cell_type": "code",
   "execution_count": 1,
   "metadata": {},
   "outputs": [],
   "source": [
    "%load_ext autoreload\n",
    "%autoreload 2"
   ]
  },
  {
   "cell_type": "code",
   "execution_count": 2,
   "metadata": {},
   "outputs": [
    {
     "name": "stderr",
     "output_type": "stream",
     "text": [
      "Matplotlib created a temporary config/cache directory at /tmp/matplotlib-4sbi4nyi because the default path (/home/user/.cache/matplotlib) is not a writable directory; it is highly recommended to set the MPLCONFIGDIR environment variable to a writable directory, in particular to speed up the import of Matplotlib and to better support multiprocessing.\n"
     ]
    }
   ],
   "source": [
    "import k3d\n",
    "import numpy as np\n",
    "import matplotlib.pyplot as plt\n",
    "import h5py\n",
    "import sys\n",
    "import tqdm\n",
    "from functools import partial"
   ]
  },
  {
   "cell_type": "code",
   "execution_count": 3,
   "metadata": {},
   "outputs": [],
   "source": [
    "import torch\n",
    "from torch.utils.data import DataLoader"
   ]
  },
  {
   "cell_type": "code",
   "execution_count": 15,
   "metadata": {},
   "outputs": [],
   "source": [
    "from sharpf.data.datasets.sharpf_io import PointCloudIO, DepthMapIO\n",
    "from sharpf.utils.abc_utils.hdf5.io_struct import collate_mapping_with_io\n",
    "from sharpf.utils.abc_utils.hdf5.dataset import LotsOfHdf5Files, Hdf5File, PreloadTypes\n",
    "from sharpf.utils.abc_utils.torch import *\n",
    "from sharpf.utils.plotting import display_depth_sharpness\n",
    "\n",
    "from sharpf.utils.camera_utils.camera_pose import camera_to_display, CameraPose\n",
    "from sharpf.data.imaging import IMAGING_BY_TYPE\n",
    "from sharpf.utils.py_utils.config import load_func_from_config"
   ]
  },
  {
   "cell_type": "code",
   "execution_count": 5,
   "metadata": {},
   "outputs": [],
   "source": [
    "def display_sharpness(mesh=None, plot_meshvert=True,\n",
    "                      samples=None, samples_distances=None,\n",
    "                      sharp_vert=None, sharp_curves=None,\n",
    "                      directions=None, directions_width=0.0025,\n",
    "                      samples_color=0x0000ff, samples_psize=0.002, \n",
    "                      mesh_color=0xbbbbbb, meshvert_color=0x666666, meshvert_psize=0.0025,\n",
    "                      sharpvert_color=0xff0000, sharpvert_psize=0.0025,\n",
    "                      sharpcurve_color=None, sharpcurve_width=0.0025,\n",
    "                      as_image=False, plot_height=768, \n",
    "                      cmap_distances=k3d.colormaps.basic_color_maps.WarmCool,\n",
    "                      distance_range=None):\n",
    "    \n",
    "    plot = k3d.plot(height=plot_height, camera_fov=30.0)\n",
    "    \n",
    "    if None is not mesh:\n",
    "        k3d_mesh = k3d.mesh(mesh.vertices, mesh.faces, color=mesh_color)\n",
    "        plot += k3d_mesh\n",
    "\n",
    "        if plot_meshvert:\n",
    "            k3d_points = k3d.points(mesh.vertices, \n",
    "                                    point_size=meshvert_psize, color=meshvert_color)\n",
    "            plot += k3d_points\n",
    "            k3d_points.shader='flat'\n",
    "\n",
    "    if None is not samples:\n",
    "        colors = None\n",
    "        if None is not samples_distances:\n",
    "            if None is distance_range:\n",
    "                distance_range = [0, np.max(samples_distances)]\n",
    "\n",
    "            colors = k3d.helpers.map_colors(\n",
    "                samples_distances, cmap_distances, distance_range\n",
    "            ).astype(np.uint32)\n",
    "            k3d_points = k3d.points(samples, point_size=samples_psize, colors=colors)\n",
    "        else:\n",
    "            k3d_points = k3d.points(samples, point_size=samples_psize, color=samples_color)\n",
    "        plot += k3d_points\n",
    "        k3d_points.shader='flat'\n",
    "        \n",
    "        if None is not directions:\n",
    "            directions_to_plot = np.hstack((samples, samples + directions))\n",
    "            \n",
    "            for i, dir_to_plot in enumerate(directions_to_plot):\n",
    "                dir_to_plot = dir_to_plot.reshape((2, 3))\n",
    "                if np.all(dir_to_plot[0] == dir_to_plot[1]):\n",
    "                    continue\n",
    "                color = int(colors[i]) if None is not colors else samples_color\n",
    "                plt_line = k3d.line(dir_to_plot, \n",
    "                                    shader='mesh', width=directions_width, color=color)\n",
    "                plot += plt_line\n",
    "\n",
    "    if None is not sharp_vert:\n",
    "        k3d_points = k3d.points(sharp_vert,\n",
    "                                point_size=sharpvert_psize, color=sharpvert_color)\n",
    "        plot += k3d_points\n",
    "        k3d_points.shader='flat'\n",
    "        \n",
    "        if None is not sharp_curves:            \n",
    "            if None is not sharpcurve_color:\n",
    "                color = sharpcurve_color\n",
    "            else:\n",
    "                import randomcolor\n",
    "                rand_color = randomcolor.RandomColor()\n",
    "            for i, vert_ind in enumerate(sharp_curves):\n",
    "                sharp_points_curve = mesh.vertices[vert_ind]\n",
    "                \n",
    "                if None is sharpcurve_color:\n",
    "                    color = rand_color.generate(hue='red')[0]\n",
    "                    color = int('0x' + color[1:], 16)\n",
    "                plt_line = k3d.line(sharp_points_curve, \n",
    "                                    shader='mesh', width=sharpcurve_width, color=color)\n",
    "                plot += plt_line\n",
    "        \n",
    "    plot.grid_visible = False\n",
    "    plot.camera_auto_fit = True\n",
    "    plot.display()\n",
    "    \n",
    "    return plot"
   ]
  },
  {
   "cell_type": "code",
   "execution_count": 6,
   "metadata": {},
   "outputs": [
    {
     "name": "stdout",
     "output_type": "stream",
     "text": [
      "abc_0000_0_1.hdf5    abc_0000_41_42.hdf5  abc_0000_72_73.hdf5\r\n",
      "abc_0000_12_13.hdf5  abc_0000_42_43.hdf5  abc_0000_75_76.hdf5\r\n",
      "abc_0000_13_14.hdf5  abc_0000_43_44.hdf5  abc_0000_76_77.hdf5\r\n",
      "abc_0000_14_15.hdf5  abc_0000_45_46.hdf5  abc_0000_77_78.hdf5\r\n",
      "abc_0000_15_16.hdf5  abc_0000_46_47.hdf5  abc_0000_78_79.hdf5\r\n",
      "abc_0000_16_17.hdf5  abc_0000_47_48.hdf5  abc_0000_79_80.hdf5\r\n",
      "abc_0000_17_18.hdf5  abc_0000_4_5.hdf5\t  abc_0000_7_8.hdf5\r\n",
      "abc_0000_1_2.hdf5    abc_0000_51_52.hdf5  abc_0000_80_81.hdf5\r\n",
      "abc_0000_20_21.hdf5  abc_0000_52_53.hdf5  abc_0000_82_83.hdf5\r\n",
      "abc_0000_21_22.hdf5  abc_0000_53_54.hdf5  abc_0000_83_84.hdf5\r\n",
      "abc_0000_22_23.hdf5  abc_0000_54_55.hdf5  abc_0000_84_85.hdf5\r\n",
      "abc_0000_23_24.hdf5  abc_0000_57_58.hdf5  abc_0000_87_88.hdf5\r\n",
      "abc_0000_25_26.hdf5  abc_0000_59_60.hdf5  abc_0000_88_89.hdf5\r\n",
      "abc_0000_26_27.hdf5  abc_0000_5_6.hdf5\t  abc_0000_89_90.hdf5\r\n",
      "abc_0000_28_29.hdf5  abc_0000_60_61.hdf5  abc_0000_90_91.hdf5\r\n",
      "abc_0000_29_30.hdf5  abc_0000_61_62.hdf5  abc_0000_91_92.hdf5\r\n",
      "abc_0000_2_3.hdf5    abc_0000_62_63.hdf5  abc_0000_92_93.hdf5\r\n",
      "abc_0000_32_33.hdf5  abc_0000_64_65.hdf5  abc_0000_93_94.hdf5\r\n",
      "abc_0000_33_34.hdf5  abc_0000_65_66.hdf5  abc_0000_95_96.hdf5\r\n",
      "abc_0000_34_35.hdf5  abc_0000_66_67.hdf5  abc_0000_96_97.hdf5\r\n",
      "abc_0000_36_37.hdf5  abc_0000_67_68.hdf5  abc_0000_97_98.hdf5\r\n",
      "abc_0000_37_38.hdf5  abc_0000_68_69.hdf5  abc_0000_98_99.hdf5\r\n",
      "abc_0000_39_40.hdf5  abc_0000_69_70.hdf5  abc_0000_99_100.hdf5\r\n",
      "abc_0000_3_4.hdf5    abc_0000_6_7.hdf5\r\n",
      "abc_0000_40_41.hdf5  abc_0000_71_72.hdf5\r\n"
     ]
    }
   ],
   "source": [
    "!ls /logs/sharp_features_data_v2/images/"
   ]
  },
  {
   "cell_type": "code",
   "execution_count": 16,
   "metadata": {},
   "outputs": [
    {
     "data": {
      "text/plain": [
       "63169"
      ]
     },
     "execution_count": 16,
     "metadata": {},
     "output_type": "execute_result"
    }
   ],
   "source": [
    "hdf5_input_dir = '/logs/sharp_features_data_v2/images/'\n",
    "data_label = 'image'\n",
    "target_label = 'distances'\n",
    "# labels = ['directions', 'distances', 'has_sharp', \n",
    "#           'item_id', 'normals', 'num_sharp_curves', \n",
    "#           'num_surfaces', 'orig_face_indexes', 'orig_vert_indices', 'points']\n",
    "labels = '*'\n",
    "# labels = ['points',\n",
    "#           'num_sharp_curves', \n",
    "#           'num_surfaces',\n",
    "#           'camera_pose']\n",
    "\n",
    "dataset = LotsOfHdf5Files(\n",
    "        data_dir=hdf5_input_dir,\n",
    "        io=DepthMapIO,\n",
    "        data_label=data_label,\n",
    "        target_label=target_label,\n",
    "        labels=labels,\n",
    "        max_loaded_files=10,\n",
    "    preload=PreloadTypes.LAZY)\n",
    "\n",
    "# dataset = Hdf5File(\n",
    "#     '/logs/sharp_features_data_v2/images/test_clean_100_0.hdf5',\n",
    "#     io=PointCloudIO,\n",
    "#     data_label=data_label,\n",
    "#     target_label=target_label,\n",
    "#     labels='*',\n",
    "#     transform=None)\n",
    "len(dataset)"
   ]
  },
  {
   "cell_type": "code",
   "execution_count": 27,
   "metadata": {},
   "outputs": [
    {
     "data": {
      "text/plain": [
       "['directions',\n",
       " 'has_smell_deviating_resolution',\n",
       " 'num_surfaces',\n",
       " 'mesh_scale',\n",
       " 'has_smell_coarse_surfaces_by_num_faces',\n",
       " 'has_smell_depth_discontinuity',\n",
       " 'orig_face_indexes',\n",
       " 'num_sharp_curves',\n",
       " 'normals',\n",
       " 'has_smell_mismatching_surface_annotation',\n",
       " 'has_smell_bad_face_sampling',\n",
       " 'has_smell_coarse_surfaces_by_angles',\n",
       " 'has_smell_mesh_self_intersections',\n",
       " 'has_sharp',\n",
       " 'distances',\n",
       " 'has_smell_raycasting_background',\n",
       " 'has_smell_sharpness_discontinuities',\n",
       " 'image',\n",
       " 'item_id',\n",
       " 'orig_vert_indices',\n",
       " 'camera_pose']"
      ]
     },
     "execution_count": 27,
     "metadata": {},
     "output_type": "execute_result"
    }
   ],
   "source": [
    "dataset.files[0].labels"
   ]
  },
  {
   "cell_type": "code",
   "execution_count": 9,
   "metadata": {},
   "outputs": [
    {
     "data": {
      "text/plain": [
       "['has_smell_deviating_resolution',\n",
       " 'has_smell_coarse_surfaces_by_num_faces',\n",
       " 'has_smell_depth_discontinuity',\n",
       " 'has_smell_mismatching_surface_annotation',\n",
       " 'has_smell_bad_face_sampling',\n",
       " 'has_smell_coarse_surfaces_by_angles',\n",
       " 'has_smell_mesh_self_intersections',\n",
       " 'has_smell_raycasting_background',\n",
       " 'has_smell_sharpness_discontinuities']"
      ]
     },
     "execution_count": 9,
     "metadata": {},
     "output_type": "execute_result"
    }
   ],
   "source": [
    "[label for label in dataset.files[0].labels if label.startswith('has_smell')]"
   ]
  },
  {
   "cell_type": "code",
   "execution_count": 28,
   "metadata": {},
   "outputs": [],
   "source": [
    "batch_size = 128\n",
    "train_loader = DataLoader(\n",
    "    dataset,\n",
    "    num_workers=24,\n",
    "    batch_size=batch_size,\n",
    "    shuffle=False,\n",
    "    collate_fn=partial(collate_mapping_with_io, io=DepthMapIO),\n",
    ")"
   ]
  },
  {
   "cell_type": "code",
   "execution_count": 49,
   "metadata": {},
   "outputs": [],
   "source": [
    "true_keys = ['has_smell_coarse_surfaces_by_angles', 'has_smell_coarse_surfaces_by_num_faces']\n",
    "false_keys = ['has_smell_mismatching_surface_annotation', 'has_smell_sharpness_discontinuities']"
   ]
  },
  {
   "cell_type": "code",
   "execution_count": 12,
   "metadata": {},
   "outputs": [],
   "source": [
    "def select_items_by_predicates(batch, true_keys=None, false_keys=None):\n",
    "    \"\"\"Selects sub-batch where item[key] == True for each key in true_keys\n",
    "    and item[key] == False for each key in false_keys\"\"\"\n",
    "    any_key = next(iter(batch.keys()))\n",
    "    batch_size = len(batch[any_key])\n",
    "\n",
    "    if None is not true_keys:\n",
    "        true_mask = torch.stack([batch[key] for key in true_keys]).all(axis=0)\n",
    "    else:\n",
    "        true_mask = torch.ones(batch_size).bool()\n",
    "\n",
    "    if None is not false_keys:\n",
    "        false_mask = torch.stack([~batch[key] for key in false_keys]).all(axis=0)\n",
    "    else:\n",
    "        false_mask = torch.ones(batch_size).bool()\n",
    "\n",
    "    selected_idx = torch.where(true_mask * false_mask)[0]\n",
    "    filtered_batch = {}\n",
    "    for key, value in batch.items():\n",
    "        if isinstance(value, torch.Tensor):\n",
    "            filtered_batch[key] = value[selected_idx]\n",
    "        elif isinstance(value, list):\n",
    "            filtered_batch[key] = [value[i] for i in selected_idx]\n",
    "\n",
    "    return filtered_batch\n"
   ]
  },
  {
   "cell_type": "code",
   "execution_count": 18,
   "metadata": {},
   "outputs": [
    {
     "name": "stderr",
     "output_type": "stream",
     "text": [
      "100%|██████████| 494/494 [01:13<00:00,  6.75it/s]\n"
     ]
    }
   ],
   "source": [
    "has_smell_coarse_surfaces_by_angles = 0\n",
    "for batch in tqdm.tqdm(train_loader):\n",
    "    filtered_batch = select_items_by_predicates(batch, false_keys=['has_smell_coarse_surfaces_by_angles'])\n",
    "    has_smell_coarse_surfaces_by_angles += len(filtered_batch['has_sharp'])"
   ]
  },
  {
   "cell_type": "code",
   "execution_count": 19,
   "metadata": {},
   "outputs": [
    {
     "data": {
      "text/plain": [
       "0.9852459275910652"
      ]
     },
     "execution_count": 19,
     "metadata": {},
     "output_type": "execute_result"
    }
   ],
   "source": [
    "has_smell_coarse_surfaces_by_angles / len(dataset)"
   ]
  },
  {
   "cell_type": "code",
   "execution_count": 107,
   "metadata": {},
   "outputs": [
    {
     "name": "stderr",
     "output_type": "stream",
     "text": [
      "100%|██████████| 7610/7610 [03:38<00:00, 34.83it/s]\n"
     ]
    }
   ],
   "source": [
    "has_smell_coarse_surfaces_by_num_faces = 0\n",
    "for batch in tqdm.tqdm(train_loader):\n",
    "    filtered_batch = select_items_by_predicates(batch, false_keys=['has_smell_coarse_surfaces_by_num_faces'])\n",
    "    has_smell_coarse_surfaces_by_num_faces += len(filtered_batch['has_sharp'])"
   ]
  },
  {
   "cell_type": "code",
   "execution_count": 108,
   "metadata": {},
   "outputs": [
    {
     "data": {
      "text/plain": [
       "0.8266090613398167"
      ]
     },
     "execution_count": 108,
     "metadata": {},
     "output_type": "execute_result"
    }
   ],
   "source": [
    "has_smell_coarse_surfaces_by_num_faces / len(dataset)"
   ]
  },
  {
   "cell_type": "code",
   "execution_count": 23,
   "metadata": {},
   "outputs": [
    {
     "name": "stderr",
     "output_type": "stream",
     "text": [
      "100%|██████████| 494/494 [01:14<00:00,  6.64it/s]\n"
     ]
    }
   ],
   "source": [
    "has_smell_sharpness_discontinuities = 0\n",
    "for batch in tqdm.tqdm(train_loader):\n",
    "    filtered_batch = select_items_by_predicates(batch, false_keys=['has_smell_sharpness_discontinuities'])\n",
    "    has_smell_sharpness_discontinuities += len(filtered_batch['has_sharp'])"
   ]
  },
  {
   "cell_type": "code",
   "execution_count": 110,
   "metadata": {},
   "outputs": [
    {
     "data": {
      "text/plain": [
       "0.9959013700430397"
      ]
     },
     "execution_count": 110,
     "metadata": {},
     "output_type": "execute_result"
    }
   ],
   "source": [
    "has_smell_sharpness_discontinuities / len(dataset)"
   ]
  },
  {
   "cell_type": "code",
   "execution_count": 29,
   "metadata": {},
   "outputs": [
    {
     "name": "stderr",
     "output_type": "stream",
     "text": [
      "100%|██████████| 494/494 [01:13<00:00,  6.72it/s]\n"
     ]
    }
   ],
   "source": [
    "has_smells = 0\n",
    "for batch in tqdm.tqdm(train_loader):\n",
    "    filtered_batch = select_items_by_predicates(\n",
    "        batch, \n",
    "        false_keys=[\n",
    "            'has_smell_deviating_resolution',\n",
    "            'has_smell_coarse_surfaces_by_num_faces',\n",
    "            'has_smell_depth_discontinuity',\n",
    "            'has_smell_mismatching_surface_annotation',\n",
    "            'has_smell_bad_face_sampling',\n",
    "            'has_smell_coarse_surfaces_by_angles',\n",
    "            'has_smell_mesh_self_intersections',\n",
    "            'has_smell_raycasting_background',\n",
    "            'has_smell_sharpness_discontinuities'\n",
    "        ])\n",
    "    has_smells += len(filtered_batch['has_sharp'])"
   ]
  },
  {
   "cell_type": "code",
   "execution_count": 30,
   "metadata": {},
   "outputs": [
    {
     "data": {
      "text/plain": [
       "0.11139957890737545"
      ]
     },
     "execution_count": 30,
     "metadata": {},
     "output_type": "execute_result"
    }
   ],
   "source": [
    "has_smells / len(dataset)"
   ]
  },
  {
   "cell_type": "code",
   "execution_count": 122,
   "metadata": {},
   "outputs": [
    {
     "name": "stderr",
     "output_type": "stream",
     "text": [
      "100%|██████████| 7610/7610 [04:18<00:00, 29.49it/s]\n"
     ]
    }
   ],
   "source": [
    "has_smell_coarse_surfaces_by_angles = 0\n",
    "for batch in tqdm.tqdm(train_loader):\n",
    "    filtered_batch = select_items_by_predicates(batch)\n",
    "    has_smell_coarse_surfaces_by_angles += len(filtered_batch['points'])"
   ]
  },
  {
   "cell_type": "code",
   "execution_count": null,
   "metadata": {},
   "outputs": [],
   "source": []
  },
  {
   "cell_type": "code",
   "execution_count": 219,
   "metadata": {},
   "outputs": [
    {
     "name": "stderr",
     "output_type": "stream",
     "text": [
      "  0%|          | 0/494 [00:07<?, ?it/s]\n"
     ]
    }
   ],
   "source": [
    "for batch in tqdm.tqdm(train_loader):\n",
    "    filtered_batch = select_items_by_predicates(\n",
    "        batch, \n",
    "        false_keys=None,\n",
    "        true_keys=[\n",
    "#             'has_smell_deviating_resolution',\n",
    "#             'has_smell_coarse_surfaces_by_num_faces',\n",
    "#             'has_smell_depth_discontinuity',\n",
    "#             'has_smell_mismatching_surface_annotation',\n",
    "#             'has_smell_bad_face_sampling',\n",
    "#             'has_smell_coarse_surfaces_by_angles',\n",
    "#             'has_smell_mesh_self_intersections',\n",
    "#             'has_smell_sharpness_discontinuities'\n",
    "            'has_smell_raycasting_background'\n",
    "        ])\n",
    "    if len(filtered_batch['image']) > 0:\n",
    "        break"
   ]
  },
  {
   "cell_type": "code",
   "execution_count": 220,
   "metadata": {},
   "outputs": [
    {
     "data": {
      "text/plain": [
       "dict_keys(['image', 'normals', 'distances', 'directions', 'item_id', 'has_sharp', 'num_sharp_curves', 'num_surfaces', 'camera_pose', 'mesh_scale', 'has_smell_coarse_surfaces_by_num_faces', 'has_smell_coarse_surfaces_by_angles', 'has_smell_deviating_resolution', 'has_smell_sharpness_discontinuities', 'has_smell_bad_face_sampling', 'has_smell_mismatching_surface_annotation', 'has_smell_raycasting_background', 'has_smell_depth_discontinuity', 'has_smell_mesh_self_intersections', 'orig_vert_indices', 'orig_face_indexes'])"
      ]
     },
     "execution_count": 220,
     "metadata": {},
     "output_type": "execute_result"
    }
   ],
   "source": [
    "filtered_batch.keys()"
   ]
  },
  {
   "cell_type": "code",
   "execution_count": 221,
   "metadata": {},
   "outputs": [],
   "source": [
    "# images = np.array([camera_to_display(dataset[idx]['image'].numpy())\n",
    "#                    for idx in range(len(dataset))])\n",
    "# distances = np.array([camera_to_display(dataset[idx]['distances'].numpy())\n",
    "#                       for idx in range(len(dataset))])\n",
    "# camera_pose = [CameraPose(dataset[idx]['camera_pose'])  \n",
    "#                for idx in range(len(dataset))]\n",
    "\n",
    "images = np.array([camera_to_display(filtered_batch['image'][idx].numpy())\n",
    "                   for idx in range(len(filtered_batch['image']))])\n",
    "\n",
    "distances = np.array([camera_to_display(filtered_batch['distances'][idx].numpy())\n",
    "                      for idx in range(len(filtered_batch['distances']))])\n",
    "\n",
    "camera_poses = [CameraPose(filtered_batch['camera_pose'][idx])  \n",
    "               for idx in range(len(filtered_batch['camera_pose']))]"
   ]
  },
  {
   "cell_type": "code",
   "execution_count": null,
   "metadata": {},
   "outputs": [],
   "source": []
  },
  {
   "cell_type": "code",
   "execution_count": 222,
   "metadata": {
    "scrolled": false
   },
   "outputs": [
    {
     "data": {
      "image/png": "[encoded data removed]",
      "text/plain": [
       "<Figure size 1152x2016 with 28 Axes>"
      ]
     },
     "metadata": {
      "needs_background": "light"
     },
     "output_type": "display_data"
    }
   ],
   "source": [
    "idx = np.random.choice(np.arange(len(images)), replace=False, size=1)\n",
    "\n",
    "display_depth_sharpness(\n",
    "    depth_images=images[:20],\n",
    "    sharpness_images=distances[:20],\n",
    "    axes_size=(4, 4),\n",
    "    ncols=2\n",
    ")"
   ]
  },
  {
   "cell_type": "code",
   "execution_count": null,
   "metadata": {},
   "outputs": [],
   "source": []
  },
  {
   "cell_type": "code",
   "execution_count": null,
   "metadata": {},
   "outputs": [],
   "source": []
  },
  {
   "cell_type": "code",
   "execution_count": 223,
   "metadata": {},
   "outputs": [
    {
     "data": {
      "text/plain": [
       "{'shape_fabrication_extent': 10.0,\n",
       " 'short_curve_quantile': 0.25,\n",
       " 'base_n_points_per_short_curve': 8,\n",
       " 'base_resolution_3d': 0.125,\n",
       " 'camera_pose': {'type': 'composite',\n",
       "  'sequences': [{'type': 'sphere_to_origin', 'n_images': 10},\n",
       "   {'type': 'xy_translation', 'n_images': 100},\n",
       "   {'type': 'z_rotation', 'n_images': 5}]},\n",
       " 'imaging': {'type': 'raycasting',\n",
       "  'projection': 'ortho',\n",
       "  'resolution_image': 64,\n",
       "  'resolution_3d': 0.02,\n",
       "  'fov': [115, 85, 80],\n",
       "  'validate_image': True},\n",
       " 'noise': {'type': 'many_noisers', 'subtype': 'z_direction', 'scale': [0.0]},\n",
       " 'annotation': {'type': 'surface_based_aabb', 'distance_upper_bound': 1.0},\n",
       " 'smell_coarse_surfaces_by_num_edges': {'num_edges_threshold': 8},\n",
       " 'smell_coarse_surfaces_by_angles': {'max_angle_threshold_degrees': 10.0},\n",
       " 'smell_deviating_resolution': {'resolution_3d': 0.02,\n",
       "  'resolution_deviation_tolerance': 0.01},\n",
       " 'smell_sharpness_discontinuities': {},\n",
       " 'smell_bad_face_sampling': {'min_points_per_face': 0.02,\n",
       "  'max_points_per_face': 20.0},\n",
       " 'smell_raycasting_background': {},\n",
       " 'smell_mesh_self_intersections': {},\n",
       " 'smell_depth_discontinuity': {'depth_discontinuity_threshold': 0.5}}"
      ]
     },
     "execution_count": 223,
     "metadata": {},
     "output_type": "execute_result"
    }
   ],
   "source": [
    "import json\n",
    "with open('/code/scripts/data_scripts/configs/depthmap_datasets/dataset_config_high_res_clean_64x64.json') as config_file:\n",
    "    config = json.load(config_file)\n",
    "\n",
    "config"
   ]
  },
  {
   "cell_type": "code",
   "execution_count": 224,
   "metadata": {},
   "outputs": [],
   "source": [
    "imaging = load_func_from_config(IMAGING_BY_TYPE, config['imaging'])"
   ]
  },
  {
   "cell_type": "code",
   "execution_count": 255,
   "metadata": {},
   "outputs": [],
   "source": [
    "idx = 10\n",
    "image = images[idx]\n",
    "distance = distances[idx]\n",
    "camera_pose = camera_poses[idx]"
   ]
  },
  {
   "cell_type": "code",
   "execution_count": 256,
   "metadata": {},
   "outputs": [],
   "source": [
    "points = camera_pose.camera_to_world(imaging.image_to_points(image))"
   ]
  },
  {
   "cell_type": "code",
   "execution_count": 257,
   "metadata": {},
   "outputs": [
    {
     "data": {
      "application/vnd.jupyter.widget-view+json": {
       "model_id": "895d21bb65944ea48a67614fd2e2b5a5",
       "version_major": 2,
       "version_minor": 0
      },
      "text/plain": [
       "Output()"
      ]
     },
     "metadata": {},
     "output_type": "display_data"
    },
    {
     "data": {
      "application/vnd.jupyter.widget-view+json": {
       "model_id": "2bbf1d115fa34a5f8472af15ec2ef7b2",
       "version_major": 2,
       "version_minor": 0
      },
      "text/plain": [
       "Plot(antialias=3, axes=['x', 'y', 'z'], axes_helper=1.0, background_color=16777215, camera=[4.5, 4.5, 4.5, 0.0…"
      ]
     },
     "metadata": {},
     "output_type": "display_data"
    }
   ],
   "source": [
    "display_sharpness(\n",
    "    None, plot_meshvert=True, meshvert_psize=imaging.resolution_3d / 2,\n",
    "#     sharp_vert=camera_pose.camera_to_world(imaging.rays_origins), sharpvert_psize=0.5,\n",
    "    samples=points[~np.isnan(points)].reshape(-1, 3), samples_psize=0.02,\n",
    "    samples_distances=distance[image != 0].ravel()\n",
    ")"
   ]
  },
  {
   "cell_type": "code",
   "execution_count": 246,
   "metadata": {},
   "outputs": [
    {
     "data": {
      "text/plain": [
       "array([[False, False, False, ..., False, False, False],\n",
       "       [False, False, False, ..., False, False, False],\n",
       "       [False, False, False, ..., False, False, False],\n",
       "       ...,\n",
       "       [ True,  True,  True, ...,  True,  True,  True],\n",
       "       [ True,  True,  True, ...,  True,  True,  True],\n",
       "       [ True,  True,  True, ...,  True,  True,  True]])"
      ]
     },
     "execution_count": 246,
     "metadata": {},
     "output_type": "execute_result"
    }
   ],
   "source": []
  },
  {
   "cell_type": "code",
   "execution_count": null,
   "metadata": {},
   "outputs": [],
   "source": []
  },
  {
   "cell_type": "code",
   "execution_count": null,
   "metadata": {},
   "outputs": [],
   "source": []
  },
  {
   "cell_type": "code",
   "execution_count": null,
   "metadata": {},
   "outputs": [],
   "source": []
  },
  {
   "cell_type": "code",
   "execution_count": null,
   "metadata": {},
   "outputs": [],
   "source": []
  },
  {
   "cell_type": "code",
   "execution_count": 43,
   "metadata": {
    "scrolled": false
   },
   "outputs": [
    {
     "name": "stderr",
     "output_type": "stream",
     "text": [
      "/home/user/miniconda/envs/py36/lib/python3.6/site-packages/traittypes/traittypes.py:101: UserWarning: Given trait value dtype \"float64\" does not match required type \"float32\". A coerced copy has been created.\n",
      "  np.dtype(self.dtype).name))\n"
     ]
    },
    {
     "data": {
      "application/vnd.jupyter.widget-view+json": {
       "model_id": "d21ec4319c5b42aeb4ccd9736b33edbc",
       "version_major": 2,
       "version_minor": 0
      },
      "text/plain": [
       "Output()"
      ]
     },
     "metadata": {},
     "output_type": "display_data"
    },
    {
     "name": "stdout",
     "output_type": "stream",
     "text": [
      "{'has_smell_deviating_resolution': False, 'has_smell_mismatching_surface_annotation': True, 'has_smell_coarse_surfaces_by_angles': False, 'has_smell_sharpness_discontinuities': False, 'has_smell_bad_face_sampling': False, 'has_smell_coarse_surfaces_by_num_faces': False}\n",
      "5.843081312410842\n"
     ]
    }
   ],
   "source": [
    "idx = 349\n",
    "item = dataset[idx]\n",
    "\n",
    "display_sharpness(\n",
    "#     sharp_vert=camera_pose.camera_to_world(imaging.rays_origins), sharpvert_psize=0.5,\n",
    "    samples=item['points'].numpy(), samples_psize=0.02,\n",
    "    samples_distances=item['distances'].numpy()\n",
    ")\n",
    "print({key: value for key, value in item.items() if key.startswith('has_smell')})\n",
    "print(4096 / len(item['orig_face_indexes']))"
   ]
  },
  {
   "cell_type": "code",
   "execution_count": 18,
   "metadata": {},
   "outputs": [
    {
     "data": {
      "text/plain": [
       "{'orig_face_indexes': array([11675, 11677, 11687, 11692, 11698, 11699, 11704, 11718, 11724,\n",
       "        11736, 11749, 11750, 11751, 11766, 11795, 11799, 11974, 12011,\n",
       "        12012, 12023, 12030, 12039, 12041, 12043, 12071, 12076, 12077,\n",
       "        12078, 12081, 12090, 12095, 12096, 12149, 12151, 12153, 12155,\n",
       "        12156, 12158, 12171, 12173, 12175, 12177, 12178, 12182, 12187,\n",
       "        12189, 12191, 12194, 12196, 12227, 12228, 12229, 12230, 12232,\n",
       "        12234, 12235, 12236, 12240, 12241, 12242, 12247, 12261, 12262,\n",
       "        12265, 12288, 12289, 12290, 12306, 12310, 12329, 12335, 12346,\n",
       "        12359, 12360, 12361, 12374, 12375, 12377, 12379, 12395, 12401,\n",
       "        12402, 12403, 12412, 12416, 12417, 12418, 12423, 12424, 12430,\n",
       "        12431, 12432, 12433, 12435, 12445, 12446, 12447, 12449, 12450,\n",
       "        12452, 12463, 12465, 12466, 12468, 12512, 12542, 12646, 12704,\n",
       "        12726, 12960, 13249, 13268, 13269, 13270, 13276, 13277, 13278,\n",
       "        13280, 13281, 13282, 13283, 13294, 13367, 13368, 13369, 13370,\n",
       "        13371, 13372, 13373, 13384, 13385, 13387, 13388, 13389, 13397,\n",
       "        13398, 13402, 13408, 13416, 13424, 13425, 13429, 13464, 13579,\n",
       "        13595, 13651, 13664, 13703, 13713, 13753, 13754, 13763, 13769,\n",
       "        13770, 13777, 13779, 13801, 13804, 13817, 13818, 13820, 13821,\n",
       "        13839, 13847, 13848, 13866, 13871, 13872, 13879, 13880, 13884,\n",
       "        13885, 13886, 13890, 13892, 13896, 13898, 13916, 13917, 13919,\n",
       "        13920, 13929, 13932, 13940, 13942, 13953, 13967, 13968, 13972,\n",
       "        13987, 13995, 14000, 14006, 14012, 14017, 14021, 14022, 14031,\n",
       "        14040, 14046, 14097, 14243, 14244, 14245, 14271, 14272, 14273,\n",
       "        14274, 14414, 14416, 14417, 14423, 14426, 14427, 14428, 14445,\n",
       "        14446, 14450, 14451, 14460, 14480, 14484, 14609, 14617, 14619,\n",
       "        14706, 14731, 14732, 14734, 14737, 14753, 14791, 14807, 14857,\n",
       "        14879, 14897, 14919, 14936, 14937, 14939, 14940, 14944, 14952,\n",
       "        14969, 14971, 14975, 14978, 14992, 14993, 15032, 15048, 15051,\n",
       "        15059, 15170, 15218, 15233, 15236, 15237, 15238, 15239, 15240,\n",
       "        15242, 15243, 15244, 15257, 15259, 15261, 15262, 15266, 15281,\n",
       "        15289, 15297, 15301, 15302, 15303, 15320, 15321, 15332, 15333,\n",
       "        15349, 15363, 15365, 15382, 15386, 15436, 15474, 15488, 15489,\n",
       "        15497, 15511, 15540, 15542, 15543, 15544, 15550, 15567, 15571,\n",
       "        15573, 15575, 15577, 15579, 15581, 15597, 15599, 15600, 15603,\n",
       "        15604, 15615, 15619, 15623, 15624, 15680, 15681, 15704, 15711,\n",
       "        15736, 15737, 15738, 15778, 15779, 15780, 15812, 15844, 15846,\n",
       "        15850, 15856, 15864, 15885, 15886, 15888, 15892, 15893, 15899,\n",
       "        15900, 15901, 15902, 15905, 15906, 15907, 15915, 15916, 15959,\n",
       "        15961, 15962, 15963, 15965, 15968, 15969, 15970, 15971, 15974,\n",
       "        15975, 15976, 15986, 15989, 15995, 16018, 16028, 16029, 16032,\n",
       "        16033, 16043, 16053, 16080, 16084, 16095, 16096, 16097, 16098,\n",
       "        16105, 16106, 16144, 16145, 16146, 16155, 16163, 16165, 16166,\n",
       "        16168, 16170, 16179, 16184, 16186, 16192, 16193, 16202, 16213,\n",
       "        16218, 16219, 16220, 16221, 16224, 16225, 16226, 16227, 16232,\n",
       "        16233, 16240, 16242, 16245, 16246, 16247, 16265, 16266, 16270,\n",
       "        16294, 16299, 16301, 16303, 16309, 16311, 16312, 16313, 16315,\n",
       "        16320, 16346, 16351, 16352, 16358, 16359, 16365, 16366, 16377,\n",
       "        16382, 16384, 16385, 16387, 16390, 16403, 16411, 16413, 16415,\n",
       "        16417, 16437, 16439, 16457, 16458, 16459, 16494, 16520, 16529,\n",
       "        16549, 16574, 16579, 16605, 16607, 16631, 16642, 16649, 16655,\n",
       "        16670, 16673, 16676, 16677, 16678, 16680, 16686, 16689, 16695,\n",
       "        16716, 16717, 16718, 16739, 16793, 16796, 16798, 16799, 16801,\n",
       "        16807, 16846, 16849, 16852, 16929, 16932, 16940, 16942, 16945,\n",
       "        16946, 16948, 16949, 16951, 16952, 16969, 16971, 16973, 17003,\n",
       "        17004, 17005, 17009, 17010, 17027, 17028, 17050, 17078, 17089,\n",
       "        17094, 17095, 17127, 17145, 17148, 17151, 17157, 17163, 17187,\n",
       "        17188, 17190, 17199, 17200, 17226, 17235, 17238, 17239, 17265,\n",
       "        17280, 17303, 17304, 17312, 17333, 17367, 17375, 17396, 17400,\n",
       "        17414, 17415, 17418, 17420, 17433, 17437, 17516, 17518, 17520,\n",
       "        17522, 17534, 17547, 17560, 17561, 17592, 17608, 17609, 17614,\n",
       "        17636, 17637, 17639, 17643, 17644, 17648, 17649, 17650, 17651,\n",
       "        17657, 17659, 17662, 17666, 17668, 17678, 17685, 17706, 17709,\n",
       "        17719, 17733, 17763, 17764, 17808, 17809, 17810, 17814, 17815,\n",
       "        17833, 17843, 17844, 17850, 17851, 17853, 17862, 17865, 17867,\n",
       "        17871, 17873, 17875, 17883, 17888, 17889, 17891, 17896, 17897,\n",
       "        17898, 17901, 17902, 17903, 17908, 17914, 17921, 17925, 17930,\n",
       "        17932, 17938, 17958, 17963, 17967, 17979, 17984, 17995, 18017,\n",
       "        18065, 18083, 18085, 18092, 18093, 18108, 18114, 18117, 18128,\n",
       "        18149, 18150, 18167, 25371, 25395, 25405, 25419, 25453, 25459,\n",
       "        25476, 25533, 25547, 25581, 25679, 25762, 25809, 25867, 25871,\n",
       "        25894, 25916, 25939, 25966, 26013, 26031, 26043, 26066, 26076,\n",
       "        26096, 26128, 26131, 26183, 26200, 26214, 26217, 26260, 26325,\n",
       "        26333, 26371, 26392, 26395, 26410, 26436, 26469, 26550, 26558,\n",
       "        26563, 26637, 26647, 26670, 26683, 26750, 26884, 26898, 26902,\n",
       "        26910, 26927, 26938, 26969, 26989, 27000, 27108, 27119, 27130,\n",
       "        27159, 27163, 27194, 27234, 27246, 27250, 27256, 27285, 27289,\n",
       "        27364, 27365, 27426, 27443, 27492, 27538, 27545, 27570, 27584,\n",
       "        27641, 27710, 27778, 27896, 27905, 27907, 27932, 27943],\n",
       "       dtype=int32),\n",
       " 'orig_vert_indices': array([   11,   691,   692,   693,   698,   699,   700,   701,   702,\n",
       "          703,   704,   705,   706,   707,   708,   709,   710,   711,\n",
       "         6511,  6512,  6515,  6516,  6517,  6518,  6519,  6520,  6521,\n",
       "         6522,  6523,  6524,  6525,  6526,  6527,  6529,  6531,  6599,\n",
       "         6608,  6611,  6614,  6615,  6616,  6617,  6618,  6667,  6668,\n",
       "         6669,  6670,  6671,  6672,  6673,  6674,  6675,  6676,  6677,\n",
       "         6732,  6733,  6734,  6937,  6939,  6944,  6946,  6947,  6950,\n",
       "         6951,  6952,  6959,  6960,  6962,  6963,  6965,  6966,  6967,\n",
       "         6968,  6969,  6970,  6972,  7011,  7040,  7041,  7042,  7043,\n",
       "         7044,  7045,  7046,  7047,  7131,  7134,  7135,  7155,  7158,\n",
       "         7163,  7190,  7192,  7193,  7194,  7195,  7231,  7233,  7239,\n",
       "         7241,  7242,  7244,  7246,  7250,  7254,  7349,  7542,  7561,\n",
       "         7563,  7564,  7567,  7568,  7575,  7583,  7585,  7586,  7626,\n",
       "         7627,  7628,  7629,  7630,  7631,  7634,  7683,  7686,  7693,\n",
       "         7694,  7695,  7697,  7699,  7736,  7779,  7784,  7786,  7788,\n",
       "         7790,  7791,  7807,  7818,  7821,  7824,  7859,  7860,  7861,\n",
       "         7862,  7863,  7865,  7910,  7911,  7914,  7916,  7922,  7924,\n",
       "         7926,  7928,  7929,  7930,  7950,  7974,  7978,  7980,  7982,\n",
       "         7984,  7987,  8028,  8029,  8030,  8031,  8032,  8033,  8034,\n",
       "         8083,  8091,  8124,  8138,  8181,  8182,  8183,  8203,  8209,\n",
       "         8210,  8211,  8233,  8236,  8237,  8246,  8248,  8249,  8252,\n",
       "         8254,  8255,  8258,  8260,  8303,  8307,  8308,  8326,  8327,\n",
       "         8329,  8332,  8345,  8356,  8357,  8358,  8360,  8398,  8399,\n",
       "         8402,  8406,  8408,  8419,  8429,  8430,  8431,  8432,  8433,\n",
       "         8468,  8474,  8619,  8625,  8626,  8728,  8735,  8736,  8757,\n",
       "         8762,  8763,  8764,  8766,  8775,  8776,  8778,  8780,  8783,\n",
       "         8784,  8786,  8818,  8827,  8828,  8829,  8830,  8882,  8884,\n",
       "         8895,  8896,  8900,  8909,  8911,  8920,  8921,  8923,  8925,\n",
       "         8926,  8929,  8930,  8940,  8969,  8970,  8971,  8972,  8973,\n",
       "         9017,  9018,  9019,  9068,  9070,  9088,  9089,  9092,  9093,\n",
       "         9096,  9097,  9098,  9099,  9100,  9102,  9105,  9107,  9111,\n",
       "         9112,  9113,  9131,  9168,  9177,  9189,  9190,  9193,  9195,\n",
       "         9196,  9198,  9208,  9209,  9210,  9211,  9213,  9224,  9234,\n",
       "         9235,  9236,  9237,  9239,  9240,  9278,  9279,  9283,  9284,\n",
       "         9285,  9290,  9294,  9295,  9311,  9312,  9326,  9327,  9328,\n",
       "         9333,  9337,  9420,  9421,  9424,  9425,  9427,  9428,  9431,\n",
       "         9432,  9434,  9444,  9465,  9466,  9469,  9504,  9506,  9539,\n",
       "         9543,  9565,  9568,  9578,  9582,  9595,  9605,  9612, 12997,\n",
       "        13024, 13046, 13047, 13105, 13112, 13114, 13167, 13180, 13220,\n",
       "        13261, 13273, 13283, 13298, 13395, 13427, 13440, 13501, 13521,\n",
       "        13527, 13538, 13590, 13593, 13603, 13622, 13654, 13756, 13773,\n",
       "        13826, 13834, 13841, 13875, 13886, 13909, 13927, 13977, 14010,\n",
       "        14029, 14052, 14075, 14084, 14106, 14151, 14191, 14203],\n",
       "       dtype=int32),\n",
       " 'points': tensor([[-0.3326, -0.7127, -1.2046],\n",
       "         [-0.3183, -0.7078, -1.2085],\n",
       "         [-0.3360, -0.7299, -1.2036],\n",
       "         ...,\n",
       "         [-0.8931, -0.6217, -0.8745],\n",
       "         [ 0.1174, -0.2329, -1.2445],\n",
       "         [-0.3998, -0.0590, -1.1843]], dtype=torch.float64),\n",
       " 'has_smell_deviating_resolution': False,\n",
       " 'has_smell_mismatching_surface_annotation': True,\n",
       " 'directions': array([[ 0.2312123 ,  0.49540956,  0.83732243],\n",
       "        [ 0.22160956,  0.49281248,  0.84144143],\n",
       "        [ 0.23217206,  0.50438927,  0.83167675],\n",
       "        ...,\n",
       "        [ 0.63972263,  0.44532439,  0.62645009],\n",
       "        [-0.09230155,  0.18311987,  0.97874714],\n",
       "        [ 0.31948611,  0.04716444,  0.94641563]]),\n",
       " 'num_surfaces': 2,\n",
       " 'has_smell_coarse_surfaces_by_angles': False,\n",
       " 'normals': array([[-2.60725149e-01, -4.89238307e-03, -9.65400674e-01],\n",
       "        [-2.60725149e-01, -4.89238307e-03, -9.65400674e-01],\n",
       "        [-2.58912183e-01,  3.41848569e-04, -9.65900544e-01],\n",
       "        ...,\n",
       "        [-7.09599188e-01, -6.08706825e-03, -7.04579264e-01],\n",
       "        [ 8.33330753e-02,  0.00000000e+00, -9.96521750e-01],\n",
       "        [-3.37330593e-01, -3.03580871e-03, -9.41381355e-01]]),\n",
       " 'has_sharp': True,\n",
       " 'num_sharp_curves': 3,\n",
       " 'item_id': b'00562680_58b11604439bd80f7ac94b80_000',\n",
       " 'has_smell_sharpness_discontinuities': False,\n",
       " 'has_smell_bad_face_sampling': False,\n",
       " 'distances': tensor([1., 1., 1.,  ..., 1., 1., 1.], dtype=torch.float64),\n",
       " 'has_smell_coarse_surfaces_by_num_faces': False}"
      ]
     },
     "execution_count": 18,
     "metadata": {},
     "output_type": "execute_result"
    }
   ],
   "source": [
    "item"
   ]
  },
  {
   "cell_type": "code",
   "execution_count": 98,
   "metadata": {},
   "outputs": [],
   "source": [
    "from sharpf.utils.abc_utils.abc.abc_data import ABCModality, ABCChunk, ABC_7Z_FILEMASK\n",
    "from sharpf.utils.abc_utils.mesh.io import trimesh_load\n",
    "import yaml\n",
    "from sharpf.utils.abc_utils.abc.feature_utils import compute_features_nbhood, remove_boundary_features, get_curves_extents, get_boundary_vertex_indexes\n",
    "from sharpf.utils.abc_utils.mesh.indexing import reindex_zerobased, compute_relative_indexes\n",
    "from copy import deepcopy"
   ]
  },
  {
   "cell_type": "code",
   "execution_count": 59,
   "metadata": {},
   "outputs": [],
   "source": [
    "data_holder =  ABCChunk(['/data/abc/abc_0056_obj_v00.7z', '/data/abc/abc_0056_feat_v00.7z'])"
   ]
  },
  {
   "cell_type": "code",
   "execution_count": 62,
   "metadata": {},
   "outputs": [],
   "source": [
    "abc_item = data_holder.get(item['item_id'].decode(\"utf-8\")) "
   ]
  },
  {
   "cell_type": "code",
   "execution_count": 64,
   "metadata": {},
   "outputs": [],
   "source": [
    "# mesh, vertex_normals, vertex_normal_indices = trimesh_load(item.obj)\n",
    "mesh, _, _ = trimesh_load(abc_item.obj)\n",
    "\n",
    "features = yaml.load(abc_item.feat, Loader=yaml.Loader)"
   ]
  },
  {
   "cell_type": "code",
   "execution_count": 99,
   "metadata": {},
   "outputs": [],
   "source": [
    "def remove_boundary_features(mesh, features, how='none'):\n",
    "    \"\"\"Removes features indexed into vertex edges adjacent to 1 face only.\n",
    "    :param how: 'all_verts': remove entire feature curve if all vertices are boundary\n",
    "                'edges': remove vertices that belong to boundary edges only (not to other edges)\n",
    "                'verts': remove vertices that are boundary\n",
    "                'none': do nothing\n",
    "    \"\"\"\n",
    "    if how == 'none':\n",
    "        return features\n",
    "\n",
    "    boundary_vertex_indexes, boundary_edges = get_boundary_vertex_indexes(mesh)\n",
    "\n",
    "    non_boundary_curves = []\n",
    "    for curve in features['curves']:\n",
    "        non_boundary_curve = deepcopy(curve)\n",
    "\n",
    "        if how == 'all_verts':\n",
    "            if np.all([vert_index in boundary_vertex_indexes\n",
    "                       for vert_index in curve['vert_indices']]):\n",
    "                continue\n",
    "\n",
    "        elif how == 'verts':\n",
    "            non_boundary_vert_indices = np.array([\n",
    "                vert_index for vert_index in curve['vert_indices']\n",
    "                if vert_index not in boundary_vertex_indexes\n",
    "            ])\n",
    "            if len(non_boundary_vert_indices) == 0:\n",
    "                continue\n",
    "            non_boundary_curve['vert_indices'] = non_boundary_vert_indices\n",
    "\n",
    "        elif how == 'edges':\n",
    "            curve_edges = mesh.edges_unique[\n",
    "                np.where(\n",
    "                    np.all(np.isin(mesh.edges_unique, curve['vert_indices']), axis=1)\n",
    "                )[0]\n",
    "            ]\n",
    "            non_boundary = (curve_edges[:, None] != boundary_edges).any(2).all(1)\n",
    "            non_boundary_vert_indices = np.unique(curve_edges[non_boundary])\n",
    "            if len(non_boundary_vert_indices) == 0:\n",
    "                continue\n",
    "            non_boundary_curve['vert_indices'] = non_boundary_vert_indices\n",
    "\n",
    "        non_boundary_curves.append(non_boundary_curve)\n",
    "\n",
    "    non_boundary_features = {\n",
    "        'curves': non_boundary_curves,\n",
    "        'surfaces': features.get('surfaces', [])\n",
    "    }\n",
    "    return non_boundary_features\n"
   ]
  },
  {
   "cell_type": "code",
   "execution_count": 100,
   "metadata": {},
   "outputs": [],
   "source": [
    "mesh_face_indexes = item['orig_face_indexes']\n",
    "mesh_vertex_indexes = item['orig_vert_indices']\n",
    "\n",
    "nbhood = reindex_zerobased(mesh, mesh_vertex_indexes, mesh_face_indexes)\n",
    "\n",
    "nbhood_features = compute_features_nbhood(mesh, features, mesh_face_indexes, mesh_vertex_indexes)\n",
    "\n",
    "nbhood_features2 = remove_boundary_features(nbhood, nbhood_features, how='edges')\n"
   ]
  },
  {
   "cell_type": "code",
   "execution_count": 101,
   "metadata": {},
   "outputs": [
    {
     "data": {
      "text/plain": [
       "(4, 1)"
      ]
     },
     "execution_count": 101,
     "metadata": {},
     "output_type": "execute_result"
    }
   ],
   "source": [
    "len(nbhood_features['curves']), len(nbhood_features2['curves'])"
   ]
  },
  {
   "cell_type": "code",
   "execution_count": 107,
   "metadata": {},
   "outputs": [],
   "source": [
    "import tqdm"
   ]
  },
  {
   "cell_type": "code",
   "execution_count": 110,
   "metadata": {},
   "outputs": [],
   "source": [
    "def get_num_sharp_curves(dataset):\n",
    "    \n",
    "    num_sharp_curves_by_item = []\n",
    "    \n",
    "    with ABCChunk(['/data/abc/abc_0056_obj_v00.7z', '/data/abc/abc_0056_feat_v00.7z']) as data_holder:\n",
    "        \n",
    "        for abc_item in tqdm.tqdm(data_holder):\n",
    "            mesh, _, _ = trimesh_load(abc_item.obj)\n",
    "            features = yaml.load(abc_item.feat, Loader=yaml.Loader)\n",
    "\n",
    "            \n",
    "        \n",
    "#         for item in tqdm.tqdm(dataset):\n",
    "\n",
    "#             abc_item = data_holder.get(item['item_id'].decode(\"utf-8\")) \n",
    "#             # mesh, vertex_normals, vertex_normal_indices = trimesh_load(item.obj)\n",
    "#             mesh, _, _ = trimesh_load(abc_item.obj)\n",
    "#             features = yaml.load(abc_item.feat, Loader=yaml.Loader)\n",
    "\n",
    "\n",
    "#         mesh_face_indexes = item['orig_face_indexes']\n",
    "#         mesh_vertex_indexes = item['orig_vert_indices']\n",
    "\n",
    "\n",
    "#         nbhood = reindex_zerobased(mesh, mesh_vertex_indexes, mesh_face_indexes)\n",
    "\n",
    "#         nbhood_features = compute_features_nbhood(mesh, features, mesh_face_indexes, mesh_vertex_indexes)\n",
    "\n",
    "#         nbhood_features = remove_boundary_features(nbhood, nbhood_features, how='edges')\n",
    "\n",
    "#         num_sharp_curves = len([\n",
    "#             curve for curve in nbhood_features['curves']\n",
    "#             if curve['sharp']])\n",
    "        \n",
    "        num_sharp_curves_by_item.append(0)\n",
    "        num_sharp_curves_by_item.append(num_sharp_curves)\n",
    "        \n",
    "    return num_sharp_curves_by_item"
   ]
  },
  {
   "cell_type": "code",
   "execution_count": 111,
   "metadata": {},
   "outputs": [
    {
     "name": "stderr",
     "output_type": "stream",
     "text": [
      "  2%|▏         | 175/7846 [1:11:26<52:11:35, 24.49s/it] \n"
     ]
    },
    {
     "ename": "KeyboardInterrupt",
     "evalue": "",
     "output_type": "error",
     "traceback": [
      "\u001b[0;31m---------------------------------------------------------------------------\u001b[0m",
      "\u001b[0;31mKeyboardInterrupt\u001b[0m                         Traceback (most recent call last)",
      "\u001b[0;32m<ipython-input-111-a98d6ce0c1dd>\u001b[0m in \u001b[0;36m<module>\u001b[0;34m\u001b[0m\n\u001b[0;32m----> 1\u001b[0;31m \u001b[0mget_num_sharp_curves\u001b[0m\u001b[0;34m(\u001b[0m\u001b[0mdataset\u001b[0m\u001b[0;34m)\u001b[0m\u001b[0;34m\u001b[0m\u001b[0m\n\u001b[0m",
      "\u001b[0;32m<ipython-input-110-6944e8322c7c>\u001b[0m in \u001b[0;36mget_num_sharp_curves\u001b[0;34m(dataset)\u001b[0m\n\u001b[1;32m      7\u001b[0m         \u001b[0;32mfor\u001b[0m \u001b[0mabc_item\u001b[0m \u001b[0;32min\u001b[0m \u001b[0mtqdm\u001b[0m\u001b[0;34m.\u001b[0m\u001b[0mtqdm\u001b[0m\u001b[0;34m(\u001b[0m\u001b[0mdata_holder\u001b[0m\u001b[0;34m)\u001b[0m\u001b[0;34m:\u001b[0m\u001b[0;34m\u001b[0m\u001b[0m\n\u001b[1;32m      8\u001b[0m             \u001b[0mmesh\u001b[0m\u001b[0;34m,\u001b[0m \u001b[0m_\u001b[0m\u001b[0;34m,\u001b[0m \u001b[0m_\u001b[0m \u001b[0;34m=\u001b[0m \u001b[0mtrimesh_load\u001b[0m\u001b[0;34m(\u001b[0m\u001b[0mabc_item\u001b[0m\u001b[0;34m.\u001b[0m\u001b[0mobj\u001b[0m\u001b[0;34m)\u001b[0m\u001b[0;34m\u001b[0m\u001b[0m\n\u001b[0;32m----> 9\u001b[0;31m             \u001b[0mfeatures\u001b[0m \u001b[0;34m=\u001b[0m \u001b[0myaml\u001b[0m\u001b[0;34m.\u001b[0m\u001b[0mload\u001b[0m\u001b[0;34m(\u001b[0m\u001b[0mabc_item\u001b[0m\u001b[0;34m.\u001b[0m\u001b[0mfeat\u001b[0m\u001b[0;34m,\u001b[0m \u001b[0mLoader\u001b[0m\u001b[0;34m=\u001b[0m\u001b[0myaml\u001b[0m\u001b[0;34m.\u001b[0m\u001b[0mLoader\u001b[0m\u001b[0;34m)\u001b[0m\u001b[0;34m\u001b[0m\u001b[0m\n\u001b[0m\u001b[1;32m     10\u001b[0m \u001b[0;34m\u001b[0m\u001b[0m\n\u001b[1;32m     11\u001b[0m \u001b[0;34m\u001b[0m\u001b[0m\n",
      "\u001b[0;32m~/miniconda/envs/py36/lib/python3.6/site-packages/yaml/__init__.py\u001b[0m in \u001b[0;36mload\u001b[0;34m(stream, Loader)\u001b[0m\n\u001b[1;32m    112\u001b[0m     \u001b[0mloader\u001b[0m \u001b[0;34m=\u001b[0m \u001b[0mLoader\u001b[0m\u001b[0;34m(\u001b[0m\u001b[0mstream\u001b[0m\u001b[0;34m)\u001b[0m\u001b[0;34m\u001b[0m\u001b[0m\n\u001b[1;32m    113\u001b[0m     \u001b[0;32mtry\u001b[0m\u001b[0;34m:\u001b[0m\u001b[0;34m\u001b[0m\u001b[0m\n\u001b[0;32m--> 114\u001b[0;31m         \u001b[0;32mreturn\u001b[0m \u001b[0mloader\u001b[0m\u001b[0;34m.\u001b[0m\u001b[0mget_single_data\u001b[0m\u001b[0;34m(\u001b[0m\u001b[0;34m)\u001b[0m\u001b[0;34m\u001b[0m\u001b[0m\n\u001b[0m\u001b[1;32m    115\u001b[0m     \u001b[0;32mfinally\u001b[0m\u001b[0;34m:\u001b[0m\u001b[0;34m\u001b[0m\u001b[0m\n\u001b[1;32m    116\u001b[0m         \u001b[0mloader\u001b[0m\u001b[0;34m.\u001b[0m\u001b[0mdispose\u001b[0m\u001b[0;34m(\u001b[0m\u001b[0;34m)\u001b[0m\u001b[0;34m\u001b[0m\u001b[0m\n",
      "\u001b[0;32m~/miniconda/envs/py36/lib/python3.6/site-packages/yaml/constructor.py\u001b[0m in \u001b[0;36mget_single_data\u001b[0;34m(self)\u001b[0m\n\u001b[1;32m     47\u001b[0m     \u001b[0;32mdef\u001b[0m \u001b[0mget_single_data\u001b[0m\u001b[0;34m(\u001b[0m\u001b[0mself\u001b[0m\u001b[0;34m)\u001b[0m\u001b[0;34m:\u001b[0m\u001b[0;34m\u001b[0m\u001b[0m\n\u001b[1;32m     48\u001b[0m         \u001b[0;31m# Ensure that the stream contains a single document and construct it.\u001b[0m\u001b[0;34m\u001b[0m\u001b[0;34m\u001b[0m\u001b[0m\n\u001b[0;32m---> 49\u001b[0;31m         \u001b[0mnode\u001b[0m \u001b[0;34m=\u001b[0m \u001b[0mself\u001b[0m\u001b[0;34m.\u001b[0m\u001b[0mget_single_node\u001b[0m\u001b[0;34m(\u001b[0m\u001b[0;34m)\u001b[0m\u001b[0;34m\u001b[0m\u001b[0m\n\u001b[0m\u001b[1;32m     50\u001b[0m         \u001b[0;32mif\u001b[0m \u001b[0mnode\u001b[0m \u001b[0;32mis\u001b[0m \u001b[0;32mnot\u001b[0m \u001b[0;32mNone\u001b[0m\u001b[0;34m:\u001b[0m\u001b[0;34m\u001b[0m\u001b[0m\n\u001b[1;32m     51\u001b[0m             \u001b[0;32mreturn\u001b[0m \u001b[0mself\u001b[0m\u001b[0;34m.\u001b[0m\u001b[0mconstruct_document\u001b[0m\u001b[0;34m(\u001b[0m\u001b[0mnode\u001b[0m\u001b[0;34m)\u001b[0m\u001b[0;34m\u001b[0m\u001b[0m\n",
      "\u001b[0;32m~/miniconda/envs/py36/lib/python3.6/site-packages/yaml/composer.py\u001b[0m in \u001b[0;36mget_single_node\u001b[0;34m(self)\u001b[0m\n\u001b[1;32m     34\u001b[0m         \u001b[0mdocument\u001b[0m \u001b[0;34m=\u001b[0m \u001b[0;32mNone\u001b[0m\u001b[0;34m\u001b[0m\u001b[0m\n\u001b[1;32m     35\u001b[0m         \u001b[0;32mif\u001b[0m \u001b[0;32mnot\u001b[0m \u001b[0mself\u001b[0m\u001b[0;34m.\u001b[0m\u001b[0mcheck_event\u001b[0m\u001b[0;34m(\u001b[0m\u001b[0mStreamEndEvent\u001b[0m\u001b[0;34m)\u001b[0m\u001b[0;34m:\u001b[0m\u001b[0;34m\u001b[0m\u001b[0m\n\u001b[0;32m---> 36\u001b[0;31m             \u001b[0mdocument\u001b[0m \u001b[0;34m=\u001b[0m \u001b[0mself\u001b[0m\u001b[0;34m.\u001b[0m\u001b[0mcompose_document\u001b[0m\u001b[0;34m(\u001b[0m\u001b[0;34m)\u001b[0m\u001b[0;34m\u001b[0m\u001b[0m\n\u001b[0m\u001b[1;32m     37\u001b[0m \u001b[0;34m\u001b[0m\u001b[0m\n\u001b[1;32m     38\u001b[0m         \u001b[0;31m# Ensure that the stream contains no more documents.\u001b[0m\u001b[0;34m\u001b[0m\u001b[0;34m\u001b[0m\u001b[0m\n",
      "\u001b[0;32m~/miniconda/envs/py36/lib/python3.6/site-packages/yaml/composer.py\u001b[0m in \u001b[0;36mcompose_document\u001b[0;34m(self)\u001b[0m\n\u001b[1;32m     53\u001b[0m \u001b[0;34m\u001b[0m\u001b[0m\n\u001b[1;32m     54\u001b[0m         \u001b[0;31m# Compose the root node.\u001b[0m\u001b[0;34m\u001b[0m\u001b[0;34m\u001b[0m\u001b[0m\n\u001b[0;32m---> 55\u001b[0;31m         \u001b[0mnode\u001b[0m \u001b[0;34m=\u001b[0m \u001b[0mself\u001b[0m\u001b[0;34m.\u001b[0m\u001b[0mcompose_node\u001b[0m\u001b[0;34m(\u001b[0m\u001b[0;32mNone\u001b[0m\u001b[0;34m,\u001b[0m \u001b[0;32mNone\u001b[0m\u001b[0;34m)\u001b[0m\u001b[0;34m\u001b[0m\u001b[0m\n\u001b[0m\u001b[1;32m     56\u001b[0m \u001b[0;34m\u001b[0m\u001b[0m\n\u001b[1;32m     57\u001b[0m         \u001b[0;31m# Drop the DOCUMENT-END event.\u001b[0m\u001b[0;34m\u001b[0m\u001b[0;34m\u001b[0m\u001b[0m\n",
      "\u001b[0;32m~/miniconda/envs/py36/lib/python3.6/site-packages/yaml/composer.py\u001b[0m in \u001b[0;36mcompose_node\u001b[0;34m(self, parent, index)\u001b[0m\n\u001b[1;32m     82\u001b[0m             \u001b[0mnode\u001b[0m \u001b[0;34m=\u001b[0m \u001b[0mself\u001b[0m\u001b[0;34m.\u001b[0m\u001b[0mcompose_sequence_node\u001b[0m\u001b[0;34m(\u001b[0m\u001b[0manchor\u001b[0m\u001b[0;34m)\u001b[0m\u001b[0;34m\u001b[0m\u001b[0m\n\u001b[1;32m     83\u001b[0m         \u001b[0;32melif\u001b[0m \u001b[0mself\u001b[0m\u001b[0;34m.\u001b[0m\u001b[0mcheck_event\u001b[0m\u001b[0;34m(\u001b[0m\u001b[0mMappingStartEvent\u001b[0m\u001b[0;34m)\u001b[0m\u001b[0;34m:\u001b[0m\u001b[0;34m\u001b[0m\u001b[0m\n\u001b[0;32m---> 84\u001b[0;31m             \u001b[0mnode\u001b[0m \u001b[0;34m=\u001b[0m \u001b[0mself\u001b[0m\u001b[0;34m.\u001b[0m\u001b[0mcompose_mapping_node\u001b[0m\u001b[0;34m(\u001b[0m\u001b[0manchor\u001b[0m\u001b[0;34m)\u001b[0m\u001b[0;34m\u001b[0m\u001b[0m\n\u001b[0m\u001b[1;32m     85\u001b[0m         \u001b[0mself\u001b[0m\u001b[0;34m.\u001b[0m\u001b[0mascend_resolver\u001b[0m\u001b[0;34m(\u001b[0m\u001b[0;34m)\u001b[0m\u001b[0;34m\u001b[0m\u001b[0m\n\u001b[1;32m     86\u001b[0m         \u001b[0;32mreturn\u001b[0m \u001b[0mnode\u001b[0m\u001b[0;34m\u001b[0m\u001b[0m\n",
      "\u001b[0;32m~/miniconda/envs/py36/lib/python3.6/site-packages/yaml/composer.py\u001b[0m in \u001b[0;36mcompose_mapping_node\u001b[0;34m(self, anchor)\u001b[0m\n\u001b[1;32m    131\u001b[0m             \u001b[0;31m#    raise ComposerError(\"while composing a mapping\", start_event.start_mark,\u001b[0m\u001b[0;34m\u001b[0m\u001b[0;34m\u001b[0m\u001b[0m\n\u001b[1;32m    132\u001b[0m             \u001b[0;31m#            \"found duplicate key\", key_event.start_mark)\u001b[0m\u001b[0;34m\u001b[0m\u001b[0;34m\u001b[0m\u001b[0m\n\u001b[0;32m--> 133\u001b[0;31m             \u001b[0mitem_value\u001b[0m \u001b[0;34m=\u001b[0m \u001b[0mself\u001b[0m\u001b[0;34m.\u001b[0m\u001b[0mcompose_node\u001b[0m\u001b[0;34m(\u001b[0m\u001b[0mnode\u001b[0m\u001b[0;34m,\u001b[0m \u001b[0mitem_key\u001b[0m\u001b[0;34m)\u001b[0m\u001b[0;34m\u001b[0m\u001b[0m\n\u001b[0m\u001b[1;32m    134\u001b[0m             \u001b[0;31m#node.value[item_key] = item_value\u001b[0m\u001b[0;34m\u001b[0m\u001b[0;34m\u001b[0m\u001b[0m\n\u001b[1;32m    135\u001b[0m             \u001b[0mnode\u001b[0m\u001b[0;34m.\u001b[0m\u001b[0mvalue\u001b[0m\u001b[0;34m.\u001b[0m\u001b[0mappend\u001b[0m\u001b[0;34m(\u001b[0m\u001b[0;34m(\u001b[0m\u001b[0mitem_key\u001b[0m\u001b[0;34m,\u001b[0m \u001b[0mitem_value\u001b[0m\u001b[0;34m)\u001b[0m\u001b[0;34m)\u001b[0m\u001b[0;34m\u001b[0m\u001b[0m\n",
      "\u001b[0;32m~/miniconda/envs/py36/lib/python3.6/site-packages/yaml/composer.py\u001b[0m in \u001b[0;36mcompose_node\u001b[0;34m(self, parent, index)\u001b[0m\n\u001b[1;32m     80\u001b[0m             \u001b[0mnode\u001b[0m \u001b[0;34m=\u001b[0m \u001b[0mself\u001b[0m\u001b[0;34m.\u001b[0m\u001b[0mcompose_scalar_node\u001b[0m\u001b[0;34m(\u001b[0m\u001b[0manchor\u001b[0m\u001b[0;34m)\u001b[0m\u001b[0;34m\u001b[0m\u001b[0m\n\u001b[1;32m     81\u001b[0m         \u001b[0;32melif\u001b[0m \u001b[0mself\u001b[0m\u001b[0;34m.\u001b[0m\u001b[0mcheck_event\u001b[0m\u001b[0;34m(\u001b[0m\u001b[0mSequenceStartEvent\u001b[0m\u001b[0;34m)\u001b[0m\u001b[0;34m:\u001b[0m\u001b[0;34m\u001b[0m\u001b[0m\n\u001b[0;32m---> 82\u001b[0;31m             \u001b[0mnode\u001b[0m \u001b[0;34m=\u001b[0m \u001b[0mself\u001b[0m\u001b[0;34m.\u001b[0m\u001b[0mcompose_sequence_node\u001b[0m\u001b[0;34m(\u001b[0m\u001b[0manchor\u001b[0m\u001b[0;34m)\u001b[0m\u001b[0;34m\u001b[0m\u001b[0m\n\u001b[0m\u001b[1;32m     83\u001b[0m         \u001b[0;32melif\u001b[0m \u001b[0mself\u001b[0m\u001b[0;34m.\u001b[0m\u001b[0mcheck_event\u001b[0m\u001b[0;34m(\u001b[0m\u001b[0mMappingStartEvent\u001b[0m\u001b[0;34m)\u001b[0m\u001b[0;34m:\u001b[0m\u001b[0;34m\u001b[0m\u001b[0m\n\u001b[1;32m     84\u001b[0m             \u001b[0mnode\u001b[0m \u001b[0;34m=\u001b[0m \u001b[0mself\u001b[0m\u001b[0;34m.\u001b[0m\u001b[0mcompose_mapping_node\u001b[0m\u001b[0;34m(\u001b[0m\u001b[0manchor\u001b[0m\u001b[0;34m)\u001b[0m\u001b[0;34m\u001b[0m\u001b[0m\n",
      "\u001b[0;32m~/miniconda/envs/py36/lib/python3.6/site-packages/yaml/composer.py\u001b[0m in \u001b[0;36mcompose_sequence_node\u001b[0;34m(self, anchor)\u001b[0m\n\u001b[1;32m    109\u001b[0m         \u001b[0mindex\u001b[0m \u001b[0;34m=\u001b[0m \u001b[0;36m0\u001b[0m\u001b[0;34m\u001b[0m\u001b[0m\n\u001b[1;32m    110\u001b[0m         \u001b[0;32mwhile\u001b[0m \u001b[0;32mnot\u001b[0m \u001b[0mself\u001b[0m\u001b[0;34m.\u001b[0m\u001b[0mcheck_event\u001b[0m\u001b[0;34m(\u001b[0m\u001b[0mSequenceEndEvent\u001b[0m\u001b[0;34m)\u001b[0m\u001b[0;34m:\u001b[0m\u001b[0;34m\u001b[0m\u001b[0m\n\u001b[0;32m--> 111\u001b[0;31m             \u001b[0mnode\u001b[0m\u001b[0;34m.\u001b[0m\u001b[0mvalue\u001b[0m\u001b[0;34m.\u001b[0m\u001b[0mappend\u001b[0m\u001b[0;34m(\u001b[0m\u001b[0mself\u001b[0m\u001b[0;34m.\u001b[0m\u001b[0mcompose_node\u001b[0m\u001b[0;34m(\u001b[0m\u001b[0mnode\u001b[0m\u001b[0;34m,\u001b[0m \u001b[0mindex\u001b[0m\u001b[0;34m)\u001b[0m\u001b[0;34m)\u001b[0m\u001b[0;34m\u001b[0m\u001b[0m\n\u001b[0m\u001b[1;32m    112\u001b[0m             \u001b[0mindex\u001b[0m \u001b[0;34m+=\u001b[0m \u001b[0;36m1\u001b[0m\u001b[0;34m\u001b[0m\u001b[0m\n\u001b[1;32m    113\u001b[0m         \u001b[0mend_event\u001b[0m \u001b[0;34m=\u001b[0m \u001b[0mself\u001b[0m\u001b[0;34m.\u001b[0m\u001b[0mget_event\u001b[0m\u001b[0;34m(\u001b[0m\u001b[0;34m)\u001b[0m\u001b[0;34m\u001b[0m\u001b[0m\n",
      "\u001b[0;32m~/miniconda/envs/py36/lib/python3.6/site-packages/yaml/composer.py\u001b[0m in \u001b[0;36mcompose_node\u001b[0;34m(self, parent, index)\u001b[0m\n\u001b[1;32m     82\u001b[0m             \u001b[0mnode\u001b[0m \u001b[0;34m=\u001b[0m \u001b[0mself\u001b[0m\u001b[0;34m.\u001b[0m\u001b[0mcompose_sequence_node\u001b[0m\u001b[0;34m(\u001b[0m\u001b[0manchor\u001b[0m\u001b[0;34m)\u001b[0m\u001b[0;34m\u001b[0m\u001b[0m\n\u001b[1;32m     83\u001b[0m         \u001b[0;32melif\u001b[0m \u001b[0mself\u001b[0m\u001b[0;34m.\u001b[0m\u001b[0mcheck_event\u001b[0m\u001b[0;34m(\u001b[0m\u001b[0mMappingStartEvent\u001b[0m\u001b[0;34m)\u001b[0m\u001b[0;34m:\u001b[0m\u001b[0;34m\u001b[0m\u001b[0m\n\u001b[0;32m---> 84\u001b[0;31m             \u001b[0mnode\u001b[0m \u001b[0;34m=\u001b[0m \u001b[0mself\u001b[0m\u001b[0;34m.\u001b[0m\u001b[0mcompose_mapping_node\u001b[0m\u001b[0;34m(\u001b[0m\u001b[0manchor\u001b[0m\u001b[0;34m)\u001b[0m\u001b[0;34m\u001b[0m\u001b[0m\n\u001b[0m\u001b[1;32m     85\u001b[0m         \u001b[0mself\u001b[0m\u001b[0;34m.\u001b[0m\u001b[0mascend_resolver\u001b[0m\u001b[0;34m(\u001b[0m\u001b[0;34m)\u001b[0m\u001b[0;34m\u001b[0m\u001b[0m\n\u001b[1;32m     86\u001b[0m         \u001b[0;32mreturn\u001b[0m \u001b[0mnode\u001b[0m\u001b[0;34m\u001b[0m\u001b[0m\n",
      "\u001b[0;32m~/miniconda/envs/py36/lib/python3.6/site-packages/yaml/composer.py\u001b[0m in \u001b[0;36mcompose_mapping_node\u001b[0;34m(self, anchor)\u001b[0m\n\u001b[1;32m    131\u001b[0m             \u001b[0;31m#    raise ComposerError(\"while composing a mapping\", start_event.start_mark,\u001b[0m\u001b[0;34m\u001b[0m\u001b[0;34m\u001b[0m\u001b[0m\n\u001b[1;32m    132\u001b[0m             \u001b[0;31m#            \"found duplicate key\", key_event.start_mark)\u001b[0m\u001b[0;34m\u001b[0m\u001b[0;34m\u001b[0m\u001b[0m\n\u001b[0;32m--> 133\u001b[0;31m             \u001b[0mitem_value\u001b[0m \u001b[0;34m=\u001b[0m \u001b[0mself\u001b[0m\u001b[0;34m.\u001b[0m\u001b[0mcompose_node\u001b[0m\u001b[0;34m(\u001b[0m\u001b[0mnode\u001b[0m\u001b[0;34m,\u001b[0m \u001b[0mitem_key\u001b[0m\u001b[0;34m)\u001b[0m\u001b[0;34m\u001b[0m\u001b[0m\n\u001b[0m\u001b[1;32m    134\u001b[0m             \u001b[0;31m#node.value[item_key] = item_value\u001b[0m\u001b[0;34m\u001b[0m\u001b[0;34m\u001b[0m\u001b[0m\n\u001b[1;32m    135\u001b[0m             \u001b[0mnode\u001b[0m\u001b[0;34m.\u001b[0m\u001b[0mvalue\u001b[0m\u001b[0;34m.\u001b[0m\u001b[0mappend\u001b[0m\u001b[0;34m(\u001b[0m\u001b[0;34m(\u001b[0m\u001b[0mitem_key\u001b[0m\u001b[0;34m,\u001b[0m \u001b[0mitem_value\u001b[0m\u001b[0;34m)\u001b[0m\u001b[0;34m)\u001b[0m\u001b[0;34m\u001b[0m\u001b[0m\n",
      "\u001b[0;32m~/miniconda/envs/py36/lib/python3.6/site-packages/yaml/composer.py\u001b[0m in \u001b[0;36mcompose_node\u001b[0;34m(self, parent, index)\u001b[0m\n\u001b[1;32m     80\u001b[0m             \u001b[0mnode\u001b[0m \u001b[0;34m=\u001b[0m \u001b[0mself\u001b[0m\u001b[0;34m.\u001b[0m\u001b[0mcompose_scalar_node\u001b[0m\u001b[0;34m(\u001b[0m\u001b[0manchor\u001b[0m\u001b[0;34m)\u001b[0m\u001b[0;34m\u001b[0m\u001b[0m\n\u001b[1;32m     81\u001b[0m         \u001b[0;32melif\u001b[0m \u001b[0mself\u001b[0m\u001b[0;34m.\u001b[0m\u001b[0mcheck_event\u001b[0m\u001b[0;34m(\u001b[0m\u001b[0mSequenceStartEvent\u001b[0m\u001b[0;34m)\u001b[0m\u001b[0;34m:\u001b[0m\u001b[0;34m\u001b[0m\u001b[0m\n\u001b[0;32m---> 82\u001b[0;31m             \u001b[0mnode\u001b[0m \u001b[0;34m=\u001b[0m \u001b[0mself\u001b[0m\u001b[0;34m.\u001b[0m\u001b[0mcompose_sequence_node\u001b[0m\u001b[0;34m(\u001b[0m\u001b[0manchor\u001b[0m\u001b[0;34m)\u001b[0m\u001b[0;34m\u001b[0m\u001b[0m\n\u001b[0m\u001b[1;32m     83\u001b[0m         \u001b[0;32melif\u001b[0m \u001b[0mself\u001b[0m\u001b[0;34m.\u001b[0m\u001b[0mcheck_event\u001b[0m\u001b[0;34m(\u001b[0m\u001b[0mMappingStartEvent\u001b[0m\u001b[0;34m)\u001b[0m\u001b[0;34m:\u001b[0m\u001b[0;34m\u001b[0m\u001b[0m\n\u001b[1;32m     84\u001b[0m             \u001b[0mnode\u001b[0m \u001b[0;34m=\u001b[0m \u001b[0mself\u001b[0m\u001b[0;34m.\u001b[0m\u001b[0mcompose_mapping_node\u001b[0m\u001b[0;34m(\u001b[0m\u001b[0manchor\u001b[0m\u001b[0;34m)\u001b[0m\u001b[0;34m\u001b[0m\u001b[0m\n",
      "\u001b[0;32m~/miniconda/envs/py36/lib/python3.6/site-packages/yaml/composer.py\u001b[0m in \u001b[0;36mcompose_sequence_node\u001b[0;34m(self, anchor)\u001b[0m\n\u001b[1;32m    108\u001b[0m             \u001b[0mself\u001b[0m\u001b[0;34m.\u001b[0m\u001b[0manchors\u001b[0m\u001b[0;34m[\u001b[0m\u001b[0manchor\u001b[0m\u001b[0;34m]\u001b[0m \u001b[0;34m=\u001b[0m \u001b[0mnode\u001b[0m\u001b[0;34m\u001b[0m\u001b[0m\n\u001b[1;32m    109\u001b[0m         \u001b[0mindex\u001b[0m \u001b[0;34m=\u001b[0m \u001b[0;36m0\u001b[0m\u001b[0;34m\u001b[0m\u001b[0m\n\u001b[0;32m--> 110\u001b[0;31m         \u001b[0;32mwhile\u001b[0m \u001b[0;32mnot\u001b[0m \u001b[0mself\u001b[0m\u001b[0;34m.\u001b[0m\u001b[0mcheck_event\u001b[0m\u001b[0;34m(\u001b[0m\u001b[0mSequenceEndEvent\u001b[0m\u001b[0;34m)\u001b[0m\u001b[0;34m:\u001b[0m\u001b[0;34m\u001b[0m\u001b[0m\n\u001b[0m\u001b[1;32m    111\u001b[0m             \u001b[0mnode\u001b[0m\u001b[0;34m.\u001b[0m\u001b[0mvalue\u001b[0m\u001b[0;34m.\u001b[0m\u001b[0mappend\u001b[0m\u001b[0;34m(\u001b[0m\u001b[0mself\u001b[0m\u001b[0;34m.\u001b[0m\u001b[0mcompose_node\u001b[0m\u001b[0;34m(\u001b[0m\u001b[0mnode\u001b[0m\u001b[0;34m,\u001b[0m \u001b[0mindex\u001b[0m\u001b[0;34m)\u001b[0m\u001b[0;34m)\u001b[0m\u001b[0;34m\u001b[0m\u001b[0m\n\u001b[1;32m    112\u001b[0m             \u001b[0mindex\u001b[0m \u001b[0;34m+=\u001b[0m \u001b[0;36m1\u001b[0m\u001b[0;34m\u001b[0m\u001b[0m\n",
      "\u001b[0;32m~/miniconda/envs/py36/lib/python3.6/site-packages/yaml/parser.py\u001b[0m in \u001b[0;36mcheck_event\u001b[0;34m(self, *choices)\u001b[0m\n\u001b[1;32m     96\u001b[0m         \u001b[0;32mif\u001b[0m \u001b[0mself\u001b[0m\u001b[0;34m.\u001b[0m\u001b[0mcurrent_event\u001b[0m \u001b[0;32mis\u001b[0m \u001b[0;32mNone\u001b[0m\u001b[0;34m:\u001b[0m\u001b[0;34m\u001b[0m\u001b[0m\n\u001b[1;32m     97\u001b[0m             \u001b[0;32mif\u001b[0m \u001b[0mself\u001b[0m\u001b[0;34m.\u001b[0m\u001b[0mstate\u001b[0m\u001b[0;34m:\u001b[0m\u001b[0;34m\u001b[0m\u001b[0m\n\u001b[0;32m---> 98\u001b[0;31m                 \u001b[0mself\u001b[0m\u001b[0;34m.\u001b[0m\u001b[0mcurrent_event\u001b[0m \u001b[0;34m=\u001b[0m \u001b[0mself\u001b[0m\u001b[0;34m.\u001b[0m\u001b[0mstate\u001b[0m\u001b[0;34m(\u001b[0m\u001b[0;34m)\u001b[0m\u001b[0;34m\u001b[0m\u001b[0m\n\u001b[0m\u001b[1;32m     99\u001b[0m         \u001b[0;32mif\u001b[0m \u001b[0mself\u001b[0m\u001b[0;34m.\u001b[0m\u001b[0mcurrent_event\u001b[0m \u001b[0;32mis\u001b[0m \u001b[0;32mnot\u001b[0m \u001b[0;32mNone\u001b[0m\u001b[0;34m:\u001b[0m\u001b[0;34m\u001b[0m\u001b[0m\n\u001b[1;32m    100\u001b[0m             \u001b[0;32mif\u001b[0m \u001b[0;32mnot\u001b[0m \u001b[0mchoices\u001b[0m\u001b[0;34m:\u001b[0m\u001b[0;34m\u001b[0m\u001b[0m\n",
      "\u001b[0;32m~/miniconda/envs/py36/lib/python3.6/site-packages/yaml/parser.py\u001b[0m in \u001b[0;36mparse_flow_sequence_entry\u001b[0;34m(self, first)\u001b[0m\n\u001b[1;32m    484\u001b[0m                             \"expected ',' or ']', but got %r\" % token.id, token.start_mark)\n\u001b[1;32m    485\u001b[0m \u001b[0;34m\u001b[0m\u001b[0m\n\u001b[0;32m--> 486\u001b[0;31m             \u001b[0;32mif\u001b[0m \u001b[0mself\u001b[0m\u001b[0;34m.\u001b[0m\u001b[0mcheck_token\u001b[0m\u001b[0;34m(\u001b[0m\u001b[0mKeyToken\u001b[0m\u001b[0;34m)\u001b[0m\u001b[0;34m:\u001b[0m\u001b[0;34m\u001b[0m\u001b[0m\n\u001b[0m\u001b[1;32m    487\u001b[0m                 \u001b[0mtoken\u001b[0m \u001b[0;34m=\u001b[0m \u001b[0mself\u001b[0m\u001b[0;34m.\u001b[0m\u001b[0mpeek_token\u001b[0m\u001b[0;34m(\u001b[0m\u001b[0;34m)\u001b[0m\u001b[0;34m\u001b[0m\u001b[0m\n\u001b[1;32m    488\u001b[0m                 event = MappingStartEvent(None, None, True,\n",
      "\u001b[0;32m~/miniconda/envs/py36/lib/python3.6/site-packages/yaml/scanner.py\u001b[0m in \u001b[0;36mcheck_token\u001b[0;34m(self, *choices)\u001b[0m\n\u001b[1;32m    114\u001b[0m         \u001b[0;31m# Check if the next token is one of the given types.\u001b[0m\u001b[0;34m\u001b[0m\u001b[0;34m\u001b[0m\u001b[0m\n\u001b[1;32m    115\u001b[0m         \u001b[0;32mwhile\u001b[0m \u001b[0mself\u001b[0m\u001b[0;34m.\u001b[0m\u001b[0mneed_more_tokens\u001b[0m\u001b[0;34m(\u001b[0m\u001b[0;34m)\u001b[0m\u001b[0;34m:\u001b[0m\u001b[0;34m\u001b[0m\u001b[0m\n\u001b[0;32m--> 116\u001b[0;31m             \u001b[0mself\u001b[0m\u001b[0;34m.\u001b[0m\u001b[0mfetch_more_tokens\u001b[0m\u001b[0;34m(\u001b[0m\u001b[0;34m)\u001b[0m\u001b[0;34m\u001b[0m\u001b[0m\n\u001b[0m\u001b[1;32m    117\u001b[0m         \u001b[0;32mif\u001b[0m \u001b[0mself\u001b[0m\u001b[0;34m.\u001b[0m\u001b[0mtokens\u001b[0m\u001b[0;34m:\u001b[0m\u001b[0;34m\u001b[0m\u001b[0m\n\u001b[1;32m    118\u001b[0m             \u001b[0;32mif\u001b[0m \u001b[0;32mnot\u001b[0m \u001b[0mchoices\u001b[0m\u001b[0;34m:\u001b[0m\u001b[0;34m\u001b[0m\u001b[0m\n",
      "\u001b[0;32m~/miniconda/envs/py36/lib/python3.6/site-packages/yaml/scanner.py\u001b[0m in \u001b[0;36mfetch_more_tokens\u001b[0;34m(self)\u001b[0m\n\u001b[1;32m    253\u001b[0m         \u001b[0;31m# It must be a plain scalar then.\u001b[0m\u001b[0;34m\u001b[0m\u001b[0;34m\u001b[0m\u001b[0m\n\u001b[1;32m    254\u001b[0m         \u001b[0;32mif\u001b[0m \u001b[0mself\u001b[0m\u001b[0;34m.\u001b[0m\u001b[0mcheck_plain\u001b[0m\u001b[0;34m(\u001b[0m\u001b[0;34m)\u001b[0m\u001b[0;34m:\u001b[0m\u001b[0;34m\u001b[0m\u001b[0m\n\u001b[0;32m--> 255\u001b[0;31m             \u001b[0;32mreturn\u001b[0m \u001b[0mself\u001b[0m\u001b[0;34m.\u001b[0m\u001b[0mfetch_plain\u001b[0m\u001b[0;34m(\u001b[0m\u001b[0;34m)\u001b[0m\u001b[0;34m\u001b[0m\u001b[0m\n\u001b[0m\u001b[1;32m    256\u001b[0m \u001b[0;34m\u001b[0m\u001b[0m\n\u001b[1;32m    257\u001b[0m         \u001b[0;31m# No? It's an error. Let's produce a nice error message.\u001b[0m\u001b[0;34m\u001b[0m\u001b[0;34m\u001b[0m\u001b[0m\n",
      "\u001b[0;32m~/miniconda/envs/py36/lib/python3.6/site-packages/yaml/scanner.py\u001b[0m in \u001b[0;36mfetch_plain\u001b[0;34m(self)\u001b[0m\n\u001b[1;32m    677\u001b[0m \u001b[0;34m\u001b[0m\u001b[0m\n\u001b[1;32m    678\u001b[0m         \u001b[0;31m# Scan and add SCALAR. May change `allow_simple_key`.\u001b[0m\u001b[0;34m\u001b[0m\u001b[0;34m\u001b[0m\u001b[0m\n\u001b[0;32m--> 679\u001b[0;31m         \u001b[0mself\u001b[0m\u001b[0;34m.\u001b[0m\u001b[0mtokens\u001b[0m\u001b[0;34m.\u001b[0m\u001b[0mappend\u001b[0m\u001b[0;34m(\u001b[0m\u001b[0mself\u001b[0m\u001b[0;34m.\u001b[0m\u001b[0mscan_plain\u001b[0m\u001b[0;34m(\u001b[0m\u001b[0;34m)\u001b[0m\u001b[0;34m)\u001b[0m\u001b[0;34m\u001b[0m\u001b[0m\n\u001b[0m\u001b[1;32m    680\u001b[0m \u001b[0;34m\u001b[0m\u001b[0m\n\u001b[1;32m    681\u001b[0m     \u001b[0;31m# Checkers.\u001b[0m\u001b[0;34m\u001b[0m\u001b[0;34m\u001b[0m\u001b[0m\n",
      "\u001b[0;32m~/miniconda/envs/py36/lib/python3.6/site-packages/yaml/scanner.py\u001b[0m in \u001b[0;36mscan_plain\u001b[0;34m(self)\u001b[0m\n\u001b[1;32m   1301\u001b[0m             \u001b[0mchunks\u001b[0m\u001b[0;34m.\u001b[0m\u001b[0mextend\u001b[0m\u001b[0;34m(\u001b[0m\u001b[0mspaces\u001b[0m\u001b[0;34m)\u001b[0m\u001b[0;34m\u001b[0m\u001b[0m\n\u001b[1;32m   1302\u001b[0m             \u001b[0mchunks\u001b[0m\u001b[0;34m.\u001b[0m\u001b[0mappend\u001b[0m\u001b[0;34m(\u001b[0m\u001b[0mself\u001b[0m\u001b[0;34m.\u001b[0m\u001b[0mprefix\u001b[0m\u001b[0;34m(\u001b[0m\u001b[0mlength\u001b[0m\u001b[0;34m)\u001b[0m\u001b[0;34m)\u001b[0m\u001b[0;34m\u001b[0m\u001b[0m\n\u001b[0;32m-> 1303\u001b[0;31m             \u001b[0mself\u001b[0m\u001b[0;34m.\u001b[0m\u001b[0mforward\u001b[0m\u001b[0;34m(\u001b[0m\u001b[0mlength\u001b[0m\u001b[0;34m)\u001b[0m\u001b[0;34m\u001b[0m\u001b[0m\n\u001b[0m\u001b[1;32m   1304\u001b[0m             \u001b[0mend_mark\u001b[0m \u001b[0;34m=\u001b[0m \u001b[0mself\u001b[0m\u001b[0;34m.\u001b[0m\u001b[0mget_mark\u001b[0m\u001b[0;34m(\u001b[0m\u001b[0;34m)\u001b[0m\u001b[0;34m\u001b[0m\u001b[0m\n\u001b[1;32m   1305\u001b[0m             \u001b[0mspaces\u001b[0m \u001b[0;34m=\u001b[0m \u001b[0mself\u001b[0m\u001b[0;34m.\u001b[0m\u001b[0mscan_plain_spaces\u001b[0m\u001b[0;34m(\u001b[0m\u001b[0mindent\u001b[0m\u001b[0;34m,\u001b[0m \u001b[0mstart_mark\u001b[0m\u001b[0;34m)\u001b[0m\u001b[0;34m\u001b[0m\u001b[0m\n",
      "\u001b[0;32m~/miniconda/envs/py36/lib/python3.6/site-packages/yaml/reader.py\u001b[0m in \u001b[0;36mforward\u001b[0;34m(self, length)\u001b[0m\n\u001b[1;32m    109\u001b[0m                 \u001b[0mself\u001b[0m\u001b[0;34m.\u001b[0m\u001b[0mcolumn\u001b[0m \u001b[0;34m=\u001b[0m \u001b[0;36m0\u001b[0m\u001b[0;34m\u001b[0m\u001b[0m\n\u001b[1;32m    110\u001b[0m             \u001b[0;32melif\u001b[0m \u001b[0mch\u001b[0m \u001b[0;34m!=\u001b[0m \u001b[0;34m'\\uFEFF'\u001b[0m\u001b[0;34m:\u001b[0m\u001b[0;34m\u001b[0m\u001b[0m\n\u001b[0;32m--> 111\u001b[0;31m                 \u001b[0mself\u001b[0m\u001b[0;34m.\u001b[0m\u001b[0mcolumn\u001b[0m \u001b[0;34m+=\u001b[0m \u001b[0;36m1\u001b[0m\u001b[0;34m\u001b[0m\u001b[0m\n\u001b[0m\u001b[1;32m    112\u001b[0m             \u001b[0mlength\u001b[0m \u001b[0;34m-=\u001b[0m \u001b[0;36m1\u001b[0m\u001b[0;34m\u001b[0m\u001b[0m\n\u001b[1;32m    113\u001b[0m \u001b[0;34m\u001b[0m\u001b[0m\n",
      "\u001b[0;31mKeyboardInterrupt\u001b[0m: "
     ]
    }
   ],
   "source": [
    "get_num_sharp_curves(dataset)"
   ]
  },
  {
   "cell_type": "code",
   "execution_count": 94,
   "metadata": {},
   "outputs": [
    {
     "data": {
      "application/vnd.jupyter.widget-view+json": {
       "model_id": "9a0390c3b648458f926a6a6e1595fc85",
       "version_major": 2,
       "version_minor": 0
      },
      "text/plain": [
       "Output()"
      ]
     },
     "metadata": {},
     "output_type": "display_data"
    },
    {
     "data": {
      "application/vnd.jupyter.widget-view+json": {
       "model_id": "625c3ad4295c4cb9bc971c6418c29d94",
       "version_major": 2,
       "version_minor": 0
      },
      "text/plain": [
       "Plot(antialias=3, axes=['x', 'y', 'z'], axes_helper=1.0, background_color=16777215, camera=[4.5, 4.5, 4.5, 0.0…"
      ]
     },
     "metadata": {},
     "output_type": "display_data"
    }
   ],
   "source": [
    "display_sharpness(\n",
    "    mesh,\n",
    "    sharp_vert=nbhood.vertices[nbhood_features2['curves'][3]['vert_indices']], sharpvert_psize=0.5,\n",
    "    samples=mesh.vertices[mesh_vertex_indexes], samples_psize=0.25,\n",
    "#     samples_distances=item['distances'].numpy()\n",
    ")\n",
    "\n"
   ]
  },
  {
   "cell_type": "code",
   "execution_count": null,
   "metadata": {},
   "outputs": [],
   "source": [
    "nbhood_features = compute_features_nbhood(mesh, features, mesh_face_indexes, mesh_vertex_indexes)"
   ]
  },
  {
   "cell_type": "code",
   "execution_count": null,
   "metadata": {},
   "outputs": [],
   "source": []
  },
  {
   "cell_type": "code",
   "execution_count": null,
   "metadata": {},
   "outputs": [],
   "source": []
  },
  {
   "cell_type": "code",
   "execution_count": null,
   "metadata": {},
   "outputs": [],
   "source": []
  },
  {
   "cell_type": "code",
   "execution_count": 71,
   "metadata": {},
   "outputs": [
    {
     "name": "stderr",
     "output_type": "stream",
     "text": [
      "3021it [00:03, 816.56it/s]\n"
     ]
    }
   ],
   "source": [
    "bad_patches = 0\n",
    "for i, item in tqdm.tqdm(enumerate(dataset)):\n",
    "    for key, value in item.items():\n",
    "        if key.startswith('has_smell'):\n",
    "            if not value:\n",
    "                bad_patches += 1\n",
    "                break\n",
    "        \n",
    "#     if item['has_smell_coarse_surfaces_by_angles']:\n",
    "#         print(i)"
   ]
  },
  {
   "cell_type": "code",
   "execution_count": 75,
   "metadata": {},
   "outputs": [
    {
     "name": "stderr",
     "output_type": "stream",
     "text": [
      "3021it [00:03, 825.23it/s]\n"
     ]
    }
   ],
   "source": [
    "has_smell_coarse_surfaces_by_num_faces = np.array([\n",
    "    item['has_smell_coarse_surfaces_by_num_faces']\n",
    "    for i, item in tqdm.tqdm(enumerate(dataset))])"
   ]
  },
  {
   "cell_type": "code",
   "execution_count": 78,
   "metadata": {},
   "outputs": [
    {
     "name": "stderr",
     "output_type": "stream",
     "text": [
      "3021it [00:04, 736.48it/s]\n"
     ]
    }
   ],
   "source": [
    "has_smell_mismatching_surface_annotation = np.array([\n",
    "    item['has_smell_mismatching_surface_annotation']\n",
    "    for i, item in tqdm.tqdm(enumerate(dataset))])"
   ]
  },
  {
   "cell_type": "code",
   "execution_count": 80,
   "metadata": {},
   "outputs": [
    {
     "name": "stderr",
     "output_type": "stream",
     "text": [
      "3021it [00:03, 778.94it/s]\n"
     ]
    }
   ],
   "source": [
    "has_smell_sharpness_discontinuities = np.array([\n",
    "    item['has_smell_sharpness_discontinuities']\n",
    "    for i, item in tqdm.tqdm(enumerate(dataset))])"
   ]
  },
  {
   "cell_type": "code",
   "execution_count": 82,
   "metadata": {},
   "outputs": [
    {
     "name": "stderr",
     "output_type": "stream",
     "text": [
      "3021it [00:03, 820.75it/s]\n"
     ]
    }
   ],
   "source": [
    "has_smell_coarse_surfaces_by_angles = np.array([\n",
    "    item['has_smell_coarse_surfaces_by_angles']\n",
    "    for i, item in tqdm.tqdm(enumerate(dataset))])"
   ]
  },
  {
   "cell_type": "code",
   "execution_count": 84,
   "metadata": {},
   "outputs": [
    {
     "name": "stderr",
     "output_type": "stream",
     "text": [
      "3021it [00:03, 785.28it/s]\n"
     ]
    }
   ],
   "source": [
    "has_smell_bad_face_sampling = np.array([\n",
    "    item['has_smell_bad_face_sampling']\n",
    "    for i, item in tqdm.tqdm(enumerate(dataset))])"
   ]
  },
  {
   "cell_type": "code",
   "execution_count": 87,
   "metadata": {},
   "outputs": [
    {
     "name": "stderr",
     "output_type": "stream",
     "text": [
      "3021it [00:03, 829.98it/s]\n"
     ]
    }
   ],
   "source": [
    "has_smell_deviating_resolution = np.array([\n",
    "    item['has_smell_deviating_resolution']\n",
    "    for i, item in tqdm.tqdm(enumerate(dataset))])"
   ]
  },
  {
   "cell_type": "code",
   "execution_count": 104,
   "metadata": {},
   "outputs": [
    {
     "data": {
      "text/plain": [
       "711"
      ]
     },
     "execution_count": 104,
     "metadata": {},
     "output_type": "execute_result"
    }
   ],
   "source": [
    "np.sum(has_smell_sharpness_discontinuities | \n",
    "       has_smell_coarse_surfaces_by_angles | \n",
    "       has_smell_deviating_resolution | \n",
    "       has_smell_coarse_surfaces_by_num_faces)\n"
   ]
  },
  {
   "cell_type": "code",
   "execution_count": null,
   "metadata": {},
   "outputs": [],
   "source": []
  },
  {
   "cell_type": "code",
   "execution_count": null,
   "metadata": {},
   "outputs": [],
   "source": []
  },
  {
   "cell_type": "code",
   "execution_count": null,
   "metadata": {},
   "outputs": [],
   "source": []
  },
  {
   "cell_type": "code",
   "execution_count": 49,
   "metadata": {},
   "outputs": [],
   "source": [
    "batch_size = 16\n",
    "train_loader = DataLoader(\n",
    "    dataset,\n",
    "    num_workers=4,\n",
    "    batch_size=batch_size,\n",
    "    shuffle=False,\n",
    ")"
   ]
  },
  {
   "cell_type": "code",
   "execution_count": null,
   "metadata": {},
   "outputs": [],
   "source": []
  },
  {
   "cell_type": "code",
   "execution_count": null,
   "metadata": {},
   "outputs": [],
   "source": []
  },
  {
   "cell_type": "code",
   "execution_count": 16,
   "metadata": {},
   "outputs": [
    {
     "data": {
      "text/plain": [
       "1"
      ]
     },
     "execution_count": 16,
     "metadata": {},
     "output_type": "execute_result"
    }
   ],
   "source": [
    "len(dataset)"
   ]
  },
  {
   "cell_type": "code",
   "execution_count": 376,
   "metadata": {},
   "outputs": [],
   "source": [
    "num_surfaces = 8\n",
    "\n",
    "idx_num_surfaces = np.array([i\n",
    "    for i in range(len(dataset))\n",
    "    if dataset[i]['num_surfaces'] == num_surfaces\n",
    "])\n",
    "\n"
   ]
  },
  {
   "cell_type": "code",
   "execution_count": 377,
   "metadata": {},
   "outputs": [
    {
     "data": {
      "text/plain": [
       "519"
      ]
     },
     "execution_count": 377,
     "metadata": {},
     "output_type": "execute_result"
    }
   ],
   "source": [
    "len(idx_num_surfaces)"
   ]
  },
  {
   "cell_type": "code",
   "execution_count": 388,
   "metadata": {},
   "outputs": [
    {
     "data": {
      "application/vnd.jupyter.widget-view+json": {
       "model_id": "1cd92b76802e4624bdfd954a172676eb",
       "version_major": 2,
       "version_minor": 0
      },
      "text/plain": [
       "Output()"
      ]
     },
     "metadata": {},
     "output_type": "display_data"
    },
    {
     "data": {
      "application/vnd.jupyter.widget-view+json": {
       "model_id": "f2d2138523b54728a523dba0135f3cf5",
       "version_major": 2,
       "version_minor": 0
      },
      "text/plain": [
       "Plot(antialias=3, axes=['x', 'y', 'z'], axes_helper=1.0, background_color=16777215, camera=[4.5, 4.5, 4.5, 0.0…"
      ]
     },
     "metadata": {},
     "output_type": "display_data"
    }
   ],
   "source": [
    "sphere = np.random.randn(3, 1000)\n",
    "sphere /= np.linalg.norm(sphere, axis=0)\n",
    "\n",
    "i = np.random.choice(idx_num_surfaces)\n",
    "\n",
    "points = dataset[i]['points']\n",
    "distances = dataset[i]['distances']\n",
    "\n",
    "# n_points = len(points)\n",
    "# theta = 3.0\n",
    "# p = torch.exp(-distances * theta)\n",
    "# p /= torch.sum(p)\n",
    "# i_subset = np.random.choice(\n",
    "#     np.arange(n_points), size=1024, replace=False, p=p.numpy())\n",
    "# points, distances = points[i_subset], distances[i_subset]\n",
    "\n",
    "display_sharpness(samples=points.numpy(), \n",
    "                  samples_distances=distances.numpy(),\n",
    "                  samples_psize=0.06,\n",
    "                  sharp_vert=None,\n",
    "                  sharpvert_psize=0.01)"
   ]
  },
  {
   "cell_type": "code",
   "execution_count": null,
   "metadata": {},
   "outputs": [],
   "source": []
  },
  {
   "cell_type": "markdown",
   "metadata": {},
   "source": [
    "# Overfitting the model "
   ]
  },
  {
   "cell_type": "code",
   "execution_count": null,
   "metadata": {},
   "outputs": [],
   "source": [
    "import torch\n",
    "import torch.nn as nn\n",
    "import torch.nn.functional as F\n",
    "import torch.optim\n",
    "\n",
    "from itertools import islice"
   ]
  },
  {
   "cell_type": "code",
   "execution_count": null,
   "metadata": {},
   "outputs": [],
   "source": [
    "\n",
    "def knn(x, k):\n",
    "#     print(x.shape)\n",
    "    inner = -2*torch.matmul(x.transpose(2, 1), x)\n",
    "    xx = torch.sum(x**2, dim=1, keepdim=True)\n",
    "    pairwise_distance = -xx - inner - xx.transpose(2, 1)\n",
    " \n",
    "    idx = pairwise_distance.topk(k=k, dim=-1)[1]   # (batch_size, num_points, k)\n",
    "    return idx, pairwise_distance\n",
    "\n",
    "\n",
    "def get_graph_feature(x, k=20, idx=None):\n",
    "    batch_size = x.size(0)\n",
    "    num_points = x.size(2)\n",
    "    x = x.view(batch_size, -1, num_points)\n",
    "#     print(x.shape)\n",
    "    if idx is None:\n",
    "        idx, dist = knn(x, k=k)   # (batch_size, num_points, k)\n",
    "    device = torch.device('cuda:2')\n",
    "\n",
    "    idx_base = torch.arange(0, batch_size, device=device).view(-1, 1, 1)*num_points\n",
    "\n",
    "    idx = idx + idx_base\n",
    "\n",
    "    idx = idx.view(-1)\n",
    " \n",
    "    _, num_dims, _ = x.size()\n",
    "\n",
    "    x = x.transpose(2, 1).contiguous()   # (batch_size, num_points, num_dims)  -> (batch_size*num_points, num_dims) #   batch_size * num_points * k + range(0, batch_size*num_points)\n",
    "    feature = x.view(batch_size*num_points, -1)[idx, :]\n",
    "    feature = feature.view(batch_size, num_points, k, num_dims) \n",
    "\n",
    "    x = x.view(batch_size, num_points, 1, num_dims).repeat(1, 1, k, 1)\n",
    "    \n",
    "    feature = torch.cat((feature-x, x), dim=3).permute(0, 3, 1, 2)\n",
    "  \n",
    "    return feature\n",
    "\n",
    "\n",
    "class DGCNN_SEMSEG(torch.nn.Module):\n",
    "    def __init__(self, k=30, dropout=0.1, output_channels=40):\n",
    "        super(DGCNN_SEMSEG, self).__init__()\n",
    "        self.k = k\n",
    "        self.dropout = dropout\n",
    "        \n",
    "        self.bn1 = nn.BatchNorm2d(64)\n",
    "        self.bn2 = nn.BatchNorm2d(64)\n",
    "        self.bn3 = nn.BatchNorm2d(64)\n",
    "        self.bn4 = nn.BatchNorm2d(64)\n",
    "        self.bn5 = nn.BatchNorm2d(64)\n",
    "        self.bn6 = nn.BatchNorm2d(64)\n",
    "        self.bn7 = nn.BatchNorm2d(1024)\n",
    "        self.bn8 = nn.BatchNorm2d(512)\n",
    "        self.bn9 = nn.BatchNorm2d(256)\n",
    "\n",
    "        self.conv1 = nn.Sequential(nn.Conv2d(6, 64, kernel_size=1, bias=False),\n",
    "                                   self.bn1,\n",
    "                                   nn.ReLU())\n",
    "        self.conv2 = nn.Sequential(nn.Conv2d(64, 64, kernel_size=1, bias=False),\n",
    "                                   self.bn2,\n",
    "                                   nn.ReLU())\n",
    "        self.conv3 = nn.Sequential(nn.Conv2d(64*2, 64, kernel_size=1, bias=False),\n",
    "                                   self.bn3,\n",
    "                                   nn.ReLU())\n",
    "        self.conv4 = nn.Sequential(nn.Conv2d(64, 64, kernel_size=1, bias=False),\n",
    "                                   self.bn4,\n",
    "                                   nn.ReLU())\n",
    "        self.conv5 = nn.Sequential(nn.Conv2d(64*2, 64, kernel_size=1, bias=False),\n",
    "                                   self.bn5,\n",
    "                                   nn.ReLU())\n",
    "        self.conv6 = nn.Sequential(nn.Conv2d(64, 64, kernel_size=1, bias=False),\n",
    "                                   self.bn6,\n",
    "                                   nn.ReLU())\n",
    "        self.conv7 = nn.Sequential(nn.Conv2d(64*3, 1024, kernel_size=1, bias=False),\n",
    "                                   self.bn7,\n",
    "                                   nn.ReLU())\n",
    "        self.conv8 = nn.Sequential(nn.Conv2d(1024+64*3, 512, kernel_size=1, bias=False),\n",
    "                                   self.bn8,\n",
    "                                   nn.ReLU())\n",
    "        self.conv9 = nn.Sequential(nn.Conv2d(512, 256, kernel_size=1, bias=False),\n",
    "                                   self.bn9,\n",
    "                                   nn.ReLU())\n",
    "        self.conv10 = nn.Conv2d(256, 1, kernel_size=1, bias=False)\n",
    "        \n",
    "        self.max_pooling = nn.MaxPool2d([1024,1])\n",
    "\n",
    "        self.dp1 = nn.Dropout(p=self.dropout)\n",
    "\n",
    "    def forward(self, x):\n",
    "        batch_size = x.size(0)\n",
    "        x = x.transpose(2, 1)\n",
    "#         print(x.shape)\n",
    "        \n",
    "        x = get_graph_feature(x, k=self.k)\n",
    "        x = self.conv1(x)\n",
    "        x = self.conv2(x)\n",
    "        x1 = x.max(dim=-1, keepdim=True)[0]\n",
    "\n",
    "        x = get_graph_feature(x1, k=self.k)\n",
    "        x = self.conv3(x)\n",
    "        x = self.conv4(x)\n",
    "        x2 = x.max(dim=-1, keepdim=True)[0]\n",
    "\n",
    "        x = get_graph_feature(x2, k=self.k)\n",
    "        x = self.conv5(x)\n",
    "        x = self.conv6(x)\n",
    "        x3 = x.max(dim=-1, keepdim=True)[0]\n",
    "\n",
    "#        x = get_graph_feature(x3, k=self.k)\n",
    "#        x = self.conv4(x)\n",
    "#        x4 = x.max(dim=-1, keepdim=False)[0]\n",
    "\n",
    "        x = torch.cat((x1, x2, x3), dim=1)\n",
    "        x = self.conv7(x)\n",
    "        x = self.max_pooling(x)\n",
    "        \n",
    "        expand = torch.repeat_interleave(x, 1024, 2)\n",
    "        \n",
    "        x = torch.cat((expand, x1, x2, x3), dim=1)\n",
    "        x = self.conv8(x)\n",
    "        x = self.conv9(x)\n",
    "        \n",
    "        x = self.dp1(x)\n",
    "        \n",
    "        x = self.conv10(x)\n",
    "        x = torch.squeeze(x)\n",
    "\n",
    "        return x\n"
   ]
  },
  {
   "cell_type": "code",
   "execution_count": null,
   "metadata": {},
   "outputs": [],
   "source": [
    "device = 'cuda:2'\n",
    "\n",
    "lr = 1e-3\n",
    "epochs = 1"
   ]
  },
  {
   "cell_type": "code",
   "execution_count": null,
   "metadata": {},
   "outputs": [],
   "source": [
    "torch.cuda.empty_cache()"
   ]
  },
  {
   "cell_type": "code",
   "execution_count": null,
   "metadata": {},
   "outputs": [],
   "source": [
    "model = DGCNN_SEMSEG(k=30).to(device)\n",
    "\n",
    "optimizer = torch.optim.Adam(model.parameters(), lr=lr)\n",
    "\n",
    "criterion = torch.nn.SmoothL1Loss(reduction='mean')"
   ]
  },
  {
   "cell_type": "code",
   "execution_count": null,
   "metadata": {},
   "outputs": [],
   "source": [
    "epochs_completed = 0\n",
    "batches_completed_in_epoch = 0"
   ]
  },
  {
   "cell_type": "code",
   "execution_count": 311,
   "metadata": {},
   "outputs": [],
   "source": [
    "batch_size = 16\n",
    "train_loader = DataLoader(\n",
    "    dataset,\n",
    "    num_workers=4,\n",
    "    batch_size=batch_size,\n",
    "    shuffle=False,\n",
    ")"
   ]
  },
  {
   "cell_type": "code",
   "execution_count": 312,
   "metadata": {},
   "outputs": [
    {
     "name": "stderr",
     "output_type": "stream",
     "text": [
      "100%|██████████| 194/194 [00:00<00:00, 438.80it/s]\n"
     ]
    }
   ],
   "source": [
    "for batch in tqdm.tqdm(train_loader):\n",
    "    pass"
   ]
  },
  {
   "cell_type": "code",
   "execution_count": null,
   "metadata": {},
   "outputs": [],
   "source": [
    "end_batch_train = len(train_loader)"
   ]
  },
  {
   "cell_type": "code",
   "execution_count": null,
   "metadata": {},
   "outputs": [],
   "source": [
    "def prepare_batch_on_device(batch_data, device, batch_size):\n",
    "    points = batch_data['points'].type(torch.float32).to(device, non_blocking=True)\n",
    "    distances = batch_data['distances'].type(torch.float32).to(device, non_blocking=True)\n",
    "\n",
    "    # center: E p_i = 0\n",
    "    points -= points.mean(axis=1, keepdim=True)\n",
    "\n",
    "    # scale: sup_i ||p_i|| = 1\n",
    "    points_scales = points.norm(dim=2).max(dim=1).values\n",
    "    points /= points_scales.reshape((batch_size, 1, 1))\n",
    "    distances /= points_scales.reshape((batch_size, 1))\n",
    "    \n",
    "    # random rotation\n",
    "    rotation_matrix = random_3d_rotation_matrix().to(device, non_blocking=True)\n",
    "    points = torch.matmul(points, rotation_matrix[:3, :3])\n",
    "\n",
    "    return points, distances"
   ]
  },
  {
   "cell_type": "code",
   "execution_count": null,
   "metadata": {},
   "outputs": [],
   "source": [
    "for epoch_i in range(epochs_completed, epochs_completed + epochs):\n",
    "    print('Training epoch {}'.format(epoch_i))\n",
    "    \n",
    "    for batch_i, batch_data in islice(enumerate(train_loader), batches_completed_in_epoch, end_batch_train):\n",
    "        print('Training batch {}'.format(batch_i))\n",
    "        iter_i = (epoch_i * len(train_loader) + batch_i) * train_loader.batch_size\n",
    "\n",
    "        model.train()\n",
    "        data, label = prepare_batch_on_device(batch_data, device, batch_size)\n",
    "        \n",
    "        break\n",
    "\n",
    "        preds = model.forward(data)\n",
    "    \n",
    "        loss = criterion(preds, label)\n",
    "        optimizer.zero_grad()\n",
    "        \n",
    "        loss.backward()\n",
    "        optimizer.step()\n",
    "    \n",
    "        # Output loss for each training step, as it is already computed\n",
    "        print('Training iteration [{item_idx} / {num_batches}] {percent:.3f}% complete, loss: {loss:.4f}'.format(\n",
    "                item_idx=batch_i, num_batches=end_batch_train,\n",
    "                percent=100. * batch_i / end_batch_train, loss=loss.item()))\n"
   ]
  },
  {
   "cell_type": "code",
   "execution_count": null,
   "metadata": {},
   "outputs": [],
   "source": [
    "loss_values = []"
   ]
  },
  {
   "cell_type": "code",
   "execution_count": null,
   "metadata": {
    "scrolled": true
   },
   "outputs": [],
   "source": [
    "for i in range(10000):\n",
    "    data, label = prepare_batch_on_device(batch_data, device, batch_size)\n",
    "    \n",
    "    preds = model.forward(data)\n",
    "\n",
    "    loss = criterion(preds, label)\n",
    "    optimizer.zero_grad()\n",
    "\n",
    "    loss.backward()\n",
    "    optimizer.step()\n",
    "\n",
    "    # Output loss for each training step, as it is already computed\n",
    "    mse = (preds.detach().cpu().numpy() - label.detach().cpu().numpy()) ** 2\n",
    "    print('Training iteration [{item_idx} / {num_batches}] {percent:.3f}% complete, '\n",
    "          'loss: {loss:.4f}, rmse: {rmse:.4f}'.format(\n",
    "            item_idx=i, num_batches=10000,\n",
    "            percent=100. * i / 10000, \n",
    "            loss=loss.item(), rmse=np.sqrt(mse)))\n",
    "\n",
    "    loss_values.append(loss.item())\n",
    "    \n",
    "    if i % 1000 == 0:\n",
    "        for g in optimizer.param_groups:\n",
    "            g['lr'] /= 2\n",
    "        \n"
   ]
  },
  {
   "cell_type": "code",
   "execution_count": null,
   "metadata": {},
   "outputs": [],
   "source": [
    "optimizer.param_groups[0]['lr']"
   ]
  },
  {
   "cell_type": "code",
   "execution_count": null,
   "metadata": {},
   "outputs": [],
   "source": [
    "plt.plot(loss_values)\n",
    "plt.yscale('log')\n",
    "# plt.xscale('log')"
   ]
  },
  {
   "cell_type": "code",
   "execution_count": null,
   "metadata": {},
   "outputs": [],
   "source": [
    "data.detach().cpu().numpy()[0]"
   ]
  },
  {
   "cell_type": "code",
   "execution_count": null,
   "metadata": {},
   "outputs": [],
   "source": [
    "display_sharpness(samples=data.detach().cpu().numpy()[0], \n",
    "                  samples_distances=preds.detach().cpu().numpy(),\n",
    "                  samples_psize=0.04, distance_range=[0, 0.5])"
   ]
  },
  {
   "cell_type": "code",
   "execution_count": null,
   "metadata": {},
   "outputs": [],
   "source": [
    "display_sharpness(samples=data.detach().cpu().numpy()[0], \n",
    "                  samples_distances=label.detach().cpu().numpy(),\n",
    "                  samples_psize=0.04, distance_range=[0, 0.5])"
   ]
  },
  {
   "cell_type": "code",
   "execution_count": null,
   "metadata": {},
   "outputs": [],
   "source": [
    "abs_error = np.abs((preds-label[0]).detach().cpu().numpy())"
   ]
  },
  {
   "cell_type": "code",
   "execution_count": null,
   "metadata": {},
   "outputs": [],
   "source": [
    "abs_error"
   ]
  },
  {
   "cell_type": "code",
   "execution_count": null,
   "metadata": {
    "scrolled": false
   },
   "outputs": [],
   "source": [
    "_ = plt.hist(\n",
    "    abs_error\n",
    "    , bins=100)\n",
    "plt.yscale('log')"
   ]
  },
  {
   "cell_type": "code",
   "execution_count": null,
   "metadata": {},
   "outputs": [],
   "source": [
    "i = np.where(abs_error < 1e-3)[0]\n",
    "\n",
    "display_sharpness(samples=data.detach().cpu().numpy()[0][i], \n",
    "                  samples_distances=abs_error[i],\n",
    "                  samples_psize=0.04, \n",
    "                  sharp_vert=data.detach().cpu().numpy()[0], sharpvert_color=0x666666, sharpvert_psize=0.01,\n",
    "                  cmap_distances=k3d.colormaps.basic_color_maps.CoolWarm, \n",
    "                  distance_range=(0, .1))"
   ]
  },
  {
   "cell_type": "code",
   "execution_count": null,
   "metadata": {},
   "outputs": [],
   "source": [
    "display_sharpness(samples=data.detach().cpu().numpy()[0], \n",
    "                  samples_distances=abs_error,\n",
    "                  samples_psize=0.04, \n",
    "                  cmap_distances=k3d.colormaps.basic_color_maps.CoolWarm, \n",
    "                  distance_range=(-.1, .1))"
   ]
  },
  {
   "cell_type": "code",
   "execution_count": null,
   "metadata": {},
   "outputs": [],
   "source": []
  },
  {
   "cell_type": "code",
   "execution_count": 7,
   "metadata": {},
   "outputs": [
    {
     "ename": "NameError",
     "evalue": "name 'CompositeSharpnessTransform' is not defined",
     "output_type": "error",
     "traceback": [
      "\u001b[0;31m---------------------------------------------------------------------------\u001b[0m",
      "\u001b[0;31mNameError\u001b[0m                                 Traceback (most recent call last)",
      "\u001b[0;32m<ipython-input-7-9508592b3eb0>\u001b[0m in \u001b[0;36m<module>\u001b[0;34m\u001b[0m\n\u001b[0;32m----> 1\u001b[0;31m transform = CompositeSharpnessTransform([\n\u001b[0m\u001b[1;32m      2\u001b[0m     \u001b[0mTypeCast\u001b[0m\u001b[0;34m(\u001b[0m\u001b[0mtorch\u001b[0m\u001b[0;34m.\u001b[0m\u001b[0mfloat32\u001b[0m\u001b[0;34m,\u001b[0m \u001b[0mtorch\u001b[0m\u001b[0;34m.\u001b[0m\u001b[0mfloat32\u001b[0m\u001b[0;34m)\u001b[0m\u001b[0;34m,\u001b[0m\u001b[0;34m\u001b[0m\u001b[0m\n\u001b[1;32m      3\u001b[0m     \u001b[0mCenter\u001b[0m\u001b[0;34m(\u001b[0m\u001b[0;34m)\u001b[0m\u001b[0;34m,\u001b[0m\u001b[0;34m\u001b[0m\u001b[0m\n\u001b[1;32m      4\u001b[0m     \u001b[0mNormalizeL2\u001b[0m\u001b[0;34m(\u001b[0m\u001b[0;34m)\u001b[0m\u001b[0;34m,\u001b[0m\u001b[0;34m\u001b[0m\u001b[0m\n\u001b[1;32m      5\u001b[0m     \u001b[0mRandom3DRotation\u001b[0m\u001b[0;34m(\u001b[0m\u001b[0;34m)\u001b[0m\u001b[0;34m,\u001b[0m\u001b[0;34m\u001b[0m\u001b[0m\n",
      "\u001b[0;31mNameError\u001b[0m: name 'CompositeSharpnessTransform' is not defined"
     ]
    }
   ],
   "source": [
    "transform = CompositeSharpnessTransform([\n",
    "    TypeCast(torch.float32, torch.float32),\n",
    "    Center(),\n",
    "    NormalizeL2(),\n",
    "    Random3DRotation(),\n",
    "#     RandomSubsamplePoints(1024, 3.0),\n",
    "])"
   ]
  }
 ],
 "metadata": {
  "kernelspec": {
   "display_name": "Python 3",
   "language": "python",
   "name": "python3"
  },
  "language_info": {
   "codemirror_mode": {
    "name": "ipython",
    "version": 3
   },
   "file_extension": ".py",
   "mimetype": "text/x-python",
   "name": "python",
   "nbconvert_exporter": "python",
   "pygments_lexer": "ipython3",
   "version": "3.6.5"
  }
 },
 "nbformat": 4,
 "nbformat_minor": 4
}
