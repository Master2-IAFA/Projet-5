{
 "cells": [
  {
   "cell_type": "code",
   "execution_count": 1,
   "metadata": {},
   "outputs": [],
   "source": [
    "%load_ext autoreload\n",
    "%autoreload 2"
   ]
  },
  {
   "cell_type": "code",
   "execution_count": 2,
   "metadata": {},
   "outputs": [],
   "source": [
    "from copy import deepcopy\n",
    "\n",
    "import k3d\n",
    "import yaml\n",
    "import numpy as np\n",
    "\n",
    "import matplotlib.pyplot as plt\n",
    "\n",
    "from tqdm import tqdm\n",
    "import json\n",
    "# from PIL import Image\n",
    "from base64 import b64decode\n",
    "from IPython.display import Image\n",
    "\n",
    "import time\n",
    "import h5py"
   ]
  },
  {
   "cell_type": "code",
   "execution_count": 3,
   "metadata": {},
   "outputs": [],
   "source": [
    "def display_sharpness(mesh=None, plot_meshvert=True,\n",
    "                      samples=None, samples_distances=None,\n",
    "                      sharp_vert=None, sharp_curves=None,\n",
    "                      directions=None, directions_width=0.0025,\n",
    "                      samples_color=0x0000ff, samples_psize=0.002, \n",
    "                      mesh_color=0xbbbbbb, meshvert_color=0x666666, meshvert_psize=0.0025,\n",
    "                      sharpvert_color=0xff0000, sharpvert_psize=0.0025,\n",
    "                      sharpcurve_color=None, sharpcurve_width=0.0025,\n",
    "                      as_image=False, plot_height=768):\n",
    "    \n",
    "    plot = k3d.plot(height=plot_height)\n",
    "    \n",
    "    if None is not mesh:\n",
    "        k3d_mesh = k3d.mesh(mesh.vertices, mesh.faces, color=mesh_color)\n",
    "        plot += k3d_mesh\n",
    "\n",
    "        if plot_meshvert:\n",
    "            k3d_points = k3d.points(mesh.vertices, \n",
    "                                    point_size=meshvert_psize, color=meshvert_color)\n",
    "            plot += k3d_points\n",
    "            k3d_points.shader='3d'\n",
    "\n",
    "    if None is not samples:\n",
    "        colors = None\n",
    "        if None is not samples_distances:\n",
    "            max_dist = np.max(samples_distances)\n",
    "\n",
    "            colors = k3d.helpers.map_colors(\n",
    "                samples_distances, k3d.colormaps.basic_color_maps.WarmCool, [0, max_dist]\n",
    "            ).astype(np.uint32)\n",
    "            k3d_points = k3d.points(samples, point_size=samples_psize, colors=colors)\n",
    "        else:\n",
    "            k3d_points = k3d.points(samples, point_size=samples_psize, color=samples_color)\n",
    "        plot += k3d_points\n",
    "        k3d_points.shader='3d'\n",
    "        \n",
    "        if None is not directions:\n",
    "            directions_to_plot = np.hstack((samples, samples + directions))\n",
    "            \n",
    "            for i, dir_to_plot in enumerate(directions_to_plot):\n",
    "                dir_to_plot = dir_to_plot.reshape((2, 3))\n",
    "                if np.all(dir_to_plot[0] == dir_to_plot[1]):\n",
    "                    continue\n",
    "                color = int(colors[i]) if None is not colors else samples_color\n",
    "                plt_line = k3d.line(dir_to_plot, \n",
    "                                    shader='mesh', width=directions_width, color=color)\n",
    "                plot += plt_line\n",
    "\n",
    "    if None is not sharp_vert:\n",
    "        k3d_points = k3d.points(sharp_vert,\n",
    "                                point_size=sharpvert_psize, color=sharpvert_color)\n",
    "        plot += k3d_points\n",
    "        k3d_points.shader='3d'\n",
    "        \n",
    "        if None is not sharp_curves:            \n",
    "            if None is not sharpcurve_color:\n",
    "                color = sharpcurve_color\n",
    "            else:\n",
    "                import randomcolor\n",
    "                rand_color = randomcolor.RandomColor()\n",
    "            for i, vert_ind in enumerate(sharp_curves):\n",
    "                sharp_points_curve = mesh.vertices[vert_ind]\n",
    "                \n",
    "                if None is sharpcurve_color:\n",
    "                    color = rand_color.generate(hue='red')[0]\n",
    "                    color = int('0x' + color[1:], 16)\n",
    "                plt_line = k3d.line(sharp_points_curve, \n",
    "                                    shader='mesh', width=sharpcurve_width, color=color)\n",
    "                plot += plt_line\n",
    "        \n",
    "    plot.grid_visible = False\n",
    "    plot.camera_auto_fit = True\n",
    "    plot.display()\n",
    "    \n",
    "    return plot"
   ]
  },
  {
   "cell_type": "code",
   "execution_count": 4,
   "metadata": {},
   "outputs": [],
   "source": [
    "# mm/pixel\n",
    "HIGH_RES = 0.02\n",
    "MED_RES = 0.05\n",
    "LOW_RES = 0.125\n",
    "XLOW_RES = 0.25"
   ]
  },
  {
   "cell_type": "markdown",
   "metadata": {},
   "source": [
    "## 1. Working with point patches"
   ]
  },
  {
   "cell_type": "code",
   "execution_count": 5,
   "metadata": {},
   "outputs": [],
   "source": [
    "from sharpf.data.abc.abc_data import ABCModality, ABCChunk, ABC_7Z_FILEMASK\n",
    "from sharpf.data.annotation import ANNOTATOR_BY_TYPE\n",
    "from sharpf.data.mesh_nbhoods import NBHOOD_BY_TYPE\n",
    "from sharpf.data.noisers import NOISE_BY_TYPE\n",
    "from sharpf.data.point_samplers import SAMPLER_BY_TYPE\n",
    "from sharpf.utils.common import eprint\n",
    "from sharpf.utils.mesh_utils.io import trimesh_load\n",
    "\n",
    "from sharpf.utils.abc_utils import (\n",
    "    get_adjacent_features_by_bfs_with_depth1,\n",
    "    build_surface_patch_graph,\n",
    "    get_curves_extents,\n",
    "    compute_features_nbhood,\n",
    "    remove_boundary_features)\n",
    "from sharpf.utils.geometry import dist_vector_proj, mean_mmd"
   ]
  },
  {
   "cell_type": "code",
   "execution_count": 61,
   "metadata": {},
   "outputs": [
    {
     "name": "stdout",
     "output_type": "stream",
     "text": [
      "[2 4 2 4 2 1]\n",
      "[32 43 32 41 35 26]\n"
     ]
    }
   ],
   "source": [
    "f = h5py.File('/logs/images/abc_0022_4_5.hdf5', 'r')\n",
    "\n",
    "\n",
    "images = np.array(f['image'])\n",
    "distances = np.array(f['distances'])\n",
    "print(np.array(f['num_surfaces']))\n",
    "print(np.array(f['num_sharp_curves']))\n",
    "item_ids = np.array(f['item_id'])\n",
    "\n",
    "f.close()"
   ]
  },
  {
   "cell_type": "code",
   "execution_count": 62,
   "metadata": {},
   "outputs": [
    {
     "data": {
      "text/plain": [
       "(6, 512, 512)"
      ]
     },
     "execution_count": 62,
     "metadata": {},
     "output_type": "execute_result"
    }
   ],
   "source": [
    "distances.shape"
   ]
  },
  {
   "cell_type": "code",
   "execution_count": 69,
   "metadata": {},
   "outputs": [
    {
     "data": {
      "text/plain": [
       "<matplotlib.image.AxesImage at 0x7f8e1bedff98>"
      ]
     },
     "execution_count": 69,
     "metadata": {},
     "output_type": "execute_result"
    },
    {
     "data": {
      "image/png": "[encoded data removed]",
      "text/plain": [
       "<Figure size 864x576 with 2 Axes>"
      ]
     },
     "metadata": {
      "needs_background": "light"
     },
     "output_type": "display_data"
    }
   ],
   "source": [
    "idx = 5\n",
    "f, axs = plt.subplots(figsize=(12, 8), ncols=2)\n",
    "axs[0].imshow(images[idx])\n",
    "axs[1].imshow(distances[idx])"
   ]
  },
  {
   "cell_type": "code",
   "execution_count": null,
   "metadata": {
    "scrolled": false
   },
   "outputs": [],
   "source": [
    "with open('/code/scripts/data_scripts/configs/pointcloud_datasets/dataset_config_low_res_clean.json') as config_file:\n",
    "    config = json.load(config_file)\n",
    "\n",
    "config"
   ]
  },
  {
   "cell_type": "code",
   "execution_count": null,
   "metadata": {},
   "outputs": [],
   "source": [
    "shape_fabrication_extent = config.get('shape_fabrication_extent', 10.0)\n",
    "base_n_points_per_short_curve = config.get('base_n_points_per_short_curve', 8)\n",
    "base_resolution_3d = config.get('base_resolution_3d', LOW_RES)\n",
    "short_curve_quantile = config.get('short_curve_quantile', 0.05)"
   ]
  },
  {
   "cell_type": "code",
   "execution_count": null,
   "metadata": {},
   "outputs": [],
   "source": [
    "def scale_mesh(mesh, features, shape_fabrication_extent, resolution_3d,\n",
    "               short_curve_quantile=0.05, n_points_per_short_curve=4):\n",
    "    # compute standard size spatial extent\n",
    "    mesh_extent = np.max(mesh.bounding_box.extents)\n",
    "    mesh = mesh.apply_scale(shape_fabrication_extent / mesh_extent)\n",
    "\n",
    "    # compute lengths of curves\n",
    "    sharp_curves_lengths = get_curves_extents(mesh, features)\n",
    "\n",
    "    least_len = np.quantile(sharp_curves_lengths, short_curve_quantile)\n",
    "    least_len_mm = resolution_3d * n_points_per_short_curve\n",
    "\n",
    "    mesh = mesh.apply_scale(least_len_mm / least_len)\n",
    "    print(\"Mesh extent post scaling:\", np.max(mesh.bounding_box.extents))\n",
    "\n",
    "    return mesh"
   ]
  },
  {
   "cell_type": "code",
   "execution_count": null,
   "metadata": {},
   "outputs": [],
   "source": [
    "# meshes = []\n",
    "# featuress = []\n",
    "# with ABCChunk(['/data/abc_0056_obj_v00.7z', '/data/abc_0056_feat_v00.7z']) as data_holder:\n",
    "#     for index in range(50):\n",
    "#         item = data_holder[index]\n",
    "#         meshes.append(trimesh_load(item.obj))\n",
    "#         featuress.append(yaml.load(item.feat, Loader=yaml.Loader))"
   ]
  },
  {
   "cell_type": "code",
   "execution_count": null,
   "metadata": {},
   "outputs": [],
   "source": [
    "# with ABCChunk(['/data/abc_0057_obj_v00.7z', '/data/abc_0057_feat_v00.7z']) as data_holder:\n",
    "#     item = data_holder[2]\n",
    "#     mesh = trimesh_load(item.obj)\n",
    "#     features = yaml.load(item.feat, Loader=yaml.Loader)"
   ]
  },
  {
   "cell_type": "code",
   "execution_count": null,
   "metadata": {},
   "outputs": [],
   "source": [
    "idx = 0\n",
    "res_3d = LOW_RES\n",
    "\n",
    "# mesh = meshes[idx]\n",
    "# features = featuress[idx]\n",
    "\n",
    "# # fix mesh fabrication size in physical mm\n",
    "# mesh = scale_mesh(mesh, features, shape_fabrication_extent, base_resolution_3d,\n",
    "#                   short_curve_quantile=short_curve_quantile,\n",
    "#                   n_points_per_short_curve=base_n_points_per_short_curve)\n",
    "\n",
    "# f = h5py.File('/logs/abc_005_{}_{}.hdf5'.format(res_3d, idx, idx + 1), 'r')\n",
    "f = h5py.File('/logs/abc_0022_10_11.hdf5', 'r')\n",
    "\n",
    "\n",
    "points = np.array(f['points'])\n",
    "distances = np.array(f['distances'])\n",
    "print(np.array(f['num_surfaces']))\n",
    "print(np.array(f['num_sharp_curves']))\n",
    "\n",
    "\n",
    "\n",
    "mesh_vertex_indexes = np.array(f['orig_vert_indices'])\n",
    "mesh_face_indexes = np.array(f['orig_face_indexes'])\n",
    "\n",
    "# samples = points[0]\n",
    "samples = np.concatenate(points)\n",
    "# samples_distances = distances[0]\n",
    "samples_distances = np.concatenate(distances)\n",
    "\n",
    "plot = display_sharpness(None, plot_meshvert=False, meshvert_psize=0.01,\n",
    "                  sharp_vert=None, sharpvert_psize=0.1,\n",
    "                  samples=samples, samples_distances=samples_distances,\n",
    "                  samples_color=0x0000ff, samples_psize=res_3d)\n",
    "\n",
    "f.close()"
   ]
  },
  {
   "cell_type": "code",
   "execution_count": null,
   "metadata": {},
   "outputs": [],
   "source": []
  },
  {
   "cell_type": "code",
   "execution_count": null,
   "metadata": {},
   "outputs": [],
   "source": [
    "plot.fetch_screenshot()"
   ]
  },
  {
   "cell_type": "code",
   "execution_count": null,
   "metadata": {},
   "outputs": [],
   "source": [
    "\n",
    "from IPython.display import Image\n",
    "with open('screenshot.png', 'wb') as f:\n",
    "    try:\n",
    "        out = plot.screenshot.decode('base64')\n",
    "    except: # Python 3\n",
    "        from base64 import b64decode\n",
    "        out = b64decode(plot.screenshot)    \n",
    "    f.write(out)\n",
    "    \n",
    "Image(url='screenshot.png')"
   ]
  },
  {
   "cell_type": "code",
   "execution_count": null,
   "metadata": {},
   "outputs": [],
   "source": [
    "from collections import defaultdict\n",
    "\n",
    "all_num_surfaces = defaultdict(list)\n",
    "all_num_curves = defaultdict(list)"
   ]
  },
  {
   "cell_type": "code",
   "execution_count": null,
   "metadata": {},
   "outputs": [],
   "source": [
    "for res_3d in [LOW_RES, MED_RES, HIGH_RES]:\n",
    "    for idx in range(0, 50):\n",
    "        try:\n",
    "            f = h5py.File('/logs/test_generation/{}/abc_0056_{}_{}.hdf5'.format(res_3d, idx, idx + 1), 'r')\n",
    "        except OSError:\n",
    "            continue\n",
    "\n",
    "        all_num_surfaces[res_3d].extend(np.array(f['num_surfaces']))\n",
    "        all_num_curves[res_3d].extend(np.array(f['num_sharp_curves']))\n",
    "\n",
    "\n",
    "        f.close()"
   ]
  },
  {
   "cell_type": "code",
   "execution_count": null,
   "metadata": {},
   "outputs": [],
   "source": [
    "all_num_surfaces.keys()"
   ]
  },
  {
   "cell_type": "code",
   "execution_count": null,
   "metadata": {},
   "outputs": [],
   "source": [
    "bins = np.linspace(0, 30, 31)\n",
    "\n",
    "plt.figure(figsize=(12, 6))\n",
    "plt.hist(all_num_surfaces[LOW_RES] , bins=bins, histtype='step', alpha=1.0, label='low-res 0.125 mm')\n",
    "plt.hist(all_num_surfaces[MED_RES] , bins=bins, histtype='step', alpha=1.0, label='med-res 0.05 mm')\n",
    "plt.hist(all_num_surfaces[HIGH_RES], bins=bins, histtype='step', alpha=1.0, label='high-res 0.02 mm')\n",
    "\n",
    "plt.gca().set_yscale('log')\n",
    "plt.gca().set_xscale('log')\n",
    "plt.legend()"
   ]
  },
  {
   "cell_type": "code",
   "execution_count": null,
   "metadata": {},
   "outputs": [],
   "source": []
  },
  {
   "cell_type": "code",
   "execution_count": null,
   "metadata": {},
   "outputs": [],
   "source": [
    "from scipy.spatial import KDTree"
   ]
  },
  {
   "cell_type": "code",
   "execution_count": null,
   "metadata": {},
   "outputs": [],
   "source": [
    "tree = KDTree(points[0], leafsize=100)\n"
   ]
  },
  {
   "cell_type": "code",
   "execution_count": null,
   "metadata": {},
   "outputs": [],
   "source": [
    "_, vert_indices = tree.query(points[0], k=2)"
   ]
  },
  {
   "cell_type": "code",
   "execution_count": null,
   "metadata": {
    "scrolled": false
   },
   "outputs": [],
   "source": [
    "plt.hist(distances[0][vert_indices[:, 0]] - distances[0][vert_indices[:, 1]],\n",
    "         bins=100)\n",
    "plt.gca().set_yscale('log')"
   ]
  },
  {
   "cell_type": "code",
   "execution_count": null,
   "metadata": {},
   "outputs": [],
   "source": [
    "from scipy.spatial import cKDTree"
   ]
  },
  {
   "cell_type": "code",
   "execution_count": null,
   "metadata": {},
   "outputs": [],
   "source": [
    "patch_idx = 7\n",
    "\n",
    "tree = KDTree(points[patch_idx], leafsize=100)\n",
    "\n",
    "d, vert_indices = tree.query(points[patch_idx], k=2)\n",
    "\n",
    "values = np.abs(distances[patch_idx][vert_indices[:, 0]] - distances[patch_idx][vert_indices[:, 1]]) / d[:, 1]\n",
    "plt.hist(values, bins=100)\n",
    "plt.gca().set_yscale('log')"
   ]
  },
  {
   "cell_type": "code",
   "execution_count": null,
   "metadata": {},
   "outputs": [],
   "source": [
    "values[values > 1.0]"
   ]
  },
  {
   "cell_type": "code",
   "execution_count": null,
   "metadata": {},
   "outputs": [],
   "source": [
    "for patch_idx, patch_points, patch_distances in zip(range(32), points, distances):\n",
    "    nn_distances, vert_indices = cKDTree(patch_points, leafsize=16).query(patch_points, k=4096, n_jobs=16)\n",
    "    values = np.abs(patch_distances[vert_indices[:, 0]] - patch_distances[vert_indices[:, 1]]) / nn_distances[:, 1]\n",
    "    if np.any(values > 1.1):\n",
    "        print(patch_idx, 'BAD')\n",
    "    else:\n",
    "        print(patch_idx, 'OK')\n"
   ]
  },
  {
   "cell_type": "code",
   "execution_count": null,
   "metadata": {},
   "outputs": [],
   "source": [
    "from scipy.spatial import KDTree, cKDTree"
   ]
  },
  {
   "cell_type": "code",
   "execution_count": null,
   "metadata": {},
   "outputs": [],
   "source": [
    "%time _ = KDTree(patch_points, leafsize=16).query(patch_points, k=2)"
   ]
  },
  {
   "cell_type": "code",
   "execution_count": null,
   "metadata": {},
   "outputs": [],
   "source": [
    "%time _ = cKDTree(patch_points, leafsize=16).query(patch_points, k=2)"
   ]
  },
  {
   "cell_type": "code",
   "execution_count": null,
   "metadata": {},
   "outputs": [],
   "source": [
    "patch_points.shape"
   ]
  },
  {
   "cell_type": "code",
   "execution_count": null,
   "metadata": {},
   "outputs": [],
   "source": [
    "np.concatenate(points).shape"
   ]
  },
  {
   "cell_type": "code",
   "execution_count": null,
   "metadata": {},
   "outputs": [],
   "source": []
  },
  {
   "cell_type": "code",
   "execution_count": null,
   "metadata": {},
   "outputs": [],
   "source": []
  },
  {
   "cell_type": "code",
   "execution_count": null,
   "metadata": {},
   "outputs": [],
   "source": []
  },
  {
   "cell_type": "code",
   "execution_count": null,
   "metadata": {},
   "outputs": [],
   "source": [
    "import glob"
   ]
  },
  {
   "cell_type": "code",
   "execution_count": null,
   "metadata": {},
   "outputs": [],
   "source": [
    "glob.glob('/logs/test_generation/*.hdf5')"
   ]
  },
  {
   "cell_type": "code",
   "execution_count": null,
   "metadata": {},
   "outputs": [],
   "source": [
    "all_patches = 0\n",
    "for filename in glob.glob('/logs/test_generation/*.hdf5'):\n",
    "    try:\n",
    "        f = h5py.File(filename, 'r')\n",
    "    except OSError:\n",
    "        continue\n",
    "\n",
    "    has_sharp = np.array(f['has_sharp'])\n",
    "    all_patches += len(has_sharp)\n",
    "    \n",
    "    f.close()"
   ]
  },
  {
   "cell_type": "code",
   "execution_count": null,
   "metadata": {},
   "outputs": [],
   "source": [
    "all_patches"
   ]
  },
  {
   "cell_type": "code",
   "execution_count": null,
   "metadata": {},
   "outputs": [],
   "source": []
  },
  {
   "cell_type": "code",
   "execution_count": null,
   "metadata": {},
   "outputs": [],
   "source": [
    "f = h5py.File('/logs/images/abc_0022_7_8.hdf5', 'r')\n",
    "\n",
    "\n",
    "images = np.array(f['image'])\n",
    "distances = np.array(f['distances'])\n",
    "print(np.array(f['num_surfaces']))\n",
    "print(np.array(f['num_sharp_curves']))\n",
    "item_ids = np.array(f['item_id'])\n",
    "\n",
    "f.close()"
   ]
  },
  {
   "cell_type": "code",
   "execution_count": null,
   "metadata": {},
   "outputs": [],
   "source": [
    "points.shape"
   ]
  },
  {
   "cell_type": "code",
   "execution_count": null,
   "metadata": {},
   "outputs": [],
   "source": []
  },
  {
   "cell_type": "code",
   "execution_count": null,
   "metadata": {},
   "outputs": [],
   "source": [
    "0.03125 / 4"
   ]
  },
  {
   "cell_type": "code",
   "execution_count": null,
   "metadata": {},
   "outputs": [],
   "source": [
    "!ls /logs/test_generation/bobrg.hdf5"
   ]
  },
  {
   "cell_type": "code",
   "execution_count": null,
   "metadata": {},
   "outputs": [],
   "source": [
    "res_3d = 0.125\n",
    "scale = 0.03125\n",
    "# scale = 0.0625\n",
    "# scale = 0.125\n",
    "# scale = 0.25\n",
    "# scale = 0.5\n",
    "\n",
    "f = h5py.File('/logs/test_generation/bobrg.hdf5', 'r')\n",
    "\n",
    "image = np.array(f['image'])\n",
    "normals = np.array(f['normals'])\n",
    "# item_ids = np.array(f['item_id'])\n",
    "# mesh_vertex_indexes = np.array(f['orig_vert_indices'])\n",
    "# mesh_face_indexes = np.array(f['orig_face_indexes'])\n",
    "\n",
    "# # idx = np.where(item_ids == np.unique(item_ids)[3])[0]\n",
    "# samples = points[11]\n",
    "# # samples = np.concatenate(points)\n",
    "# samples_distances = distances[11]\n",
    "# # samples_distances = np.concatenate(distances[idx])\n",
    "\n",
    "# plot = display_sharpness(None, plot_meshvert=False, meshvert_psize=0.01,\n",
    "#                   sharp_vert=None, sharpvert_psize=0.1,\n",
    "#                   samples=samples, samples_distances=samples_distances,\n",
    "#                   samples_color=0x0000ff, samples_psize=res_3d)\n",
    "\n",
    "f.close()"
   ]
  },
  {
   "cell_type": "code",
   "execution_count": null,
   "metadata": {},
   "outputs": [],
   "source": [
    "plt.imshow(np.squeeze(normals))"
   ]
  },
  {
   "cell_type": "code",
   "execution_count": null,
   "metadata": {},
   "outputs": [],
   "source": [
    "points = np.random.normal(size=(4*4096, 3))\n",
    "distances = np.random.normal(size=(4*4096))"
   ]
  },
  {
   "cell_type": "code",
   "execution_count": null,
   "metadata": {},
   "outputs": [],
   "source": [
    "from scipy.spatial import cKDTree"
   ]
  },
  {
   "cell_type": "code",
   "execution_count": null,
   "metadata": {},
   "outputs": [],
   "source": [
    "nn_distances, nn_indexes = cKDTree(points, leafsize=16).query(points, k=2, n_jobs=2)\n",
    "data_slices = [(start, start + 4096) for start in range(0, len(nn_indexes), 4096)]\n",
    "for start, end in data_slices:\n",
    "    indexes = np.arange(start, end)\n",
    "    values = np.abs(distances[nn_indexes[indexes, 0]] - distances[nn_indexes[indexes, 1]]) / nn_distances[indexes, 1]\n",
    "    if np.any(values > 1.1):\n",
    "        print('Discontinuities found in SDF values, discarding patch')\n"
   ]
  }
 ],
 "metadata": {
  "kernelspec": {
   "display_name": "Python 3",
   "language": "python",
   "name": "python3"
  },
  "language_info": {
   "codemirror_mode": {
    "name": "ipython",
    "version": 3
   },
   "file_extension": ".py",
   "mimetype": "text/x-python",
   "name": "python",
   "nbconvert_exporter": "python",
   "pygments_lexer": "ipython3",
   "version": "3.6.5"
  }
 },
 "nbformat": 4,
 "nbformat_minor": 4
}
