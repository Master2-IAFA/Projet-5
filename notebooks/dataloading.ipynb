{
 "cells": [
  {
   "cell_type": "code",
   "execution_count": 1,
   "metadata": {},
   "outputs": [],
   "source": [
    "%load_ext autoreload\n",
    "%autoreload 2"
   ]
  },
  {
   "cell_type": "code",
   "execution_count": 2,
   "metadata": {},
   "outputs": [],
   "source": [
    "import k3d\n",
    "import numpy as np\n",
    "import matplotlib.pyplot as plt\n",
    "import h5py\n",
    "import sys\n",
    "import tqdm"
   ]
  },
  {
   "cell_type": "code",
   "execution_count": 3,
   "metadata": {},
   "outputs": [],
   "source": [
    "import torch\n",
    "from torch.utils.data import DataLoader"
   ]
  },
  {
   "cell_type": "code",
   "execution_count": 4,
   "metadata": {},
   "outputs": [],
   "source": [
    "from sharpf.data.datasets.sharpf_io import PointCloudIO, DepthMapIO\n",
    "from sharpf.utils.abc_utils.hdf5.dataset import LotsOfHdf5Files, Hdf5File\n",
    "from sharpf.utils.abc_utils.torch import *\n",
    "from sharpf.utils.plotting import display_depth_sharpness\n",
    "\n",
    "from sharpf.utils.camera_utils.camera_pose import camera_to_display, CameraPose\n",
    "from sharpf.data.imaging import IMAGING_BY_TYPE\n",
    "from sharpf.utils.py_utils.config import load_func_from_config"
   ]
  },
  {
   "cell_type": "code",
   "execution_count": 5,
   "metadata": {},
   "outputs": [],
   "source": [
    "def display_sharpness(mesh=None, plot_meshvert=True,\n",
    "                      samples=None, samples_distances=None,\n",
    "                      sharp_vert=None, sharp_curves=None,\n",
    "                      directions=None, directions_width=0.0025,\n",
    "                      samples_color=0x0000ff, samples_psize=0.002, \n",
    "                      mesh_color=0xbbbbbb, meshvert_color=0x666666, meshvert_psize=0.0025,\n",
    "                      sharpvert_color=0xff0000, sharpvert_psize=0.0025,\n",
    "                      sharpcurve_color=None, sharpcurve_width=0.0025,\n",
    "                      as_image=False, plot_height=768, \n",
    "                      cmap_distances=k3d.colormaps.basic_color_maps.WarmCool,\n",
    "                      distance_range=None):\n",
    "    \n",
    "    plot = k3d.plot(height=plot_height, camera_fov=30.0)\n",
    "    \n",
    "    if None is not mesh:\n",
    "        k3d_mesh = k3d.mesh(mesh.vertices, mesh.faces, color=mesh_color)\n",
    "        plot += k3d_mesh\n",
    "\n",
    "        if plot_meshvert:\n",
    "            k3d_points = k3d.points(mesh.vertices, \n",
    "                                    point_size=meshvert_psize, color=meshvert_color)\n",
    "            plot += k3d_points\n",
    "            k3d_points.shader='flat'\n",
    "\n",
    "    if None is not samples:\n",
    "        colors = None\n",
    "        if None is not samples_distances:\n",
    "            if None is distance_range:\n",
    "                distance_range = [0, np.max(samples_distances)]\n",
    "\n",
    "            colors = k3d.helpers.map_colors(\n",
    "                samples_distances, cmap_distances, distance_range\n",
    "            ).astype(np.uint32)\n",
    "            k3d_points = k3d.points(samples, point_size=samples_psize, colors=colors)\n",
    "        else:\n",
    "            k3d_points = k3d.points(samples, point_size=samples_psize, color=samples_color)\n",
    "        plot += k3d_points\n",
    "        k3d_points.shader='flat'\n",
    "        \n",
    "        if None is not directions:\n",
    "            directions_to_plot = np.hstack((samples, samples + directions))\n",
    "            \n",
    "            for i, dir_to_plot in enumerate(directions_to_plot):\n",
    "                dir_to_plot = dir_to_plot.reshape((2, 3))\n",
    "                if np.all(dir_to_plot[0] == dir_to_plot[1]):\n",
    "                    continue\n",
    "                color = int(colors[i]) if None is not colors else samples_color\n",
    "                plt_line = k3d.line(dir_to_plot, \n",
    "                                    shader='mesh', width=directions_width, color=color)\n",
    "                plot += plt_line\n",
    "\n",
    "    if None is not sharp_vert:\n",
    "        k3d_points = k3d.points(sharp_vert,\n",
    "                                point_size=sharpvert_psize, color=sharpvert_color)\n",
    "        plot += k3d_points\n",
    "        k3d_points.shader='flat'\n",
    "        \n",
    "        if None is not sharp_curves:            \n",
    "            if None is not sharpcurve_color:\n",
    "                color = sharpcurve_color\n",
    "            else:\n",
    "                import randomcolor\n",
    "                rand_color = randomcolor.RandomColor()\n",
    "            for i, vert_ind in enumerate(sharp_curves):\n",
    "                sharp_points_curve = mesh.vertices[vert_ind]\n",
    "                \n",
    "                if None is sharpcurve_color:\n",
    "                    color = rand_color.generate(hue='red')[0]\n",
    "                    color = int('0x' + color[1:], 16)\n",
    "                plt_line = k3d.line(sharp_points_curve, \n",
    "                                    shader='mesh', width=sharpcurve_width, color=color)\n",
    "                plot += plt_line\n",
    "        \n",
    "    plot.grid_visible = False\n",
    "    plot.camera_auto_fit = True\n",
    "    plot.display()\n",
    "    \n",
    "    return plot"
   ]
  },
  {
   "cell_type": "code",
   "execution_count": 6,
   "metadata": {},
   "outputs": [
    {
     "name": "stdout",
     "output_type": "stream",
     "text": [
      "abc_0000_1_2.hdf5\t abc_0056_0_1.hdf5\r\n",
      "abc_0000_7130_7140.hdf5  abc_0056_0_1_lowre.hdf5\r\n"
     ]
    }
   ],
   "source": [
    "!ls /logs"
   ]
  },
  {
   "cell_type": "markdown",
   "metadata": {},
   "source": [
    "## Creating the dataset and observing it"
   ]
  },
  {
   "cell_type": "code",
   "execution_count": 8,
   "metadata": {},
   "outputs": [],
   "source": [
    "# transform = CompositeSharpnessTransform([\n",
    "#     TypeCast(torch.float32, torch.float32),\n",
    "#     Center(),\n",
    "#     NormalizeL2(),\n",
    "#     Random3DRotation(),\n",
    "# #     RandomSubsamplePoints(1024, 3.0),\n",
    "# ])"
   ]
  },
  {
   "cell_type": "code",
   "execution_count": 11,
   "metadata": {},
   "outputs": [
    {
     "data": {
      "text/plain": [
       "3101"
      ]
     },
     "execution_count": 11,
     "metadata": {},
     "output_type": "execute_result"
    }
   ],
   "source": [
    "# hdf5_input_dir = '/logs/points'\n",
    "data_label = 'image'\n",
    "target_label = 'distances'\n",
    "# labels = ['directions', 'distances', 'has_sharp', \n",
    "#           'item_id', 'normals', 'num_sharp_curves', \n",
    "#           'num_surfaces', 'orig_face_indexes', 'orig_vert_indices', 'points']\n",
    "labels = '*'\n",
    "# labels = ['points',\n",
    "#           'num_sharp_curves', \n",
    "#           'num_surfaces',\n",
    "#           'camera_pose']\n",
    "\n",
    "# dataset = LotsOfHdf5Files(\n",
    "#         data_dir=hdf5_input_dir,\n",
    "#         io=DepthIO,\n",
    "#         data_label=data_label,\n",
    "#         target_label=target_label,\n",
    "#         labels=labels,\n",
    "#         max_loaded_files=10)\n",
    "\n",
    "dataset = Hdf5File(\n",
    "    '/logs/abc_0000_7130_7140.hdf5',\n",
    "    io=DepthMapIO,\n",
    "    data_label=data_label,\n",
    "    target_label=target_label,\n",
    "    labels='*',\n",
    "    transform=None)\n",
    "len(dataset)"
   ]
  },
  {
   "cell_type": "code",
   "execution_count": 21,
   "metadata": {},
   "outputs": [],
   "source": [
    "images = np.array([camera_to_display(dataset[idx]['image'].numpy())\n",
    "                   for idx in range(len(dataset))])\n",
    "distances = np.array([camera_to_display(dataset[idx]['distances'].numpy())\n",
    "                      for idx in range(len(dataset))])\n",
    "camera_poses = [CameraPose(dataset[idx]['camera_pose'])  \n",
    "               for idx in range(len(dataset))]"
   ]
  },
  {
   "cell_type": "code",
   "execution_count": 48,
   "metadata": {
    "scrolled": false
   },
   "outputs": [
    {
     "data": {
      "image/png": "[encoded data removed]",
      "text/plain": [
       "<Figure size 2880x576 with 20 Axes>"
      ]
     },
     "metadata": {
      "needs_background": "light"
     },
     "output_type": "display_data"
    }
   ],
   "source": [
    "idx = np.random.choice(np.arange(len(images)), replace=False, size=80)\n",
    "\n",
    "display_depth_sharpness(\n",
    "    depth_images=images[440:450],\n",
    "    sharpness_images=distances[440:450],\n",
    "    axes_size=(4, 4),\n",
    "    ncols=5\n",
    ")"
   ]
  },
  {
   "cell_type": "markdown",
   "metadata": {},
   "source": [
    "## Viewing depth images in 3D"
   ]
  },
  {
   "cell_type": "code",
   "execution_count": 60,
   "metadata": {},
   "outputs": [
    {
     "data": {
      "text/plain": [
       "{'shape_fabrication_extent': 10.0,\n",
       " 'short_curve_quantile': 0.25,\n",
       " 'base_n_points_per_short_curve': 8,\n",
       " 'base_resolution_3d': 0.125,\n",
       " 'camera_pose': {'type': 'composite',\n",
       "  'sequences': [{'type': 'sphere_to_origin', 'n_images': 10},\n",
       "   {'type': 'xy_translation', 'n_images': 100},\n",
       "   {'type': 'z_rotation', 'n_images': 5}]},\n",
       " 'imaging': {'type': 'raycasting',\n",
       "  'projection': 'ortho',\n",
       "  'resolution_image': 64,\n",
       "  'resolution_3d': 0.02,\n",
       "  'fov': [115, 85, 80],\n",
       "  'validate_image': True},\n",
       " 'noise': {'type': 'many_noisers', 'subtype': 'z_direction', 'scale': [0.0]},\n",
       " 'annotation': {'type': 'surface_based_aabb',\n",
       "  'distance_upper_bound': 1.0,\n",
       "  'validate_annotation': True}}"
      ]
     },
     "execution_count": 60,
     "metadata": {},
     "output_type": "execute_result"
    }
   ],
   "source": [
    "import json\n",
    "with open('/code/scripts/data_scripts/configs/depthmap_datasets/dataset_config_high_res_clean_64x64.json') as config_file:\n",
    "    config = json.load(config_file)\n",
    "\n",
    "config"
   ]
  },
  {
   "cell_type": "code",
   "execution_count": 61,
   "metadata": {},
   "outputs": [],
   "source": [
    "imaging = load_func_from_config(IMAGING_BY_TYPE, config['imaging'])"
   ]
  },
  {
   "cell_type": "code",
   "execution_count": 62,
   "metadata": {},
   "outputs": [],
   "source": [
    "idx = 440\n",
    "\n",
    "camera_pose = camera_poses[idx]\n",
    "image = images[idx]\n",
    "sharpness = distances[idx]"
   ]
  },
  {
   "cell_type": "code",
   "execution_count": 69,
   "metadata": {},
   "outputs": [],
   "source": [
    "points = camera_pose.camera_to_world(imaging.image_to_points(image))"
   ]
  },
  {
   "cell_type": "code",
   "execution_count": 70,
   "metadata": {},
   "outputs": [
    {
     "name": "stderr",
     "output_type": "stream",
     "text": [
      "/home/user/miniconda/envs/py36/lib/python3.6/site-packages/traittypes/traittypes.py:101: UserWarning: Given trait value dtype \"float64\" does not match required type \"float32\". A coerced copy has been created.\n",
      "  np.dtype(self.dtype).name))\n"
     ]
    },
    {
     "data": {
      "application/vnd.jupyter.widget-view+json": {
       "model_id": "ae65c906345b4d24b9491efa8f2bc797",
       "version_major": 2,
       "version_minor": 0
      },
      "text/plain": [
       "Output()"
      ]
     },
     "metadata": {},
     "output_type": "display_data"
    },
    {
     "data": {
      "application/vnd.jupyter.widget-view+json": {
       "model_id": "22b4ae53ca404277bb9f1c1254e9ab9f",
       "version_major": 2,
       "version_minor": 0
      },
      "text/plain": [
       "Plot(antialias=3, axes=['x', 'y', 'z'], axes_helper=1.0, background_color=16777215, camera=[4.5, 4.5, 4.5, 0.0…"
      ]
     },
     "metadata": {},
     "output_type": "display_data"
    }
   ],
   "source": [
    "display_sharpness(\n",
    "    None, plot_meshvert=True, meshvert_psize=imaging.resolution_3d / 2,\n",
    "#     sharp_vert=camera_pose.camera_to_world(imaging.rays_origins), sharpvert_psize=0.5,\n",
    "    samples=points, samples_psize=imaging.resolution_3d,\n",
    "    samples_distances=sharpness[np.where(image != 0)]\n",
    ")"
   ]
  },
  {
   "cell_type": "markdown",
   "metadata": {},
   "source": [
    "## Dataloading with augmentations with DataLoader"
   ]
  },
  {
   "cell_type": "code",
   "execution_count": 73,
   "metadata": {},
   "outputs": [
    {
     "data": {
      "text/plain": [
       "3101"
      ]
     },
     "execution_count": 73,
     "metadata": {},
     "output_type": "execute_result"
    }
   ],
   "source": [
    "# hdf5_input_dir = '/logs/points'\n",
    "data_label = 'image'\n",
    "target_label = 'distances'\n",
    "# labels = ['directions', 'distances', 'has_sharp', \n",
    "#           'item_id', 'normals', 'num_sharp_curves', \n",
    "#           'num_surfaces', 'orig_face_indexes', 'orig_vert_indices', 'points']\n",
    "# labels = '*'\n",
    "# labels = ['points',\n",
    "#           'num_sharp_curves', \n",
    "#           'num_surfaces',\n",
    "#           'camera_pose']\n",
    "\n",
    "# dataset = LotsOfHdf5Files(\n",
    "#         data_dir=hdf5_input_dir,\n",
    "#         io=DepthIO,\n",
    "#         data_label=data_label,\n",
    "#         target_label=target_label,\n",
    "#         labels=labels,\n",
    "#         max_loaded_files=10)\n",
    "\n",
    "dataset = Hdf5File(\n",
    "    '/logs/abc_0000_7130_7140.hdf5',\n",
    "    io=DepthMapIO,\n",
    "    data_label=data_label,\n",
    "    target_label=target_label,\n",
    "    labels=None,\n",
    "    transform=None)\n",
    "len(dataset)"
   ]
  },
  {
   "cell_type": "code",
   "execution_count": 74,
   "metadata": {},
   "outputs": [],
   "source": [
    "batch_size = 16\n",
    "train_loader = DataLoader(\n",
    "    dataset,\n",
    "    num_workers=4,\n",
    "    batch_size=batch_size,\n",
    "    shuffle=False,\n",
    ")"
   ]
  },
  {
   "cell_type": "code",
   "execution_count": 75,
   "metadata": {},
   "outputs": [
    {
     "name": "stderr",
     "output_type": "stream",
     "text": [
      "100%|██████████| 194/194 [00:00<00:00, 537.34it/s]\n"
     ]
    }
   ],
   "source": [
    "for batch in tqdm.tqdm(train_loader):\n",
    "    pass"
   ]
  },
  {
   "cell_type": "code",
   "execution_count": null,
   "metadata": {},
   "outputs": [],
   "source": []
  }
 ],
 "metadata": {
  "kernelspec": {
   "display_name": "Python 3",
   "language": "python",
   "name": "python3"
  },
  "language_info": {
   "codemirror_mode": {
    "name": "ipython",
    "version": 3
   },
   "file_extension": ".py",
   "mimetype": "text/x-python",
   "name": "python",
   "nbconvert_exporter": "python",
   "pygments_lexer": "ipython3",
   "version": "3.6.5"
  }
 },
 "nbformat": 4,
 "nbformat_minor": 4
}
