{
 "cells": [
  {
   "cell_type": "code",
   "execution_count": 1,
   "metadata": {},
   "outputs": [],
   "source": [
    "%load_ext autoreload\n",
    "%autoreload 2"
   ]
  },
  {
   "cell_type": "code",
   "execution_count": 7,
   "metadata": {},
   "outputs": [],
   "source": [
    "from copy import deepcopy\n",
    "\n",
    "import k3d\n",
    "import yaml\n",
    "import numpy as np\n",
    "\n",
    "import matplotlib.pyplot as plt\n",
    "\n",
    "from tqdm import tqdm\n",
    "import json\n",
    "\n",
    "import glob\n",
    "import os\n",
    "import trimesh.transformations as tt\n",
    "\n",
    "import igl\n",
    "import torch"
   ]
  },
  {
   "cell_type": "code",
   "execution_count": 3,
   "metadata": {},
   "outputs": [],
   "source": [
    "def appendSpherical_np(xyz):\n",
    "    ptsnew = np.hstack((xyz, np.zeros(xyz.shape)))\n",
    "    xy = xyz[:,0]**2 + xyz[:,1]**2\n",
    "    ptsnew[:,3] = np.sqrt(xy + xyz[:,2]**2)\n",
    "    ptsnew[:,4] = np.arctan2(np.sqrt(xy), xyz[:,2]) # for elevation angle defined from Z-axis down\n",
    "    #ptsnew[:,4] = np.arctan2(xyz[:,2], np.sqrt(xy)) # for elevation angle defined from XY-plane up\n",
    "    ptsnew[:,5] = np.arctan2(xyz[:,1], xyz[:,0])\n",
    "    return ptsnew"
   ]
  },
  {
   "cell_type": "code",
   "execution_count": 39,
   "metadata": {},
   "outputs": [],
   "source": []
  },
  {
   "cell_type": "code",
   "execution_count": 37,
   "metadata": {},
   "outputs": [],
   "source": [
    "def colorize_normals(normals, flip_y=False):\n",
    "    normals = torch.as_tensor(normals)\n",
    "    \n",
    "    normals = normals.clone()\n",
    "    normals[2] *= -1\n",
    "    normals[2].clamp_(0, 1)\n",
    "    \n",
    "    if flip_y:\n",
    "        normals[1] *= -1\n",
    "    \n",
    "    normals = torch.clamp((normals + 1) / 2 * 255, 0, 255).type(torch.uint8)\n",
    "    return normals.numpy()\n",
    "\n"
   ]
  },
  {
   "cell_type": "code",
   "execution_count": null,
   "metadata": {},
   "outputs": [],
   "source": []
  },
  {
   "cell_type": "code",
   "execution_count": 9,
   "metadata": {},
   "outputs": [],
   "source": [
    "def display_sharpness(mesh=None, plot_meshvert=True,\n",
    "                      plot_mesh_wireframe=False, mesh_wireframe_color=0x000000,\n",
    "                      samples=None, samples_distances=None,\n",
    "                      sharp_vert=None, sharp_curves=None,\n",
    "                      directions=None, directions_width=0.0025, directions_color=0x000000,\n",
    "                      samples_color=0x0000ff, samples_psize=0.002, \n",
    "                      mesh_color=0xbbbbbb, meshvert_color=0x666666, meshvert_psize=0.0025,\n",
    "                      sharpvert_color=0xff0000, sharpvert_psize=0.0025,\n",
    "                      sharpcurve_color=None, sharpcurve_width=0.0025,\n",
    "                      as_image=False, plot_height=768, camera_fov=60.0, lighting=1.5, camera_auto_fit=False):\n",
    "    \n",
    "    plot = k3d.plot(\n",
    "        height=plot_height,\n",
    "        camera_fov=camera_fov,\n",
    "        lighting=lighting, \n",
    "        camera_auto_fit=camera_auto_fit,\n",
    "        grid_visible=False)\n",
    "    \n",
    "    if None is not mesh:\n",
    "        k3d_mesh = k3d.mesh(\n",
    "            mesh.vertices,\n",
    "            mesh.faces,\n",
    "            color=mesh_color)\n",
    "        plot += k3d_mesh\n",
    "\n",
    "        if plot_meshvert:\n",
    "            k3d_points = k3d.points(\n",
    "                mesh.vertices, \n",
    "                point_size=meshvert_psize,\n",
    "                color=meshvert_color)\n",
    "            plot += k3d_points\n",
    "            k3d_points.shader='3d'\n",
    "        \n",
    "        if plot_mesh_wireframe:\n",
    "            k3d_mesh = k3d.mesh(\n",
    "                mesh.vertices,\n",
    "                mesh.faces,\n",
    "                wireframe=True,\n",
    "                color=mesh_wireframe_color)\n",
    "            plot += k3d_mesh\n",
    "\n",
    "    if None is not samples:\n",
    "        colors = None\n",
    "        if None is not samples_distances:\n",
    "            max_dist = np.max(samples_distances)\n",
    "\n",
    "            colors = k3d.helpers.map_colors(\n",
    "                samples_distances, k3d.colormaps.basic_color_maps.WarmCool, [0, max_dist]\n",
    "            ).astype(np.uint32)\n",
    "            k3d_points = k3d.points(samples, point_size=samples_psize, colors=colors)\n",
    "        else:\n",
    "            k3d_points = k3d.points(samples, point_size=samples_psize, color=samples_color)\n",
    "        plot += k3d_points\n",
    "        k3d_points.shader='flat'\n",
    "        \n",
    "        if None is not directions:\n",
    "            \n",
    "#             max_dist = np.max(samples[:, 1] + samples[:, 2])\n",
    "#             colors = k3d.helpers.map_colors(\n",
    "#                 samples[:, 1] + samples[:, 2], k3d.colormaps.matplotlib_color_maps.viridis, [0, max_dist]\n",
    "#             ).astype(np.uint32)\n",
    "            \n",
    "            vectors = k3d.vectors(\n",
    "                samples, directions * samples_distances[..., np.newaxis],\n",
    "                color=directions_color,\n",
    "                use_head=False,\n",
    "            )\n",
    "            plot += vectors\n",
    "\n",
    "#             directions_to_plot = np.hstack((samples, samples + directions))\n",
    "            \n",
    "#             for i, dir_to_plot in enumerate(directions_to_plot):\n",
    "#                 dir_to_plot = dir_to_plot.reshape((2, 3))\n",
    "#                 if np.all(dir_to_plot[0] == dir_to_plot[1]):\n",
    "#                     continue\n",
    "#                 color = int(colors[i]) if None is not colors else samples_color\n",
    "#                 plt_line = k3d.line(dir_to_plot, \n",
    "#                                     shader='mesh', width=directions_width, color=color)\n",
    "#                 plot += plt_line\n",
    "\n",
    "    if None is not sharp_vert:\n",
    "        k3d_points = k3d.points(sharp_vert,\n",
    "                                point_size=sharpvert_psize, color=sharpvert_color)\n",
    "        plot += k3d_points\n",
    "        k3d_points.shader='flat'\n",
    "        \n",
    "    if None is not sharp_curves:            \n",
    "        if None is not sharpcurve_color:\n",
    "            color = sharpcurve_color\n",
    "        else:\n",
    "            import randomcolor\n",
    "            rand_color = randomcolor.RandomColor()\n",
    "        for i, vert_ind in enumerate(sharp_curves):\n",
    "            print(i, vert_ind)\n",
    "            sharp_points_curve = mesh.vertices[vert_ind]\n",
    "\n",
    "            if None is sharpcurve_color:\n",
    "                color = rand_color.generate(hue='red')[0]\n",
    "                color = int('0x' + color[1:], 16)\n",
    "            plt_line = k3d.line(sharp_points_curve, \n",
    "                                shader='thick', \n",
    "                                width=sharpcurve_width, \n",
    "                                color=color)\n",
    "            plot += plt_line\n",
    "        \n",
    "    plot.camera_fov = camera_fov\n",
    "    plot.display()\n",
    "    \n",
    "    if as_image:\n",
    "        plot.fetch_screenshot()\n",
    "        return Image(data=b64decode(plot.screenshot))"
   ]
  },
  {
   "cell_type": "code",
   "execution_count": 10,
   "metadata": {},
   "outputs": [],
   "source": [
    "def brep_like_rendering(mesh, sharp_curves, mesh_color=0x76d8ad):\n",
    "    display_sharpness(\n",
    "        mesh, plot_meshvert=False, meshvert_psize=sampler.resolution_3d, mesh_color=mesh_color,\n",
    "        sharp_vert=None, sharpvert_psize=2. * sampler.resolution_3d,\n",
    "        samples=None, samples_psize=1. * sampler.resolution_3d,\n",
    "        sharp_curves=sharp_curves, sharpcurve_color=0x000000, sharpcurve_width=0.02,\n",
    "        camera_fov=15., lighting=0.5\n",
    "    )"
   ]
  },
  {
   "cell_type": "code",
   "execution_count": 11,
   "metadata": {},
   "outputs": [],
   "source": [
    "def mesh_like_rendering(mesh, mesh_color=0x76d8ad):\n",
    "    display_sharpness(\n",
    "        mesh, plot_meshvert=False, meshvert_psize=sampler.resolution_3d, mesh_color=mesh_color,\n",
    "        plot_mesh_wireframe=True,\n",
    "        sharp_vert=None, sharpvert_psize=2. * sampler.resolution_3d,\n",
    "        samples=None, samples_psize=1. * sampler.resolution_3d,\n",
    "        sharp_curves=None, sharpcurve_color=0x000000, sharpcurve_width=0.01,\n",
    "        camera_fov=15., lighting=0.5\n",
    "    )"
   ]
  },
  {
   "cell_type": "code",
   "execution_count": 12,
   "metadata": {},
   "outputs": [],
   "source": [
    "def sharp_line_rendering(mesh, sharp_curves, mesh_color=0xdddddd):\n",
    "    display_sharpness(\n",
    "        mesh, plot_meshvert=False, meshvert_psize=sampler.resolution_3d, mesh_color=mesh_color,\n",
    "        sharp_vert=None, sharpvert_psize=2. * sampler.resolution_3d,\n",
    "        samples=None, samples_psize=1. * sampler.resolution_3d,\n",
    "        sharp_curves=sharp_curves, sharpcurve_color=0xc4295d, sharpcurve_width=0.04,\n",
    "        camera_fov=15., lighting=0.5\n",
    "    )"
   ]
  },
  {
   "cell_type": "code",
   "execution_count": 13,
   "metadata": {},
   "outputs": [],
   "source": [
    "# mm/pixel\n",
    "HIGH_RES = 0.02\n",
    "MED_RES = 0.05\n",
    "LOW_RES = 0.125\n",
    "XLOW_RES = 0.25"
   ]
  },
  {
   "cell_type": "markdown",
   "metadata": {},
   "source": [
    "## 1. Working with point patches"
   ]
  },
  {
   "cell_type": "code",
   "execution_count": 14,
   "metadata": {},
   "outputs": [],
   "source": [
    "from sharpf.utils.abc_utils.abc.abc_data import ABCModality, ABCChunk, ABC_7Z_FILEMASK, ABCItem\n",
    "from sharpf.data.annotation import ANNOTATOR_BY_TYPE\n",
    "from sharpf.data.mesh_nbhoods import NBHOOD_BY_TYPE\n",
    "from sharpf.data.noisers import NOISE_BY_TYPE\n",
    "from sharpf.data.point_samplers import SAMPLER_BY_TYPE\n",
    "from sharpf.utils.py_utils.console import eprint\n",
    "# from sharpf.utils.abc_utils.mesh.io import trimesh_load\n",
    "\n",
    "from sharpf.utils.abc_utils.abc.feature_utils import (\n",
    "    get_adjacent_features_by_bfs_with_depth1,\n",
    "    build_surface_patch_graph,\n",
    "    get_curves_extents,\n",
    "    compute_features_nbhood,\n",
    "    remove_boundary_features)\n",
    "from sharpf.utils.geometry import dist_vector_proj, mean_mmd\n",
    "from sharpf.utils.py_utils.config import load_func_from_config\n",
    "from sharpf.utils.abc_utils.mesh.indexing import reindex_zerobased\n",
    "\n",
    "\n",
    "import sharpf.utils.camera_utils.camera_pose as c"
   ]
  },
  {
   "cell_type": "code",
   "execution_count": 15,
   "metadata": {},
   "outputs": [],
   "source": [
    "# data_holder = ABCChunk(['/data/abc_0056_obj_v00.7z', '/data/abc_0056_feat_v00.7z'])\n"
   ]
  },
  {
   "cell_type": "code",
   "execution_count": 16,
   "metadata": {
    "scrolled": true
   },
   "outputs": [],
   "source": [
    "# item = data_holder[584]\n",
    "# item.item_id"
   ]
  },
  {
   "cell_type": "code",
   "execution_count": 17,
   "metadata": {},
   "outputs": [],
   "source": [
    "from io import BytesIO\n",
    "\n",
    "import trimesh\n",
    "import numpy as np\n",
    "\n",
    "\n",
    "def trimesh_load(io: BytesIO) -> trimesh.base.Trimesh:\n",
    "    \"\"\"Read the mesh: since trimesh messes the indices, this has to be done manually.\"\"\"\n",
    "\n",
    "    vertices, faces = [], []\n",
    "\n",
    "    for line in io.read().splitlines():\n",
    "        values = line.strip().split()\n",
    "        if not values:\n",
    "            continue\n",
    "        if values[0] == 'v':\n",
    "            vertices.append(np.array(values[1:4], dtype='float'))\n",
    "        elif values[0] == 'f':\n",
    "            faces.append(np.array([values[1].split('//')[0], values[2].split('//')[0], values[3].split('//')[0]],\n",
    "                                  dtype='int'))\n",
    "\n",
    "    vertices = np.array(vertices)\n",
    "    faces = np.array(faces) - 1\n",
    "\n",
    "    mesh = trimesh.base.Trimesh(vertices=vertices, faces=faces, process=False)  # create a mesh from the vertices\n",
    "    return mesh\n",
    "\n",
    "\n",
    "def igl_load(filename):\n",
    "    v, _, n, f, _, ni = igl.read_obj(filename)\n",
    "    return trimesh.Trimesh(\n",
    "        vertices=v,\n",
    "        faces=f,\n",
    "    )\n"
   ]
  },
  {
   "cell_type": "code",
   "execution_count": 18,
   "metadata": {},
   "outputs": [],
   "source": [
    "def get_item_by_id(base_path_list, item_id):\n",
    "    item_prefix = item_id.split('_')[0]\n",
    "    \n",
    "    obj_dir, feat_dir = base_path_list\n",
    "    \n",
    "    item_obj_filename = os.path.join(\n",
    "        obj_dir,\n",
    "        '{}_trimesh_*.obj'.format(item_id)\n",
    "    )\n",
    "    item_obj_filename = glob.glob(item_obj_filename)[0]\n",
    "    \n",
    "    item_feat_filename = os.path.join(\n",
    "        feat_dir,\n",
    "        '{}_features_*.yml'.format(item_id)\n",
    "    )\n",
    "    item_feat_filename = glob.glob(item_feat_filename)[0]\n",
    "\n",
    "    with open(item_obj_filename) as item_obj:\n",
    "        mesh = trimesh_load(item_obj)\n",
    "#     mesh = igl_load(item_obj_filename)\n",
    "        \n",
    "    with open(item_feat_filename) as item_feat:\n",
    "        features = yaml.load(item_feat, Loader=yaml.Loader)\n",
    "\n",
    "    return ABCItem(obj=mesh, feat=features)"
   ]
  },
  {
   "cell_type": "code",
   "execution_count": 19,
   "metadata": {},
   "outputs": [
    {
     "data": {
      "text/plain": [
       "{'shape_fabrication_extent': 10.0,\n",
       " 'short_curve_quantile': 0.25,\n",
       " 'base_n_points_per_short_curve': 8,\n",
       " 'base_resolution_3d': 0.125,\n",
       " 'neighbourhood': {'type': 'random_euclidean_sphere',\n",
       "  'max_patches_per_mesh': 48,\n",
       "  'n_vertices': None,\n",
       "  'centroid': None,\n",
       "  'centroid_mode': 'poisson_disk',\n",
       "  'radius_base': 10.0,\n",
       "  'radius_delta': 0.0,\n",
       "  'geodesic_patches': True,\n",
       "  'radius_scale_mode': 'no_scale'},\n",
       " 'sampling': {'type': 'poisson_disk',\n",
       "  'n_points': 4096,\n",
       "  'resolution_3d': 0.02,\n",
       "  'crop_center': True,\n",
       "  'resolution_deviation_tolerance': 0.01},\n",
       " 'noise': {'type': 'many_noisers',\n",
       "  'subtype': 'isotropic_gaussian',\n",
       "  'scale': [0.0]},\n",
       " 'annotation': {'type': 'surface_based_aabb',\n",
       "  'distance_upper_bound': 1.0,\n",
       "  'validate_annotation': True}}"
      ]
     },
     "execution_count": 19,
     "metadata": {},
     "output_type": "execute_result"
    }
   ],
   "source": [
    "with open('/code/scripts/data_scripts/configs/pointcloud_datasets/dataset_config_high_res_clean.json') as config_file:\n",
    "    config = json.load(config_file)\n",
    "\n",
    "config"
   ]
  },
  {
   "cell_type": "code",
   "execution_count": 20,
   "metadata": {},
   "outputs": [],
   "source": [
    "shape_fabrication_extent = config.get('shape_fabrication_extent', 10.0)\n",
    "base_n_points_per_short_curve = config.get('base_n_points_per_short_curve', 8)\n",
    "base_resolution_3d = config.get('base_resolution_3d', LOW_RES)\n",
    "\n",
    "short_curve_quantile = config.get('short_curve_quantile', 0.05)\n",
    "\n",
    "nbhood_extractor = load_func_from_config(NBHOOD_BY_TYPE, config['neighbourhood'])\n",
    "sampler = load_func_from_config(SAMPLER_BY_TYPE, config['sampling'])\n",
    "noiser = load_func_from_config(NOISE_BY_TYPE, config['noise'])\n",
    "annotator = load_func_from_config(ANNOTATOR_BY_TYPE, config['annotation'])\n",
    "\n",
    "# Specific to this script only: override radius of neighbourhood extractor\n",
    "# to reflect actual point cloud resolution:\n",
    "# we extract spheres of radius r, such that area of a (plane) disk with radius r\n",
    "# is equal to the total area of 3d points (as if we scanned a plane wall)\n",
    "nbhood_extractor.radius_base = np.sqrt(sampler.n_points) * 0.5 * sampler.resolution_3d"
   ]
  },
  {
   "cell_type": "code",
   "execution_count": 21,
   "metadata": {},
   "outputs": [],
   "source": [
    "\n",
    "def scale_mesh(mesh, features, shape_fabrication_extent, resolution_3d,\n",
    "               short_curve_quantile=0.05, n_points_per_short_curve=4):\n",
    "    # compute standard size spatial extent\n",
    "    mesh_extent = np.max(mesh.bounding_box.extents)\n",
    "    mesh = mesh.apply_scale(shape_fabrication_extent / mesh_extent)\n",
    "\n",
    "    # compute lengths of curves\n",
    "    sharp_curves_lengths = get_curves_extents(mesh, features)\n",
    "\n",
    "    least_len = np.quantile(sharp_curves_lengths, short_curve_quantile)\n",
    "    least_len_mm = resolution_3d * n_points_per_short_curve\n",
    "\n",
    "    mesh = mesh.apply_scale(least_len_mm / least_len)\n",
    "\n",
    "    return mesh\n"
   ]
  },
  {
   "cell_type": "code",
   "execution_count": null,
   "metadata": {},
   "outputs": [],
   "source": []
  },
  {
   "cell_type": "code",
   "execution_count": 22,
   "metadata": {},
   "outputs": [],
   "source": [
    "with open('/data/abc/test_trimesh.obj') as item_obj:\n",
    "    mesh = trimesh_load(item_obj)\n",
    "\n",
    "with open('/data/abc/test_features.yml') as item_feat:\n",
    "    features = yaml.load(item_feat, Loader=yaml.Loader)\n",
    "\n",
    "mesh_orig = mesh.copy()"
   ]
  },
  {
   "cell_type": "code",
   "execution_count": 428,
   "metadata": {},
   "outputs": [],
   "source": [
    "# item_id = '00009684_f3f3f0459fff4bcb8d7ab694'\n",
    "# item_id = '00009533_40bd0c14c7b442c083075cac'\n",
    "\n",
    "item_id = '00009533_40bd0c14c7b442c083075cac'\n",
    "\n",
    "item = get_item_by_id(\n",
    "    ['/data/abc/abc_0000_obj_v00', '/data/abc/abc_0000_feat_v00'], \n",
    "    item_id)\n",
    "\n",
    "mesh = item.obj\n",
    "features = item.feat\n",
    "mesh_orig = mesh.copy()"
   ]
  },
  {
   "cell_type": "code",
   "execution_count": 443,
   "metadata": {
    "scrolled": false
   },
   "outputs": [],
   "source": [
    "mesh = mesh_orig.copy()\n",
    "\n",
    "mesh = scale_mesh(mesh, features, shape_fabrication_extent, base_resolution_3d,\n",
    "                  short_curve_quantile=short_curve_quantile,\n",
    "                  n_points_per_short_curve=base_n_points_per_short_curve)"
   ]
  },
  {
   "cell_type": "code",
   "execution_count": 23,
   "metadata": {},
   "outputs": [],
   "source": [
    "sharp_curves = [curve['vert_indices'] for curve in features['curves'] if curve['sharp']]"
   ]
  },
  {
   "cell_type": "code",
   "execution_count": 26,
   "metadata": {
    "scrolled": false
   },
   "outputs": [
    {
     "data": {
      "application/vnd.jupyter.widget-view+json": {
       "model_id": "ccac03d7bc9d46d3a41ad8bcf2dd544b",
       "version_major": 2,
       "version_minor": 0
      },
      "text/plain": [
       "Output()"
      ]
     },
     "metadata": {},
     "output_type": "display_data"
    }
   ],
   "source": [
    "mesh = mesh_orig.copy()\n",
    "mesh_extent = np.max(mesh.bounding_box.extents)\n",
    "scale = 7.5 / mesh_extent\n",
    "# print(scale)\n",
    "mesh = mesh.apply_scale(scale)\n",
    "\n",
    "# [z x y]\n",
    "def _n(a):\n",
    "    a = np.array(a)\n",
    "    return a / np.linalg.norm(a)\n",
    "\n",
    "\n",
    "R = tt.rotation_matrix(90*np.pi/180, [0., 0., 1.], np.mean(mesh.vertices, axis=0))\n",
    "mesh.apply_transform(R)\n",
    "\n",
    "R = tt.rotation_matrix(45*np.pi/180, _n([1., 0., 0.]), np.mean(mesh.vertices, axis=0))\n",
    "mesh.apply_transform(R)\n",
    "\n",
    "R = tt.rotation_matrix(-75*np.pi/180, _n([0., -1., 1.]), np.mean(mesh.vertices, axis=0))\n",
    "mesh.apply_transform(R)\n",
    "\n",
    "# R = tt.rotation_matrix(-15*np.pi/180, _n([1., 0., 0.]), np.mean(mesh.vertices, axis=0))\n",
    "# mesh.apply_transform(R)\n",
    "\n",
    "# R = tt.rotation_matrix(45*np.pi/180, [1., 0., 0.], np.mean(mesh.vertices, axis=0))\n",
    "# mesh.apply_transform(R)\n",
    "\n",
    "# R = tt.rotation_matrix(45*np.pi/180, _n([1., 0., 0.]), np.mean(mesh.vertices, axis=0))\n",
    "# mesh.apply_transform(R)\n",
    "\n",
    "# R = tt.rotation_matrix(-75*np.pi/180, _n([0., -1., 1.]), np.mean(mesh.vertices, axis=0))\n",
    "# mesh.apply_transform(R)\n",
    "# mesh.apply_translation([2, 1, 0])\n",
    "\n",
    "brep_like_rendering(mesh, sharp_curves=None)"
   ]
  },
  {
   "cell_type": "code",
   "execution_count": 439,
   "metadata": {},
   "outputs": [
    {
     "data": {
      "application/vnd.jupyter.widget-view+json": {
       "model_id": "013cc82194ae4edf8f702ba73edc2925",
       "version_major": 2,
       "version_minor": 0
      },
      "text/plain": [
       "Output()"
      ]
     },
     "metadata": {},
     "output_type": "display_data"
    }
   ],
   "source": [
    "# mesh.apply_translation([0, -1, 0])\n",
    "\n",
    "mesh_like_rendering(mesh)"
   ]
  },
  {
   "cell_type": "code",
   "execution_count": 393,
   "metadata": {},
   "outputs": [
    {
     "data": {
      "application/vnd.jupyter.widget-view+json": {
       "model_id": "cd5b3a272d9e46bd948e4554753d82b8",
       "version_major": 2,
       "version_minor": 0
      },
      "text/plain": [
       "Output()"
      ]
     },
     "metadata": {},
     "output_type": "display_data"
    }
   ],
   "source": [
    "sharp_line_rendering(mesh, sharp_curves)"
   ]
  },
  {
   "cell_type": "code",
   "execution_count": null,
   "metadata": {},
   "outputs": [],
   "source": []
  },
  {
   "cell_type": "code",
   "execution_count": null,
   "metadata": {},
   "outputs": [],
   "source": []
  },
  {
   "cell_type": "code",
   "execution_count": 112,
   "metadata": {},
   "outputs": [],
   "source": [
    "\n",
    "submeshes = [\n",
    "    reindex_zerobased(mesh, surface['vert_indices'], surface['face_indices'])\n",
    "    for surface in features['surfaces']\n",
    "]"
   ]
  },
  {
   "cell_type": "code",
   "execution_count": null,
   "metadata": {},
   "outputs": [],
   "source": []
  },
  {
   "cell_type": "code",
   "execution_count": 102,
   "metadata": {},
   "outputs": [],
   "source": [
    "def display_patches_sharpness(\n",
    "        submeshes,\n",
    "        mesh=None,\n",
    "        plot_mesh_wireframe=False,\n",
    "        explode=0.0,\n",
    "        mesh_wireframe_color=0x000000,\n",
    "        plot_height=768, camera_fov=60.0, lighting=1.5):\n",
    "    \n",
    "    import randomcolor\n",
    "    rand_color = randomcolor.RandomColor()\n",
    "\n",
    "    plot = k3d.plot(\n",
    "        height=plot_height,\n",
    "        camera_fov=camera_fov,\n",
    "        lighting=lighting, \n",
    "        camera_auto_fit=False,\n",
    "        grid_visible=False)\n",
    "    \n",
    "    center_mass = np.mean(\n",
    "        mesh.vertices, axis=0\n",
    "    )\n",
    "    \n",
    "    for submesh in submeshes:\n",
    "        center_mass_submesh = np.mean(\n",
    "            submesh.vertices, axis=0\n",
    "        )\n",
    "            \n",
    "        color = rand_color.generate(hue='green')[0]\n",
    "        mesh_color = int('0x' + color[1:], 16)\n",
    "        k3d_mesh = k3d.mesh(\n",
    "            submesh.vertices + explode * (center_mass_submesh - center_mass),\n",
    "            submesh.faces,\n",
    "            color=mesh_color)\n",
    "        plot += k3d_mesh\n",
    "        \n",
    "        if plot_mesh_wireframe:\n",
    "            k3d_mesh = k3d.mesh(\n",
    "                submesh.vertices + explode * (center_mass_submesh - center_mass),\n",
    "                submesh.faces,\n",
    "                wireframe=True,\n",
    "                color=mesh_wireframe_color)\n",
    "            plot += k3d_mesh\n",
    "\n",
    "    plot.camera_fov = camera_fov\n",
    "    plot.display()"
   ]
  },
  {
   "cell_type": "code",
   "execution_count": 113,
   "metadata": {},
   "outputs": [
    {
     "data": {
      "application/vnd.jupyter.widget-view+json": {
       "model_id": "df487367d86f441f9f9bab6d1b3bf785",
       "version_major": 2,
       "version_minor": 0
      },
      "text/plain": [
       "Output()"
      ]
     },
     "metadata": {},
     "output_type": "display_data"
    }
   ],
   "source": [
    "display_patches_sharpness(\n",
    "    submeshes, \n",
    "    mesh=mesh, \n",
    "    plot_mesh_wireframe=0, \n",
    "    mesh_wireframe_color=0x444444,\n",
    "    explode=0.0)"
   ]
  },
  {
   "cell_type": "code",
   "execution_count": null,
   "metadata": {},
   "outputs": [],
   "source": [
    "brep_like_rendering(mesh, sharp_curves=sharp_curves)"
   ]
  },
  {
   "cell_type": "code",
   "execution_count": 28,
   "metadata": {},
   "outputs": [],
   "source": [
    "sampler.n_points = 10000\n",
    "sampler.resolution_deviation_tolerance = 0\n",
    "sampler.crop_center = False"
   ]
  },
  {
   "cell_type": "code",
   "execution_count": 29,
   "metadata": {},
   "outputs": [],
   "source": [
    "# sample the neighbourhood to form a point patch\n",
    "try:\n",
    "    points, normals = sampler.sample(mesh, centroid=None)\n",
    "except Exception as e:\n",
    "    eprint(str(e))\n",
    "    pass\n",
    "\n"
   ]
  },
  {
   "cell_type": "code",
   "execution_count": 98,
   "metadata": {},
   "outputs": [],
   "source": [
    "def display_normals(\n",
    "    mesh=None,\n",
    "    samples=None, \n",
    "    samples_color=None, samples_psize=0.002, \n",
    "    directions=None, \n",
    "    directions_width=0.0025, directions_color=0x000000, directions_line_width=0.01,\n",
    "    plot_meshvert=True, plot_mesh_wireframe=False, mesh_wireframe_color=0x000000,\n",
    "    mesh_color=0xbbbbbb, meshvert_color=0x666666, meshvert_psize=0.0025,\n",
    "    as_image=False, plot_height=768, camera_fov=60.0, lighting=1.5, camera_auto_fit=False):\n",
    "    \n",
    "    plot = k3d.plot(\n",
    "        height=plot_height,\n",
    "        camera_fov=camera_fov,\n",
    "        lighting=lighting, \n",
    "        camera_auto_fit=camera_auto_fit,\n",
    "        grid_visible=False)\n",
    "    \n",
    "    if None is not mesh:\n",
    "        k3d_mesh = k3d.mesh(\n",
    "            mesh.vertices,\n",
    "            mesh.faces,\n",
    "            color=mesh_color)\n",
    "        plot += k3d_mesh\n",
    "\n",
    "        if plot_meshvert:\n",
    "            k3d_points = k3d.points(\n",
    "                mesh.vertices, \n",
    "                point_size=meshvert_psize,\n",
    "                color=meshvert_color)\n",
    "            plot += k3d_points\n",
    "            k3d_points.shader='3d'\n",
    "        \n",
    "        if plot_mesh_wireframe:\n",
    "            k3d_mesh = k3d.mesh(\n",
    "                mesh.vertices,\n",
    "                mesh.faces,\n",
    "                wireframe=True,\n",
    "                color=mesh_wireframe_color)\n",
    "            plot += k3d_mesh\n",
    "\n",
    "\n",
    "    if None is not samples:\n",
    "        if None is not samples_color:\n",
    "            k3d_points = k3d.points(\n",
    "                samples,\n",
    "                point_size=samples_psize,\n",
    "                color=samples_color)\n",
    "\n",
    "        else:\n",
    "            v = np.array([0., 1., 1.])\n",
    "            max_dist = np.max(np.dot(samples, v))\n",
    "            min_dist = np.min(np.dot(samples, v))\n",
    "            colors = k3d.helpers.map_colors(\n",
    "                np.dot(samples, v), k3d.colormaps.matplotlib_color_maps.viridis, [min_dist, max_dist]\n",
    "            ).astype(np.uint32)\n",
    "            k3d_points = k3d.points(samples, point_size=samples_psize, colors=colors)\n",
    "\n",
    "        plot += k3d_points\n",
    "        k3d_points.shader='flat'\n",
    "\n",
    "    \n",
    "    if None is not directions:\n",
    "        if None is not directions_color:\n",
    "            vectors = k3d.vectors(\n",
    "                samples, directions,\n",
    "                color=directions_color,\n",
    "                use_head=False,\n",
    "                line_width=directions_line_width\n",
    "            )\n",
    "            \n",
    "        else:\n",
    "            normals_colors = colorize_normals(directions).astype(np.uint32)\n",
    "            red, green, blue = normals_colors[:, 0], normals_colors[:, 1], normals_colors[:, 2]\n",
    "            colors = (red << 16) + (green << 8) + blue\n",
    "\n",
    "            vectors = k3d.vectors(\n",
    "                samples, directions,\n",
    "                colors=list(zip(colors, colors)),\n",
    "                use_head=False,\n",
    "                line_width=directions_line_width\n",
    "            )\n",
    "\n",
    "        plot += vectors\n",
    "\n",
    "    plot.camera_fov = camera_fov\n",
    "    plot.display()"
   ]
  },
  {
   "cell_type": "code",
   "execution_count": 113,
   "metadata": {},
   "outputs": [
    {
     "data": {
      "application/vnd.jupyter.widget-view+json": {
       "model_id": "657c8d1b62d2426985f72ae0559cc437",
       "version_major": 2,
       "version_minor": 0
      },
      "text/plain": [
       "Output()"
      ]
     },
     "metadata": {},
     "output_type": "display_data"
    }
   ],
   "source": [
    "plot = k3d.plot(\n",
    "    height=768,\n",
    "    camera_auto_fit=False,\n",
    "    grid_visible=False)\n",
    "\n",
    "normals_colors = colorize_normals(mesh.vertex_normals).astype(np.uint32)\n",
    "red, green, blue = normals_colors[:, 0], normals_colors[:, 1], normals_colors[:, 2]\n",
    "colors = (red << 16) + (green << 8) + blue\n",
    "\n",
    "vectors = k3d.vectors(\n",
    "    mesh.vertices, mesh.vertex_normals*0.05,\n",
    "    colors=list(zip(colors, colors)),\n",
    "    use_head=False,\n",
    "    line_width=0.01)\n",
    "\n",
    "plot += vectors\n",
    "\n",
    "plot += k3d.points(\n",
    "            mesh.vertices,\n",
    "            point_size=0.2,\n",
    "            colors=colors)\n",
    "\n",
    "plot.display()"
   ]
  },
  {
   "cell_type": "code",
   "execution_count": 106,
   "metadata": {},
   "outputs": [
    {
     "data": {
      "application/vnd.jupyter.widget-view+json": {
       "model_id": "5ad6d72caac1438da76b954128cf0006",
       "version_major": 2,
       "version_minor": 0
      },
      "text/plain": [
       "Output()"
      ]
     },
     "metadata": {},
     "output_type": "display_data"
    }
   ],
   "source": [
    "# display_normals(points, directions=normals*0.1, samples_psize=0.1)\n",
    "# display_normals(samples=points, \n",
    "#                 directions=normals * 0.2, \n",
    "#                 samples_psize=0.2, samples_color=None,\n",
    "#                 directions_color=None, directions_line_width=0.02)\n",
    "display_normals(mesh=mesh,\n",
    "    samples=mesh.vertices,\n",
    "                samples_psize=0.05, samples_color=None,\n",
    "                directions=mesh.vertex_normals * 0.05, \n",
    "                directions_color=None, directions_line_width=0.02)"
   ]
  },
  {
   "cell_type": "code",
   "execution_count": 76,
   "metadata": {},
   "outputs": [
    {
     "name": "stderr",
     "output_type": "stream",
     "text": [
      "/home/user/miniconda/envs/py36/lib/python3.6/site-packages/traittypes/traittypes.py:101: UserWarning: Given trait value dtype \"int64\" does not match required type \"uint32\". A coerced copy has been created.\n",
      "  np.dtype(self.dtype).name))\n"
     ]
    },
    {
     "data": {
      "application/vnd.jupyter.widget-view+json": {
       "model_id": "1d6057aa08b34e8b8fac2b08af231817",
       "version_major": 2,
       "version_minor": 0
      },
      "text/plain": [
       "Output()"
      ]
     },
     "metadata": {},
     "output_type": "display_data"
    }
   ],
   "source": [
    "display_sharpness(\n",
    "    mesh,\n",
    "    plot_meshvert=False,\n",
    "    mesh_color=0x76d8ad,\n",
    "    samples_distances=np.ones(len(mesh.vertices)) * 0.05,\n",
    "    samples=mesh.vertices,\n",
    "    directions=mesh.vertex_normals,\n",
    "    sharp_curves=None, sharpcurve_color=0x000000, sharpcurve_width=0.02,\n",
    "    directions_color=0x222222, directions_width=0.005,\n",
    "    camera_fov=15., lighting=0.5\n",
    ")"
   ]
  },
  {
   "cell_type": "code",
   "execution_count": null,
   "metadata": {},
   "outputs": [],
   "source": []
  },
  {
   "cell_type": "code",
   "execution_count": null,
   "metadata": {},
   "outputs": [],
   "source": []
  },
  {
   "cell_type": "code",
   "execution_count": 191,
   "metadata": {},
   "outputs": [],
   "source": [
    "def appendSpherical_np(xyz):\n",
    "    ptsnew = np.hstack((xyz, np.zeros(xyz.shape)))\n",
    "    xy = xyz[:,0]**2 + xyz[:,1]**2\n",
    "    ptsnew[:,3] = np.sqrt(xy + xyz[:,2]**2)\n",
    "    ptsnew[:,4] = np.arctan2(np.sqrt(xy), xyz[:,2]) # for elevation angle defined from Z-axis down\n",
    "    #ptsnew[:,4] = np.arctan2(xyz[:,2], np.sqrt(xy)) # for elevation angle defined from XY-plane up\n",
    "    ptsnew[:,5] = np.arctan2(xyz[:,1], xyz[:,0])\n",
    "    return ptsnew"
   ]
  },
  {
   "cell_type": "code",
   "execution_count": 200,
   "metadata": {},
   "outputs": [
    {
     "data": {
      "text/plain": [
       "(array([2404.,  851., 4867., 1205.,  861., 2353., 1116., 4936., 1031.,\n",
       "        1059.]),\n",
       " array([-3.14117917e+00, -2.51297318e+00, -1.88476719e+00, -1.25656120e+00,\n",
       "        -6.28355210e-01, -1.49220808e-04,  6.28056769e-01,  1.25626276e+00,\n",
       "         1.88446875e+00,  2.51267474e+00,  3.14088073e+00]),\n",
       " <a list of 10 Patch objects>)"
      ]
     },
     "execution_count": 200,
     "metadata": {},
     "output_type": "execute_result"
    },
    {
     "data": {
      "image/png": "[encoded data removed]",
      "text/plain": [
       "<Figure size 432x288 with 1 Axes>"
      ]
     },
     "metadata": {
      "needs_background": "light"
     },
     "output_type": "display_data"
    }
   ],
   "source": [
    "appendSpherical_np(mesh.vertex_normals)[:, -1]"
   ]
  },
  {
   "cell_type": "code",
   "execution_count": null,
   "metadata": {},
   "outputs": [],
   "source": []
  },
  {
   "cell_type": "code",
   "execution_count": null,
   "metadata": {},
   "outputs": [],
   "source": [
    "filename = '/data/ShapeNetCore.v2/02958343/02958343/fdcc09ad608e95b4b631b59d5abd1cf8/models/model_normalized.obj'\n",
    "v, _, n, f, _, ni = igl.read_obj(filename)\n",
    "shapenet_mesh = trimesh.Trimesh(\n",
    "    vertices=v,\n",
    "    faces=f,\n",
    ")\n",
    "mesh_orig = shapenet_mesh.copy()"
   ]
  },
  {
   "cell_type": "code",
   "execution_count": null,
   "metadata": {},
   "outputs": [],
   "source": [
    "shapenet_mesh = mesh_orig.copy()\n",
    "mesh_extent = np.max(mesh.bounding_box.extents)\n",
    "shapenet_mesh = shapenet_mesh.apply_scale(80 / mesh_extent)\n",
    "\n",
    "# [z x y]\n",
    "def _n(a):\n",
    "    a = np.array(a)\n",
    "    return a / np.linalg.norm(a)\n",
    "\n",
    "\n",
    "R = tt.rotation_matrix(-90*np.pi/180, [0., 0., 1.], np.mean(shapenet_mesh.vertices, axis=0))\n",
    "shapenet_mesh.apply_transform(R)\n",
    "\n",
    "R = tt.rotation_matrix(180*np.pi/180, _n([1., 0., 0.]), np.mean(shapenet_mesh.vertices, axis=0))\n",
    "shapenet_mesh.apply_transform(R)\n",
    "\n",
    "R = tt.rotation_matrix(-10*np.pi/180, _n([0., -1., 1.]), np.mean(shapenet_mesh.vertices, axis=0))\n",
    "shapenet_mesh.apply_transform(R)\n",
    "shapenet_mesh.apply_translation([0, 0, 0])\n",
    "\n",
    "mesh_like_rendering(shapenet_mesh, mesh_color=0xdddddd)\n",
    "# brep_like_rendering(shapenet_mesh, None, mesh_color=0xdddddd)"
   ]
  },
  {
   "cell_type": "code",
   "execution_count": null,
   "metadata": {},
   "outputs": [],
   "source": []
  },
  {
   "cell_type": "code",
   "execution_count": 21,
   "metadata": {},
   "outputs": [],
   "source": [
    "filename = '/data/scannet/scene0535_00_vh_clean_2.labels.obj'\n",
    "\n",
    "with open(filename) as ply_obj:\n",
    "    scannet_mesh = trimesh.load(ply_obj, file_type='obj')\n",
    "    \n",
    "mesh_orig = scannet_mesh.copy()"
   ]
  },
  {
   "cell_type": "code",
   "execution_count": 46,
   "metadata": {},
   "outputs": [
    {
     "data": {
      "application/vnd.jupyter.widget-view+json": {
       "model_id": "8d897af32e2b4415affd9f783dd73e0d",
       "version_major": 2,
       "version_minor": 0
      },
      "text/plain": [
       "Output()"
      ]
     },
     "metadata": {},
     "output_type": "display_data"
    }
   ],
   "source": [
    "scannet_mesh = mesh_orig.copy()\n",
    "mesh_extent = np.max(scannet_mesh.bounding_box.extents)\n",
    "scannet_mesh = scannet_mesh.apply_scale(5 / mesh_extent)\n",
    "\n",
    "# [z x y]\n",
    "def _n(a):\n",
    "    a = np.array(a)\n",
    "    return a / np.linalg.norm(a)\n",
    "\n",
    "\n",
    "R = tt.rotation_matrix(90*np.pi/180, [0., 1., 0.], np.mean(scannet_mesh.vertices, axis=0))\n",
    "scannet_mesh.apply_transform(R)\n",
    "\n",
    "R = tt.rotation_matrix(120*np.pi/180, _n([1., 0., 0.]), np.mean(scannet_mesh.vertices, axis=0))\n",
    "scannet_mesh.apply_transform(R)\n",
    "\n",
    "R = tt.rotation_matrix(-30*np.pi/180, _n([0., -1., 1.]), np.mean(scannet_mesh.vertices, axis=0))\n",
    "scannet_mesh.apply_transform(R)\n",
    "scannet_mesh.apply_translation([-1, -3, 0])\n",
    "\n",
    "mesh_like_rendering(scannet_mesh, mesh_color=0xdddddd)\n",
    "# brep_like_rendering(scannet_mesh, None, mesh_color=0xdddddd)"
   ]
  },
  {
   "cell_type": "code",
   "execution_count": null,
   "metadata": {},
   "outputs": [],
   "source": []
  },
  {
   "cell_type": "code",
   "execution_count": null,
   "metadata": {},
   "outputs": [],
   "source": []
  },
  {
   "cell_type": "code",
   "execution_count": 442,
   "metadata": {},
   "outputs": [
    {
     "data": {
      "application/vnd.jupyter.widget-view+json": {
       "model_id": "d0a1e0f4a8854a1aa32c93401df15fd5",
       "version_major": 2,
       "version_minor": 0
      },
      "text/plain": [
       "Output()"
      ]
     },
     "metadata": {},
     "output_type": "display_data"
    }
   ],
   "source": [
    "display_sharpness(\n",
    "    mesh, plot_meshvert=False, meshvert_psize=sampler.resolution_3d, mesh_color=0x76d8ad,\n",
    "    plot_mesh_wireframe=True,\n",
    "    sharp_vert=None, sharpvert_psize=2. * sampler.resolution_3d,\n",
    "    samples=None, samples_psize=1. * sampler.resolution_3d,\n",
    "    sharp_curves=None, sharpcurve_color=0x000000, sharpcurve_width=0.01,\n",
    "    camera_fov=15., lighting=0.5\n",
    ")"
   ]
  },
  {
   "cell_type": "code",
   "execution_count": 446,
   "metadata": {},
   "outputs": [],
   "source": [
    "nbhood_extractor.radius_base = np.sqrt(sampler.n_points) * 0.5 * sampler.resolution_3d * scale\n",
    "\n",
    "\n",
    "# index the mesh using a neighbourhood functions class\n",
    "# (this internally may call indexing, so for repeated invocation one passes the mesh)\n",
    "nbhood_extractor.index(mesh)"
   ]
  },
  {
   "cell_type": "code",
   "execution_count": 465,
   "metadata": {},
   "outputs": [],
   "source": [
    "centroids_cache = nbhood_extractor.centroids_cache.copy()"
   ]
  },
  {
   "cell_type": "code",
   "execution_count": 906,
   "metadata": {},
   "outputs": [],
   "source": [
    "sampler.resolution_3d = MED_RES\n",
    "\n",
    "nbhood_extractor.radius_base = np.sqrt(sampler.n_points) * 0.5 * sampler.resolution_3d * scale\n",
    "\n",
    "nbhood_extractor.current_patch_idx = 0"
   ]
  },
  {
   "cell_type": "code",
   "execution_count": 907,
   "metadata": {},
   "outputs": [
    {
     "data": {
      "application/vnd.jupyter.widget-view+json": {
       "model_id": "4beff91c3944492f8d1443eca7891ca4",
       "version_major": 2,
       "version_minor": 0
      },
      "text/plain": [
       "Output()"
      ]
     },
     "metadata": {},
     "output_type": "display_data"
    }
   ],
   "source": [
    "display_sharpness(\n",
    "    mesh, plot_meshvert=False, meshvert_psize=sampler.resolution_3d, mesh_color=0x76d8ad,\n",
    "    plot_mesh_wireframe=True,\n",
    "    sharp_vert=nbhood_extractor.centroids_cache, sharpvert_psize=5. * sampler.resolution_3d,\n",
    "    samples=None, samples_psize=1. * sampler.resolution_3d,\n",
    "    sharp_curves=None, sharpcurve_color=0x000000, sharpcurve_width=0.01,\n",
    "    camera_fov=15., lighting=0.5, camera_auto_fit=False\n",
    ")"
   ]
  },
  {
   "cell_type": "code",
   "execution_count": 908,
   "metadata": {},
   "outputs": [],
   "source": [
    "nbhood_extractor.current_patch_idx = 45"
   ]
  },
  {
   "cell_type": "code",
   "execution_count": 909,
   "metadata": {
    "scrolled": false
   },
   "outputs": [],
   "source": [
    "\n",
    "# extract neighbourhood\n",
    "try:\n",
    "    nbhood, mesh_vertex_indexes, mesh_face_indexes, scaler = nbhood_extractor.get_nbhood()\n",
    "except Exception as e:\n",
    "    eprint(str(e))"
   ]
  },
  {
   "cell_type": "code",
   "execution_count": 910,
   "metadata": {},
   "outputs": [
    {
     "data": {
      "application/vnd.jupyter.widget-view+json": {
       "model_id": "24c98339d5d1416da20be2629888d799",
       "version_major": 2,
       "version_minor": 0
      },
      "text/plain": [
       "Output()"
      ]
     },
     "metadata": {},
     "output_type": "display_data"
    }
   ],
   "source": [
    "\n",
    "    \n",
    "display_sharpness(\n",
    "    nbhood, plot_meshvert=False, meshvert_psize=sampler.resolution_3d, mesh_color=0x76d8ad,\n",
    "    plot_mesh_wireframe=True,\n",
    "    sharp_vert=None, sharpvert_psize=2. * sampler.resolution_3d,\n",
    "    samples=None, samples_psize=1. * sampler.resolution_3d,\n",
    "    sharp_curves=None, sharpcurve_color=0x000000, sharpcurve_width=0.01,\n",
    "    camera_fov=15., lighting=1.75, camera_auto_fit=True\n",
    ")\n"
   ]
  },
  {
   "cell_type": "code",
   "execution_count": 911,
   "metadata": {},
   "outputs": [],
   "source": [
    "# create annotations: condition the features onto the nbhood\n",
    "nbhood_features = compute_features_nbhood(mesh, features, mesh_vertex_indexes, mesh_face_indexes)\n",
    "\n",
    "# remove vertices lying on the boundary (sharp edges found in 1 face only)\n",
    "nbhood_features = remove_boundary_features(nbhood, nbhood_features, how='edges')"
   ]
  },
  {
   "cell_type": "code",
   "execution_count": 912,
   "metadata": {},
   "outputs": [
    {
     "name": "stdout",
     "output_type": "stream",
     "text": [
      "0 []\n",
      "1 []\n",
      "2 []\n",
      "3 []\n",
      "4 []\n",
      "5 []\n",
      "6 [ 0  1 20 21 22 23 24 25]\n",
      "7 [ 0  2 26 27 28 29 30 31]\n",
      "8 [ 2  3 32 33 34 35 36 37]\n",
      "9 [ 1  3 38 39 40 41 42 43]\n",
      "10 [ 4 44 45 46 47 48 49]\n",
      "11 [ 4  5 50 51 52 53 54 55 56 57 58 59]\n",
      "12 [5 6]\n",
      "13 [ 6  7 60 61 62 63 64 65 66 67 68 69 70 71 72 73 74 75]\n",
      "14 [7 8]\n",
      "15 [ 8  9 76 77 78 79 80 81 82 83 84 85]\n",
      "16 [ 9 86 87 88 89 90]\n",
      "17 [10 11 91 92 93 94 95 96]\n",
      "18 [ 11  12 106 107 108 109 110 111]\n",
      "19 [ 12  13 112 113 114 115 116 117]\n",
      "20 [ 10  13 121 122 123 124 125 126]\n",
      "21 [  9  14 127 128 129]\n",
      "22 [ 14 130 131 132 133]\n",
      "23 [ 14  15 134 135 136 137 138 139 140 141 142 143]\n",
      "24 [  8  15 144 145 146]\n",
      "25 [15 16]\n",
      "26 [  7  16 147 148 149]\n",
      "27 [ 16  17 150 151 152 153 154 155 156 157 158 159 160 161 162 163 164 165]\n",
      "28 [  6  17 166 167 168]\n",
      "29 [17 18]\n",
      "30 [  5  18 169 170 171]\n",
      "31 [ 18  19 172 173 174 175 176 177 178 179 180 181]\n",
      "32 [  4  19 182 183 184]\n",
      "33 [ 19 185 186 187 188 189]\n",
      "34 []\n",
      "35 []\n",
      "36 []\n",
      "37 []\n",
      "38 []\n",
      "39 []\n",
      "40 []\n",
      "41 []\n",
      "42 []\n"
     ]
    },
    {
     "data": {
      "application/vnd.jupyter.widget-view+json": {
       "model_id": "52bf988d9a354bc49ef2d0855f6935e0",
       "version_major": 2,
       "version_minor": 0
      },
      "text/plain": [
       "Output()"
      ]
     },
     "metadata": {},
     "output_type": "display_data"
    }
   ],
   "source": [
    "display_sharpness(\n",
    "    nbhood, plot_meshvert=False, meshvert_psize=sampler.resolution_3d, mesh_color=0xdddddd,\n",
    "    sharp_curves=[f['vert_indices'] for f in nbhood_features['curves'] if f['sharp']], \n",
    "    sharpcurve_color=0xc4295d, sharpcurve_width=0.01,\n",
    "    camera_fov=15., lighting=1.75, camera_auto_fit=True\n",
    ")"
   ]
  },
  {
   "cell_type": "code",
   "execution_count": 913,
   "metadata": {
    "scrolled": false
   },
   "outputs": [],
   "source": [
    "# if any(c['sharp'] for c in nbhood_features['curves']):\n",
    "#     sharp_verts = np.concatenate([nbhood.vertices[c['vert_indices']] \n",
    "#                                   for c in nbhood_features['curves'] if c['sharp']])\n",
    "# else:\n",
    "#     sharp_verts = []\n",
    "    \n",
    "\n",
    "# surf_vert_indices = np.array(nbhood_features['surfaces'][2]['vert_indices'])\n",
    "# surf_verts = nbhood.vertices[surf_vert_indices]\n",
    "\n",
    "\n",
    "\n",
    "# display_sharpness(\n",
    "#     nbhood, plot_meshvert=True, meshvert_psize=sampler.resolution_3d,\n",
    "#     sharp_vert=sharp_verts, sharpvert_psize=1. * sampler.resolution_3d,\n",
    "#     samples=surf_verts, samples_psize=sampler.resolution_3d,\n",
    "# )"
   ]
  },
  {
   "cell_type": "code",
   "execution_count": null,
   "metadata": {},
   "outputs": [],
   "source": []
  },
  {
   "cell_type": "code",
   "execution_count": 914,
   "metadata": {},
   "outputs": [],
   "source": [
    "sampler.resolution_deviation_tolerance = 1.0"
   ]
  },
  {
   "cell_type": "code",
   "execution_count": 915,
   "metadata": {},
   "outputs": [],
   "source": [
    "# sample the neighbourhood to form a point patch\n",
    "try:\n",
    "    points, normals = sampler.sample(nbhood, centroid=nbhood_extractor.centroid)\n",
    "except DataGenerationException as e:\n",
    "    eprint(str(e))\n",
    "    pass\n"
   ]
  },
  {
   "cell_type": "code",
   "execution_count": 916,
   "metadata": {},
   "outputs": [
    {
     "data": {
      "application/vnd.jupyter.widget-view+json": {
       "model_id": "0b4ef0a8bb3740b8a4395447130a547e",
       "version_major": 2,
       "version_minor": 0
      },
      "text/plain": [
       "Output()"
      ]
     },
     "metadata": {},
     "output_type": "display_data"
    }
   ],
   "source": [
    "display_normals(points, samples_psize=MED_RES, camera_auto_fit=True)\n"
   ]
  },
  {
   "cell_type": "code",
   "execution_count": 897,
   "metadata": {},
   "outputs": [],
   "source": [
    "# i = iter(noiser.make_noise(points, normals))"
   ]
  },
  {
   "cell_type": "code",
   "execution_count": 898,
   "metadata": {},
   "outputs": [],
   "source": [
    "# # create a noisy sample\n",
    "# c, noisy_points = next(i)\n",
    "\n",
    "# display_sharpness(nbhood, plot_meshvert=True, meshvert_psize=sampler.resolution_3d/2,\n",
    "#                   samples=noisy_points, samples_distances=None,\n",
    "#                   samples_color=0x0000ff, samples_psize=sampler.resolution_3d,\n",
    "#                   sharp_vert=sharp_verts, sharpvert_psize=2*sampler.resolution_3d,)"
   ]
  },
  {
   "cell_type": "code",
   "execution_count": 899,
   "metadata": {},
   "outputs": [],
   "source": [
    "annotator.validate_annotation = False"
   ]
  },
  {
   "cell_type": "code",
   "execution_count": 900,
   "metadata": {},
   "outputs": [],
   "source": [
    "annotator.distance_upper_bound = 1.0\n",
    "# compute the TSharpDF\n",
    "distances, directions, has_sharp = annotator.annotate(nbhood, nbhood_features, points)\n",
    "\n"
   ]
  },
  {
   "cell_type": "code",
   "execution_count": 901,
   "metadata": {
    "scrolled": false
   },
   "outputs": [
    {
     "data": {
      "application/vnd.jupyter.widget-view+json": {
       "model_id": "f3aaee9be9f34f7c95c54cb29bc8c76d",
       "version_major": 2,
       "version_minor": 0
      },
      "text/plain": [
       "Output()"
      ]
     },
     "metadata": {},
     "output_type": "display_data"
    }
   ],
   "source": [
    "display_sharpness(None, plot_meshvert=False, meshvert_psize=0.01,\n",
    "                  sharp_vert=None, sharpvert_psize=2 * sampler.resolution_3d,\n",
    "                  samples=points, samples_distances=distances,\n",
    "                  samples_color=0x0000ff, samples_psize=MED_RES,\n",
    "                  directions=None, camera_auto_fit=True)"
   ]
  },
  {
   "cell_type": "code",
   "execution_count": 904,
   "metadata": {},
   "outputs": [],
   "source": [
    "segmentations = np.ones_like(distances)\n",
    "segmentations[distances < sampler.resolution_3d/2] = 0."
   ]
  },
  {
   "cell_type": "code",
   "execution_count": 905,
   "metadata": {},
   "outputs": [
    {
     "data": {
      "application/vnd.jupyter.widget-view+json": {
       "model_id": "abccba4bd57045659c0818c130361bd1",
       "version_major": 2,
       "version_minor": 0
      },
      "text/plain": [
       "Output()"
      ]
     },
     "metadata": {},
     "output_type": "display_data"
    }
   ],
   "source": [
    "display_sharpness(None, plot_meshvert=False, meshvert_psize=0.01,\n",
    "                  sharp_vert=None, sharpvert_psize=2 * sampler.resolution_3d,\n",
    "                  samples=points, samples_distances=segmentations,\n",
    "                  samples_color=0x0000ff, samples_psize=MED_RES,\n",
    "                  directions=None, camera_auto_fit=True)"
   ]
  },
  {
   "cell_type": "code",
   "execution_count": null,
   "metadata": {},
   "outputs": [],
   "source": []
  },
  {
   "cell_type": "code",
   "execution_count": null,
   "metadata": {},
   "outputs": [],
   "source": []
  },
  {
   "cell_type": "code",
   "execution_count": null,
   "metadata": {},
   "outputs": [],
   "source": []
  },
  {
   "cell_type": "code",
   "execution_count": null,
   "metadata": {},
   "outputs": [],
   "source": [
    "adjacent_sharp_features, adjacent_surfaces = build_surface_patch_graph(nbhood_features)\n"
   ]
  },
  {
   "cell_type": "code",
   "execution_count": null,
   "metadata": {},
   "outputs": [],
   "source": [
    "surface_idx = 17\n",
    "surface = nbhood_features['surfaces'][surface_idx]\n",
    "adjacent_sharp_indexes = get_adjacent_features_by_bfs_with_depth1(\n",
    "                surface_idx, adjacent_sharp_features, adjacent_surfaces)\n",
    "surface_adjacent_features = {\n",
    "    'curves': [nbhood_features['curves'][idx]\n",
    "               for idx in np.unique(adjacent_sharp_indexes)]\n",
    "}\n"
   ]
  },
  {
   "cell_type": "code",
   "execution_count": null,
   "metadata": {},
   "outputs": [],
   "source": [
    "# sharp_adjacent_2 = np.concatenate([nbhood.vertices[\n",
    "#     nbhood_features['curves'][sharp_curve_id]['vert_indices']\n",
    "# ] for sharp_curve_id in adjacent_sharp_features[2]])\n",
    "sharp_adjacent_2 = np.concatenate([nbhood.vertices[\n",
    "    nbhood_features['curves'][sharp_curve_id]['vert_indices']\n",
    "] for sharp_curve_id in adjacent_sharp_features[17]])\n",
    "\n",
    "sharp_adjacent_2_with_bfs = np.concatenate([nbhood.vertices[\n",
    "    curve['vert_indices']\n",
    "] for curve in surface_adjacent_features['curves']])"
   ]
  },
  {
   "cell_type": "code",
   "execution_count": null,
   "metadata": {},
   "outputs": [],
   "source": [
    "display_sharpness(None,\n",
    "                 sharp_vert = sharp_adjacent_2, sharpvert_psize=0.05,\n",
    "                 samples=sharp_adjacent_2_with_bfs, samples_psize=0.05,)"
   ]
  },
  {
   "cell_type": "code",
   "execution_count": null,
   "metadata": {},
   "outputs": [],
   "source": []
  },
  {
   "cell_type": "code",
   "execution_count": null,
   "metadata": {},
   "outputs": [],
   "source": []
  },
  {
   "cell_type": "code",
   "execution_count": null,
   "metadata": {},
   "outputs": [],
   "source": []
  },
  {
   "cell_type": "code",
   "execution_count": null,
   "metadata": {},
   "outputs": [],
   "source": []
  },
  {
   "cell_type": "code",
   "execution_count": null,
   "metadata": {},
   "outputs": [],
   "source": []
  },
  {
   "cell_type": "code",
   "execution_count": null,
   "metadata": {},
   "outputs": [],
   "source": []
  },
  {
   "cell_type": "code",
   "execution_count": null,
   "metadata": {},
   "outputs": [],
   "source": [
    "from sharpf.utils.mesh_utils.indexing import reindex_zerobased, compute_relative_indexes"
   ]
  },
  {
   "cell_type": "code",
   "execution_count": null,
   "metadata": {},
   "outputs": [],
   "source": [
    "surface = nbhood_features['surfaces'][surface_idx]\n",
    "\n",
    "surface_face_indexes = np.where(np.isin(nbhood.faces, surface['vert_indices']).all(axis=1))[0]\n",
    "\n",
    "surface_mesh = reindex_zerobased(nbhood, surface['vert_indices'], surface_face_indexes)"
   ]
  },
  {
   "cell_type": "code",
   "execution_count": null,
   "metadata": {},
   "outputs": [],
   "source": []
  },
  {
   "cell_type": "code",
   "execution_count": null,
   "metadata": {},
   "outputs": [],
   "source": [
    "\n",
    "display_sharpness(surface_mesh,\n",
    "                 sharp_vert = sharp_adjacent_2_with_bfs, sharpvert_psize=0.05,\n",
    "                 samples=None, samples_psize=0.05,)"
   ]
  },
  {
   "cell_type": "code",
   "execution_count": null,
   "metadata": {},
   "outputs": [],
   "source": [
    "\n",
    "def remove_boundary_features(mesh, features, how='none'):\n",
    "    \"\"\"Removes features indexed into vertex edges adjacent to 1 face only.\n",
    "    :param how: 'all_verts': remove entire feature curve if all vertices are boundary\n",
    "                'edges': remove vertices that belong to boundary edges only (not to other edges)\n",
    "                'verts': remove vertices that are boundary\n",
    "                'none': do nothing\n",
    "    \"\"\"\n",
    "    if how == 'none':\n",
    "        return features\n",
    "\n",
    "    mesh_edge_indexes, mesh_edge_counts = np.unique(\n",
    "        mesh.faces_unique_edges.flatten(), return_counts=True)\n",
    "\n",
    "    boundary_edges = mesh.edges_unique[mesh_edge_indexes[np.where(mesh_edge_counts == 1)[0]]]\n",
    "    boundary_vertex_indexes = np.unique(boundary_edges.flatten())\n",
    "\n",
    "    non_boundary_curves = []\n",
    "    for curve in features['curves']:\n",
    "        non_boundary_curve = deepcopy(curve)\n",
    "\n",
    "        if how == 'all_verts':\n",
    "            if np.all([vert_index in boundary_vertex_indexes\n",
    "                       for vert_index in curve['vert_indices']]):\n",
    "                continue\n",
    "\n",
    "        elif how == 'verts':\n",
    "            non_boundary_vert_indices = np.array([\n",
    "                vert_index for vert_index in curve['vert_indices']\n",
    "                if vert_index not in boundary_vertex_indexes\n",
    "            ])\n",
    "            if len(non_boundary_vert_indices) == 0:\n",
    "                continue\n",
    "            non_boundary_curve['vert_indices'] = non_boundary_vert_indices\n",
    "\n",
    "        elif how == 'edges':\n",
    "            curve_edges = mesh.edges_unique[\n",
    "                np.where(\n",
    "                    np.all(np.isin(mesh.edges_unique, curve['vert_indices']), axis=1)\n",
    "                )[0]\n",
    "            ]\n",
    "            non_boundary = (curve_edges[:, None] != boundary_edges).any(2).all(1)\n",
    "            non_boundary_vert_indices = np.unique(curve_edges[non_boundary])\n",
    "            non_boundary_curve['vert_indices'] = non_boundary_vert_indices\n",
    "\n",
    "        non_boundary_curves.append(non_boundary_curve)\n",
    "\n",
    "    non_boundary_features = {\n",
    "        'curves': non_boundary_curves,\n",
    "        'surfaces': features.get('surfaces', [])\n",
    "    }\n",
    "    return non_boundary_features\n"
   ]
  },
  {
   "cell_type": "code",
   "execution_count": null,
   "metadata": {},
   "outputs": [],
   "source": [
    "surface_adjacent_features = remove_boundary_features(surface_mesh, surface_adjacent_features, how='verts')\n"
   ]
  },
  {
   "cell_type": "code",
   "execution_count": null,
   "metadata": {},
   "outputs": [],
   "source": [
    "display_sharpness(surface_mesh,\n",
    "                 sharp_vert = sharp_adjacent_2, sharpvert_psize=0.2)"
   ]
  },
  {
   "cell_type": "code",
   "execution_count": null,
   "metadata": {},
   "outputs": [],
   "source": []
  },
  {
   "cell_type": "code",
   "execution_count": null,
   "metadata": {},
   "outputs": [],
   "source": []
  },
  {
   "cell_type": "code",
   "execution_count": null,
   "metadata": {},
   "outputs": [],
   "source": []
  },
  {
   "cell_type": "code",
   "execution_count": null,
   "metadata": {},
   "outputs": [],
   "source": []
  },
  {
   "cell_type": "code",
   "execution_count": null,
   "metadata": {},
   "outputs": [],
   "source": []
  },
  {
   "cell_type": "code",
   "execution_count": null,
   "metadata": {},
   "outputs": [],
   "source": []
  },
  {
   "cell_type": "code",
   "execution_count": null,
   "metadata": {},
   "outputs": [],
   "source": []
  },
  {
   "cell_type": "code",
   "execution_count": null,
   "metadata": {},
   "outputs": [],
   "source": []
  },
  {
   "cell_type": "code",
   "execution_count": null,
   "metadata": {},
   "outputs": [],
   "source": []
  },
  {
   "cell_type": "code",
   "execution_count": null,
   "metadata": {},
   "outputs": [],
   "source": []
  },
  {
   "cell_type": "code",
   "execution_count": null,
   "metadata": {},
   "outputs": [],
   "source": []
  },
  {
   "cell_type": "code",
   "execution_count": null,
   "metadata": {},
   "outputs": [],
   "source": []
  },
  {
   "cell_type": "code",
   "execution_count": null,
   "metadata": {},
   "outputs": [],
   "source": []
  },
  {
   "cell_type": "code",
   "execution_count": null,
   "metadata": {},
   "outputs": [],
   "source": [
    "from scipy.spatial import cKDTree\n"
   ]
  },
  {
   "cell_type": "code",
   "execution_count": null,
   "metadata": {},
   "outputs": [],
   "source": [
    "nn_distances, nn_indexes = cKDTree(noisy_points, leafsize=16).query(noisy_points, k=2, n_jobs=4)\n"
   ]
  },
  {
   "cell_type": "code",
   "execution_count": null,
   "metadata": {},
   "outputs": [],
   "source": [
    "distances[nn_indexes[:, 0]].shape"
   ]
  },
  {
   "cell_type": "code",
   "execution_count": null,
   "metadata": {},
   "outputs": [],
   "source": [
    "values = np.abs(distances[nn_indexes[:, 0]] - distances[nn_indexes[:, 1]]) / nn_distances[:, 1]"
   ]
  },
  {
   "cell_type": "code",
   "execution_count": null,
   "metadata": {},
   "outputs": [],
   "source": [
    "values[np.where(values > 1.1)[0]]"
   ]
  },
  {
   "cell_type": "code",
   "execution_count": null,
   "metadata": {},
   "outputs": [],
   "source": [
    "display_sharpness(nbhood, plot_meshvert=False, meshvert_psize=0.01,\n",
    "                  sharp_vert=points[np.where(values > 1.1)[0]], sharpvert_psize=2 * sampler.resolution_3d,\n",
    "                  samples=noisy_points, samples_distances=distances,\n",
    "                  samples_color=0x0000ff, samples_psize=sampler.resolution_3d)"
   ]
  },
  {
   "cell_type": "code",
   "execution_count": null,
   "metadata": {},
   "outputs": [],
   "source": []
  },
  {
   "cell_type": "code",
   "execution_count": null,
   "metadata": {},
   "outputs": [],
   "source": []
  },
  {
   "cell_type": "code",
   "execution_count": null,
   "metadata": {},
   "outputs": [],
   "source": [
    "import igl"
   ]
  },
  {
   "cell_type": "code",
   "execution_count": null,
   "metadata": {},
   "outputs": [],
   "source": [
    "_, point_face_indexes, _ = \\\n",
    "    igl.point_mesh_squared_distance(noisy_points, nbhood.vertices, nbhood.faces)\n",
    "\n"
   ]
  },
  {
   "cell_type": "code",
   "execution_count": null,
   "metadata": {},
   "outputs": [],
   "source": [
    "from sharpf.utils.abc_utils import get_adjacent_features_by_bfs_with_depth1, build_surface_patch_graph"
   ]
  },
  {
   "cell_type": "code",
   "execution_count": null,
   "metadata": {},
   "outputs": [],
   "source": [
    "\n",
    "# understand which surface patches are adjacent to which sharp features\n",
    "# and other surface patches\n",
    "adjacent_sharp_features, adjacent_surfaces = build_surface_patch_graph(nbhood_features)\n",
    "\n"
   ]
  },
  {
   "cell_type": "code",
   "execution_count": null,
   "metadata": {},
   "outputs": [],
   "source": [
    "adjacent_sharp_features, adjacent_surfaces"
   ]
  },
  {
   "cell_type": "code",
   "execution_count": null,
   "metadata": {},
   "outputs": [],
   "source": [
    "\n",
    "# compute distance, iterating over points sampled from corresponding surface patches\n",
    "distances, projections = np.ones(len(points)) * annotator.distance_upper_bound, np.zeros_like(points)\n",
    "\n"
   ]
  },
  {
   "cell_type": "code",
   "execution_count": null,
   "metadata": {},
   "outputs": [],
   "source": [
    "surface_idx, surface = 3, nbhood_features['surfaces'][3]"
   ]
  },
  {
   "cell_type": "code",
   "execution_count": null,
   "metadata": {},
   "outputs": [],
   "source": [
    "\n",
    "# constrain distance computation to certain sharp features only\n",
    "adjacent_sharp_indexes = get_adjacent_features_by_bfs_with_depth1(\n",
    "    surface_idx, adjacent_sharp_features, adjacent_surfaces)\n"
   ]
  },
  {
   "cell_type": "code",
   "execution_count": null,
   "metadata": {},
   "outputs": [],
   "source": [
    "adjacent_sharp_indexes"
   ]
  },
  {
   "cell_type": "code",
   "execution_count": null,
   "metadata": {},
   "outputs": [],
   "source": [
    "surface_adjacent_features = {\n",
    "    'curves': [nbhood_features['curves'][idx]\n",
    "               for idx in np.unique(adjacent_sharp_indexes)]\n",
    "}\n"
   ]
  },
  {
   "cell_type": "code",
   "execution_count": null,
   "metadata": {},
   "outputs": [],
   "source": [
    "len(surface_adjacent_features['curves'])"
   ]
  },
  {
   "cell_type": "code",
   "execution_count": null,
   "metadata": {},
   "outputs": [],
   "source": [
    "from sharpf.utils.mesh_utils.indexing import in2d\n"
   ]
  },
  {
   "cell_type": "code",
   "execution_count": null,
   "metadata": {},
   "outputs": [],
   "source": [
    "point_cloud_indexes = np.where(\n",
    "    in2d(nbhood.faces[point_face_indexes], surface['face_indices'])\n",
    ")[0]\n"
   ]
  },
  {
   "cell_type": "code",
   "execution_count": null,
   "metadata": {},
   "outputs": [],
   "source": [
    "point_cloud_indexes"
   ]
  },
  {
   "cell_type": "code",
   "execution_count": null,
   "metadata": {},
   "outputs": [],
   "source": [
    "# compute distances using parent class AABB method\n",
    "surface_matching_edges, surface_projections, surface_distances = \\\n",
    "    annotator.compute_aabb_nearest_points(nbhood, surface_adjacent_features, noisy_points[point_cloud_indexes])\n"
   ]
  },
  {
   "cell_type": "code",
   "execution_count": null,
   "metadata": {},
   "outputs": [],
   "source": [
    "distances[point_cloud_indexes], projections[point_cloud_indexes] = surface_distances, surface_projections\n"
   ]
  },
  {
   "cell_type": "code",
   "execution_count": null,
   "metadata": {},
   "outputs": [],
   "source": [
    "display_sharpness(nbhood, plot_meshvert=False, meshvert_psize=0.01,\n",
    "                  sharp_vert=None, sharpvert_psize=2 * sampler.resolution_3d,\n",
    "                  samples=noisy_points, samples_distances=distances,\n",
    "                  samples_color=0x0000ff, samples_psize=sampler.resolution_3d)"
   ]
  },
  {
   "cell_type": "code",
   "execution_count": null,
   "metadata": {},
   "outputs": [],
   "source": [
    "def compute_bounded_labels(points, projections, distances=None, max_distance=np.inf, distance_scaler=1.0):\n",
    "    if distances is None:\n",
    "        distances = np.linalg.norm(projections - points, axis=1)\n",
    "\n",
    "    distances = distances / distance_scaler\n",
    "    # boolean mask marking objects far away from sharp curves\n",
    "    far_from_sharp = distances > max_distance\n",
    "    distances[far_from_sharp] = max_distance\n",
    "    distances = distances.reshape(-1, 1)\n",
    "    # compute directions for points close to sharp curves\n",
    "    directions = np.zeros_like(points)\n",
    "    directions[~far_from_sharp] = projections[~far_from_sharp] - points[~far_from_sharp]\n",
    "    eps = 1e-6\n",
    "    directions[~far_from_sharp] /= (np.linalg.norm(directions[~far_from_sharp], axis=1, keepdims=True) + eps)\n",
    "    return distances, directions"
   ]
  },
  {
   "cell_type": "code",
   "execution_count": null,
   "metadata": {},
   "outputs": [],
   "source": [
    "\n",
    "distances, directions = compute_bounded_labels(\n",
    "    noisy_points, projections, distances=distances,\n",
    "    max_distance=annotator.distance_upper_bound)"
   ]
  },
  {
   "cell_type": "code",
   "execution_count": null,
   "metadata": {},
   "outputs": [],
   "source": [
    "display_sharpness(nbhood, plot_meshvert=False, meshvert_psize=0.01,\n",
    "                  sharp_vert=None, sharpvert_psize=2 * sampler.resolution_3d,\n",
    "                  samples=noisy_points, samples_distances=distances,\n",
    "                  samples_color=0x0000ff, samples_psize=sampler.resolution_3d)"
   ]
  },
  {
   "cell_type": "code",
   "execution_count": null,
   "metadata": {},
   "outputs": [],
   "source": [
    "from scipy.spatial import cKDTree\n"
   ]
  },
  {
   "cell_type": "code",
   "execution_count": null,
   "metadata": {},
   "outputs": [],
   "source": [
    "nn_distances, nn_indexes = cKDTree(noisy_points, leafsize=16).query(noisy_points, k=2, n_jobs=4)\n"
   ]
  },
  {
   "cell_type": "code",
   "execution_count": null,
   "metadata": {},
   "outputs": [],
   "source": [
    "nn_distances.shape"
   ]
  },
  {
   "cell_type": "code",
   "execution_count": null,
   "metadata": {},
   "outputs": [],
   "source": [
    "values = np.abs(distances[nn_indexes[:, 0]] - distances[nn_indexes[:, 1]]) / np.atleast_2d(nn_distances[:, 1]).T\n"
   ]
  },
  {
   "cell_type": "code",
   "execution_count": null,
   "metadata": {},
   "outputs": [],
   "source": []
  },
  {
   "cell_type": "code",
   "execution_count": null,
   "metadata": {},
   "outputs": [],
   "source": [
    "ii, jj = np.where(values > 1.1)"
   ]
  },
  {
   "cell_type": "code",
   "execution_count": null,
   "metadata": {},
   "outputs": [],
   "source": [
    "ii"
   ]
  },
  {
   "cell_type": "code",
   "execution_count": null,
   "metadata": {},
   "outputs": [],
   "source": [
    "display_sharpness(nbhood, plot_meshvert=False, meshvert_psize=0.01,\n",
    "                  sharp_vert=None, sharpvert_psize=2 * sampler.resolution_3d,\n",
    "                  samples=noisy_points[ii, jj], samples_distances=distances[ii, jj],\n",
    "                  samples_color=0x0000ff, samples_psize=sampler.resolution_3d)"
   ]
  },
  {
   "cell_type": "code",
   "execution_count": null,
   "metadata": {},
   "outputs": [],
   "source": [
    "\n",
    "    # constrain distance computation to certain sharp features only\n",
    "    adjacent_sharp_indexes = get_adjacent_features_by_bfs_with_depth1(\n",
    "        surface_idx, adjacent_sharp_features, adjacent_surfaces)\n",
    "    surface_adjacent_features = {\n",
    "        'curves': [features_patch['curves'][idx]\n",
    "                   for idx in np.unique(adjacent_sharp_indexes)]\n",
    "    }\n",
    "    if len(surface_adjacent_features['curves']) == 0:\n",
    "        continue\n",
    "\n",
    "    point_cloud_indexes = np.where(\n",
    "        in2d(mesh_patch.faces[point_face_indexes], surface['face_indices'])\n",
    "    )[0]\n",
    "    # point_cloud_indexes = np.where(np.isin(closest_nbhood_vertex_idx, surface['vert_indices']))[0]\n",
    "    if len(point_cloud_indexes) == 0:\n",
    "        continue\n",
    "    # compute distances using parent class AABB method\n",
    "    surface_matching_edges, surface_projections, surface_distances = \\\n",
    "        self.compute_aabb_nearest_points(mesh_patch, surface_adjacent_features, points[point_cloud_indexes])\n",
    "    distances[point_cloud_indexes], projections[point_cloud_indexes] = surface_distances, surface_projections\n",
    "\n",
    "return projections, distances\n",
    "\n"
   ]
  },
  {
   "cell_type": "code",
   "execution_count": null,
   "metadata": {},
   "outputs": [],
   "source": []
  },
  {
   "cell_type": "code",
   "execution_count": null,
   "metadata": {},
   "outputs": [],
   "source": []
  },
  {
   "cell_type": "code",
   "execution_count": null,
   "metadata": {},
   "outputs": [],
   "source": []
  },
  {
   "cell_type": "code",
   "execution_count": null,
   "metadata": {},
   "outputs": [],
   "source": []
  },
  {
   "cell_type": "code",
   "execution_count": null,
   "metadata": {},
   "outputs": [],
   "source": []
  },
  {
   "cell_type": "code",
   "execution_count": null,
   "metadata": {},
   "outputs": [],
   "source": []
  },
  {
   "cell_type": "code",
   "execution_count": null,
   "metadata": {},
   "outputs": [],
   "source": [
    "nbhood.vertices.shape"
   ]
  },
  {
   "cell_type": "code",
   "execution_count": null,
   "metadata": {},
   "outputs": [],
   "source": [
    "display_sharpness(nbhood, plot_meshvert=False, meshvert_psize=0.01,\n",
    "                  sharp_vert=None, sharpvert_psize=2 * sampler.resolution_3d,\n",
    "                  samples=noisy_points, samples_distances=distances,\n",
    "                  samples_color=0x0000ff, samples_psize=sampler.resolution_3d)"
   ]
  },
  {
   "cell_type": "code",
   "execution_count": null,
   "metadata": {},
   "outputs": [],
   "source": [
    "mean_mmd(points)"
   ]
  },
  {
   "cell_type": "code",
   "execution_count": null,
   "metadata": {},
   "outputs": [],
   "source": []
  },
  {
   "cell_type": "code",
   "execution_count": null,
   "metadata": {},
   "outputs": [],
   "source": []
  },
  {
   "cell_type": "code",
   "execution_count": null,
   "metadata": {},
   "outputs": [],
   "source": []
  },
  {
   "cell_type": "code",
   "execution_count": null,
   "metadata": {},
   "outputs": [],
   "source": []
  },
  {
   "cell_type": "code",
   "execution_count": null,
   "metadata": {},
   "outputs": [],
   "source": []
  }
 ],
 "metadata": {
  "kernelspec": {
   "display_name": "Python 3",
   "language": "python",
   "name": "python3"
  },
  "language_info": {
   "codemirror_mode": {
    "name": "ipython",
    "version": 3
   },
   "file_extension": ".py",
   "mimetype": "text/x-python",
   "name": "python",
   "nbconvert_exporter": "python",
   "pygments_lexer": "ipython3",
   "version": "3.6.5"
  }
 },
 "nbformat": 4,
 "nbformat_minor": 4
}
