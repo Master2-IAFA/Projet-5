{
 "cells": [
  {
   "cell_type": "code",
   "execution_count": 1,
   "metadata": {},
   "outputs": [],
   "source": [
    "%load_ext autoreload"
   ]
  },
  {
   "cell_type": "code",
   "execution_count": 2,
   "metadata": {},
   "outputs": [],
   "source": [
    "%autoreload 2"
   ]
  },
  {
   "cell_type": "code",
   "execution_count": 3,
   "metadata": {},
   "outputs": [],
   "source": [
    "import sys\n",
    "sys.path.append('/Users/artonson/repos/sharp_features/')"
   ]
  },
  {
   "cell_type": "code",
   "execution_count": 4,
   "metadata": {},
   "outputs": [],
   "source": [
    "from sharpf.models import load_model, MODEL_BY_NAME\n",
    "from sharpf.modules.base import load_with_spec\n",
    "from sharpf.modules import module_by_kind"
   ]
  },
  {
   "cell_type": "code",
   "execution_count": 5,
   "metadata": {},
   "outputs": [
    {
     "data": {
      "text/plain": [
       "{'conv_base': sharpf.modules.conv_modules.ConvBase,\n",
       " 'neighbour_base': sharpf.modules.neighbour_modules.NeighourBase,\n",
       " 'local_base': sharpf.modules.local_modules.LocalTransformBase,\n",
       " 'aggregation_base': sharpf.modules.aggregation_modules.AggregationBase,\n",
       " 'interpolation_base': sharpf.modules.interpolation_modules.InterpolationBase,\n",
       " 'point_block_nlfai': sharpf.modules.point_blocks.PointOpBlock}"
      ]
     },
     "execution_count": 5,
     "metadata": {},
     "output_type": "execute_result"
    }
   ],
   "source": [
    "module_by_kind"
   ]
  },
  {
   "cell_type": "code",
   "execution_count": 6,
   "metadata": {},
   "outputs": [],
   "source": [
    "spec = {\n",
    "  \"kind\": \"GenericPointBasedNet\",\n",
    "  \"encoder_blocks\": [\n",
    "    {\n",
    "      \"kind\": \"point_block_nlfai\",\n",
    "      \"neighbours\": {\n",
    "        \"kind\": \"neighbour_base\"\n",
    "      },\n",
    "      \"local_transform\": {\n",
    "        \"kind\": \"local_base\"\n",
    "      },\n",
    "      \"features\": {\n",
    "        \"kind\": \"conv_base\"\n",
    "      },\n",
    "      \"aggregation\": {\n",
    "        \"kind\": \"aggregation_base\"\n",
    "      },\n",
    "      \"interpolation\": {\n",
    "        \"kind\": \"interpolation_base\"\n",
    "      }\n",
    "    }\n",
    "  ]\n",
    "}"
   ]
  },
  {
   "cell_type": "code",
   "execution_count": 7,
   "metadata": {},
   "outputs": [],
   "source": [
    "model = load_with_spec(spec, MODEL_BY_NAME)"
   ]
  },
  {
   "cell_type": "code",
   "execution_count": 9,
   "metadata": {},
   "outputs": [
    {
     "data": {
      "text/plain": [
       "[PointOpBlock(\n",
       "   (_op): Sequential(\n",
       "     (0): NeighourBase()\n",
       "     (1): LocalTransformBase()\n",
       "     (2): ConvBase()\n",
       "     (3): AggregationBase()\n",
       "     (4): InterpolationBase()\n",
       "   )\n",
       " )]"
      ]
     },
     "execution_count": 9,
     "metadata": {},
     "output_type": "execute_result"
    }
   ],
   "source": [
    "model.encoder_blocks"
   ]
  }
 ],
 "metadata": {
  "kernelspec": {
   "display_name": "Python 3",
   "language": "python",
   "name": "python3"
  },
  "language_info": {
   "codemirror_mode": {
    "name": "ipython",
    "version": 3
   },
   "file_extension": ".py",
   "mimetype": "text/x-python",
   "name": "python",
   "nbconvert_exporter": "python",
   "pygments_lexer": "ipython3",
   "version": "3.6.5"
  }
 },
 "nbformat": 4,
 "nbformat_minor": 2
}
