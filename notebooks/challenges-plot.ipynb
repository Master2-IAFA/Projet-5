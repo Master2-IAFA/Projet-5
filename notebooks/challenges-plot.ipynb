{
 "cells": [
  {
   "cell_type": "code",
   "execution_count": 1,
   "metadata": {},
   "outputs": [],
   "source": [
    "%load_ext autoreload\n",
    "%autoreload 2"
   ]
  },
  {
   "cell_type": "code",
   "execution_count": 2,
   "metadata": {},
   "outputs": [],
   "source": [
    "import k3d\n",
    "import numpy as np\n",
    "import matplotlib.pyplot as plt\n",
    "import h5py\n",
    "import sys\n",
    "import tqdm"
   ]
  },
  {
   "cell_type": "code",
   "execution_count": 3,
   "metadata": {},
   "outputs": [],
   "source": [
    "import sys"
   ]
  },
  {
   "cell_type": "code",
   "execution_count": 4,
   "metadata": {},
   "outputs": [],
   "source": [
    "sys.path.append('/code/challenges/cvpr2020/abc_sharpness_fields_extraction/scoring_program/')"
   ]
  },
  {
   "cell_type": "code",
   "execution_count": 5,
   "metadata": {},
   "outputs": [],
   "source": [
    "import utilities as u"
   ]
  },
  {
   "cell_type": "code",
   "execution_count": 6,
   "metadata": {},
   "outputs": [],
   "source": [
    "def display_sharpness(mesh=None, plot_meshvert=True,\n",
    "                      samples=None, samples_distances=None,\n",
    "                      sharp_vert=None, sharp_curves=None,\n",
    "                      directions=None, directions_width=0.0025,\n",
    "                      samples_color=0x0000ff, samples_psize=0.002, \n",
    "                      mesh_color=0xbbbbbb, meshvert_color=0x666666, meshvert_psize=0.0025,\n",
    "                      sharpvert_color=0xff0000, sharpvert_psize=0.0025,\n",
    "                      sharpcurve_color=None, sharpcurve_width=0.0025,\n",
    "                      as_image=False, plot_height=768, \n",
    "                      cmap_distances=k3d.colormaps.basic_color_maps.WarmCool,\n",
    "                      distance_range=None):\n",
    "    \n",
    "    plot = k3d.plot(height=plot_height, camera_fov=30.0)\n",
    "    \n",
    "    if None is not mesh:\n",
    "        k3d_mesh = k3d.mesh(mesh.vertices, mesh.faces, color=mesh_color)\n",
    "        plot += k3d_mesh\n",
    "\n",
    "        if plot_meshvert:\n",
    "            k3d_points = k3d.points(mesh.vertices, \n",
    "                                    point_size=meshvert_psize, color=meshvert_color)\n",
    "            plot += k3d_points\n",
    "            k3d_points.shader='flat'\n",
    "\n",
    "    if None is not samples:\n",
    "        colors = None\n",
    "        if None is not samples_distances:\n",
    "            if None is distance_range:\n",
    "                distance_range = [0, np.max(samples_distances)]\n",
    "\n",
    "            colors = k3d.helpers.map_colors(\n",
    "                samples_distances, cmap_distances, distance_range\n",
    "            ).astype(np.uint32)\n",
    "            k3d_points = k3d.points(samples, point_size=samples_psize, colors=colors)\n",
    "        else:\n",
    "            k3d_points = k3d.points(samples, point_size=samples_psize, color=samples_color)\n",
    "        plot += k3d_points\n",
    "        k3d_points.shader='flat'\n",
    "        \n",
    "        if None is not directions:\n",
    "            directions_to_plot = np.hstack((samples, samples + directions))\n",
    "            \n",
    "            for i, dir_to_plot in enumerate(directions_to_plot):\n",
    "                dir_to_plot = dir_to_plot.reshape((2, 3))\n",
    "                if np.all(dir_to_plot[0] == dir_to_plot[1]):\n",
    "                    continue\n",
    "                color = int(colors[i]) if None is not colors else samples_color\n",
    "                plt_line = k3d.line(dir_to_plot, \n",
    "                                    shader='mesh', width=directions_width, color=color)\n",
    "                plot += plt_line\n",
    "\n",
    "    if None is not sharp_vert:\n",
    "        k3d_points = k3d.points(sharp_vert,\n",
    "                                point_size=sharpvert_psize, color=sharpvert_color)\n",
    "        plot += k3d_points\n",
    "        k3d_points.shader='flat'\n",
    "        \n",
    "        if None is not sharp_curves:            \n",
    "            if None is not sharpcurve_color:\n",
    "                color = sharpcurve_color\n",
    "            else:\n",
    "                import randomcolor\n",
    "                rand_color = randomcolor.RandomColor()\n",
    "            for i, vert_ind in enumerate(sharp_curves):\n",
    "                sharp_points_curve = mesh.vertices[vert_ind]\n",
    "                \n",
    "                if None is sharpcurve_color:\n",
    "                    color = rand_color.generate(hue='red')[0]\n",
    "                    color = int('0x' + color[1:], 16)\n",
    "                plt_line = k3d.line(sharp_points_curve, \n",
    "                                    shader='mesh', width=sharpcurve_width, color=color)\n",
    "                plot += plt_line\n",
    "        \n",
    "    plot.grid_visible = False\n",
    "    plot.camera_auto_fit = True\n",
    "    plot.display()\n",
    "    \n",
    "    return plot"
   ]
  },
  {
   "cell_type": "code",
   "execution_count": 7,
   "metadata": {},
   "outputs": [
    {
     "name": "stdout",
     "output_type": "stream",
     "text": [
      "test  val\r\n"
     ]
    }
   ],
   "source": [
    "!ls /logs/alberts_dgcnn_predictions/"
   ]
  },
  {
   "cell_type": "code",
   "execution_count": 30,
   "metadata": {},
   "outputs": [],
   "source": [
    "# data_field, target_field = u.read_targz_file('/data/abc_sharpness_fields_extraction/npy/high_res_train_0_data.tar.gz')\n",
    "data_field, _ = u.read_targz_file('/data/abc_sharpness_fields_extraction/npy/low_res_train_0_data.tar.gz', read_distances=False)\n",
    "_, target_field = u.read_targz_file('/data/abc_sharpness_fields_extraction/npy/low_res_train_0_target.tar.gz', read_points=False)\n"
   ]
  },
  {
   "cell_type": "code",
   "execution_count": 32,
   "metadata": {},
   "outputs": [
    {
     "data": {
      "text/plain": [
       "((16384, 4096, 3), (16384, 4096, 0))"
      ]
     },
     "execution_count": 32,
     "metadata": {},
     "output_type": "execute_result"
    }
   ],
   "source": [
    "data_field.shape, target_field.shape"
   ]
  },
  {
   "cell_type": "code",
   "execution_count": 29,
   "metadata": {},
   "outputs": [
    {
     "name": "stdout",
     "output_type": "stream",
     "text": [
      "686\n"
     ]
    },
    {
     "data": {
      "application/vnd.jupyter.widget-view+json": {
       "model_id": "56c99b0240a54524a5c43f8d7ffca05a",
       "version_major": 2,
       "version_minor": 0
      },
      "text/plain": [
       "Output()"
      ]
     },
     "metadata": {},
     "output_type": "display_data"
    },
    {
     "data": {
      "application/vnd.jupyter.widget-view+json": {
       "model_id": "56787fe71b9e4a7db979fbe2b2cb59f3",
       "version_major": 2,
       "version_minor": 0
      },
      "text/plain": [
       "Plot(antialias=3, axes=['x', 'y', 'z'], axes_helper=1.0, background_color=16777215, camera=[4.5, 4.5, 4.5, 0.0…"
      ]
     },
     "metadata": {},
     "output_type": "display_data"
    }
   ],
   "source": [
    "\n",
    "idx = np.random.choice(16000)\n",
    "print(idx)\n",
    "# idx = 1756\n",
    "\n",
    "# data, target = u.read_txt_file('/data/txt/low_res/train_0/field_{0:06d}.txt'.format(idx))\n",
    "\n",
    "# data_field, _ = u.read_txt_file('/data/txt/low_res/val_0_data/field_{0:06d}_data.txt'.format(idx), read_distances=False)\n",
    "# _, target = u.read_txt_file('/data/txt/low_res/val_0_target/field_{0:06d}_target.txt'.format(idx), read_points=False)\n",
    "# data, _ = u.read_targz_file('/data/npy/low_res_val_0_data.tar.gz', read_distances=False)\n",
    "# _, target = u.read_targz_file('/data/npy/low_res_val_0_target.tar.gz', read_points=False)\n",
    "\n",
    "display_sharpness(\n",
    "    samples=data_field[idx],\n",
    "    samples_distances=target_field[idx],\n",
    "    samples_psize=0.125\n",
    ")"
   ]
  },
  {
   "cell_type": "markdown",
   "metadata": {},
   "source": [
    "# Shape Segmentation"
   ]
  },
  {
   "cell_type": "code",
   "execution_count": null,
   "metadata": {},
   "outputs": [],
   "source": []
  },
  {
   "cell_type": "code",
   "execution_count": null,
   "metadata": {},
   "outputs": [],
   "source": []
  },
  {
   "cell_type": "code",
   "execution_count": null,
   "metadata": {},
   "outputs": [],
   "source": []
  },
  {
   "cell_type": "code",
   "execution_count": 634,
   "metadata": {},
   "outputs": [],
   "source": [
    "import os\n",
    "def _p(filename):\n",
    "    return os.path.join('/data/abc_geometric_shape_segmentation/', filename)"
   ]
  },
  {
   "cell_type": "code",
   "execution_count": 635,
   "metadata": {},
   "outputs": [],
   "source": [
    "data_seg, _ = u.read_targz_file(_p('npy/high_res_val_0_data.tar.gz'), read_distances=False)\n",
    "_, target_seg_gt = u.read_targz_file(_p('npy/high_res_val_0_target.tar.gz'), read_points=False)\n",
    "\n",
    "# data_seg, _ = u.read_targz_file('/data/abc_geometric_shape_segmentation/npy/high_res_val_0_data.tar.gz', read_distances=False)\n",
    "# _, target_seg = u.read_targz_file('/data/abc_geometric_shape_segmentation/npy/high_res_val_0_target.tar.gz', read_points=False)"
   ]
  },
  {
   "cell_type": "code",
   "execution_count": 718,
   "metadata": {},
   "outputs": [],
   "source": [
    "idx = 12155\n",
    "_, target_seg_pred = u.read_txt_file(\n",
    "    '/logs/alberts_dgcnn_predictions/val/voronoi/high_res/segmentation_{0:06d}_target.txt'.format(idx), \n",
    "    read_points=False)"
   ]
  },
  {
   "cell_type": "code",
   "execution_count": 719,
   "metadata": {},
   "outputs": [
    {
     "data": {
      "text/plain": [
       "(0.0, 0.0)"
      ]
     },
     "execution_count": 719,
     "metadata": {},
     "output_type": "execute_result"
    }
   ],
   "source": [
    "target_seg_gt[idx].sum(), target_seg_pred.sum()"
   ]
  },
  {
   "cell_type": "code",
   "execution_count": null,
   "metadata": {},
   "outputs": [],
   "source": []
  },
  {
   "cell_type": "code",
   "execution_count": 717,
   "metadata": {},
   "outputs": [
    {
     "data": {
      "application/vnd.jupyter.widget-view+json": {
       "model_id": "49826940db2e4bd7ab7ee06010ae63ff",
       "version_major": 2,
       "version_minor": 0
      },
      "text/plain": [
       "Output()"
      ]
     },
     "metadata": {},
     "output_type": "display_data"
    }
   ],
   "source": [
    "res = 'high'\n",
    "res_number = {'high': 0.02, 'med': 0.05, 'low': 0.125}[res]\n",
    "\n",
    "# idx = np.random.choice(16000)\n",
    "# print(idx)\n",
    "# idx = 1756\n",
    "\n",
    "# data_seg, target_seg = u.read_txt_file(\n",
    "#     '/data/abc_geometric_shape_segmentation/txt/low_res/train_0/segmentation_{0:06d}.txt'.format(idx))\n",
    "\n",
    "# data_seg, _ = u.read_txt_file(\n",
    "#     '/data/abc_geometric_shape_segmentation/txt/{0}_res/test_0_data/segmentation_{1:06d}_data.txt'.format(res, idx), read_distances=False)\n",
    "# _, target_seg = u.read_txt_file(\n",
    "#     '/data/abc_geometric_shape_segmentation/txt/{0}_res/test_0_target/segmentation_{1:06d}_target.txt'.format(res, idx), read_points=False)\n",
    "\n",
    "# data_seg, _ = u.read_targz_file('/data/npy/low_res_val_0_data.tar.gz', read_distances=False)\n",
    "# _, target_seg = u.read_targz_file('/data/npy/low_res_val_0_target.tar.gz', read_points=False)\n",
    "\n",
    "\n",
    "_= display_sharpness(\n",
    "    samples=data_seg[idx],\n",
    "#     samples_distances=target_seg_gt[idx],\n",
    "    samples_distances=target_seg_pred,\n",
    "    samples_psize=res_number,\n",
    "    cmap_distances=k3d.colormaps.basic_color_maps.CoolWarm\n",
    ")"
   ]
  },
  {
   "cell_type": "code",
   "execution_count": null,
   "metadata": {},
   "outputs": [],
   "source": []
  }
 ],
 "metadata": {
  "kernelspec": {
   "display_name": "Python 3",
   "language": "python",
   "name": "python3"
  },
  "language_info": {
   "codemirror_mode": {
    "name": "ipython",
    "version": 3
   },
   "file_extension": ".py",
   "mimetype": "text/x-python",
   "name": "python",
   "nbconvert_exporter": "python",
   "pygments_lexer": "ipython3",
   "version": "3.6.5"
  }
 },
 "nbformat": 4,
 "nbformat_minor": 4
}
