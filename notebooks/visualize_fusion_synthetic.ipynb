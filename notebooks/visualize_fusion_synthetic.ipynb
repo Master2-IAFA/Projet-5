{
 "cells": [
  {
   "cell_type": "code",
   "execution_count": 1,
   "metadata": {},
   "outputs": [],
   "source": [
    "%load_ext autoreload\n",
    "%autoreload 2"
   ]
  },
  {
   "cell_type": "code",
   "execution_count": 2,
   "metadata": {
    "scrolled": true
   },
   "outputs": [],
   "source": [
    "from collections import defaultdict\n",
    "from copy import deepcopy\n",
    "from functools import partial\n",
    "from io import BytesIO\n",
    "import json\n",
    "import os\n",
    "import warnings\n",
    "from glob import glob\n",
    "import sys\n",
    "import re"
   ]
  },
  {
   "cell_type": "code",
   "execution_count": 3,
   "metadata": {},
   "outputs": [
    {
     "name": "stderr",
     "output_type": "stream",
     "text": [
      "Matplotlib created a temporary config/cache directory at /tmp/matplotlib-jd3c0eoy because the default path (/home/user/.cache/matplotlib) is not a writable directory; it is highly recommended to set the MPLCONFIGDIR environment variable to a writable directory, in particular to speed up the import of Matplotlib and to better support multiprocessing.\n"
     ]
    }
   ],
   "source": [
    "import h5py\n",
    "import igl\n",
    "import randomcolor\n",
    "import trimesh\n",
    "import k3d\n",
    "import yaml\n",
    "import numpy as np\n",
    "import matplotlib.pyplot as plt\n",
    "from tqdm.notebook import tqdm, trange\n",
    "from joblib import Parallel, delayed\n",
    "import trimesh.transformations as tt\n"
   ]
  },
  {
   "cell_type": "code",
   "execution_count": 4,
   "metadata": {},
   "outputs": [],
   "source": [
    "from sharpf.utils.abc_utils.hdf5.dataset import Hdf5File, PreloadTypes\n",
    "import sharpf.utils.abc_utils.hdf5.io_struct as io_struct\n",
    "import sharpf.data.datasets.sharpf_io as sharpf_io\n",
    "from sharpf.utils.plotting import display_depth_sharpness, plot_views, get_random_color, illustrate_camera\n",
    "from sharpf.utils.abc_utils.mesh.indexing import reindex_zerobased\n",
    "from sharpf.utils.abc_utils.mesh.io import trimesh_load\n",
    "from sharpf.utils.convertor_utils.convertors_io import ViewIO, RangeVisionIO\n",
    "from sharpf.data.annotation import ANNOTATOR_BY_TYPE\n",
    "from sharpf.utils.camera_utils.view import CameraView\n",
    "from sharpf.data.imaging import RaycastingImaging\n",
    "from sharpf.utils.py_utils.config import load_func_from_config\n",
    "from sharpf.utils.camera_utils.camera_pose import CameraPose, camera_to_display\n",
    "from sharpf.utils.abc_utils.hdf5.dataset import Hdf5File, PreloadTypes\n",
    "from sharpf.utils.abc_utils.mesh.io import trimesh_load\n",
    "from sharpf.utils.convertor_utils.convertors_io import (\n",
    "    AnnotatedViewIO,\n",
    "    ViewIO,\n",
    "    write_annotated_views_to_hdf5)\n",
    "from sharpf.utils.abc_utils.abc.feature_utils import (\n",
    "    compute_features_nbhood,\n",
    "    remove_boundary_features,\n",
    "    submesh_from_hit_surfaces)\n",
    "from sharpf.utils.convertor_utils.meshlab_project_parsers import load_meshlab_project\n",
    "import sharpf.utils.convertor_utils.rangevision_utils as rv_utils\n",
    "from sharpf.utils.camera_utils import matrix\n",
    "\n",
    "from sharpf.utils.numpy_utils.transformations import transform_to_frame\n"
   ]
  },
  {
   "cell_type": "code",
   "execution_count": 5,
   "metadata": {},
   "outputs": [],
   "source": [
    "def display_sharpness(mesh=None, plot_meshvert=True,\n",
    "                      samples=None, samples_distances=None,\n",
    "                      sharp_vert=None, sharp_curves=None,\n",
    "                      directions=None, directions_width=0.0025,\n",
    "                      samples_color=0x0000ff, samples_psize=0.002, \n",
    "                      mesh_color=0xbbbbbb, meshvert_color=0x666666, meshvert_psize=0.0025,\n",
    "                      sharpvert_color=0xff0000, sharpvert_psize=0.0025,\n",
    "                      sharpcurve_color=None, sharpcurve_width=0.0025,\n",
    "                      as_image=False, plot_height=768,\n",
    "                      cmap=k3d.colormaps.matplotlib_color_maps.coolwarm_r, \n",
    "                      plot=None, display=True,\n",
    "                     max_distance_to_feature=1.0):\n",
    "    \n",
    "    if None is plot:\n",
    "        plot = k3d.plot(height=plot_height, camera_auto_fit=True)\n",
    "    \n",
    "    if None is not mesh:\n",
    "        k3d_mesh = k3d.mesh(mesh.vertices, mesh.faces, color=mesh_color)\n",
    "        plot += k3d_mesh\n",
    "\n",
    "        if plot_meshvert:\n",
    "            k3d_points = k3d.points(mesh.vertices, \n",
    "                                    point_size=meshvert_psize, color=meshvert_color)\n",
    "            plot += k3d_points\n",
    "            k3d_points.shader='flat'\n",
    "\n",
    "    if None is not samples:\n",
    "        colors = None\n",
    "        if None is not samples_distances and not np.all(samples_distances == 1.0):\n",
    "            colors = k3d.helpers.map_colors(\n",
    "                samples_distances, cmap, [0, max_distance_to_feature]\n",
    "            ).astype(np.uint32)\n",
    "            k3d_points = k3d.points(samples, point_size=samples_psize, colors=colors)\n",
    "        else:\n",
    "            v = -np.array([0., 1., 0.])\n",
    "            max_dist = np.max(np.dot(samples, v))\n",
    "            min_dist = np.min(np.dot(samples, v))\n",
    "            colors = k3d.helpers.map_colors(\n",
    "                np.dot(samples, v), k3d.colormaps.matplotlib_color_maps.viridis, [min_dist, max_dist]\n",
    "            ).astype(np.uint32)\n",
    "            k3d_points = k3d.points(samples, point_size=samples_psize, colors=colors)\n",
    "\n",
    "        plot += k3d_points\n",
    "        k3d_points.shader='flat'\n",
    "        \n",
    "        if None is not directions:\n",
    "            colors = k3d.helpers.map_colors(\n",
    "                samples_distances, cmap, [0, max_distance_to_feature]\n",
    "            ).astype(np.uint32)\n",
    "            colors = [(c, c) for c in colors]\n",
    "\n",
    "            vectors = k3d.vectors(\n",
    "                samples,\n",
    "                directions * samples_distances[..., np.newaxis],\n",
    "                use_head=False, \n",
    "                line_width=directions_width,\n",
    "                colors=colors)\n",
    "#             print(vectors)\n",
    "            plot += vectors\n",
    "\n",
    "#             directions_to_plot = np.hstack((samples, samples + directions))\n",
    "            \n",
    "#             for i, dir_to_plot in enumerate(directions_to_plot):\n",
    "#                 dir_to_plot = dir_to_plot.reshape((2, 3))\n",
    "#                 if np.all(dir_to_plot[0] == dir_to_plot[1]):\n",
    "#                     continue\n",
    "#                 color = int(colors[i]) if None is not colors else samples_color\n",
    "#                 plt_line = k3d.line(dir_to_plot, \n",
    "#                                     shader='mesh', width=directions_width, color=color)\n",
    "#                 plot += plt_line\n",
    "\n",
    "    if None is not sharp_vert:\n",
    "        k3d_points = k3d.points(sharp_vert,\n",
    "                                point_size=sharpvert_psize, color=sharpvert_color)\n",
    "        plot += k3d_points\n",
    "        k3d_points.shader='flat'\n",
    "        \n",
    "        if None is not sharp_curves:            \n",
    "            if None is not sharpcurve_color:\n",
    "                color = sharpcurve_color\n",
    "            else:\n",
    "                import randomcolor\n",
    "                rand_color = randomcolor.RandomColor()\n",
    "            for i, vert_ind in enumerate(sharp_curves):\n",
    "                sharp_points_curve = mesh.vertices[vert_ind]\n",
    "                \n",
    "                if None is sharpcurve_color:\n",
    "                    color = rand_color.generate(hue='red')[0]\n",
    "                    color = int('0x' + color[1:], 16)\n",
    "                plt_line = k3d.line(sharp_points_curve, \n",
    "                                    shader='mesh', width=sharpcurve_width, color=color)\n",
    "                plot += plt_line\n",
    "        \n",
    "    plot.grid_visible = False\n",
    "    if display:\n",
    "        plot.display()\n",
    "    \n",
    "    if as_image:\n",
    "        plot.fetch_screenshot()\n",
    "        return Image(data=b64decode(plot.screenshot))\n",
    "    \n",
    "    return plot"
   ]
  },
  {
   "cell_type": "code",
   "execution_count": 6,
   "metadata": {},
   "outputs": [],
   "source": [
    "def convert_to_fusion_compatible_io(\n",
    "    input_dataset_filename,\n",
    "    output_dataset_filename,\n",
    "):\n",
    "    input_dataset = Hdf5File(\n",
    "        input_dataset_filename,\n",
    "        io=AnnotatedViewIO,\n",
    "        preload=PreloadTypes.LAZY,\n",
    "        labels='*')\n",
    "    \n",
    "    patches = [{\n",
    "        'image': image['points'], \n",
    "        'distances': image['distances'],\n",
    "        'camera_pose': image['extrinsics']\n",
    "    } for image in input_dataset]\n",
    "\n",
    "    schema_datasets = {\n",
    "        'image': io_struct.Float64('image'),\n",
    "        'distances': io_struct.Float64('distances'),\n",
    "        'camera_pose': io_struct.Float64('camera_pose'),\n",
    "    }\n",
    "    WholeDepthMapIO = io_struct.HDF5IO(\n",
    "        schema_datasets,\n",
    "        len_label='image',\n",
    "        compression='lzf')\n",
    "    def save_whole_images(filename, patches):\n",
    "        collate_fn = partial(io_struct.collate_mapping_with_io, io=WholeDepthMapIO)\n",
    "        patches = collate_fn(patches)\n",
    "        with h5py.File(filename, 'w') as f:\n",
    "            for key in ['image', 'distances', 'camera_pose']:\n",
    "                WholeDepthMapIO.write(f, key, patches[key].numpy())\n",
    "\n",
    "    save_whole_images(output_dataset_filename, patches)\n",
    "        \n",
    "    print(output_dataset_filename)"
   ]
  },
  {
   "cell_type": "code",
   "execution_count": 7,
   "metadata": {},
   "outputs": [
    {
     "name": "stdout",
     "output_type": "stream",
     "text": [
      "/logs/synth_sharpf_scans/6side_folder_preprocessed_synth_io.hdf5\n"
     ]
    }
   ],
   "source": [
    "convert_to_fusion_compatible_io(\n",
    "    '/logs/synth_sharpf_scans/6side_folder_preprocessed_synth.hdf5',\n",
    "    '/logs/synth_sharpf_scans/6side_folder_preprocessed_synth_io.hdf5'\n",
    ")"
   ]
  },
  {
   "cell_type": "code",
   "execution_count": 8,
   "metadata": {},
   "outputs": [],
   "source": [
    "def sharpness_with_depth_background(\n",
    "        sharpness_image,\n",
    "        depth_image,\n",
    "        depth_bg_value=1.0,\n",
    "        sharpness_bg_value=0.0,\n",
    "):\n",
    "    assert sharpness_image.shape == depth_image.shape\n",
    "    image = sharpness_image.copy()\n",
    "    image[depth_image == depth_bg_value] = sharpness_bg_value\n",
    "    return image\n",
    "\n",
    "\n",
    "\n",
    "def min_bbox_for_all_images(images, bg_value):\n",
    "    \"\"\"Given a sequence of 2d images, find max bounding box\n",
    "    that covers the set image != bg_value for each image.\"\"\"\n",
    "    top, left = images[0].shape\n",
    "    bottom, right = 0, 0\n",
    "    for image in images:\n",
    "        y, x = np.where((image != bg_value).astype(float))\n",
    "        top_i, bottom_i = np.min(y), np.max(y)\n",
    "        top, bottom = min(top, top_i), max(bottom, bottom_i)\n",
    "        left_i, right_i = np.min(x), np.max(x)\n",
    "        left, right = min(left, left_i), max(right, right_i)\n",
    "    return top, bottom, left, right\n",
    "\n",
    "\n",
    "def align_to_center_mass(images, bg_value, bbox, center_y=False, center_x=False):\n",
    "    def align_image(image, bg_value, bbox, center_y=False, center_x=False):\n",
    "        top, bottom, left, right = bbox\n",
    "        y, x = np.where((image != bg_value).astype(float))\n",
    "\n",
    "        top_a, bottom_a = top, bottom\n",
    "        if center_y:\n",
    "            c_y = np.mean(y).round().astype(int)\n",
    "            delta_y = c_y - (top + bottom) // 2\n",
    "            top_a, bottom_a = top - delta_y, bottom - delta_y\n",
    "\n",
    "        left_a, right_a = left, right\n",
    "        if center_x:\n",
    "            c_x = np.mean(x).round().astype(int)\n",
    "            delta_x = c_x - (left + right) // 2\n",
    "            left_a = left + delta_x\n",
    "            right_a = right + delta_x\n",
    "\n",
    "        return top_a, bottom_a, left_a, right_a\n",
    "\n",
    "    tops, bottoms, lefts, rights = zip(*[\n",
    "        align_image(image, bg_value, bbox, center_y=center_y, center_x=center_x)\n",
    "        for image in images])\n",
    "    return tops, bottoms, lefts, rights\n",
    "\n",
    "\n",
    "def cw_to_tblr(cx, cy, sx, sy):\n",
    "    halfsize_y, halfsize_x = sy // 2, sx // 2\n",
    "    top, bottom, left, right = cy - halfsize_y, cy + halfsize_y, \\\n",
    "                               cx - halfsize_x, cx + halfsize_x\n",
    "    return top, bottom, left, right\n",
    "\n",
    "\n",
    "def snap_bbox_to_2k(bbox):\n",
    "    \"\"\"Make bbox size equal to 2^K where K is\n",
    "        min(k | 2^K > max(width, height)).\n",
    "    Returns a bbox centered at the input bbox's center\n",
    "    but with the size 2^K.\"\"\"\n",
    "    top, bottom, left, right = bbox\n",
    "    k = max(np.ceil(np.log2(right - left)).astype(int),\n",
    "            np.ceil(np.log2(bottom - top)).astype(int))\n",
    "    sy, sx = 2 ** k, 2 ** k\n",
    "    cy, cx = (top + bottom) // 2, (right + left) // 2\n",
    "    top2k, bottom2k, left2k, right2k = cw_to_tblr(cx, cy, sx, sx)\n",
    "    return top2k, bottom2k, left2k, right2k\n",
    "\n",
    "\n",
    "def snap_to_image(bbox, image_size_x, image_size_y):\n",
    "    top, bottom, left, right = bbox\n",
    "\n",
    "    delta_y = 0\n",
    "    if top < 0 and bottom > image_size_y:\n",
    "        raise ValueError('cannot make crop: top = {}, bottom = {}'.format(top, bottom))\n",
    "    elif top < 0:\n",
    "        delta_y = -top\n",
    "    elif bottom > image_size_y:\n",
    "        delta_y = image_size_y - bottom\n",
    "    top, bottom = top + delta_y, bottom + delta_y\n",
    "\n",
    "    delta_x = 0\n",
    "    if left < 0 and right > image_size_x:\n",
    "        raise ValueError('cannot make crop: left = {}, right = {}'.format(left, right))\n",
    "    elif left < 0:\n",
    "        delta_x = -left\n",
    "    elif right > image_size_x:\n",
    "        delta_x = image_size_x - right\n",
    "    left, right = left + delta_x, right + delta_x\n",
    "\n",
    "    return top, bottom, left, right\n",
    "\n"
   ]
  },
  {
   "cell_type": "code",
   "execution_count": 9,
   "metadata": {},
   "outputs": [],
   "source": [
    "\n",
    "SingleViewPredictionsIO = io_struct.HDF5IO(\n",
    "    {'image': io_struct.Float64('image'),\n",
    "     'distances': io_struct.Float64('distances')},\n",
    "    len_label='distances',\n",
    "    compression='lzf')\n",
    "\n",
    "\n",
    "def save_predictions(patches, filename):\n",
    "    collate_fn = partial(io_struct.collate_mapping_with_io, io=SingleViewPredictionsIO)\n",
    "    patches = collate_fn(patches)\n",
    "    with h5py.File(filename, 'w') as f:\n",
    "        SingleViewPredictionsIO.write(f, 'image', patches['image'])\n",
    "        SingleViewPredictionsIO.write(f, 'distances', patches['distances'])\n",
    "\n",
    "        \n",
    "def convert_npylist_to_hdf5(input_dir, gt_images, output_filename):\n",
    "    def get_num(basename):\n",
    "        match = re.match('^test_(\\d+)\\.npy$', basename)\n",
    "        return int(match.groups()[0])\n",
    "\n",
    "    datafiles = glob(os.path.join(input_dir, '*.npy'))\n",
    "    datafiles.sort(key=lambda name: get_num(os.path.basename(name)))\n",
    "    patches = [\n",
    "        {'image': image, 'distances': np.load(f)}\n",
    "        for image, f in zip(gt_images, datafiles)]\n",
    "    save_predictions(patches, output_filename)\n"
   ]
  },
  {
   "cell_type": "code",
   "execution_count": 10,
   "metadata": {},
   "outputs": [],
   "source": [
    "# convert_npylist_to_hdf5(\n",
    "#     '/logs/paper_extra/spherical_sphiral/predictions_nobg',\n",
    "#     gt_images, \n",
    "#     '/logs/paper_extra/spherical_sphiral/abc_0051_64_65__predictions_nobg.hdf5',\n",
    "# )"
   ]
  },
  {
   "cell_type": "code",
   "execution_count": 11,
   "metadata": {},
   "outputs": [],
   "source": [
    "# d = '/logs/abc_0051_00510073_951e25d2ded40f22b598f84e_000/def'\n",
    "# predictions_filename = d + '/abc_0051_00510073_951e25d2ded40f22b598f84e_000__predictions.hdf5'\n",
    "# gt_filename = d + '/abc_0051_00510073_951e25d2ded40f22b598f84e_000.hdf5'\n",
    "\n",
    "# d = '/logs/paper_extra/resolutions/'\n",
    "# predictions_filename = d + '.hdf5'\n",
    "# gt_filename = os.path.join(d, 'abc_0051_64_65__0.15.hdf5')\n",
    "\n",
    "d = '/logs/paper_extra/spherical_sphiral/whole_annotation/128_views/'\n",
    "predictions_filename = os.path.join(d, 'abc_0051_64_65__predictions.hdf5')\n",
    "gt_filename = os.path.join(d, 'abc_0051_64_65__whole_annotation.hdf5')\n",
    "\n",
    "# gt_filename = '/logs/abc_0051_00515209_339016deab3d8d5c379667e0_000/def/abc_0051_00515209_339016deab3d8d5c379667e0_000.hdf5'\n",
    "# predictions_filename = '/logs/abc_0051_00515209_339016deab3d8d5c379667e0_000/def/abc_0051_00515209_339016deab3d8d5c379667e0_000__predictions.hdf5'\n",
    "# predictions_filename = '/logs/abc_0051_00515209_339016deab3d8d5c379667e0_000/nobg/abc_0051_00515209_339016deab3d8d5c379667e0_000__predictions.hdf5'\n",
    "\n"
   ]
  },
  {
   "cell_type": "code",
   "execution_count": 12,
   "metadata": {},
   "outputs": [
    {
     "name": "stdout",
     "output_type": "stream",
     "text": [
      "Loading ground truth data...\n"
     ]
    }
   ],
   "source": [
    "resolution_3d = 0.02\n",
    "\n",
    "\n",
    "print('Loading ground truth data...')\n",
    "ground_truth_dataset = Hdf5File(\n",
    "    gt_filename,\n",
    "    io=sharpf_io.WholeDepthMapIO,\n",
    "    preload=PreloadTypes.LAZY,\n",
    "    labels='*')\n",
    "gt_dataset = [view for view in ground_truth_dataset]\n",
    "# depth images captured from a variety of views around the 3D shape\n",
    "gt_images = [view['image'] for view in gt_dataset]\n",
    "# ground-truth distances (multi-view consistent for the global 3D shape)\n",
    "gt_distances = [view.get('distances', np.ones_like(view['image'])) for view in gt_dataset]\n",
    "# extrinsic camera matrixes describing the 3D camera poses used to capture depth images\n",
    "gt_extrinsics = [view['camera_pose'] for view in gt_dataset]\n",
    "# intrinsic camera parameters describing how to compute image from points and vice versa\n",
    "gt_intrinsics = [dict(resolution_image=gt_images[0].shape[::-1], resolution_3d=resolution_3d, projection=None, validate_image=None) for view in\n",
    "                 gt_dataset]\n"
   ]
  },
  {
   "cell_type": "code",
   "execution_count": 13,
   "metadata": {},
   "outputs": [],
   "source": [
    "# display_depth_sharpness(\n",
    "#     gt_images,\n",
    "#     gt_distances,\n",
    "#     ncols=1\n",
    "# )"
   ]
  },
  {
   "cell_type": "code",
   "execution_count": 14,
   "metadata": {},
   "outputs": [
    {
     "name": "stderr",
     "output_type": "stream",
     "text": [
      "File /logs/paper_extra/spherical_sphiral/whole_annotation/128_views/abc_0051_64_65__predictions.hdf5 is not compatible with Hdf5File I/O interface <class 'sharpf.utils.abc_utils.hdf5.io_struct.HDF5IO'>\n",
      "File /logs/paper_extra/spherical_sphiral/whole_annotation/128_views/abc_0051_64_65__predictions.hdf5 is not compatible with Hdf5File I/O interface <class 'sharpf.utils.abc_utils.hdf5.io_struct.HDF5IO'>\n"
     ]
    }
   ],
   "source": [
    "pred_distance_scale_ratio = 1.0\n",
    "\n",
    "predictions_dataset = Hdf5File(\n",
    "    predictions_filename,\n",
    "    io=sharpf_io.WholeDepthMapIO,\n",
    "    preload=PreloadTypes.LAZY,\n",
    "    labels='*')\n",
    "pred_distances = [view['distances'] * pred_distance_scale_ratio for view in predictions_dataset]"
   ]
  },
  {
   "cell_type": "code",
   "execution_count": 171,
   "metadata": {},
   "outputs": [],
   "source": [
    "depth_images = [camera_to_display(image) for image in gt_images]\n",
    "sharpness_images_gt = [camera_to_display(image) for image in gt_distances]\n",
    "sharpness_images_pred = [camera_to_display(image) for image in pred_distances]\n",
    "\n",
    "sharpness_images = sharpness_images_gt"
   ]
  },
  {
   "cell_type": "code",
   "execution_count": 172,
   "metadata": {},
   "outputs": [],
   "source": [
    "def prepare_for_display(depth_images, sharpness_images):\n",
    "\n",
    "    class options:\n",
    "        crop_size = 'auto'\n",
    "        depth_bg_value = 0.0\n",
    "        verbose = False\n",
    "        center_x = False\n",
    "        center_y = False\n",
    "        depth_images = True\n",
    "        sharpness_images = True\n",
    "        bg_from_depth = True\n",
    "        sharpness_bg_value = 0.0\n",
    "\n",
    "\n",
    "\n",
    "    images = depth_images or sharpness_images\n",
    "    res_y, res_x = images[0].shape\n",
    "    center_x, center_y = res_x // 2, res_y // 2\n",
    "    bg_value = options.depth_bg_value if options.depth_images else options.sharpness_bg_value\n",
    "    if isinstance(options.crop_size, int):\n",
    "        bbox = cw_to_tblr(center_x, center_y, options.crop_size, options.crop_size)\n",
    "    elif isinstance(options.crop_size, str) and options.crop_size == 'full':\n",
    "        bbox = cw_to_tblr(center_x, center_y, res_x, res_y)\n",
    "    elif isinstance(options.crop_size, str) and options.crop_size == 'auto':\n",
    "        bbox = min_bbox_for_all_images(images, bg_value)\n",
    "    elif isinstance(options.crop_size, str) and options.crop_size == 'auto2k':\n",
    "        bbox = min_bbox_for_all_images(images, bg_value)\n",
    "        bbox = snap_bbox_to_2k(bbox)\n",
    "        bbox = snap_to_image(bbox, res_x, res_y)\n",
    "    else:\n",
    "        print('Cannot interpret -c/--crop_size option: \"{}\"'.format(options.crop_size), file=sys.stderr)\n",
    "        exit(1)\n",
    "\n",
    "    if options.verbose:\n",
    "        print('Bbox size wxh: {} x {}'.format(bbox[3] - bbox[2], bbox[1] - bbox[0]))\n",
    "\n",
    "    if options.center_x or options.center_y:\n",
    "        tops, bottoms, lefts, rights = align_to_center_mass(\n",
    "            images, bg_value, bbox,\n",
    "            center_x=options.center_x,\n",
    "            center_y=options.center_y)\n",
    "        bboxes = [snap_to_image((top, bottom, left, right), res_x, res_y)\n",
    "                  for top, bottom, left, right in zip(tops, bottoms, lefts, rights)]\n",
    "        tops, bottoms, lefts, rights = zip(*bboxes)  # unpack list of tuples to tuple of lists\n",
    "\n",
    "    else:\n",
    "        top, bottom, left, right = bbox\n",
    "        n = len(images)\n",
    "        tops, bottoms, lefts, rights = [top] * n, [bottom] * n, [left] * n, [right] * n\n",
    "\n",
    "    slices = [(slice(top, bottom), slice(left, right))\n",
    "              for top, bottom, left, right in zip(tops, bottoms, lefts, rights)]\n",
    "\n",
    "    depth_images_for_display = None\n",
    "    if options.depth_images:\n",
    "        depth_images_for_display = [image[s] for image, s in zip(depth_images, slices)]\n",
    "\n",
    "    sharpness_images_for_display = None\n",
    "    if options.sharpness_images:\n",
    "        sharpness_images_for_display = [distances[s] for distances, s in zip(sharpness_images, slices)]\n",
    "\n",
    "    if options.depth_images and options.sharpness_images and options.bg_from_depth:\n",
    "        sharpness_images_for_display = [sharpness_with_depth_background(\n",
    "            sharpness_image,\n",
    "            depth_image,\n",
    "            depth_bg_value=options.depth_bg_value,\n",
    "            sharpness_bg_value=options.sharpness_bg_value)\n",
    "            for sharpness_image, depth_image in\n",
    "            zip(sharpness_images_for_display, depth_images_for_display)]\n",
    "\n",
    "    return depth_images_for_display, sharpness_images_for_display, slices"
   ]
  },
  {
   "cell_type": "code",
   "execution_count": 173,
   "metadata": {},
   "outputs": [],
   "source": [
    "depth_images_for_display, sharpness_images_for_display, slices = prepare_for_display(\n",
    "    depth_images, sharpness_images)"
   ]
  },
  {
   "cell_type": "code",
   "execution_count": 174,
   "metadata": {
    "scrolled": false
   },
   "outputs": [
    {
     "data": {
      "image/png": "[encoded data removed]",
      "text/plain": [
       "<Figure size 576x576 with 1 Axes>"
      ]
     },
     "metadata": {
      "needs_background": "light"
     },
     "output_type": "display_data"
    }
   ],
   "source": [
    "display_depth_sharpness(\n",
    "#     depth_images=[depth_images_for_display[-5]],\n",
    "    sharpness_images=[sharpness_images_for_display[-5]],\n",
    "    ncols=1,\n",
    "    max_sharpness=1,\n",
    "#     sharpness_bg_value=10.0\n",
    ")"
   ]
  },
  {
   "cell_type": "code",
   "execution_count": 192,
   "metadata": {},
   "outputs": [],
   "source": [
    "pose_i = CameraPose(gt_extrinsics[-5])\n",
    "imaging_i = RaycastingImaging(**gt_intrinsics[-5])\n",
    "points_i = pose_i.camera_to_world(imaging_i.image_to_points(gt_images[-5]))\n",
    "\n"
   ]
  },
  {
   "cell_type": "code",
   "execution_count": 181,
   "metadata": {},
   "outputs": [
    {
     "name": "stdout",
     "output_type": "stream",
     "text": [
      "{'surface_based_aabb': <class 'sharpf.data.annotation.AABBSurfacePatchAnnotator'>} {'type': 'surface_based_aabb', 'distance_upper_bound': 1.0, 'always_check_adjacent_surfaces': True, 'distance_computation_method': 'geom'}\n"
     ]
    }
   ],
   "source": [
    "annotation_config = {\n",
    "    \"type\": \"surface_based_aabb\",\n",
    "    \"distance_upper_bound\": 1.0,\n",
    "    \"always_check_adjacent_surfaces\": True,\n",
    "    \"distance_computation_method\": 'geom',\n",
    "}\n",
    "annotator = load_func_from_config(ANNOTATOR_BY_TYPE, annotation_config)\n",
    "\n"
   ]
  },
  {
   "cell_type": "code",
   "execution_count": 183,
   "metadata": {},
   "outputs": [],
   "source": [
    "from sharpf.utils.abc_utils.abc.abc_data import ABCModality, ABCChunk, ABC_7Z_FILEMASK\n",
    "from sharpf.utils.abc_utils.mesh.io import trimesh_load\n",
    "\n",
    "\n",
    "with ABCChunk(['/data/abc/abc_0051_obj_v00.7z', '/data/abc/abc_0051_feat_v00.7z']) as data_holder:\n",
    "    item = data_holder.get('00515209_339016deab3d8d5c379667e0_000')\n",
    "\n",
    "mesh, _, _ = trimesh_load(item.obj)\n",
    "features = yaml.load(item.feat, Loader=yaml.Loader)"
   ]
  },
  {
   "cell_type": "code",
   "execution_count": 186,
   "metadata": {},
   "outputs": [],
   "source": [
    "from sharpf.utils.abc_utils.abc import feature_utils\n",
    "\n",
    "\n",
    "def scale_mesh(mesh, features, shape_fabrication_extent, resolution_3d,\n",
    "               short_curve_quantile=0.05, n_points_per_short_curve=4):\n",
    "    # compute standard size spatial extent\n",
    "    mesh_extent = np.max(mesh.bounding_box.extents)\n",
    "    mesh = mesh.apply_scale(shape_fabrication_extent / mesh_extent)\n",
    "\n",
    "    # compute lengths of curves\n",
    "    sharp_curves_lengths = feature_utils.get_curves_extents(mesh, features)\n",
    "\n",
    "    least_len = np.quantile(sharp_curves_lengths, short_curve_quantile)\n",
    "    least_len_mm = resolution_3d * n_points_per_short_curve\n",
    "\n",
    "    scale = least_len_mm / least_len\n",
    "    mesh = mesh.apply_scale(scale)\n",
    "\n",
    "    return mesh, scale"
   ]
  },
  {
   "cell_type": "code",
   "execution_count": 187,
   "metadata": {},
   "outputs": [],
   "source": [
    "shape_fabrication_extent = 10.0\n",
    "base_n_points_per_short_curve = 8\n",
    "base_resolution_3d = 0.125\n",
    "short_curve_quantile = 0.25\n",
    "\n",
    "mesh, mesh_scale = scale_mesh(mesh, features, shape_fabrication_extent, base_resolution_3d,\n",
    "                              short_curve_quantile=short_curve_quantile,\n",
    "                              n_points_per_short_curve=base_n_points_per_short_curve)\n",
    "\n",
    "mesh = mesh.apply_translation(-mesh.vertices.mean(axis=0))"
   ]
  },
  {
   "cell_type": "code",
   "execution_count": 194,
   "metadata": {},
   "outputs": [],
   "source": [
    "import igl"
   ]
  },
  {
   "cell_type": "code",
   "execution_count": 233,
   "metadata": {},
   "outputs": [],
   "source": [
    "point_mesh_distance, mesh_face_indexes, _ = igl.point_mesh_squared_distance(\n",
    "    points_i,\n",
    "    mesh.vertices,\n",
    "    mesh.faces)\n",
    "well_aligned_mask = np.sqrt(point_mesh_distance) < 0.02 / 10\n",
    "aligned_points = points_i[well_aligned_mask]\n",
    "mesh_face_indexes = mesh_face_indexes[well_aligned_mask]"
   ]
  },
  {
   "cell_type": "code",
   "execution_count": null,
   "metadata": {},
   "outputs": [],
   "source": [
    "imaging_5120 = RaycastingImaging(resolution_image=(5120, 5120), resolution_3d=0.002)\n",
    "image_5120, points_5120, normals_5120, mesh_face_indexes_5120 = \\\n",
    "    imaging_5120.get_image_from_pose(mesh, pose_i, return_hit_face_indexes=True)"
   ]
  },
  {
   "cell_type": "code",
   "execution_count": 270,
   "metadata": {},
   "outputs": [],
   "source": [
    "mesh_face_indexes = np.unique(mesh_face_indexes_5120)"
   ]
  },
  {
   "cell_type": "code",
   "execution_count": 290,
   "metadata": {},
   "outputs": [
    {
     "data": {
      "application/vnd.jupyter.widget-view+json": {
       "model_id": "a255c35b8a954fd4b7a7202e2bed3e2b",
       "version_major": 2,
       "version_minor": 0
      },
      "text/plain": [
       "Output()"
      ]
     },
     "metadata": {},
     "output_type": "display_data"
    },
    {
     "data": {
      "application/vnd.jupyter.widget-view+json": {
       "model_id": "a3cb58ec61874e2d935f62b9f31048d5",
       "version_major": 2,
       "version_minor": 0
      },
      "text/plain": [
       "Plot(antialias=3, axes=['x', 'y', 'z'], axes_helper=1.0, background_color=16777215, camera=[2, -3, 0.2, 0.0, 0…"
      ]
     },
     "metadata": {},
     "output_type": "display_data"
    }
   ],
   "source": [
    "# nbhood, mesh_vertex_indexes, mesh_face_indexes = \\\n",
    "#             feature_utils.submesh_from_hit_surfaces(mesh, features, mesh_face_indexes)\n",
    "mesh_vertex_indexes = np.unique(mesh.faces[mesh_face_indexes])\n",
    "nbhood = reindex_zerobased(mesh, mesh_vertex_indexes, mesh_face_indexes)\n",
    "\n",
    "# create annotations: condition the features onto the nbhood\n",
    "nbhood_features = feature_utils.compute_features_nbhood(\n",
    "    mesh, \n",
    "    features, \n",
    "    mesh_face_indexes, \n",
    "    mesh_vertex_indexes=mesh_vertex_indexes,\n",
    "    deduce_verts_from_faces=False)\n",
    "\n",
    "# remove vertices lying on the boundary (sharp edges found in 1 face only)\n",
    "nbhood_features = feature_utils.remove_boundary_features(\n",
    "    nbhood,\n",
    "    nbhood_features, \n",
    "    how='edges')\n",
    "\n",
    "for curve in nbhood_features['curves']:\n",
    "    curve['vert_indices'] = [v for v in curve['vert_indices'] if v not in [134, 135]]\n",
    "\n",
    "sharp_vert_indexes = np.concatenate(\n",
    "    [[v for v in c['vert_indices']]\n",
    "     for i, c in enumerate(nbhood_features['curves']) if c['sharp']]\n",
    ")\n",
    "sharp_vert = nbhood.vertices[sharp_vert_indexes]\n",
    "\n",
    "\n",
    "display_sharpness(\n",
    "    nbhood, plot_meshvert=False,\n",
    "    samples=None, samples_psize=0.01,\n",
    "    sharp_vert=sharp_vert, sharpvert_psize=0.1\n",
    ")\n"
   ]
  },
  {
   "cell_type": "code",
   "execution_count": null,
   "metadata": {},
   "outputs": [],
   "source": []
  },
  {
   "cell_type": "code",
   "execution_count": 205,
   "metadata": {},
   "outputs": [],
   "source": [
    "import os\n",
    "os.environ['OMP_NUM_THREADS'] = '38'"
   ]
  },
  {
   "cell_type": "code",
   "execution_count": 291,
   "metadata": {},
   "outputs": [],
   "source": [
    "distances, directions, has_sharp = annotator.annotate(\n",
    "    nbhood, nbhood_features, aligned_points)"
   ]
  },
  {
   "cell_type": "code",
   "execution_count": 292,
   "metadata": {},
   "outputs": [],
   "source": [
    "distances_image = imaging_i.points_to_image(\n",
    "    distances.reshape(-1, 1), \n",
    "    np.where(gt_images[-5].ravel() != 0)[0],\n",
    "    assign_channels=[0])\n"
   ]
  },
  {
   "cell_type": "code",
   "execution_count": 293,
   "metadata": {},
   "outputs": [
    {
     "data": {
      "image/png": "[encoded data removed]",
      "text/plain": [
       "<Figure size 576x576 with 1 Axes>"
      ]
     },
     "metadata": {
      "needs_background": "light"
     },
     "output_type": "display_data"
    }
   ],
   "source": [
    "display_depth_sharpness(\n",
    "#     depth_images=[depth_images_for_display[-5]],\n",
    "    sharpness_images=[camera_to_display(distances_image)[slices[-5]]],\n",
    "    ncols=1,\n",
    "    max_sharpness=1,\n",
    "#     sharpness_bg_value=10.0\n",
    ")"
   ]
  },
  {
   "cell_type": "code",
   "execution_count": null,
   "metadata": {},
   "outputs": [],
   "source": []
  },
  {
   "cell_type": "code",
   "execution_count": null,
   "metadata": {},
   "outputs": [],
   "source": []
  },
  {
   "cell_type": "code",
   "execution_count": null,
   "metadata": {},
   "outputs": [],
   "source": []
  },
  {
   "cell_type": "code",
   "execution_count": null,
   "metadata": {},
   "outputs": [],
   "source": [
    "# plt.ioff()\n",
    "\n",
    "# iterable = zip(depth_images_for_display, sharpness_images_for_display)\n",
    "# for i, (image, distances) in tqdm(enumerate(iterable), total=len(sharpness_images_for_display)):\n",
    "#     _ = display_depth_sharpness(\n",
    "# #         depth_images=[\n",
    "# #             camera_to_display(image)],\n",
    "# #         sharpness_images=[\n",
    "# #             camera_to_display(distances)],\n",
    "#         depth_images=[image],\n",
    "#         sharpness_images=[distances],\n",
    "#         ncols=1,\n",
    "#         max_sharpness=1.00)\n",
    "#     _ = plt.savefig('/logs/paper_extra/spherical_sphiral/video-predictions_nobg/{0:04d}.png'.format(i + 1))\n",
    "#     plt.close()"
   ]
  },
  {
   "cell_type": "code",
   "execution_count": null,
   "metadata": {},
   "outputs": [],
   "source": []
  },
  {
   "cell_type": "code",
   "execution_count": null,
   "metadata": {},
   "outputs": [],
   "source": []
  },
  {
   "cell_type": "code",
   "execution_count": null,
   "metadata": {},
   "outputs": [],
   "source": []
  },
  {
   "cell_type": "code",
   "execution_count": null,
   "metadata": {},
   "outputs": [],
   "source": [
    "def display_resolution(basedir, basename, resolution, index=2):\n",
    "    \n",
    "    gt_filename = os.path.join(basedir, '{}__{}.hdf5'.format(basename, resolution))\n",
    "    \n",
    "    print('Loading ground truth data...')\n",
    "    ground_truth_dataset = Hdf5File(\n",
    "        gt_filename,\n",
    "        io=sharpf_io.WholeDepthMapIO,\n",
    "        preload=PreloadTypes.LAZY,\n",
    "        labels='*')\n",
    "    gt_dataset = [view for view in ground_truth_dataset]\n",
    "    # depth images captured from a variety of views around the 3D shape\n",
    "    gt_images = [view['image'] for view in gt_dataset]\n",
    "    # ground-truth distances (multi-view consistent for the global 3D shape)\n",
    "    gt_distances = [view.get('distances', np.ones_like(view['image'])) for view in gt_dataset]\n",
    "\n",
    "    print('Loading predictions...')\n",
    "    subdirs = [\n",
    "        'def-image-arbitrary-regression-high-0.ckpt',\n",
    "        'def-image-arbitrary-regression-med-0.ckpt',\n",
    "        'def-image-arbitrary-regression-low-0.ckpt']\n",
    "    \n",
    "    pred_distances = [np.load(\n",
    "        os.path.join(\n",
    "            basedir, \n",
    "            '{}__{}'.format(basename, resolution),\n",
    "            subdir,\n",
    "            'predictions',\n",
    "            'test_{}.npy'.format(index)))\n",
    "        for subdir in subdirs]\n",
    "\n",
    "    \n",
    "    print('Preparing...')\n",
    "    depth_images = [\n",
    "        camera_to_display(gt_images[index]),\n",
    "        camera_to_display(gt_images[index]),\n",
    "        camera_to_display(gt_images[index]),\n",
    "        camera_to_display(gt_images[index])\n",
    "    ]\n",
    "    sharpness_images = [\n",
    "        camera_to_display(gt_distances[index]), \n",
    "        camera_to_display(pred_distances[0]),\n",
    "        camera_to_display(pred_distances[1]),\n",
    "        camera_to_display(pred_distances[2])\n",
    "    ]\n",
    "\n",
    "    depth_images_for_display, sharpness_images_for_display = \\\n",
    "        prepare_for_display(depth_images, sharpness_images)\n",
    "    \n",
    "    print('Plotting...')\n",
    "    display_depth_sharpness(\n",
    "        depth_images=depth_images_for_display[:1],\n",
    "        sharpness_images=None,\n",
    "        ncols=1,\n",
    "        max_sharpness=1,\n",
    "    #     sharpness_bg_value=10.0\n",
    "    )"
   ]
  },
  {
   "cell_type": "code",
   "execution_count": null,
   "metadata": {
    "scrolled": false
   },
   "outputs": [],
   "source": [
    "display_resolution(\n",
    "    '/logs/paper_extra/resolutions',\n",
    "    'abc_0051_64_65',\n",
    "    '0.15',\n",
    "    index=2\n",
    ")"
   ]
  },
  {
   "cell_type": "code",
   "execution_count": null,
   "metadata": {},
   "outputs": [],
   "source": []
  },
  {
   "cell_type": "code",
   "execution_count": 68,
   "metadata": {},
   "outputs": [],
   "source": [
    "from scipy.interpolate import fitpack\n",
    "from scipy.spatial import cKDTree\n",
    "from typing import List, Mapping\n",
    "\n",
    "\n",
    "def bisplrep_interpolate(xs, ys, vs, xt, yt):\n",
    "    x_min, x_max = np.amin(xs), np.amax(xs)\n",
    "    y_min, y_max = np.amin(ys), np.amax(ys)\n",
    "\n",
    "    out_of_bounds_x = (xt < x_min) | (xt > x_max)\n",
    "    out_of_bounds_y = (yt < y_min) | (yt > y_max)\n",
    "\n",
    "    any_out_of_bounds_x = np.any(out_of_bounds_x)\n",
    "    any_out_of_bounds_y = np.any(out_of_bounds_y)\n",
    "\n",
    "    if any_out_of_bounds_x or any_out_of_bounds_y:\n",
    "        raise ValueError(\"Values out of range; x must be in %r, y in %r\"\n",
    "                         % ((x_min, x_max),\n",
    "                            (y_min, y_max)))\n",
    "\n",
    "    tck = fitpack.bisplrep(\n",
    "        xs.squeeze(),\n",
    "        ys.squeeze(),\n",
    "        vs.squeeze(),\n",
    "        kx=1,\n",
    "        ky=1,\n",
    "        s=len(xs.squeeze()))\n",
    "    vt = fitpack.bisplev(xt, yt, tck)\n",
    "    return vt\n",
    "\n",
    "\n",
    "def interp2d_interpolate(xs, ys, vs, xt, yt):\n",
    "    interpolator = interpolate.interp2d(\n",
    "        xs.squeeze(),\n",
    "        ys.squeeze(),\n",
    "        vs.squeeze(),\n",
    "        kind='linear',\n",
    "        bounds_error=True)\n",
    "\n",
    "    vt = interpolator(xt, yt)[0]\n",
    "    return vt\n",
    "\n",
    "\n",
    "def do_interpolate(\n",
    "        i,\n",
    "        j,\n",
    "        view_i,\n",
    "        view_j,\n",
    "        point_indexes,\n",
    "        interp_params,\n",
    "):\n",
    "    distance_interpolation_threshold = interp_params['distance_interpolation_threshold']\n",
    "    nn_set_size = interp_params['nn_set_size']\n",
    "    verbose = interp_params['verbose']\n",
    "    interpolator_function = interp_params['interpolator_function']\n",
    "\n",
    "    image_i, distances_i, points_i, pose_i, imaging_i = view_i\n",
    "    _, distances_j, points_j, _, _ = view_j\n",
    "\n",
    "    start_idx, end_idx = (0, point_indexes[j]) if 0 == j \\\n",
    "        else (point_indexes[j - 1], point_indexes[j])\n",
    "    indexes_j = np.arange(start_idx, end_idx)\n",
    "\n",
    "    interp_fn = {\n",
    "        'bisplrep': bisplrep_interpolate,\n",
    "        'interp2d': interp2d_interpolate,\n",
    "    }[interpolator_function]\n",
    "\n",
    "    if i == j:\n",
    "        predictions_interp, indexes_interp, points_interp = \\\n",
    "            distances_i[image_i != 0.].ravel(), indexes_j, points_i\n",
    "\n",
    "    else:\n",
    "        # reproject points from one view j to view i, to be able to interpolate in view i\n",
    "        reprojected_j = pose_i.world_to_camera(points_j)\n",
    "\n",
    "        # extract pixel indexes in view i (for each reprojected points),\n",
    "        # these are source pixels to interpolate from\n",
    "        uv_i = imaging_i.rays_origins[:, :2]\n",
    "        _, nn_indexes_in_i = cKDTree(uv_i).query(reprojected_j[:, :2], k=nn_set_size)\n",
    "\n",
    "        # Create interpolation mask: True for points which\n",
    "        # can be stably interpolated (i.e. they have K neighbours present\n",
    "        # within a predefined radius).\n",
    "        interp_mask = np.zeros(len(reprojected_j)).astype(bool)\n",
    "        # Distances to be produces as output.\n",
    "        distances_j_interp = np.zeros(len(points_j), dtype=float)\n",
    "\n",
    "        for idx, point_from_j in tqdm(enumerate(reprojected_j), desc='Fusing {} -> {}'.format(i, j)):\n",
    "            point_nn_indexes = nn_indexes_in_i[idx]\n",
    "            # Build an [n, 3] array of XYZ coordinates for each reprojected point by taking\n",
    "            # UV values from pixel grid and Z value from depth image.\n",
    "            point_from_j_nns = np.hstack((\n",
    "                uv_i[point_nn_indexes],\n",
    "                np.atleast_2d(image_i.ravel()[point_nn_indexes]).T\n",
    "            ))\n",
    "\n",
    "            distances_to_nearest = np.linalg.norm(point_from_j - point_from_j_nns, axis=1)\n",
    "            interp_mask[idx] = np.all(distances_to_nearest < distance_interpolation_threshold)\n",
    "\n",
    "            if interp_mask[idx]:\n",
    "                # Actually perform interpolation\n",
    "                try:\n",
    "                    distances_j_interp[idx] = interp_fn(\n",
    "                        point_from_j_nns[:, 0],\n",
    "                        point_from_j_nns[:, 1],\n",
    "                        distances_i.ravel()[point_nn_indexes],\n",
    "                        point_from_j[0],\n",
    "                        point_from_j[1]\n",
    "                    )\n",
    "\n",
    "                except ValueError as e:\n",
    "                    if verbose:\n",
    "                        print('Error while interpolating point {idx}:'\n",
    "                              '{what}, skipping this point'.format(idx=idx, what=str(e)))\n",
    "                    interp_mask[idx] = False\n",
    "\n",
    "                except RuntimeWarning:\n",
    "                    break\n",
    "\n",
    "        points_interp = points_j[interp_mask]\n",
    "        indexes_interp = indexes_j[interp_mask]\n",
    "        predictions_interp = distances_j_interp[interp_mask]\n",
    "\n",
    "    return predictions_interp, indexes_interp, points_interp\n",
    "\n",
    "\n",
    "\n",
    "\n",
    "def multi_view_interpolate_predictions_by_single_view(\n",
    "        images: List[np.array],\n",
    "        distances: List[np.array],\n",
    "        extrinsics: List[np.array],\n",
    "        intrinsics_dict: List[Mapping],\n",
    "        **config,\n",
    "):\n",
    "    get_view_local = partial(get_view, images, distances, extrinsics, intrinsics_dict)\n",
    "\n",
    "    point_indexes = np.cumsum([\n",
    "        np.count_nonzero(image) for image in images])\n",
    "\n",
    "    n_jobs = config.get('n_jobs')\n",
    "    n_images = len(images)\n",
    "\n",
    "    for t in range(n_images):\n",
    "        start_idx, end_idx = (0, point_indexes[t]) if 0 == t else (point_indexes[t - 1], point_indexes[t])\n",
    "        indexes = slice(start_idx, end_idx)\n",
    "        \n",
    "        view_t = get_view_local(t)\n",
    "        data_iterable = (\n",
    "            (s, t, get_view_local(s), view_t, point_indexes, config)\n",
    "            for s in range(n_images))\n",
    "\n",
    "        os.environ['OMP_NUM_THREADS'] = str(n_jobs)\n",
    "        list_predictions, list_indexes_in_whole, list_points = [], [], []\n",
    "        for predictions_interp, indexes_interp, points_interp in multiproc_parallel(\n",
    "                do_interpolate,\n",
    "                data_iterable):\n",
    "            list_predictions.append(predictions_interp)\n",
    "            list_indexes_in_whole.append(indexes_interp)\n",
    "            print(indexes_interp.shape)\n",
    "            list_points.append(points_interp)\n",
    "\n",
    "        yield indexes, list_predictions, list_indexes_in_whole, list_points\n",
    "\n",
    "\n",
    "\n",
    "def get_view(\n",
    "        images: List[np.array],\n",
    "        distances: List[np.array],\n",
    "        extrinsics: List[np.array],\n",
    "        intrinsics_dict: List[Mapping],\n",
    "        i):\n",
    "    \"\"\"A helper function to conveniently prepare view information.\"\"\"\n",
    "    image_i = images[i]  # [h, w]\n",
    "    distances_image_i = distances[i]  # [h, w]\n",
    "    # Kill background for nicer visuals\n",
    "    distances_i = np.zeros_like(distances_image_i)\n",
    "    distances_i[np.nonzero(image_i)] = distances_image_i[np.nonzero(image_i)]\n",
    "\n",
    "    pose_i = CameraPose(extrinsics[i])\n",
    "    imaging_i = RaycastingImaging(**intrinsics_dict[i])\n",
    "    points_i = pose_i.camera_to_world(imaging_i.image_to_points(image_i))\n",
    "\n",
    "    return image_i, distances_i, points_i, pose_i, imaging_i\n",
    "\n",
    "\n",
    "from sharpf.utils.abc_utils.mesh.indexing import in2d\n",
    "\n",
    "def get_rays_indexes(\n",
    "    image, \n",
    "    imaging\n",
    "):\n",
    "    _, rays_indexes = cKDTree(imaging.rays_origins[:, :2], leafsize=1024).query(\n",
    "        image[:, :2], k=1, n_jobs=4, distance_upper_bound=1e-3)\n",
    "    return rays_indexes"
   ]
  },
  {
   "cell_type": "code",
   "execution_count": 16,
   "metadata": {},
   "outputs": [],
   "source": [
    "PointPatchPredictionsIO = io_struct.HDF5IO(\n",
    "        {'points': io_struct.Float64('points'),\n",
    "         'distances': io_struct.Float64('distances')},\n",
    "        len_label='distances',\n",
    "        compression='lzf')"
   ]
  },
  {
   "cell_type": "code",
   "execution_count": null,
   "metadata": {
    "scrolled": false
   },
   "outputs": [],
   "source": [
    "def save_full_model_predictions(points, predictions, filename):\n",
    "    \n",
    "    with h5py.File(filename, 'w') as f:\n",
    "        PointPatchPredictionsIO.write(f, 'points', [points])\n",
    "        PointPatchPredictionsIO.write(f, 'distances', [predictions])\n",
    "\n",
    "        \n",
    "        \n",
    "combiner = cc.TruncatedAvgPredictionsCombiner(func=cc.TruncatedMean(0.6, func=np.min))\n",
    "\n",
    "x = []\n",
    "\n",
    "for t, (indexes, list_predictions, list_indexes_in_whole, list_points) in enumerate(\n",
    "        multi_view_interpolate_predictions_by_single_view(\n",
    "        gt_images, pred_distances, gt_extrinsics, gt_intrinsics, **config)):\n",
    "    print('Obtained view synthesis results for view {}'.format(t))\n",
    "\n",
    "    print('Fusing predictions...')\n",
    "    fused_points_pred, fused_distances_pred, prediction_variants = \\\n",
    "        combiner(n_points, list_predictions, list_indexes_in_whole, list_points)\n",
    "\n",
    "    pred_output_filename = os.path.join(\n",
    "        '/logs/paper_extra/spherical_sphiral/4_views/',\n",
    "        '{0}__{1}__view_{2:04d}.hdf5'.format('abc_0051_64_65', combiner.tag, t))\n",
    "    print('Saving preds to {}'.format(pred_output_filename))\n",
    "    save_full_model_predictions(\n",
    "        fused_points_pred[indexes],\n",
    "        fused_distances_pred[indexes],\n",
    "        pred_output_filename)\n",
    "    x.append((indexes, fused_points_pred, fused_distances_pred))\n"
   ]
  },
  {
   "cell_type": "code",
   "execution_count": null,
   "metadata": {},
   "outputs": [],
   "source": [
    "indexes, fused_points_pred, fused_distances_pred = x[0]\n",
    "\n",
    "_ = display_sharpness(\n",
    "    samples=fused_points_pred[indexes],\n",
    "    samples_distances=fused_distances_pred[indexes], \n",
    "    samples_psize=0.02)\n"
   ]
  },
  {
   "cell_type": "code",
   "execution_count": null,
   "metadata": {},
   "outputs": [],
   "source": [
    "display_depth_sharpness(\n",
    "#     depth_images=depth_images_for_display[204:205],\n",
    "    sharpness_images=sharpness_images_for_display,\n",
    "    ncols=4,\n",
    "    max_sharpness=1,\n",
    "#     sharpness_bg_value=10.0\n",
    ")"
   ]
  },
  {
   "cell_type": "code",
   "execution_count": null,
   "metadata": {},
   "outputs": [],
   "source": [
    "view_index = 1\n",
    "\n",
    "pose = CameraPose(gt_extrinsics[view_index])\n",
    "imaging = RaycastingImaging(**gt_intrinsics[view_index])\n",
    "\n",
    "rays_indexes = get_rays_indexes(\n",
    "    pose.world_to_camera(fused_points_pred[indexes]),\n",
    "    imaging)\n",
    "\n",
    "image = imaging.points_to_image(\n",
    "    pose.world_to_camera(fused_points_pred[indexes]), \n",
    "    rays_indexes)\n",
    "\n",
    "distances = imaging.points_to_image(\n",
    "    fused_distances_pred[indexes].reshape(-1, 1), \n",
    "    rays_indexes, \n",
    "    assign_channels=[0])"
   ]
  },
  {
   "cell_type": "code",
   "execution_count": null,
   "metadata": {},
   "outputs": [],
   "source": [
    "display_depth_sharpness(\n",
    "    depth_images=[camera_to_display(image)],\n",
    "    sharpness_images=[camera_to_display(distances)],\n",
    "    ncols=1,\n",
    "    max_sharpness=1,\n",
    "#     sharpness_bg_value=10.0\n",
    ")"
   ]
  },
  {
   "cell_type": "code",
   "execution_count": null,
   "metadata": {},
   "outputs": [],
   "source": []
  },
  {
   "cell_type": "code",
   "execution_count": 93,
   "metadata": {},
   "outputs": [],
   "source": [
    "def get_image_viewwise_interpolation(\n",
    "    view_filename,\n",
    "    gt_filename,\n",
    "    view_index=0,\n",
    "):  \n",
    "    PointPatchPredictionsIO = io_struct.HDF5IO(\n",
    "        {'points': io_struct.Float64('points'),\n",
    "         'distances': io_struct.Float64('distances')},\n",
    "        len_label='distances',\n",
    "        compression='lzf')\n",
    "\n",
    "    pred_distance_scale_ratio = 1.0\n",
    "\n",
    "    print(view_filename)\n",
    "    d = Hdf5File(\n",
    "        view_filename,\n",
    "        io=PointPatchPredictionsIO,\n",
    "        preload=PreloadTypes.LAZY,\n",
    "        labels='*')\n",
    "    pred_distances = [view['distances'] * pred_distance_scale_ratio for view in d]\n",
    "    pred_points = [view['points'] for view in d]\n",
    "\n",
    "    print(gt_filename)\n",
    "    d = Hdf5File(\n",
    "        gt_filename,\n",
    "        io=sharpf_io.WholeDepthMapIO,\n",
    "        preload=PreloadTypes.LAZY,\n",
    "        labels='*')\n",
    "    gt_extrinsics = [view['camera_pose'] for view in d]\n",
    "    gt_intrinsics = [dict(\n",
    "        resolution_image=(512, 512), \n",
    "        resolution_3d=resolution_3d, \n",
    "        projection=None, \n",
    "        validate_image=None) for view in d]\n",
    "    \n",
    "    pose = CameraPose(gt_extrinsics[view_index])\n",
    "    imaging = RaycastingImaging(**gt_intrinsics[view_index])\n",
    "    \n",
    "    rays_indexes = get_rays_indexes(\n",
    "        pose.world_to_camera(pred_points[0]),\n",
    "        imaging)\n",
    "    print(rays_indexes)\n",
    "    \n",
    "    image = imaging.points_to_image(\n",
    "        pose.world_to_camera(pred_points[0]), \n",
    "        rays_indexes)\n",
    "    \n",
    "    distances = imaging.points_to_image(\n",
    "        pred_distances[0].reshape(-1, 1), \n",
    "        rays_indexes, \n",
    "        assign_channels=[0])\n",
    "    \n",
    "    return image, distances, pred_points[0], pred_distances[0], pose, imaging"
   ]
  },
  {
   "cell_type": "code",
   "execution_count": 150,
   "metadata": {},
   "outputs": [
    {
     "name": "stdout",
     "output_type": "stream",
     "text": [
      "/logs/paper_extra/spherical_sphiral/whole_annotation/256_views/abc_0051_64_65__adv60__view_0007.hdf5\n",
      "/logs/paper_extra/spherical_sphiral/whole_annotation/256_views/abc_0051_64_65__whole_annotation.hdf5\n",
      "[ 56058  56059  56060 ... 213765 213766 213767]\n"
     ]
    },
    {
     "data": {
      "image/png": "[encoded data removed]",
      "text/plain": [
       "<Figure size 1152x576 with 2 Axes>"
      ]
     },
     "metadata": {
      "needs_background": "light"
     },
     "output_type": "display_data"
    }
   ],
   "source": [
    "view_index = 7\n",
    "\n",
    "view_filename = '/logs/paper_extra/spherical_sphiral/whole_annotation/256_views/abc_0051_64_65__adv60__view_{0:04d}.hdf5'.format(view_index)\n",
    "gt_filename = '/logs/paper_extra/spherical_sphiral/whole_annotation/256_views/abc_0051_64_65__whole_annotation.hdf5'\n",
    "\n",
    "image, distances, points, points_distances, pose, imaging = get_image_viewwise_interpolation(\n",
    "    view_filename, \n",
    "    gt_filename,\n",
    "    view_index=view_index)\n",
    "\n",
    "display_depth_sharpness(\n",
    "    depth_images=[camera_to_display(image)],\n",
    "    sharpness_images=[camera_to_display(distances)],\n",
    "    ncols=1,\n",
    "    max_sharpness=1,\n",
    "#     sharpness_bg_value=10.0\n",
    ")"
   ]
  },
  {
   "cell_type": "code",
   "execution_count": 151,
   "metadata": {},
   "outputs": [
    {
     "name": "stdout",
     "output_type": "stream",
     "text": [
      "/logs/paper_extra/spherical_sphiral/whole_annotation/256_views/abc_0051_64_65__whole_annotation__adv60__view_0007.hdf5\n"
     ]
    },
    {
     "ename": "OSError",
     "evalue": "Unable to open file (unable to open file: name = '/logs/paper_extra/spherical_sphiral/whole_annotation/256_views/abc_0051_64_65__whole_annotation__adv60__view_0007.hdf5', errno = 2, error message = 'No such file or directory', flags = 0, o_flags = 0)",
     "output_type": "error",
     "traceback": [
      "\u001b[0;31m---------------------------------------------------------------------------\u001b[0m",
      "\u001b[0;31mOSError\u001b[0m                                   Traceback (most recent call last)",
      "\u001b[0;32m<ipython-input-151-3790c3f15d04>\u001b[0m in \u001b[0;36m<module>\u001b[0;34m\u001b[0m\n\u001b[1;32m      7\u001b[0m     \u001b[0mview_filename\u001b[0m\u001b[0;34m,\u001b[0m\u001b[0;34m\u001b[0m\u001b[0m\n\u001b[1;32m      8\u001b[0m     \u001b[0mgt_filename\u001b[0m\u001b[0;34m,\u001b[0m\u001b[0;34m\u001b[0m\u001b[0m\n\u001b[0;32m----> 9\u001b[0;31m     view_index=view_index)\n\u001b[0m\u001b[1;32m     10\u001b[0m \u001b[0;34m\u001b[0m\u001b[0m\n\u001b[1;32m     11\u001b[0m display_depth_sharpness(\n",
      "\u001b[0;32m<ipython-input-93-5b0879ca3e40>\u001b[0m in \u001b[0;36mget_image_viewwise_interpolation\u001b[0;34m(view_filename, gt_filename, view_index)\u001b[0m\n\u001b[1;32m     17\u001b[0m         \u001b[0mio\u001b[0m\u001b[0;34m=\u001b[0m\u001b[0mPointPatchPredictionsIO\u001b[0m\u001b[0;34m,\u001b[0m\u001b[0;34m\u001b[0m\u001b[0m\n\u001b[1;32m     18\u001b[0m         \u001b[0mpreload\u001b[0m\u001b[0;34m=\u001b[0m\u001b[0mPreloadTypes\u001b[0m\u001b[0;34m.\u001b[0m\u001b[0mLAZY\u001b[0m\u001b[0;34m,\u001b[0m\u001b[0;34m\u001b[0m\u001b[0m\n\u001b[0;32m---> 19\u001b[0;31m         labels='*')\n\u001b[0m\u001b[1;32m     20\u001b[0m     \u001b[0mpred_distances\u001b[0m \u001b[0;34m=\u001b[0m \u001b[0;34m[\u001b[0m\u001b[0mview\u001b[0m\u001b[0;34m[\u001b[0m\u001b[0;34m'distances'\u001b[0m\u001b[0;34m]\u001b[0m \u001b[0;34m*\u001b[0m \u001b[0mpred_distance_scale_ratio\u001b[0m \u001b[0;32mfor\u001b[0m \u001b[0mview\u001b[0m \u001b[0;32min\u001b[0m \u001b[0md\u001b[0m\u001b[0;34m]\u001b[0m\u001b[0;34m\u001b[0m\u001b[0m\n\u001b[1;32m     21\u001b[0m     \u001b[0mpred_points\u001b[0m \u001b[0;34m=\u001b[0m \u001b[0;34m[\u001b[0m\u001b[0mview\u001b[0m\u001b[0;34m[\u001b[0m\u001b[0;34m'points'\u001b[0m\u001b[0;34m]\u001b[0m \u001b[0;32mfor\u001b[0m \u001b[0mview\u001b[0m \u001b[0;32min\u001b[0m \u001b[0md\u001b[0m\u001b[0;34m]\u001b[0m\u001b[0;34m\u001b[0m\u001b[0m\n",
      "\u001b[0;32m/code/sharpf/utils/abc_utils/hdf5/dataset.py\u001b[0m in \u001b[0;36m__init__\u001b[0;34m(self, filename, io, data_label, target_label, labels, preload, transform)\u001b[0m\n\u001b[1;32m     46\u001b[0m         \u001b[0mself\u001b[0m\u001b[0;34m.\u001b[0m\u001b[0mpreload\u001b[0m \u001b[0;34m=\u001b[0m \u001b[0mpreload\u001b[0m\u001b[0;34m\u001b[0m\u001b[0m\n\u001b[1;32m     47\u001b[0m \u001b[0;34m\u001b[0m\u001b[0m\n\u001b[0;32m---> 48\u001b[0;31m         \u001b[0;32mwith\u001b[0m \u001b[0mh5py\u001b[0m\u001b[0;34m.\u001b[0m\u001b[0mFile\u001b[0m\u001b[0;34m(\u001b[0m\u001b[0mself\u001b[0m\u001b[0;34m.\u001b[0m\u001b[0mfilename\u001b[0m\u001b[0;34m,\u001b[0m \u001b[0;34m'r'\u001b[0m\u001b[0;34m)\u001b[0m \u001b[0;32mas\u001b[0m \u001b[0mf\u001b[0m\u001b[0;34m:\u001b[0m\u001b[0;34m\u001b[0m\u001b[0m\n\u001b[0m\u001b[1;32m     49\u001b[0m             \u001b[0mself\u001b[0m\u001b[0;34m.\u001b[0m\u001b[0mnum_items\u001b[0m \u001b[0;34m=\u001b[0m \u001b[0mself\u001b[0m\u001b[0;34m.\u001b[0m\u001b[0m_get_length\u001b[0m\u001b[0;34m(\u001b[0m\u001b[0mf\u001b[0m\u001b[0;34m)\u001b[0m\u001b[0;34m\u001b[0m\u001b[0m\n\u001b[1;32m     50\u001b[0m             \u001b[0;32mif\u001b[0m \u001b[0mlabels\u001b[0m \u001b[0;34m==\u001b[0m \u001b[0;34m'*'\u001b[0m\u001b[0;34m:\u001b[0m\u001b[0;34m\u001b[0m\u001b[0m\n",
      "\u001b[0;32m~/miniconda/envs/py36/lib/python3.6/site-packages/h5py/_hl/files.py\u001b[0m in \u001b[0;36m__init__\u001b[0;34m(self, name, mode, driver, libver, userblock_size, swmr, rdcc_nslots, rdcc_nbytes, rdcc_w0, track_order, **kwds)\u001b[0m\n\u001b[1;32m    406\u001b[0m                 fid = make_fid(name, mode, userblock_size,\n\u001b[1;32m    407\u001b[0m                                \u001b[0mfapl\u001b[0m\u001b[0;34m,\u001b[0m \u001b[0mfcpl\u001b[0m\u001b[0;34m=\u001b[0m\u001b[0mmake_fcpl\u001b[0m\u001b[0;34m(\u001b[0m\u001b[0mtrack_order\u001b[0m\u001b[0;34m=\u001b[0m\u001b[0mtrack_order\u001b[0m\u001b[0;34m)\u001b[0m\u001b[0;34m,\u001b[0m\u001b[0;34m\u001b[0m\u001b[0m\n\u001b[0;32m--> 408\u001b[0;31m                                swmr=swmr)\n\u001b[0m\u001b[1;32m    409\u001b[0m \u001b[0;34m\u001b[0m\u001b[0m\n\u001b[1;32m    410\u001b[0m             \u001b[0;32mif\u001b[0m \u001b[0misinstance\u001b[0m\u001b[0;34m(\u001b[0m\u001b[0mlibver\u001b[0m\u001b[0;34m,\u001b[0m \u001b[0mtuple\u001b[0m\u001b[0;34m)\u001b[0m\u001b[0;34m:\u001b[0m\u001b[0;34m\u001b[0m\u001b[0m\n",
      "\u001b[0;32m~/miniconda/envs/py36/lib/python3.6/site-packages/h5py/_hl/files.py\u001b[0m in \u001b[0;36mmake_fid\u001b[0;34m(name, mode, userblock_size, fapl, fcpl, swmr)\u001b[0m\n\u001b[1;32m    171\u001b[0m         \u001b[0;32mif\u001b[0m \u001b[0mswmr\u001b[0m \u001b[0;32mand\u001b[0m \u001b[0mswmr_support\u001b[0m\u001b[0;34m:\u001b[0m\u001b[0;34m\u001b[0m\u001b[0m\n\u001b[1;32m    172\u001b[0m             \u001b[0mflags\u001b[0m \u001b[0;34m|=\u001b[0m \u001b[0mh5f\u001b[0m\u001b[0;34m.\u001b[0m\u001b[0mACC_SWMR_READ\u001b[0m\u001b[0;34m\u001b[0m\u001b[0m\n\u001b[0;32m--> 173\u001b[0;31m         \u001b[0mfid\u001b[0m \u001b[0;34m=\u001b[0m \u001b[0mh5f\u001b[0m\u001b[0;34m.\u001b[0m\u001b[0mopen\u001b[0m\u001b[0;34m(\u001b[0m\u001b[0mname\u001b[0m\u001b[0;34m,\u001b[0m \u001b[0mflags\u001b[0m\u001b[0;34m,\u001b[0m \u001b[0mfapl\u001b[0m\u001b[0;34m=\u001b[0m\u001b[0mfapl\u001b[0m\u001b[0;34m)\u001b[0m\u001b[0;34m\u001b[0m\u001b[0m\n\u001b[0m\u001b[1;32m    174\u001b[0m     \u001b[0;32melif\u001b[0m \u001b[0mmode\u001b[0m \u001b[0;34m==\u001b[0m \u001b[0;34m'r+'\u001b[0m\u001b[0;34m:\u001b[0m\u001b[0;34m\u001b[0m\u001b[0m\n\u001b[1;32m    175\u001b[0m         \u001b[0mfid\u001b[0m \u001b[0;34m=\u001b[0m \u001b[0mh5f\u001b[0m\u001b[0;34m.\u001b[0m\u001b[0mopen\u001b[0m\u001b[0;34m(\u001b[0m\u001b[0mname\u001b[0m\u001b[0;34m,\u001b[0m \u001b[0mh5f\u001b[0m\u001b[0;34m.\u001b[0m\u001b[0mACC_RDWR\u001b[0m\u001b[0;34m,\u001b[0m \u001b[0mfapl\u001b[0m\u001b[0;34m=\u001b[0m\u001b[0mfapl\u001b[0m\u001b[0;34m)\u001b[0m\u001b[0;34m\u001b[0m\u001b[0m\n",
      "\u001b[0;32mh5py/_objects.pyx\u001b[0m in \u001b[0;36mh5py._objects.with_phil.wrapper\u001b[0;34m()\u001b[0m\n",
      "\u001b[0;32mh5py/_objects.pyx\u001b[0m in \u001b[0;36mh5py._objects.with_phil.wrapper\u001b[0;34m()\u001b[0m\n",
      "\u001b[0;32mh5py/h5f.pyx\u001b[0m in \u001b[0;36mh5py.h5f.open\u001b[0;34m()\u001b[0m\n",
      "\u001b[0;31mOSError\u001b[0m: Unable to open file (unable to open file: name = '/logs/paper_extra/spherical_sphiral/whole_annotation/256_views/abc_0051_64_65__whole_annotation__adv60__view_0007.hdf5', errno = 2, error message = 'No such file or directory', flags = 0, o_flags = 0)"
     ]
    }
   ],
   "source": [
    "view_index = 7\n",
    "\n",
    "view_filename = '/logs/paper_extra/spherical_sphiral/whole_annotation/256_views/abc_0051_64_65__whole_annotation__adv60__view_{0:04d}.hdf5'.format(view_index)\n",
    "gt_filename = '/logs/paper_extra/spherical_sphiral/whole_annotation/256_views/abc_0051_64_65__whole_annotation.hdf5'\n",
    "\n",
    "image, distances, points, points_distances, pose, imaging = get_image_viewwise_interpolation(\n",
    "    view_filename, \n",
    "    gt_filename,\n",
    "    view_index=view_index)\n",
    "\n",
    "display_depth_sharpness(\n",
    "    depth_images=[camera_to_display(image)],\n",
    "    sharpness_images=[camera_to_display(distances)],\n",
    "    ncols=1,\n",
    "    max_sharpness=1,\n",
    "#     sharpness_bg_value=10.0\n",
    ")"
   ]
  },
  {
   "cell_type": "code",
   "execution_count": 199,
   "metadata": {
    "scrolled": false
   },
   "outputs": [],
   "source": [
    "# d = Hdf5File(\n",
    "#     '/logs/paper_extra/spherical_sphiral/whole_annotation/256_views/abc_0051_64_65__adv60.hdf5',\n",
    "#     io=PointPatchPredictionsIO,\n",
    "#     preload=PreloadTypes.LAZY,\n",
    "#     labels=['points', 'distances'])\n",
    "# pred_distances = [view['distances'] * pred_distance_scale_ratio for view in d]\n",
    "# pred_points = [view['points'] for view in d]\n",
    "\n",
    "# d = Hdf5File(\n",
    "#     '/logs/paper_extra/spherical_sphiral/whole_annotation/256_views/abc_0051_64_65__whole_annotation__ground_truth.hdf5',\n",
    "#     io=PointPatchPredictionsIO,\n",
    "#     preload=PreloadTypes.LAZY,\n",
    "#     labels=['points', 'distances'])\n",
    "# gt_distances = [view['distances'] * pred_distance_scale_ratio for view in d]\n",
    "\n",
    "# _ = display_sharpness(\n",
    "#     samples=pred_points[0],\n",
    "#     samples_distances=np.abs(pred_distances[0] - gt_distances[0]), \n",
    "#     samples_psize=0.02,\n",
    "#     cmap=k3d.colormaps.matplotlib_color_maps.coolwarm)"
   ]
  },
  {
   "cell_type": "code",
   "execution_count": 19,
   "metadata": {},
   "outputs": [
    {
     "data": {
      "application/vnd.jupyter.widget-view+json": {
       "model_id": "8867c02fa98e49c7b005b64f6e204b9f",
       "version_major": 2,
       "version_minor": 0
      },
      "text/plain": [
       "Output()"
      ]
     },
     "metadata": {},
     "output_type": "display_data"
    }
   ],
   "source": [
    "d = Hdf5File(\n",
    "    '/logs/paper_extra/spherical_sphiral/whole_annotation/128_views/abc_0051_64_65__adv60.hdf5',\n",
    "    io=PointPatchPredictionsIO,\n",
    "    preload=PreloadTypes.LAZY,\n",
    "    labels=['points', 'distances'])\n",
    "pred_distances = [view['distances'] * pred_distance_scale_ratio for view in d]\n",
    "pred_points = [view['points'] for view in d]\n",
    "\n",
    "# d = Hdf5File(\n",
    "#     '/logs/paper_extra/spherical_sphiral/whole_annotation/256_views/abc_0051_64_65__whole_annotation__ground_truth.hdf5',\n",
    "#     io=PointPatchPredictionsIO,\n",
    "#     preload=PreloadTypes.LAZY,\n",
    "#     labels=['points', 'distances'])\n",
    "# gt_distances = [view['distances'] * pred_distance_scale_ratio for view in d]\n",
    "\n",
    "_ = display_sharpness(\n",
    "    samples=pred_points[0],\n",
    "    samples_distances=pred_distances[0], \n",
    "    samples_psize=0.02,\n",
    "    cmap=k3d.colormaps.matplotlib_color_maps.coolwarm_r)"
   ]
  },
  {
   "cell_type": "code",
   "execution_count": 20,
   "metadata": {},
   "outputs": [],
   "source": [
    "import matplotlib as mpl\n",
    "import matplotlib.pyplot as plt\n",
    "from matplotlib import cm\n",
    "\n",
    "\n",
    "class MplColorHelper:\n",
    "\n",
    "    def __init__(self, cmap_name, start_val, stop_val):\n",
    "        self.cmap_name = cmap_name\n",
    "        self.cmap = plt.get_cmap(cmap_name)\n",
    "        self.norm = mpl.colors.Normalize(vmin=start_val, vmax=stop_val)\n",
    "        self.scalarMap = cm.ScalarMappable(norm=self.norm, cmap=self.cmap)\n",
    "\n",
    "    def get_rgb(self, val):\n",
    "        return self.scalarMap.to_rgba(val)\n",
    "\n",
    "\n",
    "    \n",
    "def export_points_to_npy(\n",
    "    filename, \n",
    "    points, \n",
    "    distances=None, \n",
    "    pose=None, \n",
    "    radius=0.02,\n",
    "    max_distance=1.0\n",
    "):\n",
    "    \n",
    "    tol = 1e-3\n",
    "    if distances is None:\n",
    "        if pose is not None:\n",
    "            distances = np.linalg.norm(pose.frame_origin - points, axis=1)        \n",
    "            helper = MplColorHelper(\n",
    "                'viridis',\n",
    "                np.min(distances) - tol,\n",
    "                np.max(distances) + tol)\n",
    "        else:\n",
    "            raise ValueError()\n",
    "    else:\n",
    "        helper = MplColorHelper(\n",
    "            'plasma_r',\n",
    "            -tol,\n",
    "            max_distance + tol)\n",
    "\n",
    "    iterable = zip(points, distances)\n",
    "    colors_rgb = []\n",
    "    for point, distance in tqdm(iterable):\n",
    "        rgba = helper.get_rgb(distance)\n",
    "        colors_rgb.append(rgba[:3])\n",
    "        \n",
    "#         point_mesh = trimesh.creation.icosphere(\n",
    "#             subdivisions=1,\n",
    "#             radius=radius,\n",
    "#             color=rgba[:3])\n",
    "#         point_mesh.vertices += point\n",
    "#         full_mesh.append(point_mesh)\n",
    "#     full_mesh = trimesh.util.concatenate(full_mesh)\n",
    "#     _ = trimesh.exchange.export.export_mesh(\n",
    "#         full_meshes,\n",
    "#         'filename',\n",
    "#         'obj')\n",
    "\n",
    "    np.save(filename, np.hstack((points, colors_rgb)))\n",
    "    print('saved {}'.format(filename))\n",
    "    \n",
    "    \n",
    "    \n",
    "def export_points_to_ply(\n",
    "    output_filename,\n",
    "    points,\n",
    "    distances=None, \n",
    "    pose=None, \n",
    "    radius=0.02,\n",
    "    max_distance=1.0\n",
    "):\n",
    "    \n",
    "    tol = 1e-3\n",
    "    if distances is None:\n",
    "        if pose is not None:\n",
    "            distances = np.linalg.norm(pose.frame_origin - points, axis=1)        \n",
    "            helper = MplColorHelper(\n",
    "                'viridis',\n",
    "                np.min(distances) - tol,\n",
    "                np.max(distances) + tol)\n",
    "        else:\n",
    "            raise ValueError()\n",
    "    else:\n",
    "        helper = MplColorHelper(\n",
    "            'plasma_r',\n",
    "            -tol,\n",
    "            max_distance + tol)\n",
    "    \n",
    "    iterable = zip(points, distances)\n",
    "    iterable = tqdm(iterable)\n",
    "\n",
    "    full_mesh = []\n",
    "    for point, distance in iterable:\n",
    "        rgba = helper.get_rgb(distance)\n",
    "        mesh = trimesh.creation.icosphere(\n",
    "            subdivisions=1,\n",
    "            radius=radius,\n",
    "            color=rgba[:3])\n",
    "        mesh.vertices += point\n",
    "        full_mesh.append(mesh)\n",
    "\n",
    "    mesh = trimesh.util.concatenate(full_mesh)\n",
    "    _ = trimesh.exchange.export.export_mesh(\n",
    "        mesh,\n",
    "        output_filename,\n",
    "        'obj')\n",
    "\n",
    "    \n",
    "def get_edges(mesh, features):\n",
    "    curve_segments = []\n",
    "    for curve_id, curve in enumerate(features['curves']):\n",
    "        if curve['sharp']:\n",
    "            # (n, 2) mask of boolean variables where each variable stores\n",
    "            # True if the corresponding vertex idx is in curve\n",
    "            is_edgevert_in_curve = np.isin(mesh.edges_unique, curve['vert_indices'])\n",
    "            is_edge_in_curve = np.all(is_edgevert_in_curve, axis=1)\n",
    "            edge_in_curve_indexes = np.where(is_edge_in_curve)[0]\n",
    "            curve_edges = mesh.edges_unique[edge_in_curve_indexes]  # n_curve, 2\n",
    "            curve_segment_xyz = mesh.vertices[curve_edges]  # n_curve, 2, 3\n",
    "            curve_segments.append((curve_id, curve['type'], np.ravel(curve_segment_xyz)))\n",
    "\n",
    "    return curve_segments\n",
    "\n",
    "\n",
    "def export_features_to_obj(output_filename, curve_segments):\n",
    "    with open(output_filename, 'w') as fobj:\n",
    "        vertices = ''\n",
    "        indices = ''\n",
    "        max_vi = 1\n",
    "        for curve_id, curve_type, xyz_xyz in curve_segments:\n",
    "            xyz_xyz = xyz_xyz.reshape((-1, 2, 3))\n",
    "            for v1, v2 in xyz_xyz:\n",
    "                vertices += 'v {v1}\\nv {v2}\\n'.format(\n",
    "                    v1=' '.join([str(coord) for coord in v1]),\n",
    "                    v2=' '.join([str(coord) for coord in v2])\n",
    "                )\n",
    "            for edge_idx, edge in enumerate(xyz_xyz):\n",
    "                indices += 'l {i1} {i2}\\n'.format(\n",
    "                    i1=str(max_vi + edge_idx * 2),\n",
    "                    i2=str(max_vi + edge_idx * 2 + 1),\n",
    "                )\n",
    "            max_vi += 2 * len(xyz_xyz)\n",
    "        fobj.write(vertices + '\\n' + indices)"
   ]
  },
  {
   "cell_type": "code",
   "execution_count": 21,
   "metadata": {},
   "outputs": [
    {
     "data": {
      "application/vnd.jupyter.widget-view+json": {
       "model_id": "335769a1019e45b0b0fee99290655b23",
       "version_major": 2,
       "version_minor": 0
      },
      "text/plain": [
       "HBox(children=(HTML(value=''), FloatProgress(value=1.0, bar_style='info', layout=Layout(width='20px'), max=1.0…"
      ]
     },
     "metadata": {},
     "output_type": "display_data"
    },
    {
     "name": "stdout",
     "output_type": "stream",
     "text": [
      "\n",
      "saved /logs/paper_extra/spherical_sphiral/whole_annotation/fusion__0002_views.npy\n",
      "/logs/paper_extra/spherical_sphiral/whole_annotation/fusion__0002_views.npy\n"
     ]
    },
    {
     "data": {
      "application/vnd.jupyter.widget-view+json": {
       "model_id": "d7e1168febd04b528800a05dc641f280",
       "version_major": 2,
       "version_minor": 0
      },
      "text/plain": [
       "HBox(children=(HTML(value=''), FloatProgress(value=1.0, bar_style='info', layout=Layout(width='20px'), max=1.0…"
      ]
     },
     "metadata": {},
     "output_type": "display_data"
    },
    {
     "name": "stdout",
     "output_type": "stream",
     "text": [
      "\n",
      "saved /logs/paper_extra/spherical_sphiral/whole_annotation/fusion__0004_views.npy\n",
      "/logs/paper_extra/spherical_sphiral/whole_annotation/fusion__0004_views.npy\n"
     ]
    },
    {
     "data": {
      "application/vnd.jupyter.widget-view+json": {
       "model_id": "ad5d87a611b34699ad1c7248bb9a6b4e",
       "version_major": 2,
       "version_minor": 0
      },
      "text/plain": [
       "HBox(children=(HTML(value=''), FloatProgress(value=1.0, bar_style='info', layout=Layout(width='20px'), max=1.0…"
      ]
     },
     "metadata": {},
     "output_type": "display_data"
    },
    {
     "name": "stdout",
     "output_type": "stream",
     "text": [
      "\n",
      "saved /logs/paper_extra/spherical_sphiral/whole_annotation/fusion__0008_views.npy\n",
      "/logs/paper_extra/spherical_sphiral/whole_annotation/fusion__0008_views.npy\n"
     ]
    },
    {
     "data": {
      "application/vnd.jupyter.widget-view+json": {
       "model_id": "c02d61c052d64e0eb78bbc5b4ed51c75",
       "version_major": 2,
       "version_minor": 0
      },
      "text/plain": [
       "HBox(children=(HTML(value=''), FloatProgress(value=1.0, bar_style='info', layout=Layout(width='20px'), max=1.0…"
      ]
     },
     "metadata": {},
     "output_type": "display_data"
    },
    {
     "name": "stdout",
     "output_type": "stream",
     "text": [
      "\n",
      "saved /logs/paper_extra/spherical_sphiral/whole_annotation/fusion__0016_views.npy\n",
      "/logs/paper_extra/spherical_sphiral/whole_annotation/fusion__0016_views.npy\n"
     ]
    },
    {
     "data": {
      "application/vnd.jupyter.widget-view+json": {
       "model_id": "2023062cacd1482ba209fafb87c172c5",
       "version_major": 2,
       "version_minor": 0
      },
      "text/plain": [
       "HBox(children=(HTML(value=''), FloatProgress(value=1.0, bar_style='info', layout=Layout(width='20px'), max=1.0…"
      ]
     },
     "metadata": {},
     "output_type": "display_data"
    },
    {
     "name": "stdout",
     "output_type": "stream",
     "text": [
      "\n",
      "saved /logs/paper_extra/spherical_sphiral/whole_annotation/fusion__0032_views.npy\n",
      "/logs/paper_extra/spherical_sphiral/whole_annotation/fusion__0032_views.npy\n"
     ]
    },
    {
     "data": {
      "application/vnd.jupyter.widget-view+json": {
       "model_id": "edfa71e3e2814408b121b36764e9e736",
       "version_major": 2,
       "version_minor": 0
      },
      "text/plain": [
       "HBox(children=(HTML(value=''), FloatProgress(value=1.0, bar_style='info', layout=Layout(width='20px'), max=1.0…"
      ]
     },
     "metadata": {},
     "output_type": "display_data"
    },
    {
     "name": "stdout",
     "output_type": "stream",
     "text": [
      "\n",
      "saved /logs/paper_extra/spherical_sphiral/whole_annotation/fusion__0064_views.npy\n",
      "/logs/paper_extra/spherical_sphiral/whole_annotation/fusion__0064_views.npy\n"
     ]
    },
    {
     "data": {
      "application/vnd.jupyter.widget-view+json": {
       "model_id": "dfeefd0e1cd14429ad74ba6639557c5d",
       "version_major": 2,
       "version_minor": 0
      },
      "text/plain": [
       "HBox(children=(HTML(value=''), FloatProgress(value=1.0, bar_style='info', layout=Layout(width='20px'), max=1.0…"
      ]
     },
     "metadata": {},
     "output_type": "display_data"
    },
    {
     "name": "stdout",
     "output_type": "stream",
     "text": [
      "\n",
      "saved /logs/paper_extra/spherical_sphiral/whole_annotation/fusion__0128_views.npy\n",
      "/logs/paper_extra/spherical_sphiral/whole_annotation/fusion__0128_views.npy\n"
     ]
    }
   ],
   "source": [
    "for n in [2, 4, 8, 16, 32, 64, 128]:\n",
    "    \n",
    "    d = Hdf5File(\n",
    "        '/logs/paper_extra/spherical_sphiral/whole_annotation/{}_views/abc_0051_64_65__adv60.hdf5'.format(n),\n",
    "        io=PointPatchPredictionsIO,\n",
    "        preload=PreloadTypes.LAZY,\n",
    "        labels=['points', 'distances'])\n",
    "    pred_distances = [view['distances'] * pred_distance_scale_ratio for view in d]\n",
    "    pred_points = [view['points'] for view in d]\n",
    "\n",
    "    export_points_to_npy(\n",
    "        '/logs/paper_extra/spherical_sphiral/whole_annotation/fusion__{0:04d}_views.npy'.format(n), \n",
    "        pred_points[0], \n",
    "        distances=pred_distances[0],\n",
    "        max_distance=1.0)\n",
    "    \n",
    "    print('/logs/paper_extra/spherical_sphiral/whole_annotation/fusion__{0:04d}_views.npy'.format(n))"
   ]
  },
  {
   "cell_type": "code",
   "execution_count": null,
   "metadata": {},
   "outputs": [],
   "source": []
  },
  {
   "cell_type": "code",
   "execution_count": null,
   "metadata": {},
   "outputs": [],
   "source": []
  },
  {
   "cell_type": "code",
   "execution_count": null,
   "metadata": {},
   "outputs": [],
   "source": []
  },
  {
   "cell_type": "code",
   "execution_count": null,
   "metadata": {},
   "outputs": [],
   "source": []
  },
  {
   "cell_type": "code",
   "execution_count": null,
   "metadata": {},
   "outputs": [],
   "source": [
    "get_view_local = partial(get_view, gt_images, pred_distances, gt_extrinsics, gt_intrinsics)\n",
    "\n",
    "point_indexes = np.cumsum([\n",
    "    np.count_nonzero(image) for image in gt_images])"
   ]
  },
  {
   "cell_type": "code",
   "execution_count": null,
   "metadata": {},
   "outputs": [],
   "source": [
    "i = 202 + 4\n",
    "j = 202\n",
    "view_i = get_view_local(i)\n",
    "view_j = get_view_local(j)\n",
    "\n",
    "config = {\n",
    "    'verbose': True,\n",
    "    'n_jobs': 8,\n",
    "    'nn_set_size': 4,\n",
    "    'distance_interpolation_threshold': 0.2,\n",
    "    'interpolator_function': 'bisplrep',\n",
    "}"
   ]
  },
  {
   "cell_type": "code",
   "execution_count": null,
   "metadata": {},
   "outputs": [],
   "source": [
    "predictions_interp, indexes_interp, points_interp = do_interpolate(\n",
    "    i, j, view_i, view_j, point_indexes, config)\n",
    "predictions_interp.shape"
   ]
  },
  {
   "cell_type": "code",
   "execution_count": null,
   "metadata": {},
   "outputs": [],
   "source": [
    "pose_j = view_j[3]\n",
    "imaging_j = view_j[4]"
   ]
  },
  {
   "cell_type": "code",
   "execution_count": null,
   "metadata": {},
   "outputs": [],
   "source": [
    "rays_indexes = get_rays_indexes(\n",
    "    pose_j.world_to_camera(points_interp),\n",
    "    imaging_j)"
   ]
  },
  {
   "cell_type": "code",
   "execution_count": null,
   "metadata": {},
   "outputs": [],
   "source": [
    "interpolated_depth_j = imaging_j.points_to_image(\n",
    "    pose_j.world_to_camera(points_interp), rays_indexes)\n",
    "interpolated_distances_j = imaging_j.points_to_image(\n",
    "    predictions_interp.reshape(-1, 1), rays_indexes, assign_channels=[0])"
   ]
  },
  {
   "cell_type": "code",
   "execution_count": null,
   "metadata": {},
   "outputs": [],
   "source": [
    "display_depth_sharpness(\n",
    "#     depth_images=[camera_to_display(interpolated_j)],\n",
    "    sharpness_images=[camera_to_display(interpolated_distances_j)[slices[204]]],\n",
    "    ncols=1,\n",
    "    max_sharpness=1,\n",
    "#     sharpness_bg_value=10.0\n",
    ")"
   ]
  },
  {
   "cell_type": "code",
   "execution_count": null,
   "metadata": {},
   "outputs": [],
   "source": [
    "from sharpf.utils.py_utils.parallel import multiproc_parallel\n",
    "\n",
    "\n",
    "\n",
    "n_jobs = config.get('n_jobs')\n",
    "n_images = len(gt_images)\n",
    "data_iterable = (\n",
    "    (i, j, get_view_local(i), get_view_local(j), point_indexes, config)\n",
    "    for i in range(n_images))\n",
    "\n",
    "os.environ['OMP_NUM_THREADS'] = str(n_jobs)\n",
    "list_predictions, list_indexes_in_whole, list_points = [], [], []\n",
    "for predictions_interp, indexes_interp, points_interp in multiproc_parallel(\n",
    "        do_interpolate,\n",
    "        data_iterable):\n",
    "    list_predictions.append(predictions_interp)\n",
    "    list_indexes_in_whole.append(indexes_interp)\n",
    "    list_points.append(points_interp)"
   ]
  },
  {
   "cell_type": "code",
   "execution_count": null,
   "metadata": {},
   "outputs": [],
   "source": [
    "import sharpf.fusion.combiners as cc"
   ]
  },
  {
   "cell_type": "code",
   "execution_count": null,
   "metadata": {},
   "outputs": [],
   "source": [
    "combiner = cc.MinPredictionsCombiner()\n",
    "# combiner = cc.TruncatedAvgPredictionsCombiner(\n",
    "#            func=cc.TruncatedMean(0.6, func=np.min))"
   ]
  },
  {
   "cell_type": "code",
   "execution_count": null,
   "metadata": {},
   "outputs": [],
   "source": [
    "n_points = np.max(point_indexes)\n",
    "fused_points_pred, fused_distances_pred, prediction_variants = \\\n",
    "    combiner(n_points, list_predictions, list_indexes_in_whole, list_points)"
   ]
  },
  {
   "cell_type": "code",
   "execution_count": null,
   "metadata": {},
   "outputs": [],
   "source": [
    "rays_indexes = get_rays_indexes(\n",
    "    pose_j.world_to_camera(fused_points_pred[point_indexes[201]:point_indexes[202]]),\n",
    "    imaging_j)\n",
    "interpolated_depth_j = imaging_j.points_to_image(\n",
    "    pose_j.world_to_camera(fused_points_pred[point_indexes[201]:point_indexes[202]]), rays_indexes)\n",
    "interpolated_distances_j = imaging_j.points_to_image(\n",
    "    fused_distances_pred[point_indexes[201]:point_indexes[202]].reshape(-1, 1), \n",
    "    rays_indexes, \n",
    "    assign_channels=[0])"
   ]
  },
  {
   "cell_type": "code",
   "execution_count": null,
   "metadata": {},
   "outputs": [],
   "source": [
    "display_depth_sharpness(\n",
    "#     depth_images=[camera_to_display(interpolated_depth_j)[slices[204]]],\n",
    "    sharpness_images=[camera_to_display(interpolated_distances_j)[slices[204]]],\n",
    "    ncols=1,\n",
    "    max_sharpness=1,\n",
    "#     sharpness_bg_value=10.0\n",
    ")"
   ]
  },
  {
   "cell_type": "code",
   "execution_count": null,
   "metadata": {},
   "outputs": [],
   "source": []
  },
  {
   "cell_type": "code",
   "execution_count": null,
   "metadata": {},
   "outputs": [],
   "source": []
  }
 ],
 "metadata": {
  "kernelspec": {
   "display_name": "Python 3",
   "language": "python",
   "name": "python3"
  },
  "language_info": {
   "codemirror_mode": {
    "name": "ipython",
    "version": 3
   },
   "file_extension": ".py",
   "mimetype": "text/x-python",
   "name": "python",
   "nbconvert_exporter": "python",
   "pygments_lexer": "ipython3",
   "version": "3.6.5"
  }
 },
 "nbformat": 4,
 "nbformat_minor": 4
}
