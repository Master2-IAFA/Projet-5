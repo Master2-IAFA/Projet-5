{
 "cells": [
  {
   "cell_type": "code",
   "execution_count": 1,
   "metadata": {},
   "outputs": [],
   "source": [
    "%load_ext autoreload\n",
    "%autoreload 2"
   ]
  },
  {
   "cell_type": "code",
   "execution_count": 2,
   "metadata": {},
   "outputs": [
    {
     "name": "stderr",
     "output_type": "stream",
     "text": [
      "\n",
      "Bad key \"text.kerning_factor\" on line 4 in\n",
      "/home/user/miniconda/envs/py36/lib/python3.6/site-packages/matplotlib/mpl-data/stylelib/_classic_test_patch.mplstyle.\n",
      "You probably need to get an updated matplotlibrc file from\n",
      "http://github.com/matplotlib/matplotlib/blob/master/matplotlibrc.template\n",
      "or from the matplotlib source distribution\n"
     ]
    }
   ],
   "source": [
    "from copy import deepcopy\n",
    "\n",
    "import k3d\n",
    "import yaml\n",
    "import numpy as np\n",
    "\n",
    "import matplotlib.pyplot as plt\n",
    "\n",
    "from tqdm import tqdm\n",
    "import json\n",
    "\n",
    "import glob\n",
    "import os\n",
    "import trimesh.transformations as tt"
   ]
  },
  {
   "cell_type": "code",
   "execution_count": 7,
   "metadata": {},
   "outputs": [],
   "source": [
    "import meshplot as mp "
   ]
  },
  {
   "cell_type": "code",
   "execution_count": 8,
   "metadata": {},
   "outputs": [],
   "source": [
    "def display_sharpness(mesh=None, plot_meshvert=True,\n",
    "                      plot_mesh_wireframe=False, mesh_wireframe_color=0x000000,\n",
    "                      samples=None, samples_distances=None,\n",
    "                      sharp_vert=None, sharp_curves=None,\n",
    "                      directions=None, directions_width=0.0025,\n",
    "                      samples_color=0x0000ff, samples_psize=0.002, \n",
    "                      mesh_color=0xbbbbbb, meshvert_color=0x666666, meshvert_psize=0.0025,\n",
    "                      sharpvert_color=0xff0000, sharpvert_psize=0.0025,\n",
    "                      sharpcurve_color=None, sharpcurve_width=0.0025,\n",
    "                      as_image=False, plot_height=768, camera_fov=60.0, lighting=1.5):\n",
    "    \n",
    "    plot = k3d.plot(\n",
    "        height=plot_height,\n",
    "        camera_fov=camera_fov,\n",
    "        lighting=lighting, \n",
    "        camera_auto_fit=False,\n",
    "        grid_visible=False)\n",
    "    \n",
    "    if None is not mesh:\n",
    "        k3d_mesh = k3d.mesh(\n",
    "            mesh.vertices,\n",
    "            mesh.faces,\n",
    "            color=mesh_color)\n",
    "        plot += k3d_mesh\n",
    "\n",
    "        if plot_meshvert:\n",
    "            k3d_points = k3d.points(\n",
    "                mesh.vertices, \n",
    "                point_size=meshvert_psize,\n",
    "                color=meshvert_color)\n",
    "            plot += k3d_points\n",
    "            k3d_points.shader='3d'\n",
    "        \n",
    "        if plot_mesh_wireframe:\n",
    "            k3d_mesh = k3d.mesh(\n",
    "                mesh.vertices,\n",
    "                mesh.faces,\n",
    "                wireframe=True,\n",
    "                color=mesh_wireframe_color)\n",
    "            plot += k3d_mesh\n",
    "\n",
    "    if None is not samples:\n",
    "        colors = None\n",
    "        if None is not samples_distances:\n",
    "            max_dist = np.max(samples_distances)\n",
    "\n",
    "            colors = k3d.helpers.map_colors(\n",
    "                samples_distances, k3d.colormaps.basic_color_maps.WarmCool, [0, max_dist]\n",
    "            ).astype(np.uint32)\n",
    "            k3d_points = k3d.points(samples, point_size=samples_psize, colors=colors)\n",
    "        else:\n",
    "            k3d_points = k3d.points(samples, point_size=samples_psize, color=samples_color)\n",
    "        plot += k3d_points\n",
    "        k3d_points.shader='flat'\n",
    "        \n",
    "        if None is not directions:\n",
    "            vectors = k3d.vectors(samples, directions * samples_distances[..., np.newaxis])\n",
    "            plot += vectors\n",
    "\n",
    "#             directions_to_plot = np.hstack((samples, samples + directions))\n",
    "            \n",
    "#             for i, dir_to_plot in enumerate(directions_to_plot):\n",
    "#                 dir_to_plot = dir_to_plot.reshape((2, 3))\n",
    "#                 if np.all(dir_to_plot[0] == dir_to_plot[1]):\n",
    "#                     continue\n",
    "#                 color = int(colors[i]) if None is not colors else samples_color\n",
    "#                 plt_line = k3d.line(dir_to_plot, \n",
    "#                                     shader='mesh', width=directions_width, color=color)\n",
    "#                 plot += plt_line\n",
    "\n",
    "    if None is not sharp_vert:\n",
    "        k3d_points = k3d.points(sharp_vert,\n",
    "                                point_size=sharpvert_psize, color=sharpvert_color)\n",
    "        plot += k3d_points\n",
    "        k3d_points.shader='flat'\n",
    "        \n",
    "    if None is not sharp_curves:            \n",
    "        if None is not sharpcurve_color:\n",
    "            color = sharpcurve_color\n",
    "        else:\n",
    "            import randomcolor\n",
    "            rand_color = randomcolor.RandomColor()\n",
    "        for i, vert_ind in enumerate(sharp_curves):\n",
    "            sharp_points_curve = mesh.vertices[vert_ind]\n",
    "\n",
    "            if None is sharpcurve_color:\n",
    "                color = rand_color.generate(hue='red')[0]\n",
    "                color = int('0x' + color[1:], 16)\n",
    "            plt_line = k3d.line(sharp_points_curve, \n",
    "                                shader='flat', \n",
    "                                width=sharpcurve_width, \n",
    "                                color=color)\n",
    "            plot += plt_line\n",
    "        \n",
    "    plot.camera_fov = camera_fov\n",
    "    plot.display()\n",
    "    \n",
    "    if as_image:\n",
    "        plot.fetch_screenshot()\n",
    "        return Image(data=b64decode(plot.screenshot))"
   ]
  },
  {
   "cell_type": "code",
   "execution_count": 68,
   "metadata": {},
   "outputs": [],
   "source": [
    "def brep_like_rendering(mesh, sharp_curves):\n",
    "    \n",
    "    shading = {\n",
    "        \"flat\":True,\n",
    "        \"wireframe\":False,\n",
    "        \"scale\":4.0\n",
    "    }\n",
    "    c = np.array([118., 178., 146.]) / 255\n",
    "    p = mp.plot(mesh.vertices, mesh.faces, \n",
    "                c=c, shading=shading)\n",
    "\n",
    "#     for i, vert_ind in enumerate(sharp_curves):\n",
    "        \n",
    "#         sharp_points_curve = mesh.vertices[vert_ind]\n",
    "\n",
    "#     for _, fe in enumerate(feat[\"curves\"]):\n",
    "#         for j in range(len(fe[\"vert_indices\"])-1):\n",
    "#             lines.append([fe[\"vert_indices\"][j], fe[\"vert_indices\"][j+1]])\n",
    "\n",
    "#     # Visualize the sharp features            \n",
    "#     p = mp.plot(v, f)\n",
    "#     p.add_edges(v, np.array(lines))\n",
    "    \n",
    "#     display_sharpness(\n",
    "#         mesh, plot_meshvert=False, meshvert_psize=sampler.resolution_3d, mesh_color=0x76d8ad,\n",
    "#         sharp_vert=None, sharpvert_psize=2. * sampler.resolution_3d,\n",
    "#         samples=None, samples_psize=1. * sampler.resolution_3d,\n",
    "#         sharp_curves=sharp_curves, sharpcurve_color=0x000000, sharpcurve_width=0.01,\n",
    "#         camera_fov=15., lighting=0.5\n",
    "#     )"
   ]
  },
  {
   "cell_type": "code",
   "execution_count": 10,
   "metadata": {},
   "outputs": [],
   "source": [
    "# mm/pixel\n",
    "HIGH_RES = 0.02\n",
    "MED_RES = 0.05\n",
    "LOW_RES = 0.125\n",
    "XLOW_RES = 0.25"
   ]
  },
  {
   "cell_type": "markdown",
   "metadata": {},
   "source": [
    "## 1. Working with point patches"
   ]
  },
  {
   "cell_type": "code",
   "execution_count": 11,
   "metadata": {},
   "outputs": [],
   "source": [
    "from sharpf.utils.abc_utils.abc.abc_data import ABCModality, ABCChunk, ABC_7Z_FILEMASK, ABCItem\n",
    "from sharpf.data.annotation import ANNOTATOR_BY_TYPE\n",
    "from sharpf.data.mesh_nbhoods import NBHOOD_BY_TYPE\n",
    "from sharpf.data.noisers import NOISE_BY_TYPE\n",
    "from sharpf.data.point_samplers import SAMPLER_BY_TYPE\n",
    "from sharpf.utils.py_utils.console import eprint\n",
    "# from sharpf.utils.abc_utils.mesh.io import trimesh_load\n",
    "\n",
    "from sharpf.utils.abc_utils.abc.feature_utils import (\n",
    "    get_adjacent_features_by_bfs_with_depth1,\n",
    "    build_surface_patch_graph,\n",
    "    get_curves_extents,\n",
    "    compute_features_nbhood,\n",
    "    remove_boundary_features)\n",
    "from sharpf.utils.geometry import dist_vector_proj, mean_mmd\n",
    "from sharpf.utils.py_utils.config import load_func_from_config\n",
    "\n",
    "\n",
    "import sharpf.utils.camera_utils.camera_pose as c"
   ]
  },
  {
   "cell_type": "code",
   "execution_count": 12,
   "metadata": {},
   "outputs": [],
   "source": [
    "# data_holder = ABCChunk(['/data/abc_0056_obj_v00.7z', '/data/abc_0056_feat_v00.7z'])\n"
   ]
  },
  {
   "cell_type": "code",
   "execution_count": 13,
   "metadata": {
    "scrolled": true
   },
   "outputs": [],
   "source": [
    "# item = data_holder[584]\n",
    "# item.item_id"
   ]
  },
  {
   "cell_type": "code",
   "execution_count": 14,
   "metadata": {},
   "outputs": [],
   "source": [
    "from io import BytesIO\n",
    "\n",
    "import trimesh\n",
    "import numpy as np\n",
    "\n",
    "\n",
    "def trimesh_load(io: BytesIO) -> trimesh.base.Trimesh:\n",
    "    \"\"\"Read the mesh: since trimesh messes the indices, this has to be done manually.\"\"\"\n",
    "\n",
    "    vertices, faces = [], []\n",
    "\n",
    "    for line in io.read().splitlines():\n",
    "        values = line.strip().split()\n",
    "        if not values:\n",
    "            continue\n",
    "        if values[0] == 'v':\n",
    "            vertices.append(np.array(values[1:4], dtype='float'))\n",
    "        elif values[0] == 'f':\n",
    "            faces.append(np.array([values[1].split('//')[0], values[2].split('//')[0], values[3].split('//')[0]],\n",
    "                                  dtype='int'))\n",
    "\n",
    "    vertices = np.array(vertices)\n",
    "    faces = np.array(faces) - 1\n",
    "\n",
    "    mesh = trimesh.base.Trimesh(vertices=vertices, faces=faces, process=False)  # create a mesh from the vertices\n",
    "    return mesh\n",
    "\n"
   ]
  },
  {
   "cell_type": "code",
   "execution_count": 15,
   "metadata": {},
   "outputs": [],
   "source": [
    "def get_item_by_id(base_path_list, item_id):\n",
    "    item_prefix = item_id.split('_')[0]\n",
    "    \n",
    "    obj_dir, feat_dir = base_path_list\n",
    "    \n",
    "    item_obj_filename = os.path.join(\n",
    "        obj_dir,\n",
    "        '{}_trimesh_*.obj'.format(item_id)\n",
    "    )\n",
    "    item_obj_filename = glob.glob(item_obj_filename)[0]\n",
    "    \n",
    "    item_feat_filename = os.path.join(\n",
    "        feat_dir,\n",
    "        '{}_features_*.yml'.format(item_id)\n",
    "    )\n",
    "    item_feat_filename = glob.glob(item_feat_filename)[0]\n",
    "\n",
    "    with open(item_obj_filename) as item_obj:\n",
    "        mesh = trimesh_load(item_obj)\n",
    "        \n",
    "    with open(item_feat_filename) as item_feat:\n",
    "        features = yaml.load(item_feat, Loader=yaml.Loader)\n",
    "\n",
    "    return ABCItem(obj=mesh, feat=features)"
   ]
  },
  {
   "cell_type": "code",
   "execution_count": 26,
   "metadata": {},
   "outputs": [
    {
     "data": {
      "text/plain": [
       "{'shape_fabrication_extent': 10.0,\n",
       " 'short_curve_quantile': 0.25,\n",
       " 'base_n_points_per_short_curve': 8,\n",
       " 'base_resolution_3d': 0.125,\n",
       " 'neighbourhood': {'type': 'random_euclidean_sphere',\n",
       "  'max_patches_per_mesh': 48,\n",
       "  'n_vertices': None,\n",
       "  'centroid': None,\n",
       "  'centroid_mode': 'poisson_disk',\n",
       "  'radius_base': 10.0,\n",
       "  'radius_delta': 0.0,\n",
       "  'geodesic_patches': True,\n",
       "  'radius_scale_mode': 'no_scale'},\n",
       " 'sampling': {'type': 'poisson_disk',\n",
       "  'n_points': 4096,\n",
       "  'resolution_3d': 0.125,\n",
       "  'crop_center': True,\n",
       "  'resolution_deviation_tolerance': 0.03},\n",
       " 'noise': {'type': 'many_noisers',\n",
       "  'subtype': 'isotropic_gaussian',\n",
       "  'scale': [0.0]},\n",
       " 'annotation': {'type': 'surface_based_aabb',\n",
       "  'distance_upper_bound': 1.0,\n",
       "  'validate_annotation': True}}"
      ]
     },
     "execution_count": 26,
     "metadata": {},
     "output_type": "execute_result"
    }
   ],
   "source": [
    "with open('/code/scripts/data_scripts/configs/pointcloud_datasets/dataset_config_low_res_clean.json') as config_file:\n",
    "    config = json.load(config_file)\n",
    "\n",
    "config"
   ]
  },
  {
   "cell_type": "code",
   "execution_count": 27,
   "metadata": {},
   "outputs": [],
   "source": [
    "shape_fabrication_extent = config.get('shape_fabrication_extent', 10.0)\n",
    "base_n_points_per_short_curve = config.get('base_n_points_per_short_curve', 8)\n",
    "base_resolution_3d = config.get('base_resolution_3d', LOW_RES)\n",
    "\n",
    "short_curve_quantile = config.get('short_curve_quantile', 0.05)\n",
    "\n",
    "nbhood_extractor = load_func_from_config(NBHOOD_BY_TYPE, config['neighbourhood'])\n",
    "sampler = load_func_from_config(SAMPLER_BY_TYPE, config['sampling'])\n",
    "noiser = load_func_from_config(NOISE_BY_TYPE, config['noise'])\n",
    "annotator = load_func_from_config(ANNOTATOR_BY_TYPE, config['annotation'])\n",
    "\n",
    "# Specific to this script only: override radius of neighbourhood extractor\n",
    "# to reflect actual point cloud resolution:\n",
    "# we extract spheres of radius r, such that area of a (plane) disk with radius r\n",
    "# is equal to the total area of 3d points (as if we scanned a plane wall)\n",
    "nbhood_extractor.radius_base = np.sqrt(sampler.n_points) * 0.5 * sampler.resolution_3d"
   ]
  },
  {
   "cell_type": "code",
   "execution_count": 28,
   "metadata": {},
   "outputs": [],
   "source": [
    "\n",
    "def scale_mesh(mesh, features, shape_fabrication_extent, resolution_3d,\n",
    "               short_curve_quantile=0.05, n_points_per_short_curve=4):\n",
    "    # compute standard size spatial extent\n",
    "    mesh_extent = np.max(mesh.bounding_box.extents)\n",
    "    mesh = mesh.apply_scale(shape_fabrication_extent / mesh_extent)\n",
    "\n",
    "    # compute lengths of curves\n",
    "    sharp_curves_lengths = get_curves_extents(mesh, features)\n",
    "\n",
    "    least_len = np.quantile(sharp_curves_lengths, short_curve_quantile)\n",
    "    least_len_mm = resolution_3d * n_points_per_short_curve\n",
    "\n",
    "    mesh = mesh.apply_scale(least_len_mm / least_len)\n",
    "\n",
    "    return mesh\n"
   ]
  },
  {
   "cell_type": "code",
   "execution_count": 29,
   "metadata": {
    "scrolled": false
   },
   "outputs": [],
   "source": [
    "# mesh = scale_mesh(mesh, features, shape_fabrication_extent, base_resolution_3d,\n",
    "#                   short_curve_quantile=short_curve_quantile,\n",
    "#                   n_points_per_short_curve=base_n_points_per_short_curve)"
   ]
  },
  {
   "cell_type": "code",
   "execution_count": 30,
   "metadata": {},
   "outputs": [],
   "source": []
  },
  {
   "cell_type": "code",
   "execution_count": 34,
   "metadata": {},
   "outputs": [],
   "source": [
    "# item_id = '00009684_f3f3f0459fff4bcb8d7ab694'\n",
    "\n",
    "item_id = '00006991_ceb6d89499b14c2d8a829e37'\n",
    "\n",
    "item = get_item_by_id(\n",
    "    ['/data/abc/abc_0000_obj_v00', '/data/abc/abc_0000_feat_v00'], \n",
    "    item_id)\n",
    "\n",
    "mesh = item.obj\n",
    "features = item.feat"
   ]
  },
  {
   "cell_type": "code",
   "execution_count": 42,
   "metadata": {},
   "outputs": [],
   "source": [
    "with open('/data/abc/test_trimesh.obj') as item_obj:\n",
    "    mesh = trimesh_load(item_obj)\n",
    "\n",
    "with open('/data/abc/test_features.yml') as item_feat:\n",
    "    features = yaml.load(item_feat, Loader=yaml.Loader)\n",
    "    \n",
    "mesh_orig = mesh.copy()"
   ]
  },
  {
   "cell_type": "code",
   "execution_count": 43,
   "metadata": {},
   "outputs": [],
   "source": [
    "sharp_curves = [curve['vert_indices'] for curve in features['curves'] if curve['sharp']]"
   ]
  },
  {
   "cell_type": "code",
   "execution_count": 71,
   "metadata": {
    "scrolled": false
   },
   "outputs": [
    {
     "data": {
      "application/vnd.jupyter.widget-view+json": {
       "model_id": "228ec41171624616b382cb3b7939965a",
       "version_major": 2,
       "version_minor": 0
      },
      "text/plain": [
       "Renderer(camera=PerspectiveCamera(children=(DirectionalLight(color='white', intensity=0.6, position=(0.7438485…"
      ]
     },
     "metadata": {},
     "output_type": "display_data"
    }
   ],
   "source": [
    "mesh = mesh_orig.copy()\n",
    "mesh_extent = np.max(mesh.bounding_box.extents)\n",
    "mesh = mesh.apply_scale(7.5 / mesh_extent)\n",
    "\n",
    "# [z x y]\n",
    "def _n(a):\n",
    "    a = np.array(a)\n",
    "    return a / np.linalg.norm(a)\n",
    "\n",
    "\n",
    "R = tt.rotation_matrix(0*np.pi/180, [0., 1., 0.], np.mean(mesh.vertices, axis=0))\n",
    "mesh.apply_transform(R)\n",
    "\n",
    "# R = tt.rotation_matrix(45*np.pi/180, _n([1., 0., 0.]), np.mean(mesh.vertices, axis=0))\n",
    "# mesh.apply_transform(R)\n",
    "\n",
    "# R = tt.rotation_matrix(-75*np.pi/180, _n([0., -1., 1.]), np.mean(mesh.vertices, axis=0))\n",
    "# mesh.apply_transform(R)\n",
    "\n",
    "brep_like_rendering(mesh, sharp_curves=sharp_curves)"
   ]
  },
  {
   "cell_type": "code",
   "execution_count": null,
   "metadata": {},
   "outputs": [],
   "source": []
  },
  {
   "cell_type": "code",
   "execution_count": 417,
   "metadata": {},
   "outputs": [
    {
     "data": {
      "application/vnd.jupyter.widget-view+json": {
       "model_id": "33eb5e1fa21d4c70addcd6aa5b792c5f",
       "version_major": 2,
       "version_minor": 0
      },
      "text/plain": [
       "Output()"
      ]
     },
     "metadata": {},
     "output_type": "display_data"
    }
   ],
   "source": [
    "display_sharpness(\n",
    "    mesh, plot_meshvert=False, meshvert_psize=sampler.resolution_3d, mesh_color=0x76d8ad,\n",
    "    plot_mesh_wireframe=True,\n",
    "    sharp_vert=None, sharpvert_psize=2. * sampler.resolution_3d,\n",
    "    samples=None, samples_psize=1. * sampler.resolution_3d,\n",
    "    sharp_curves=None, sharpcurve_color=0x000000, sharpcurve_width=0.01,\n",
    "    camera_fov=15., lighting=0.5\n",
    ")"
   ]
  },
  {
   "cell_type": "code",
   "execution_count": null,
   "metadata": {},
   "outputs": [],
   "source": []
  },
  {
   "cell_type": "code",
   "execution_count": null,
   "metadata": {},
   "outputs": [],
   "source": []
  },
  {
   "cell_type": "code",
   "execution_count": null,
   "metadata": {},
   "outputs": [],
   "source": []
  },
  {
   "cell_type": "code",
   "execution_count": null,
   "metadata": {},
   "outputs": [],
   "source": []
  },
  {
   "cell_type": "code",
   "execution_count": 20,
   "metadata": {
    "scrolled": false
   },
   "outputs": [
    {
     "data": {
      "application/vnd.jupyter.widget-view+json": {
       "model_id": "d46352f1cf234839be0e77a2f0f6681f",
       "version_major": 2,
       "version_minor": 0
      },
      "text/plain": [
       "Output()"
      ]
     },
     "metadata": {},
     "output_type": "display_data"
    }
   ],
   "source": [
    "# index the mesh using a neighbourhood functions class\n",
    "# (this internally may call indexing, so for repeated invocation one passes the mesh)\n",
    "nbhood_extractor.index(mesh)\n",
    "\n",
    "# extract neighbourhood\n",
    "try:\n",
    "    nbhood, mesh_vertex_indexes, mesh_face_indexes, scaler = nbhood_extractor.get_nbhood()\n",
    "except DataGenerationException as e:\n",
    "    eprint(str(e))\n",
    "\n",
    "display_sharpness(nbhood, plot_meshvert=True, meshvert_psize=sampler.resolution_3d/2)"
   ]
  },
  {
   "cell_type": "code",
   "execution_count": 40,
   "metadata": {},
   "outputs": [
    {
     "data": {
      "application/vnd.jupyter.widget-view+json": {
       "model_id": "13321e5457a0454c85b1766ef7d09a6c",
       "version_major": 2,
       "version_minor": 0
      },
      "text/plain": [
       "Output()"
      ]
     },
     "metadata": {},
     "output_type": "display_data"
    }
   ],
   "source": [
    "\n",
    "display_sharpness(\n",
    "    mesh, plot_meshvert=True, meshvert_psize=sampler.resolution_3d,\n",
    "    sharp_vert=None, sharpvert_psize=2. * sampler.resolution_3d,\n",
    "    samples=nbhood_extractor.centroids_cache, samples_psize=5. * sampler.resolution_3d,\n",
    ")\n",
    "\n"
   ]
  },
  {
   "cell_type": "code",
   "execution_count": 34,
   "metadata": {},
   "outputs": [
    {
     "data": {
      "text/plain": [
       "TrackedArray([[145, 156,   6],\n",
       "              [ 35, 124,  34],\n",
       "              [ 27, 194, 154],\n",
       "              ...,\n",
       "              [728, 738, 723],\n",
       "              [724, 740, 729],\n",
       "              [733, 734, 725]])"
      ]
     },
     "execution_count": 34,
     "metadata": {},
     "output_type": "execute_result"
    }
   ],
   "source": [
    "nbhood.faces"
   ]
  },
  {
   "cell_type": "code",
   "execution_count": 21,
   "metadata": {},
   "outputs": [],
   "source": [
    "# create annotations: condition the features onto the nbhood\n",
    "nbhood_features = compute_features_nbhood(mesh, features, mesh_vertex_indexes, mesh_face_indexes)\n",
    "\n",
    "# remove vertices lying on the boundary (sharp edges found in 1 face only)\n",
    "nbhood_features = remove_boundary_features(nbhood, nbhood_features, how='edges')"
   ]
  },
  {
   "cell_type": "code",
   "execution_count": 22,
   "metadata": {
    "scrolled": false
   },
   "outputs": [
    {
     "data": {
      "application/vnd.jupyter.widget-view+json": {
       "model_id": "9296ce8187824346ac77dac9ba45aba7",
       "version_major": 2,
       "version_minor": 0
      },
      "text/plain": [
       "Output()"
      ]
     },
     "metadata": {},
     "output_type": "display_data"
    }
   ],
   "source": [
    "if any(c['sharp'] for c in nbhood_features['curves']):\n",
    "    sharp_verts = np.concatenate([nbhood.vertices[c['vert_indices']] \n",
    "                                  for c in nbhood_features['curves'] if c['sharp']])\n",
    "else:\n",
    "    sharp_verts = []\n",
    "    \n",
    "\n",
    "surf_vert_indices = np.array(nbhood_features['surfaces'][2]['vert_indices'])\n",
    "surf_verts = nbhood.vertices[surf_vert_indices]\n",
    "\n",
    "\n",
    "\n",
    "display_sharpness(\n",
    "    nbhood, plot_meshvert=True, meshvert_psize=sampler.resolution_3d,\n",
    "    sharp_vert=sharp_verts, sharpvert_psize=1. * sampler.resolution_3d,\n",
    "    samples=surf_verts, samples_psize=sampler.resolution_3d,\n",
    ")"
   ]
  },
  {
   "cell_type": "code",
   "execution_count": 23,
   "metadata": {},
   "outputs": [
    {
     "data": {
      "text/plain": [
       "742"
      ]
     },
     "execution_count": 23,
     "metadata": {},
     "output_type": "execute_result"
    }
   ],
   "source": [
    "len(nbhood.vertices)"
   ]
  },
  {
   "cell_type": "code",
   "execution_count": 29,
   "metadata": {},
   "outputs": [
    {
     "data": {
      "text/plain": [
       "array([[  0,   4],\n",
       "       [  4,   5],\n",
       "       [  5,   6],\n",
       "       ...,\n",
       "       [ 78, 741],\n",
       "       [726, 741],\n",
       "       [730, 741]])"
      ]
     },
     "execution_count": 29,
     "metadata": {},
     "output_type": "execute_result"
    }
   ],
   "source": [
    "nbhood.edges_unique"
   ]
  },
  {
   "cell_type": "code",
   "execution_count": 41,
   "metadata": {},
   "outputs": [],
   "source": [
    "import igl"
   ]
  },
  {
   "cell_type": "code",
   "execution_count": 42,
   "metadata": {},
   "outputs": [
    {
     "ename": "AttributeError",
     "evalue": "module 'igl' has no attribute '__version__'",
     "output_type": "error",
     "traceback": [
      "\u001b[0;31m---------------------------------------------------------------------------\u001b[0m",
      "\u001b[0;31mAttributeError\u001b[0m                            Traceback (most recent call last)",
      "\u001b[0;32m<ipython-input-42-b006fd39b3bf>\u001b[0m in \u001b[0;36m<module>\u001b[0;34m\u001b[0m\n\u001b[0;32m----> 1\u001b[0;31m \u001b[0migl\u001b[0m\u001b[0;34m.\u001b[0m\u001b[0m__version__\u001b[0m\u001b[0;34m\u001b[0m\u001b[0m\n\u001b[0m",
      "\u001b[0;31mAttributeError\u001b[0m: module 'igl' has no attribute '__version__'"
     ]
    }
   ],
   "source": []
  },
  {
   "cell_type": "code",
   "execution_count": null,
   "metadata": {},
   "outputs": [],
   "source": []
  },
  {
   "cell_type": "code",
   "execution_count": null,
   "metadata": {},
   "outputs": [],
   "source": []
  },
  {
   "cell_type": "code",
   "execution_count": null,
   "metadata": {},
   "outputs": [],
   "source": []
  },
  {
   "cell_type": "code",
   "execution_count": null,
   "metadata": {},
   "outputs": [],
   "source": []
  },
  {
   "cell_type": "code",
   "execution_count": null,
   "metadata": {},
   "outputs": [],
   "source": []
  },
  {
   "cell_type": "code",
   "execution_count": null,
   "metadata": {},
   "outputs": [],
   "source": []
  },
  {
   "cell_type": "code",
   "execution_count": null,
   "metadata": {},
   "outputs": [],
   "source": []
  },
  {
   "cell_type": "code",
   "execution_count": null,
   "metadata": {},
   "outputs": [],
   "source": []
  },
  {
   "cell_type": "code",
   "execution_count": 24,
   "metadata": {},
   "outputs": [],
   "source": [
    "sampler.resolution_deviation_tolerance = 1.0"
   ]
  },
  {
   "cell_type": "code",
   "execution_count": 25,
   "metadata": {},
   "outputs": [
    {
     "data": {
      "application/vnd.jupyter.widget-view+json": {
       "model_id": "25f320dc78be4e5387615b0a1dda2154",
       "version_major": 2,
       "version_minor": 0
      },
      "text/plain": [
       "Output()"
      ]
     },
     "metadata": {},
     "output_type": "display_data"
    }
   ],
   "source": [
    "# sample the neighbourhood to form a point patch\n",
    "try:\n",
    "    points, normals = sampler.sample(nbhood, centroid=nbhood_extractor.centroid)\n",
    "except DataGenerationException as e:\n",
    "    eprint(str(e))\n",
    "    pass\n",
    "\n",
    "display_sharpness(nbhood, plot_meshvert=False, meshvert_psize=sampler.resolution_3d / 10,\n",
    "                  samples=points, samples_distances=None,\n",
    "                  samples_color=0x0000ff, samples_psize=sampler.resolution_3d,\n",
    "                  sharp_vert=sharp_verts, sharpvert_psize=1. * sampler.resolution_3d,)"
   ]
  },
  {
   "cell_type": "code",
   "execution_count": 250,
   "metadata": {},
   "outputs": [],
   "source": [
    "i = iter(noiser.make_noise(points, normals))"
   ]
  },
  {
   "cell_type": "code",
   "execution_count": 251,
   "metadata": {},
   "outputs": [
    {
     "data": {
      "application/vnd.jupyter.widget-view+json": {
       "model_id": "80e0c9d4f3064fae81eec679e002c65e",
       "version_major": 2,
       "version_minor": 0
      },
      "text/plain": [
       "Output()"
      ]
     },
     "metadata": {},
     "output_type": "display_data"
    }
   ],
   "source": [
    "# create a noisy sample\n",
    "c, noisy_points = next(i)\n",
    "\n",
    "display_sharpness(nbhood, plot_meshvert=True, meshvert_psize=sampler.resolution_3d/2,\n",
    "                  samples=noisy_points, samples_distances=None,\n",
    "                  samples_color=0x0000ff, samples_psize=sampler.resolution_3d,\n",
    "                  sharp_vert=sharp_verts, sharpvert_psize=2*sampler.resolution_3d,)"
   ]
  },
  {
   "cell_type": "code",
   "execution_count": 91,
   "metadata": {},
   "outputs": [],
   "source": [
    "annotator.validate_annotation=True"
   ]
  },
  {
   "cell_type": "code",
   "execution_count": 95,
   "metadata": {},
   "outputs": [
    {
     "data": {
      "application/vnd.jupyter.widget-view+json": {
       "model_id": "c134c47b5cb14e20a6fecee3a530acf5",
       "version_major": 2,
       "version_minor": 0
      },
      "text/plain": [
       "Output()"
      ]
     },
     "metadata": {},
     "output_type": "display_data"
    }
   ],
   "source": [
    "annotator.distance_upper_bound = 1.0\n",
    "# compute the TSharpDF\n",
    "distances, directions, has_sharp = annotator.annotate(nbhood, nbhood_features, noisy_points)\n",
    "\n"
   ]
  },
  {
   "cell_type": "code",
   "execution_count": 252,
   "metadata": {
    "scrolled": false
   },
   "outputs": [
    {
     "name": "stdout",
     "output_type": "stream",
     "text": [
      "Vectors(colors=array([], dtype=uint32), head_color=255, id=140691902224424, model_matrix=array([[1., 0., 0., 0.],\n",
      "       [0., 1., 0., 0.],\n",
      "       [0., 0., 1., 0.],\n",
      "       [0., 0., 0., 1.]], dtype=float32), origin_color=255, origins=array([[-19.547358  ,  -7.849757  ,   0.946174  ],\n",
      "       [-19.532969  ,  -8.027769  ,   0.83327705],\n",
      "       [-19.54474   ,  -7.933261  ,   1.0442309 ],\n",
      "       ...,\n",
      "       [-16.622044  , -10.077516  ,   2.101587  ],\n",
      "       [-20.155031  ,  -6.303346  ,   4.3024707 ],\n",
      "       [-17.301134  , -10.077516  ,   3.136637  ]], dtype=float32), type='Vectors', use_head=True, vectors=array([[ 4.0007704e-01, -2.1225446e-01, -2.8303150e-08],\n",
      "       [ 3.8568768e-01, -3.4243196e-02, -2.8609259e-08],\n",
      "       [ 3.9745992e-01, -1.2875119e-01, -5.5509172e-08],\n",
      "       ...,\n",
      "       [-7.9386814e-07,  0.0000000e+00, -5.8995873e-01],\n",
      "       [ 0.0000000e+00,  0.0000000e+00,  0.0000000e+00],\n",
      "       [ 0.0000000e+00,  0.0000000e+00,  0.0000000e+00]], dtype=float32))\n"
     ]
    },
    {
     "data": {
      "application/vnd.jupyter.widget-view+json": {
       "model_id": "784af0fc795241d98c132f4de9918030",
       "version_major": 2,
       "version_minor": 0
      },
      "text/plain": [
       "Output()"
      ]
     },
     "metadata": {},
     "output_type": "display_data"
    }
   ],
   "source": [
    "display_sharpness(nbhood, plot_meshvert=False, meshvert_psize=0.01,\n",
    "                  sharp_vert=sharp_adjacent_2, sharpvert_psize=2 * sampler.resolution_3d,\n",
    "                  samples=noisy_points, samples_distances=distances,\n",
    "                  samples_color=0x0000ff, samples_psize=sampler.resolution_3d,\n",
    "                  directions=directions)"
   ]
  },
  {
   "cell_type": "code",
   "execution_count": 233,
   "metadata": {},
   "outputs": [],
   "source": [
    "adjacent_sharp_features, adjacent_surfaces = build_surface_patch_graph(nbhood_features)\n"
   ]
  },
  {
   "cell_type": "code",
   "execution_count": 253,
   "metadata": {},
   "outputs": [],
   "source": [
    "surface_idx = 17\n",
    "surface = nbhood_features['surfaces'][surface_idx]\n",
    "adjacent_sharp_indexes = get_adjacent_features_by_bfs_with_depth1(\n",
    "                surface_idx, adjacent_sharp_features, adjacent_surfaces)\n",
    "surface_adjacent_features = {\n",
    "    'curves': [nbhood_features['curves'][idx]\n",
    "               for idx in np.unique(adjacent_sharp_indexes)]\n",
    "}\n"
   ]
  },
  {
   "cell_type": "code",
   "execution_count": 258,
   "metadata": {},
   "outputs": [],
   "source": [
    "# sharp_adjacent_2 = np.concatenate([nbhood.vertices[\n",
    "#     nbhood_features['curves'][sharp_curve_id]['vert_indices']\n",
    "# ] for sharp_curve_id in adjacent_sharp_features[2]])\n",
    "sharp_adjacent_2 = np.concatenate([nbhood.vertices[\n",
    "    nbhood_features['curves'][sharp_curve_id]['vert_indices']\n",
    "] for sharp_curve_id in adjacent_sharp_features[17]])\n",
    "\n",
    "sharp_adjacent_2_with_bfs = np.concatenate([nbhood.vertices[\n",
    "    curve['vert_indices']\n",
    "] for curve in surface_adjacent_features['curves']])"
   ]
  },
  {
   "cell_type": "code",
   "execution_count": 259,
   "metadata": {},
   "outputs": [
    {
     "data": {
      "application/vnd.jupyter.widget-view+json": {
       "model_id": "88e7904c859c4120a744af35d6f6fdc4",
       "version_major": 2,
       "version_minor": 0
      },
      "text/plain": [
       "Output()"
      ]
     },
     "metadata": {},
     "output_type": "display_data"
    }
   ],
   "source": [
    "display_sharpness(None,\n",
    "                 sharp_vert = sharp_adjacent_2, sharpvert_psize=0.05,\n",
    "                 samples=sharp_adjacent_2_with_bfs, samples_psize=0.05,)"
   ]
  },
  {
   "cell_type": "code",
   "execution_count": null,
   "metadata": {},
   "outputs": [],
   "source": []
  },
  {
   "cell_type": "code",
   "execution_count": null,
   "metadata": {},
   "outputs": [],
   "source": []
  },
  {
   "cell_type": "code",
   "execution_count": null,
   "metadata": {},
   "outputs": [],
   "source": []
  },
  {
   "cell_type": "code",
   "execution_count": null,
   "metadata": {},
   "outputs": [],
   "source": []
  },
  {
   "cell_type": "code",
   "execution_count": null,
   "metadata": {},
   "outputs": [],
   "source": []
  },
  {
   "cell_type": "code",
   "execution_count": null,
   "metadata": {},
   "outputs": [],
   "source": []
  },
  {
   "cell_type": "code",
   "execution_count": 260,
   "metadata": {},
   "outputs": [],
   "source": [
    "from sharpf.utils.mesh_utils.indexing import reindex_zerobased, compute_relative_indexes"
   ]
  },
  {
   "cell_type": "code",
   "execution_count": 261,
   "metadata": {},
   "outputs": [],
   "source": [
    "surface = nbhood_features['surfaces'][surface_idx]\n",
    "\n",
    "surface_face_indexes = np.where(np.isin(nbhood.faces, surface['vert_indices']).all(axis=1))[0]\n",
    "\n",
    "surface_mesh = reindex_zerobased(nbhood, surface['vert_indices'], surface_face_indexes)"
   ]
  },
  {
   "cell_type": "code",
   "execution_count": null,
   "metadata": {},
   "outputs": [],
   "source": []
  },
  {
   "cell_type": "code",
   "execution_count": 263,
   "metadata": {},
   "outputs": [
    {
     "name": "stderr",
     "output_type": "stream",
     "text": [
      "/home/user/miniconda/envs/py36/lib/python3.6/site-packages/traittypes/traittypes.py:101: UserWarning: Given trait value dtype \"float64\" does not match required type \"float32\". A coerced copy has been created.\n",
      "  np.dtype(self.dtype).name))\n",
      "/home/user/miniconda/envs/py36/lib/python3.6/site-packages/traittypes/traittypes.py:101: UserWarning: Given trait value dtype \"int64\" does not match required type \"uint32\". A coerced copy has been created.\n",
      "  np.dtype(self.dtype).name))\n"
     ]
    },
    {
     "data": {
      "application/vnd.jupyter.widget-view+json": {
       "model_id": "306cff6155264e87879d0c677c4909c3",
       "version_major": 2,
       "version_minor": 0
      },
      "text/plain": [
       "Output()"
      ]
     },
     "metadata": {},
     "output_type": "display_data"
    }
   ],
   "source": [
    "\n",
    "display_sharpness(surface_mesh,\n",
    "                 sharp_vert = sharp_adjacent_2_with_bfs, sharpvert_psize=0.05,\n",
    "                 samples=None, samples_psize=0.05,)"
   ]
  },
  {
   "cell_type": "code",
   "execution_count": 167,
   "metadata": {},
   "outputs": [],
   "source": [
    "\n",
    "def remove_boundary_features(mesh, features, how='none'):\n",
    "    \"\"\"Removes features indexed into vertex edges adjacent to 1 face only.\n",
    "    :param how: 'all_verts': remove entire feature curve if all vertices are boundary\n",
    "                'edges': remove vertices that belong to boundary edges only (not to other edges)\n",
    "                'verts': remove vertices that are boundary\n",
    "                'none': do nothing\n",
    "    \"\"\"\n",
    "    if how == 'none':\n",
    "        return features\n",
    "\n",
    "    mesh_edge_indexes, mesh_edge_counts = np.unique(\n",
    "        mesh.faces_unique_edges.flatten(), return_counts=True)\n",
    "\n",
    "    boundary_edges = mesh.edges_unique[mesh_edge_indexes[np.where(mesh_edge_counts == 1)[0]]]\n",
    "    boundary_vertex_indexes = np.unique(boundary_edges.flatten())\n",
    "\n",
    "    non_boundary_curves = []\n",
    "    for curve in features['curves']:\n",
    "        non_boundary_curve = deepcopy(curve)\n",
    "\n",
    "        if how == 'all_verts':\n",
    "            if np.all([vert_index in boundary_vertex_indexes\n",
    "                       for vert_index in curve['vert_indices']]):\n",
    "                continue\n",
    "\n",
    "        elif how == 'verts':\n",
    "            non_boundary_vert_indices = np.array([\n",
    "                vert_index for vert_index in curve['vert_indices']\n",
    "                if vert_index not in boundary_vertex_indexes\n",
    "            ])\n",
    "            if len(non_boundary_vert_indices) == 0:\n",
    "                continue\n",
    "            non_boundary_curve['vert_indices'] = non_boundary_vert_indices\n",
    "\n",
    "        elif how == 'edges':\n",
    "            curve_edges = mesh.edges_unique[\n",
    "                np.where(\n",
    "                    np.all(np.isin(mesh.edges_unique, curve['vert_indices']), axis=1)\n",
    "                )[0]\n",
    "            ]\n",
    "            non_boundary = (curve_edges[:, None] != boundary_edges).any(2).all(1)\n",
    "            non_boundary_vert_indices = np.unique(curve_edges[non_boundary])\n",
    "            non_boundary_curve['vert_indices'] = non_boundary_vert_indices\n",
    "\n",
    "        non_boundary_curves.append(non_boundary_curve)\n",
    "\n",
    "    non_boundary_features = {\n",
    "        'curves': non_boundary_curves,\n",
    "        'surfaces': features.get('surfaces', [])\n",
    "    }\n",
    "    return non_boundary_features\n"
   ]
  },
  {
   "cell_type": "code",
   "execution_count": 178,
   "metadata": {},
   "outputs": [],
   "source": [
    "surface_adjacent_features = remove_boundary_features(surface_mesh, surface_adjacent_features, how='verts')\n"
   ]
  },
  {
   "cell_type": "code",
   "execution_count": 197,
   "metadata": {},
   "outputs": [
    {
     "data": {
      "application/vnd.jupyter.widget-view+json": {
       "model_id": "c4a2a82490064a66b4f30fc71fdc584a",
       "version_major": 2,
       "version_minor": 0
      },
      "text/plain": [
       "Output()"
      ]
     },
     "metadata": {},
     "output_type": "display_data"
    }
   ],
   "source": [
    "display_sharpness(surface_mesh,\n",
    "                 sharp_vert = sharp_adjacent_2, sharpvert_psize=0.2)"
   ]
  },
  {
   "cell_type": "code",
   "execution_count": null,
   "metadata": {},
   "outputs": [],
   "source": []
  },
  {
   "cell_type": "code",
   "execution_count": null,
   "metadata": {},
   "outputs": [],
   "source": []
  },
  {
   "cell_type": "code",
   "execution_count": 118,
   "metadata": {},
   "outputs": [],
   "source": []
  },
  {
   "cell_type": "code",
   "execution_count": null,
   "metadata": {},
   "outputs": [],
   "source": []
  },
  {
   "cell_type": "code",
   "execution_count": null,
   "metadata": {},
   "outputs": [],
   "source": []
  },
  {
   "cell_type": "code",
   "execution_count": null,
   "metadata": {},
   "outputs": [],
   "source": []
  },
  {
   "cell_type": "code",
   "execution_count": null,
   "metadata": {},
   "outputs": [],
   "source": []
  },
  {
   "cell_type": "code",
   "execution_count": null,
   "metadata": {},
   "outputs": [],
   "source": []
  },
  {
   "cell_type": "code",
   "execution_count": null,
   "metadata": {},
   "outputs": [],
   "source": []
  },
  {
   "cell_type": "code",
   "execution_count": null,
   "metadata": {},
   "outputs": [],
   "source": []
  },
  {
   "cell_type": "code",
   "execution_count": null,
   "metadata": {},
   "outputs": [],
   "source": []
  },
  {
   "cell_type": "code",
   "execution_count": null,
   "metadata": {},
   "outputs": [],
   "source": []
  },
  {
   "cell_type": "code",
   "execution_count": null,
   "metadata": {},
   "outputs": [],
   "source": []
  },
  {
   "cell_type": "code",
   "execution_count": 49,
   "metadata": {},
   "outputs": [],
   "source": [
    "from scipy.spatial import cKDTree\n"
   ]
  },
  {
   "cell_type": "code",
   "execution_count": 50,
   "metadata": {},
   "outputs": [],
   "source": [
    "nn_distances, nn_indexes = cKDTree(noisy_points, leafsize=16).query(noisy_points, k=2, n_jobs=4)\n"
   ]
  },
  {
   "cell_type": "code",
   "execution_count": 51,
   "metadata": {},
   "outputs": [
    {
     "data": {
      "text/plain": [
       "(4096,)"
      ]
     },
     "execution_count": 51,
     "metadata": {},
     "output_type": "execute_result"
    }
   ],
   "source": [
    "distances[nn_indexes[:, 0]].shape"
   ]
  },
  {
   "cell_type": "code",
   "execution_count": 53,
   "metadata": {},
   "outputs": [],
   "source": [
    "values = np.abs(distances[nn_indexes[:, 0]] - distances[nn_indexes[:, 1]]) / nn_distances[:, 1]"
   ]
  },
  {
   "cell_type": "code",
   "execution_count": 56,
   "metadata": {},
   "outputs": [
    {
     "data": {
      "text/plain": [
       "array([4.66502749, 5.17381566, 4.29546884, 4.66502749, 4.06572867,\n",
       "       4.06572867, 3.17576882, 3.73807832, 2.26651807, 2.85688188,\n",
       "       4.74473641, 4.83730064, 4.83596246, 4.83730064, 4.83596246,\n",
       "       4.03023284, 5.14030622, 5.05465149, 3.58716084, 3.58716084,\n",
       "       4.75233872, 4.79312687, 4.20335957, 4.38694014, 4.01801899,\n",
       "       4.0858341 , 4.57970763, 1.54250806, 1.54250806, 3.37980973,\n",
       "       4.29720948, 4.29720948, 3.48911338, 3.48911338, 5.66720164,\n",
       "       5.66720164])"
      ]
     },
     "execution_count": 56,
     "metadata": {},
     "output_type": "execute_result"
    }
   ],
   "source": [
    "values[np.where(values > 1.1)[0]]"
   ]
  },
  {
   "cell_type": "code",
   "execution_count": 55,
   "metadata": {},
   "outputs": [
    {
     "data": {
      "application/vnd.jupyter.widget-view+json": {
       "model_id": "95b4ded9bfef46a2acdfe2821b28e9c7",
       "version_major": 2,
       "version_minor": 0
      },
      "text/plain": [
       "Output()"
      ]
     },
     "metadata": {},
     "output_type": "display_data"
    }
   ],
   "source": [
    "display_sharpness(nbhood, plot_meshvert=False, meshvert_psize=0.01,\n",
    "                  sharp_vert=points[np.where(values > 1.1)[0]], sharpvert_psize=2 * sampler.resolution_3d,\n",
    "                  samples=noisy_points, samples_distances=distances,\n",
    "                  samples_color=0x0000ff, samples_psize=sampler.resolution_3d)"
   ]
  },
  {
   "cell_type": "code",
   "execution_count": null,
   "metadata": {},
   "outputs": [],
   "source": []
  },
  {
   "cell_type": "code",
   "execution_count": null,
   "metadata": {},
   "outputs": [],
   "source": []
  },
  {
   "cell_type": "code",
   "execution_count": null,
   "metadata": {},
   "outputs": [],
   "source": [
    "import igl"
   ]
  },
  {
   "cell_type": "code",
   "execution_count": null,
   "metadata": {},
   "outputs": [],
   "source": [
    "_, point_face_indexes, _ = \\\n",
    "    igl.point_mesh_squared_distance(noisy_points, nbhood.vertices, nbhood.faces)\n",
    "\n"
   ]
  },
  {
   "cell_type": "code",
   "execution_count": null,
   "metadata": {},
   "outputs": [],
   "source": [
    "from sharpf.utils.abc_utils import get_adjacent_features_by_bfs_with_depth1, build_surface_patch_graph"
   ]
  },
  {
   "cell_type": "code",
   "execution_count": null,
   "metadata": {},
   "outputs": [],
   "source": [
    "\n",
    "# understand which surface patches are adjacent to which sharp features\n",
    "# and other surface patches\n",
    "adjacent_sharp_features, adjacent_surfaces = build_surface_patch_graph(nbhood_features)\n",
    "\n"
   ]
  },
  {
   "cell_type": "code",
   "execution_count": null,
   "metadata": {},
   "outputs": [],
   "source": [
    "adjacent_sharp_features, adjacent_surfaces"
   ]
  },
  {
   "cell_type": "code",
   "execution_count": null,
   "metadata": {},
   "outputs": [],
   "source": [
    "\n",
    "# compute distance, iterating over points sampled from corresponding surface patches\n",
    "distances, projections = np.ones(len(points)) * annotator.distance_upper_bound, np.zeros_like(points)\n",
    "\n"
   ]
  },
  {
   "cell_type": "code",
   "execution_count": null,
   "metadata": {},
   "outputs": [],
   "source": [
    "surface_idx, surface = 3, nbhood_features['surfaces'][3]"
   ]
  },
  {
   "cell_type": "code",
   "execution_count": null,
   "metadata": {},
   "outputs": [],
   "source": [
    "\n",
    "# constrain distance computation to certain sharp features only\n",
    "adjacent_sharp_indexes = get_adjacent_features_by_bfs_with_depth1(\n",
    "    surface_idx, adjacent_sharp_features, adjacent_surfaces)\n"
   ]
  },
  {
   "cell_type": "code",
   "execution_count": null,
   "metadata": {},
   "outputs": [],
   "source": [
    "adjacent_sharp_indexes"
   ]
  },
  {
   "cell_type": "code",
   "execution_count": null,
   "metadata": {},
   "outputs": [],
   "source": [
    "surface_adjacent_features = {\n",
    "    'curves': [nbhood_features['curves'][idx]\n",
    "               for idx in np.unique(adjacent_sharp_indexes)]\n",
    "}\n"
   ]
  },
  {
   "cell_type": "code",
   "execution_count": null,
   "metadata": {},
   "outputs": [],
   "source": [
    "len(surface_adjacent_features['curves'])"
   ]
  },
  {
   "cell_type": "code",
   "execution_count": null,
   "metadata": {},
   "outputs": [],
   "source": [
    "from sharpf.utils.mesh_utils.indexing import in2d\n"
   ]
  },
  {
   "cell_type": "code",
   "execution_count": null,
   "metadata": {},
   "outputs": [],
   "source": [
    "point_cloud_indexes = np.where(\n",
    "    in2d(nbhood.faces[point_face_indexes], surface['face_indices'])\n",
    ")[0]\n"
   ]
  },
  {
   "cell_type": "code",
   "execution_count": null,
   "metadata": {},
   "outputs": [],
   "source": [
    "point_cloud_indexes"
   ]
  },
  {
   "cell_type": "code",
   "execution_count": null,
   "metadata": {},
   "outputs": [],
   "source": [
    "# compute distances using parent class AABB method\n",
    "surface_matching_edges, surface_projections, surface_distances = \\\n",
    "    annotator.compute_aabb_nearest_points(nbhood, surface_adjacent_features, noisy_points[point_cloud_indexes])\n"
   ]
  },
  {
   "cell_type": "code",
   "execution_count": null,
   "metadata": {},
   "outputs": [],
   "source": [
    "distances[point_cloud_indexes], projections[point_cloud_indexes] = surface_distances, surface_projections\n"
   ]
  },
  {
   "cell_type": "code",
   "execution_count": null,
   "metadata": {},
   "outputs": [],
   "source": [
    "display_sharpness(nbhood, plot_meshvert=False, meshvert_psize=0.01,\n",
    "                  sharp_vert=None, sharpvert_psize=2 * sampler.resolution_3d,\n",
    "                  samples=noisy_points, samples_distances=distances,\n",
    "                  samples_color=0x0000ff, samples_psize=sampler.resolution_3d)"
   ]
  },
  {
   "cell_type": "code",
   "execution_count": null,
   "metadata": {},
   "outputs": [],
   "source": [
    "def compute_bounded_labels(points, projections, distances=None, max_distance=np.inf, distance_scaler=1.0):\n",
    "    if distances is None:\n",
    "        distances = np.linalg.norm(projections - points, axis=1)\n",
    "\n",
    "    distances = distances / distance_scaler\n",
    "    # boolean mask marking objects far away from sharp curves\n",
    "    far_from_sharp = distances > max_distance\n",
    "    distances[far_from_sharp] = max_distance\n",
    "    distances = distances.reshape(-1, 1)\n",
    "    # compute directions for points close to sharp curves\n",
    "    directions = np.zeros_like(points)\n",
    "    directions[~far_from_sharp] = projections[~far_from_sharp] - points[~far_from_sharp]\n",
    "    eps = 1e-6\n",
    "    directions[~far_from_sharp] /= (np.linalg.norm(directions[~far_from_sharp], axis=1, keepdims=True) + eps)\n",
    "    return distances, directions"
   ]
  },
  {
   "cell_type": "code",
   "execution_count": null,
   "metadata": {},
   "outputs": [],
   "source": [
    "\n",
    "distances, directions = compute_bounded_labels(\n",
    "    noisy_points, projections, distances=distances,\n",
    "    max_distance=annotator.distance_upper_bound)"
   ]
  },
  {
   "cell_type": "code",
   "execution_count": null,
   "metadata": {},
   "outputs": [],
   "source": [
    "display_sharpness(nbhood, plot_meshvert=False, meshvert_psize=0.01,\n",
    "                  sharp_vert=None, sharpvert_psize=2 * sampler.resolution_3d,\n",
    "                  samples=noisy_points, samples_distances=distances,\n",
    "                  samples_color=0x0000ff, samples_psize=sampler.resolution_3d)"
   ]
  },
  {
   "cell_type": "code",
   "execution_count": null,
   "metadata": {},
   "outputs": [],
   "source": [
    "from scipy.spatial import cKDTree\n"
   ]
  },
  {
   "cell_type": "code",
   "execution_count": null,
   "metadata": {},
   "outputs": [],
   "source": [
    "nn_distances, nn_indexes = cKDTree(noisy_points, leafsize=16).query(noisy_points, k=2, n_jobs=4)\n"
   ]
  },
  {
   "cell_type": "code",
   "execution_count": null,
   "metadata": {},
   "outputs": [],
   "source": [
    "nn_distances.shape"
   ]
  },
  {
   "cell_type": "code",
   "execution_count": null,
   "metadata": {},
   "outputs": [],
   "source": [
    "values = np.abs(distances[nn_indexes[:, 0]] - distances[nn_indexes[:, 1]]) / np.atleast_2d(nn_distances[:, 1]).T\n"
   ]
  },
  {
   "cell_type": "code",
   "execution_count": null,
   "metadata": {},
   "outputs": [],
   "source": []
  },
  {
   "cell_type": "code",
   "execution_count": null,
   "metadata": {},
   "outputs": [],
   "source": [
    "ii, jj = np.where(values > 1.1)"
   ]
  },
  {
   "cell_type": "code",
   "execution_count": null,
   "metadata": {},
   "outputs": [],
   "source": [
    "ii"
   ]
  },
  {
   "cell_type": "code",
   "execution_count": null,
   "metadata": {},
   "outputs": [],
   "source": [
    "display_sharpness(nbhood, plot_meshvert=False, meshvert_psize=0.01,\n",
    "                  sharp_vert=None, sharpvert_psize=2 * sampler.resolution_3d,\n",
    "                  samples=noisy_points[ii, jj], samples_distances=distances[ii, jj],\n",
    "                  samples_color=0x0000ff, samples_psize=sampler.resolution_3d)"
   ]
  },
  {
   "cell_type": "code",
   "execution_count": null,
   "metadata": {},
   "outputs": [],
   "source": [
    "\n",
    "    # constrain distance computation to certain sharp features only\n",
    "    adjacent_sharp_indexes = get_adjacent_features_by_bfs_with_depth1(\n",
    "        surface_idx, adjacent_sharp_features, adjacent_surfaces)\n",
    "    surface_adjacent_features = {\n",
    "        'curves': [features_patch['curves'][idx]\n",
    "                   for idx in np.unique(adjacent_sharp_indexes)]\n",
    "    }\n",
    "    if len(surface_adjacent_features['curves']) == 0:\n",
    "        continue\n",
    "\n",
    "    point_cloud_indexes = np.where(\n",
    "        in2d(mesh_patch.faces[point_face_indexes], surface['face_indices'])\n",
    "    )[0]\n",
    "    # point_cloud_indexes = np.where(np.isin(closest_nbhood_vertex_idx, surface['vert_indices']))[0]\n",
    "    if len(point_cloud_indexes) == 0:\n",
    "        continue\n",
    "    # compute distances using parent class AABB method\n",
    "    surface_matching_edges, surface_projections, surface_distances = \\\n",
    "        self.compute_aabb_nearest_points(mesh_patch, surface_adjacent_features, points[point_cloud_indexes])\n",
    "    distances[point_cloud_indexes], projections[point_cloud_indexes] = surface_distances, surface_projections\n",
    "\n",
    "return projections, distances\n",
    "\n"
   ]
  },
  {
   "cell_type": "code",
   "execution_count": null,
   "metadata": {},
   "outputs": [],
   "source": []
  },
  {
   "cell_type": "code",
   "execution_count": null,
   "metadata": {},
   "outputs": [],
   "source": []
  },
  {
   "cell_type": "code",
   "execution_count": null,
   "metadata": {},
   "outputs": [],
   "source": []
  },
  {
   "cell_type": "code",
   "execution_count": null,
   "metadata": {},
   "outputs": [],
   "source": []
  },
  {
   "cell_type": "code",
   "execution_count": null,
   "metadata": {},
   "outputs": [],
   "source": []
  },
  {
   "cell_type": "code",
   "execution_count": null,
   "metadata": {},
   "outputs": [],
   "source": []
  },
  {
   "cell_type": "code",
   "execution_count": null,
   "metadata": {},
   "outputs": [],
   "source": [
    "nbhood.vertices.shape"
   ]
  },
  {
   "cell_type": "code",
   "execution_count": null,
   "metadata": {},
   "outputs": [],
   "source": [
    "display_sharpness(nbhood, plot_meshvert=False, meshvert_psize=0.01,\n",
    "                  sharp_vert=None, sharpvert_psize=2 * sampler.resolution_3d,\n",
    "                  samples=noisy_points, samples_distances=distances,\n",
    "                  samples_color=0x0000ff, samples_psize=sampler.resolution_3d)"
   ]
  },
  {
   "cell_type": "code",
   "execution_count": null,
   "metadata": {},
   "outputs": [],
   "source": [
    "mean_mmd(points)"
   ]
  },
  {
   "cell_type": "code",
   "execution_count": null,
   "metadata": {},
   "outputs": [],
   "source": []
  },
  {
   "cell_type": "code",
   "execution_count": null,
   "metadata": {},
   "outputs": [],
   "source": []
  },
  {
   "cell_type": "code",
   "execution_count": null,
   "metadata": {},
   "outputs": [],
   "source": []
  },
  {
   "cell_type": "code",
   "execution_count": null,
   "metadata": {},
   "outputs": [],
   "source": []
  },
  {
   "cell_type": "code",
   "execution_count": null,
   "metadata": {},
   "outputs": [],
   "source": []
  }
 ],
 "metadata": {
  "kernelspec": {
   "display_name": "Python 3",
   "language": "python",
   "name": "python3"
  },
  "language_info": {
   "codemirror_mode": {
    "name": "ipython",
    "version": 3
   },
   "file_extension": ".py",
   "mimetype": "text/x-python",
   "name": "python",
   "nbconvert_exporter": "python",
   "pygments_lexer": "ipython3",
   "version": "3.6.5"
  }
 },
 "nbformat": 4,
 "nbformat_minor": 4
}
