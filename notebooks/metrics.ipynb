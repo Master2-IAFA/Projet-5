{
 "cells": [
  {
   "cell_type": "code",
   "execution_count": 1,
   "metadata": {},
   "outputs": [],
   "source": [
    "%load_ext autoreload\n",
    "%autoreload 2"
   ]
  },
  {
   "cell_type": "code",
   "execution_count": 3,
   "metadata": {},
   "outputs": [],
   "source": [
    "import argparse\n",
    "import glob\n",
    "import json\n",
    "import os\n",
    "import sys\n",
    "from collections import defaultdict\n",
    "\n",
    "import torch\n",
    "import torch.nn\n",
    "import h5py"
   ]
  },
  {
   "cell_type": "code",
   "execution_count": 5,
   "metadata": {},
   "outputs": [],
   "source": [
    "# from sharpf.modules.losses import bce_loss, smooth_l1_loss, smooth_l1_reg_loss"
   ]
  },
  {
   "cell_type": "code",
   "execution_count": 30,
   "metadata": {},
   "outputs": [],
   "source": [
    "# LOSSES_BY_NAME = {\n",
    "#     'has_sharp': bce_loss,\n",
    "#     'segment_sharp': bce_loss,\n",
    "#     'regress_sharpdf': smooth_l1_loss,\n",
    "#     'regress_sharpdirf': smooth_l1_reg_loss\n",
    "# }\n",
    "LOSSES_BY_NAME = {}\n",
    "\n",
    "# an ugly hack to extract available losses from torch\n",
    "TORCH_NN_LOSSES = list(filter(lambda f: f.endswith('Loss'), dir(torch.nn)))\n",
    "LOSSES = TORCH_NN_LOSSES\n",
    "\n",
    "\n",
    "def get_loss_function(metric_name, reduction='none'):\n",
    "    \"\"\"The metric should be either importable from torch.nn, or in LOSSES_BY_NAME.\"\"\"\n",
    "\n",
    "    if metric_name in LOSSES_BY_NAME:\n",
    "        loss_class = LOSSES_BY_NAME[metric_name]\n",
    "\n",
    "    elif metric_name in TORCH_NN_LOSSES:\n",
    "        loss_class = getattr(torch.nn, metric_name)\n",
    "\n",
    "    else:\n",
    "        raise ValueError('Metric {} cannot be instantiated, skipping'.format(metric_name))\n",
    "\n",
    "    loss_function = loss_class(reduction=reduction)\n",
    "    return loss_function\n",
    "\n"
   ]
  },
  {
   "cell_type": "code",
   "execution_count": 7,
   "metadata": {},
   "outputs": [],
   "source": [
    "def display_sharpness(mesh=None, plot_meshvert=True,\n",
    "                      samples=None, samples_distances=None,\n",
    "                      sharp_vert=None, sharp_curves=None,\n",
    "                      directions=None, directions_width=0.0025,\n",
    "                      samples_color=0x0000ff, samples_psize=0.002, \n",
    "                      mesh_color=0xbbbbbb, meshvert_color=0x666666, meshvert_psize=0.0025,\n",
    "                      sharpvert_color=0xff0000, sharpvert_psize=0.0025,\n",
    "                      sharpcurve_color=None, sharpcurve_width=0.0025,\n",
    "                      as_image=False, plot_height=768, \n",
    "                      cmap_distances=k3d.colormaps.basic_color_maps.WarmCool,\n",
    "                      distance_range=None):\n",
    "    \n",
    "    plot = k3d.plot(height=plot_height)\n",
    "    \n",
    "    if None is not mesh:\n",
    "        k3d_mesh = k3d.mesh(mesh.vertices, mesh.faces, color=mesh_color)\n",
    "        plot += k3d_mesh\n",
    "\n",
    "        if plot_meshvert:\n",
    "            k3d_points = k3d.points(mesh.vertices, \n",
    "                                    point_size=meshvert_psize, color=meshvert_color)\n",
    "            plot += k3d_points\n",
    "            k3d_points.shader='flat'\n",
    "\n",
    "    if None is not samples:\n",
    "        colors = None\n",
    "        if None is not samples_distances:\n",
    "            if None is distance_range:\n",
    "                distance_range = [0, np.max(samples_distances)]\n",
    "\n",
    "            colors = k3d.helpers.map_colors(\n",
    "                samples_distances, cmap_distances, distance_range\n",
    "            ).astype(np.uint32)\n",
    "            k3d_points = k3d.points(samples, point_size=samples_psize, colors=colors)\n",
    "        else:\n",
    "            k3d_points = k3d.points(samples, point_size=samples_psize, color=samples_color)\n",
    "        plot += k3d_points\n",
    "        k3d_points.shader='flat'\n",
    "        \n",
    "        if None is not directions:\n",
    "            directions_to_plot = np.hstack((samples, samples + directions))\n",
    "            \n",
    "            for i, dir_to_plot in enumerate(directions_to_plot):\n",
    "                dir_to_plot = dir_to_plot.reshape((2, 3))\n",
    "                if np.all(dir_to_plot[0] == dir_to_plot[1]):\n",
    "                    continue\n",
    "                color = int(colors[i]) if None is not colors else samples_color\n",
    "                plt_line = k3d.line(dir_to_plot, \n",
    "                                    shader='mesh', width=directions_width, color=color)\n",
    "                plot += plt_line\n",
    "\n",
    "    if None is not sharp_vert:\n",
    "        k3d_points = k3d.points(sharp_vert,\n",
    "                                point_size=sharpvert_psize, color=sharpvert_color)\n",
    "        plot += k3d_points\n",
    "        k3d_points.shader='flat'\n",
    "        \n",
    "        if None is not sharp_curves:            \n",
    "            if None is not sharpcurve_color:\n",
    "                color = sharpcurve_color\n",
    "            else:\n",
    "                import randomcolor\n",
    "                rand_color = randomcolor.RandomColor()\n",
    "            for i, vert_ind in enumerate(sharp_curves):\n",
    "                sharp_points_curve = mesh.vertices[vert_ind]\n",
    "                \n",
    "                if None is sharpcurve_color:\n",
    "                    color = rand_color.generate(hue='red')[0]\n",
    "                    color = int('0x' + color[1:], 16)\n",
    "                plt_line = k3d.line(sharp_points_curve, \n",
    "                                    shader='mesh', width=sharpcurve_width, color=color)\n",
    "                plot += plt_line\n",
    "        \n",
    "    plot.grid_visible = False\n",
    "    plot.camera_auto_fit = True\n",
    "    plot.display()\n",
    "    \n",
    "    return plot"
   ]
  },
  {
   "cell_type": "code",
   "execution_count": 11,
   "metadata": {},
   "outputs": [
    {
     "name": "stdout",
     "output_type": "stream",
     "text": [
      "/data/points/high_0.02/val/val_1024_0.hdf5\r\n"
     ]
    }
   ],
   "source": [
    "!ls /data/points/high_0.02/val/val_1024_0.hdf5"
   ]
  },
  {
   "cell_type": "code",
   "execution_count": 103,
   "metadata": {},
   "outputs": [],
   "source": [
    "true_dir = '/data/points/high_0.02/val/'\n",
    "verbose = True\n",
    "target_label = 'distances'\n",
    "split_by = 'num_surfaces'\n",
    "\n",
    "pred_dir = '/data/points/low_0.125/val/'\n",
    "\n",
    "metrics = ['MSELoss']\n",
    "\n",
    "n_histogram_bins = 100\n",
    "n_best_instances = 10\n",
    "n_worst_instances = 10\n",
    "n_avg_instances = 10\n",
    "\n",
    "\n",
    "save_filename = '/logs/metrics.json'"
   ]
  },
  {
   "cell_type": "code",
   "execution_count": 78,
   "metadata": {},
   "outputs": [],
   "source": [
    "filenames = sorted(glob.glob(os.path.join(true_dir, '*.hdf5')))"
   ]
  },
  {
   "cell_type": "code",
   "execution_count": 79,
   "metadata": {},
   "outputs": [],
   "source": [
    "split_by_values = None\n",
    "metrics_by_name = defaultdict(dict)  # metric"
   ]
  },
  {
   "cell_type": "code",
   "execution_count": 80,
   "metadata": {},
   "outputs": [],
   "source": [
    "true_pathname = filenames[0]"
   ]
  },
  {
   "cell_type": "code",
   "execution_count": 81,
   "metadata": {},
   "outputs": [
    {
     "name": "stdout",
     "output_type": "stream",
     "text": [
      "=== Reading GT file val_1024_0.hdf5 ===\n"
     ]
    }
   ],
   "source": [
    "true_filename = os.path.basename(true_pathname)\n",
    "if verbose:\n",
    "    print('=== Reading GT file %s ===' % true_filename)\n",
    "with h5py.File(true_pathname, 'r') as f:\n",
    "    true_label = torch.from_numpy(f[target_label][:])\n",
    "    if None is not split_by:\n",
    "        split_by_values = torch.from_numpy(f[split_by][:])"
   ]
  },
  {
   "cell_type": "code",
   "execution_count": 82,
   "metadata": {},
   "outputs": [
    {
     "data": {
      "text/plain": [
       "tensor([2, 2, 2,  ..., 1, 1, 1], dtype=torch.int8)"
      ]
     },
     "execution_count": 82,
     "metadata": {},
     "output_type": "execute_result"
    }
   ],
   "source": [
    "split_by_values"
   ]
  },
  {
   "cell_type": "code",
   "execution_count": 83,
   "metadata": {},
   "outputs": [
    {
     "name": "stdout",
     "output_type": "stream",
     "text": [
      "=== Reading pred file val_1024_0.hdf5 ===\n"
     ]
    }
   ],
   "source": [
    "pred_pathname = os.path.join(pred_dir, true_filename)\n",
    "if verbose:\n",
    "    print('=== Reading pred file %s ===' % os.path.basename(pred_pathname))\n",
    "with h5py.File(pred_pathname, 'r') as f:\n",
    "    pred_label = torch.from_numpy(f[target_label][:])"
   ]
  },
  {
   "cell_type": "code",
   "execution_count": 84,
   "metadata": {},
   "outputs": [],
   "source": [
    "metric_name = metrics[0]"
   ]
  },
  {
   "cell_type": "code",
   "execution_count": 85,
   "metadata": {},
   "outputs": [
    {
     "name": "stdout",
     "output_type": "stream",
     "text": [
      "=== Computing MSELoss ===\n"
     ]
    }
   ],
   "source": [
    "if verbose:\n",
    "    print('=== Computing %s ===' % metric_name)\n",
    "try:\n",
    "    loss_function = get_loss_function(metric_name, reduction='none')\n",
    "except Exception as e:\n",
    "    print(str(e), file = sys.stderr)\n",
    "    "
   ]
  },
  {
   "cell_type": "code",
   "execution_count": 86,
   "metadata": {},
   "outputs": [],
   "source": [
    "loss_values = loss_function(true_label, pred_label)"
   ]
  },
  {
   "cell_type": "code",
   "execution_count": 87,
   "metadata": {},
   "outputs": [],
   "source": [
    "metrics_by_name[metric_name][true_filename] = {\n",
    "    'values_by_instance': loss_values.mean(1),\n",
    "    'split_by': split_by_values\n",
    "}"
   ]
  },
  {
   "cell_type": "code",
   "execution_count": 98,
   "metadata": {},
   "outputs": [],
   "source": [
    "def compute_statistics(loss_values, indexes=None):\n",
    "    n_instances = len(loss_values)\n",
    "    if None is indexes:\n",
    "        indexes = torch.arange(n_instances)\n",
    "    ascending_idx = torch.argsort(loss_values)\n",
    "    mean_value = loss_values.mean()\n",
    "    median_value = loss_values.median()\n",
    "    values_hist = torch.histc(loss_values, bins=n_histogram_bins)\n",
    "    bins_hist = torch.linspace(torch.min(loss_values),\n",
    "                               torch.max(loss_values),\n",
    "                               n_histogram_bins)\n",
    "\n",
    "    statistics = {\n",
    "        'values_by_instance': loss_values.tolist(),\n",
    "        'mean_value': mean_value.item(),\n",
    "        'median_value': median_value.item(),\n",
    "        'values_hist': values_hist.tolist(),\n",
    "        'bins_hist': bins_hist.tolist(),\n",
    "    }\n",
    "    if None is not n_best_instances:\n",
    "        statistics['best_ids'] = indexes[ascending_idx[:n_best_instances]].tolist()\n",
    "\n",
    "    if None is not n_worst_instances:\n",
    "        statistics['worst_ids'] = indexes[ascending_idx[-n_worst_instances:]].tolist()\n",
    "\n",
    "    if None is not n_avg_instances:\n",
    "        # average here denotes \"close to median\"\n",
    "        avg_min_idx = n_instances // 2 - n_avg_instances // 2\n",
    "        avg_max_idx = n_instances // 2 + n_avg_instances // 2\n",
    "        statistics['avg_ids'] = indexes[ascending_idx[avg_min_idx:avg_max_idx]].tolist()\n",
    "\n",
    "    return statistics\n"
   ]
  },
  {
   "cell_type": "code",
   "execution_count": 99,
   "metadata": {},
   "outputs": [],
   "source": [
    "statistics_by_metric = defaultdict(dict)\n"
   ]
  },
  {
   "cell_type": "code",
   "execution_count": 100,
   "metadata": {},
   "outputs": [],
   "source": [
    "loss_values = torch.cat([value['values_by_instance']\n",
    "                                 for value in metrics_by_name[metric_name].values()])"
   ]
  },
  {
   "cell_type": "code",
   "execution_count": 101,
   "metadata": {},
   "outputs": [],
   "source": [
    "statistics_by_metric[metric_name] = {\n",
    "    'default': compute_statistics(loss_values)\n",
    "}"
   ]
  },
  {
   "cell_type": "code",
   "execution_count": 105,
   "metadata": {},
   "outputs": [],
   "source": [
    "if None is not split_by:\n",
    "    split_by_values = torch.cat([value['split_by']\n",
    "                                 for value in metrics_by_name[metric_name].values()])\n",
    "    unique_split_by_values = sorted(torch.unique(split_by_values).tolist())\n"
   ]
  },
  {
   "cell_type": "code",
   "execution_count": 106,
   "metadata": {},
   "outputs": [
    {
     "data": {
      "text/plain": [
       "[1, 2, 3, 4, 5, 6, 7, 8]"
      ]
     },
     "execution_count": 106,
     "metadata": {},
     "output_type": "execute_result"
    }
   ],
   "source": [
    "unique_split_by_values"
   ]
  },
  {
   "cell_type": "code",
   "execution_count": 122,
   "metadata": {},
   "outputs": [],
   "source": [
    "for value in unique_split_by_values:\n",
    "    key = '{}={}'.format(split_by, value)\n",
    "    selector = (split_by_values == value)\n",
    "    statistics_by_metric[metric_name].update({\n",
    "        key : compute_statistics(loss_values[selector], indexes=selector.nonzero().reshape((-1)))\n",
    "    })"
   ]
  },
  {
   "cell_type": "code",
   "execution_count": 125,
   "metadata": {},
   "outputs": [
    {
     "data": {
      "text/plain": [
       "dict_keys(['default', 'num_surfaces=1', 'num_surfaces=2', 'num_surfaces=3', 'num_surfaces=4', 'num_surfaces=5', 'num_surfaces=6', 'num_surfaces=7', 'num_surfaces=8'])"
      ]
     },
     "execution_count": 125,
     "metadata": {},
     "output_type": "execute_result"
    }
   ],
   "source": [
    "statistics_by_metric['MSELoss'].keys()"
   ]
  },
  {
   "cell_type": "code",
   "execution_count": 104,
   "metadata": {},
   "outputs": [],
   "source": [
    "with open(save_filename, 'w') as write_file:\n",
    "    json.dump(statistics_by_metric, write_file)"
   ]
  },
  {
   "cell_type": "code",
   "execution_count": null,
   "metadata": {},
   "outputs": [],
   "source": []
  }
 ],
 "metadata": {
  "kernelspec": {
   "display_name": "Python 3",
   "language": "python",
   "name": "python3"
  },
  "language_info": {
   "codemirror_mode": {
    "name": "ipython",
    "version": 3
   },
   "file_extension": ".py",
   "mimetype": "text/x-python",
   "name": "python",
   "nbconvert_exporter": "python",
   "pygments_lexer": "ipython3",
   "version": "3.6.5"
  }
 },
 "nbformat": 4,
 "nbformat_minor": 4
}
