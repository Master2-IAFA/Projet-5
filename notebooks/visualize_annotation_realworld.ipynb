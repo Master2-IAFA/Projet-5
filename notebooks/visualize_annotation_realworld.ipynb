{
 "cells": [
  {
   "cell_type": "code",
   "execution_count": 1,
   "metadata": {},
   "outputs": [],
   "source": [
    "%load_ext autoreload\n",
    "%autoreload 2"
   ]
  },
  {
   "cell_type": "code",
   "execution_count": 2,
   "metadata": {
    "scrolled": true
   },
   "outputs": [
    {
     "name": "stderr",
     "output_type": "stream",
     "text": [
      "Matplotlib created a temporary config/cache directory at /tmp/matplotlib-ihldzeai because the default path (/home/user/.cache/matplotlib) is not a writable directory; it is highly recommended to set the MPLCONFIGDIR environment variable to a writable directory, in particular to speed up the import of Matplotlib and to better support multiprocessing.\n"
     ]
    }
   ],
   "source": [
    "from collections import defaultdict\n",
    "from copy import deepcopy\n",
    "import json\n",
    "import os\n",
    "import warnings\n",
    "from io import BytesIO\n",
    "\n",
    "import igl\n",
    "import randomcolor\n",
    "import trimesh\n",
    "import k3d\n",
    "import yaml\n",
    "import numpy as np\n",
    "import matplotlib.pyplot as plt\n",
    "from tqdm.notebook import tqdm, trange\n",
    "from joblib import Parallel, delayed"
   ]
  },
  {
   "cell_type": "code",
   "execution_count": 3,
   "metadata": {},
   "outputs": [],
   "source": [
    "from sharpf.utils.abc_utils.hdf5.dataset import Hdf5File, PreloadTypes\n",
    "import sharpf.utils.abc_utils.hdf5.io_struct as io_struct\n",
    "import sharpf.data.datasets.sharpf_io as sharpf_io\n",
    "import sharpf.utils.plotting as def_plot\n",
    "from sharpf.utils.abc_utils.mesh.indexing import reindex_zerobased\n",
    "from sharpf.utils.abc_utils.mesh.io import trimesh_load\n",
    "import sharpf.data.data_smells as smells\n",
    "\n",
    "\n",
    "import argparse\n",
    "from glob import glob\n",
    "from io import BytesIO\n",
    "import os\n",
    "import sys\n",
    "\n",
    "import igl\n",
    "import numpy as np\n",
    "import trimesh.transformations as tt\n",
    "from tqdm import tqdm\n",
    "import yaml\n",
    "\n",
    "\n",
    "from sharpf.data.annotation import ANNOTATOR_BY_TYPE\n",
    "from sharpf.utils.camera_utils.view import CameraView\n",
    "from sharpf.data.imaging import RaycastingImaging\n",
    "from sharpf.utils.py_utils.config import load_func_from_config\n",
    "from sharpf.utils.camera_utils.camera_pose import CameraPose, camera_to_display\n",
    "from sharpf.utils.abc_utils.hdf5.dataset import Hdf5File, PreloadTypes\n",
    "from sharpf.utils.abc_utils.mesh.io import trimesh_load\n",
    "from sharpf.utils.convertor_utils.convertors_io import (\n",
    "    AnnotatedViewIO,\n",
    "    ViewIO,\n",
    "    write_annotated_views_to_hdf5)\n",
    "import sharpf.utils.abc_utils.abc.feature_utils as def_feature_utils\n",
    "from sharpf.utils.convertor_utils.meshlab_project_parsers import load_meshlab_project\n",
    "import sharpf.utils.convertor_utils.rangevision_utils as rv_utils\n",
    "from sharpf.utils.camera_utils import matrix\n",
    "from sharpf.utils.numpy_utils.transformations import transform_to_frame\n",
    "from sharpf.utils.abc_utils.mesh.indexing import in2d"
   ]
  },
  {
   "cell_type": "code",
   "execution_count": 4,
   "metadata": {},
   "outputs": [],
   "source": [
    "def display_sharpness(mesh=None, plot_meshvert=True,\n",
    "                      samples=None, samples_distances=None,\n",
    "                      sharp_vert=None, sharp_curves=None,\n",
    "                      directions=None, directions_width=0.0025,\n",
    "                      samples_color=0x0000ff, samples_psize=0.002, \n",
    "                      mesh_color=0xbbbbbb, meshvert_color=0x666666, meshvert_psize=0.0025,\n",
    "                      sharpvert_color=0xff0000, sharpvert_psize=0.0025,\n",
    "                      sharpcurve_color=None, sharpcurve_width=0.0025,\n",
    "                      as_image=False, plot_height=768,\n",
    "                      cmap=k3d.colormaps.matplotlib_color_maps.coolwarm_r, \n",
    "                      plot=None, display=True,\n",
    "                     max_distance_to_feature=1.0):\n",
    "    \n",
    "    if None is plot:\n",
    "        plot = k3d.plot(height=plot_height, camera_auto_fit=True)\n",
    "    \n",
    "    if None is not mesh:\n",
    "        k3d_mesh = k3d.mesh(mesh.vertices, mesh.faces, color=mesh_color)\n",
    "        plot += k3d_mesh\n",
    "\n",
    "        if plot_meshvert:\n",
    "            k3d_points = k3d.points(mesh.vertices, \n",
    "                                    point_size=meshvert_psize, color=meshvert_color)\n",
    "            plot += k3d_points\n",
    "            k3d_points.shader='flat'\n",
    "\n",
    "    if None is not samples:\n",
    "        colors = None\n",
    "        if None is not samples_distances and not np.all(samples_distances == 1.0):\n",
    "            colors = k3d.helpers.map_colors(\n",
    "                samples_distances, cmap, [0, max_distance_to_feature]\n",
    "            ).astype(np.uint32)\n",
    "            k3d_points = k3d.points(samples, point_size=samples_psize, colors=colors)\n",
    "        else:\n",
    "            v = -np.array([0., 1., 0.])\n",
    "            max_dist = np.max(np.dot(samples, v))\n",
    "            min_dist = np.min(np.dot(samples, v))\n",
    "            colors = k3d.helpers.map_colors(\n",
    "                np.dot(samples, v), k3d.colormaps.matplotlib_color_maps.viridis, [min_dist, max_dist]\n",
    "            ).astype(np.uint32)\n",
    "            k3d_points = k3d.points(samples, point_size=samples_psize, colors=colors)\n",
    "\n",
    "        plot += k3d_points\n",
    "        k3d_points.shader='flat'\n",
    "        \n",
    "        if None is not directions:\n",
    "            colors = k3d.helpers.map_colors(\n",
    "                samples_distances, cmap, [0, max_distance_to_feature]\n",
    "            ).astype(np.uint32)\n",
    "            colors = [(c, c) for c in colors]\n",
    "\n",
    "            vectors = k3d.vectors(\n",
    "                samples,\n",
    "                directions * samples_distances[..., np.newaxis],\n",
    "                use_head=False, \n",
    "                line_width=directions_width,\n",
    "                colors=colors)\n",
    "#             print(vectors)\n",
    "            plot += vectors\n",
    "\n",
    "#             directions_to_plot = np.hstack((samples, samples + directions))\n",
    "            \n",
    "#             for i, dir_to_plot in enumerate(directions_to_plot):\n",
    "#                 dir_to_plot = dir_to_plot.reshape((2, 3))\n",
    "#                 if np.all(dir_to_plot[0] == dir_to_plot[1]):\n",
    "#                     continue\n",
    "#                 color = int(colors[i]) if None is not colors else samples_color\n",
    "#                 plt_line = k3d.line(dir_to_plot, \n",
    "#                                     shader='mesh', width=directions_width, color=color)\n",
    "#                 plot += plt_line\n",
    "\n",
    "    if None is not sharp_vert:\n",
    "        k3d_points = k3d.points(sharp_vert,\n",
    "                                point_size=sharpvert_psize, color=sharpvert_color)\n",
    "        plot += k3d_points\n",
    "        k3d_points.shader='flat'\n",
    "        \n",
    "        if None is not sharp_curves:            \n",
    "            if None is not sharpcurve_color:\n",
    "                color = sharpcurve_color\n",
    "            else:\n",
    "                import randomcolor\n",
    "                rand_color = randomcolor.RandomColor()\n",
    "            for i, vert_ind in enumerate(sharp_curves):\n",
    "                sharp_points_curve = mesh.vertices[vert_ind]\n",
    "                \n",
    "                if None is sharpcurve_color:\n",
    "                    color = rand_color.generate(hue='red')[0]\n",
    "                    color = int('0x' + color[1:], 16)\n",
    "                plt_line = k3d.line(sharp_points_curve, \n",
    "                                    shader='mesh', width=sharpcurve_width, color=color)\n",
    "                plot += plt_line\n",
    "        \n",
    "    plot.grid_visible = False\n",
    "    if display:\n",
    "        plot.display()\n",
    "    \n",
    "    if as_image:\n",
    "        plot.fetch_screenshot()\n",
    "        return Image(data=b64decode(plot.screenshot))\n",
    "    \n",
    "    return plot"
   ]
  },
  {
   "cell_type": "code",
   "execution_count": 5,
   "metadata": {},
   "outputs": [],
   "source": [
    "def bbox_mesh_around_edge(aabbox):\n",
    "    (x1, y1, z1), (x2, y2, z2) = aabbox\n",
    "    bbox_mesh = trimesh.creation.box()\n",
    "    bbox_mesh.vertices = np.array([\n",
    "        x1, y1, z1,\n",
    "        x1, y1, z2,\n",
    "        x1, y2, z1,\n",
    "        x1, y2, z2,\n",
    "        x2, y1, z1,\n",
    "        x2, y1, z2,\n",
    "        x2, y2, z1,\n",
    "        x2, y2, z2\n",
    "    ])\n",
    "    return bbox_mesh\n",
    "\n",
    "\n",
    "def display_sharp_edge_bboxes(\n",
    "    mesh=None, plot_meshvert=False,\n",
    "    samples=None, samples_distances=None,\n",
    "    sharp_vert=None, sharp_curves=None,\n",
    "    sharp_aabboxes=None,\n",
    "    directions=None, directions_width=0.0025,\n",
    "    samples_color=0x0000ff, samples_psize=0.002, \n",
    "    mesh_color=0xbbbbbb, meshvert_color=0x666666, meshvert_psize=0.0025,\n",
    "    sharpvert_color=0xff0000, sharpvert_psize=0.0025,\n",
    "    sharpcurve_color=None, sharpcurve_width=0.0025,\n",
    "    as_image=False, plot_height=768,\n",
    "    cmap=k3d.colormaps.matplotlib_color_maps.coolwarm_r, \n",
    "    plot=None, display=True,\n",
    "    max_distance_to_feature=1.0, \n",
    "):\n",
    "    \n",
    "    plot = k3d.plot(\n",
    "        height=plot_height, \n",
    "        camera_auto_fit=True, \n",
    "        grid_visible=False)\n",
    "    \n",
    "    if None is not mesh:\n",
    "        k3d_mesh = k3d.mesh(mesh.vertices, mesh.faces, color=mesh_color)\n",
    "        plot += k3d_mesh\n",
    "\n",
    "        if plot_meshvert:\n",
    "            k3d_points = k3d.points(mesh.vertices, \n",
    "                                    point_size=meshvert_psize, color=meshvert_color)\n",
    "            plot += k3d_points\n",
    "            k3d_points.shader='flat'\n",
    "\n",
    "    if None is not samples:\n",
    "        colors = None\n",
    "        if None is not samples_distances and not np.all(samples_distances == 1.0):\n",
    "            colors = k3d.helpers.map_colors(\n",
    "                samples_distances, cmap, [0, max_distance_to_feature]\n",
    "            ).astype(np.uint32)\n",
    "            k3d_points = k3d.points(samples, point_size=samples_psize, colors=colors)\n",
    "        else:\n",
    "            v = -np.array([0., 1., 0.])\n",
    "            max_dist = np.max(np.dot(samples, v))\n",
    "            min_dist = np.min(np.dot(samples, v))\n",
    "            colors = k3d.helpers.map_colors(\n",
    "                np.dot(samples, v), k3d.colormaps.matplotlib_color_maps.viridis, [min_dist, max_dist]\n",
    "            ).astype(np.uint32)\n",
    "            k3d_points = k3d.points(samples, point_size=samples_psize, colors=colors)\n",
    "\n",
    "        plot += k3d_points\n",
    "        k3d_points.shader='flat'\n",
    "        \n",
    "        if None is not directions:\n",
    "            colors = k3d.helpers.map_colors(\n",
    "                samples_distances, cmap, [0, max_distance_to_feature]\n",
    "            ).astype(np.uint32)\n",
    "            colors = [(c, c) for c in colors]\n",
    "\n",
    "            vectors = k3d.vectors(\n",
    "                samples,\n",
    "                directions * samples_distances[..., np.newaxis],\n",
    "                use_head=False, \n",
    "                line_width=directions_width,\n",
    "                colors=colors)\n",
    "            plot += vectors\n",
    "\n",
    "\n",
    "    if None is not sharp_vert:\n",
    "        k3d_points = k3d.points(sharp_vert,\n",
    "                                point_size=sharpvert_psize, color=sharpvert_color)\n",
    "        plot += k3d_points\n",
    "        k3d_points.shader='flat'\n",
    "        \n",
    "        if None is not sharp_curves:            \n",
    "            if None is not sharpcurve_color:\n",
    "                color = sharpcurve_color\n",
    "            else:\n",
    "                import randomcolor\n",
    "                rand_color = randomcolor.RandomColor()\n",
    "            for i, vert_ind in enumerate(sharp_curves):\n",
    "                sharp_points_curve = mesh.vertices[vert_ind]\n",
    "                \n",
    "                if None is sharpcurve_color:\n",
    "                    color = rand_color.generate(hue='red')[0]\n",
    "                    color = int('0x' + color[1:], 16)\n",
    "                plt_line = k3d.line(sharp_points_curve, \n",
    "                                    shader='mesh', width=sharpcurve_width, color=color)\n",
    "                plot += plt_line\n",
    "        \n",
    "    if None is not sharp_aabboxes:\n",
    "        for aabbox in sharp_aabboxes:\n",
    "            aabbox_mesh = bbox_mesh_around_edge(aabbox)\n",
    "            plot += k3d.mesh(\n",
    "                aabbox_mesh.vertices,\n",
    "                aabbox_mesh.faces,\n",
    "                flat_shading=False,\n",
    "                color=sharpvert_color,\n",
    "                wireframe=True,\n",
    "            )\n",
    "    \n",
    "    plot.display()"
   ]
  },
  {
   "cell_type": "code",
   "execution_count": 6,
   "metadata": {},
   "outputs": [],
   "source": [
    "from sharpf.utils.convertor_utils.convertors_io import ViewIO, RangeVisionIO\n",
    "\n",
    "def get_mesh(hdf5_filename, obj_mesh):\n",
    "    dataset = Hdf5File(\n",
    "        hdf5_filename,\n",
    "        io=ViewIO,\n",
    "        preload=PreloadTypes.LAZY,\n",
    "        labels='*')\n",
    "\n",
    "    with open(obj_filename, 'rb') as obj_file:\n",
    "        obj_mesh, _, _ = trimesh_load(BytesIO(obj_file.read()))\n",
    "\n",
    "\n",
    "    obj_alignment_transform = dataset[0]['obj_alignment']\n",
    "    obj_scale = dataset[0]['obj_scale']\n",
    "    mesh = obj_mesh.copy() \\\n",
    "        .apply_scale(obj_scale) \\\n",
    "        .apply_transform(obj_alignment_transform)\n",
    "    \n",
    "    return mesh"
   ]
  },
  {
   "cell_type": "code",
   "execution_count": 7,
   "metadata": {},
   "outputs": [],
   "source": [
    "def fuse_points(n_points, list_predictions, list_indexes_in_whole, list_points):\n",
    "    fused_points = np.zeros((n_points, 3))\n",
    "    fused_distances = np.ones(n_points) * np.inf\n",
    "    # fused_directions = np.ones((n_points, 3)) * np.inf\n",
    "\n",
    "    iterable = zip(list_predictions, list_indexes_in_whole, list_points)\n",
    "    for distances, indexes, points in tqdm(iterable):\n",
    "        fused_points[indexes] = points\n",
    "        assign_mask = fused_distances[indexes] > distances\n",
    "        fused_distances[indexes[assign_mask]] = np.minimum(distances[assign_mask], 2.5)\n",
    "        # fused_directions[indexes[assign_mask]] = directions[assign_mask]\n",
    "\n",
    "    return fused_points, fused_distances, {}"
   ]
  },
  {
   "cell_type": "code",
   "execution_count": 8,
   "metadata": {},
   "outputs": [],
   "source": [
    "input_dir = '/data/todo/3side/'\n",
    "max_distance_to_feature = 10.0\n",
    "max_point_mesh_distance = 4.0\n",
    "full_mesh = True"
   ]
  },
  {
   "cell_type": "code",
   "execution_count": 9,
   "metadata": {},
   "outputs": [],
   "source": [
    "stl_filename = glob(os.path.join(input_dir, '*.stl'))[0]\n",
    "obj_filename = glob(os.path.join(input_dir, '*.obj'))[0]\n",
    "yml_filename = glob(os.path.join(input_dir, '*.yml'))[0]\n",
    "hdf5_filename = glob(os.path.join(input_dir, '*_preprocessed.hdf5'))[0]\n",
    "item_id = os.path.basename(stl_filename).split('__')[0]"
   ]
  },
  {
   "cell_type": "code",
   "execution_count": 10,
   "metadata": {},
   "outputs": [
    {
     "name": "stdout",
     "output_type": "stream",
     "text": [
      "Reading input data...obj...yml...hdf5...\n"
     ]
    }
   ],
   "source": [
    "print('Reading input data...', end='')\n",
    "with open(obj_filename, 'rb') as obj_file:\n",
    "    print('obj...', end='')\n",
    "    obj_mesh, _, _ = trimesh_load(BytesIO(obj_file.read()))\n",
    "\n",
    "with open(yml_filename, 'rb') as yml_file:\n",
    "    print('yml...', end='')\n",
    "    yml_features = yaml.load(BytesIO(yml_file.read()), Loader=yaml.Loader)\n",
    "\n",
    "print('hdf5...')\n",
    "dataset = Hdf5File(\n",
    "    hdf5_filename,\n",
    "    io=ViewIO,\n",
    "    preload=PreloadTypes.LAZY,\n",
    "    labels='*')\n"
   ]
  },
  {
   "cell_type": "code",
   "execution_count": 67,
   "metadata": {},
   "outputs": [
    {
     "name": "stderr",
     "output_type": "stream",
     "text": [
      "Loading scans: 100%|██████████| 12/12 [00:00<00:00, 7468.71it/s]\n"
     ]
    }
   ],
   "source": [
    "obj_alignment_transform = dataset[0]['obj_alignment']\n",
    "obj_scale = dataset[0]['obj_scale']\n",
    "mesh = obj_mesh.copy() \\\n",
    "    .apply_scale(obj_scale) \\\n",
    "    .apply_transform(obj_alignment_transform)\n",
    "\n",
    "views = [\n",
    "    CameraView(\n",
    "        depth=scan['points'].reshape((-1, 3)),\n",
    "        signal=None,\n",
    "        faces=scan['faces'].reshape((-1, 3)),\n",
    "        extrinsics=scan['extrinsics'],\n",
    "        intrinsics=scan['intrinsics'],\n",
    "        state='points')\n",
    "    for scan in tqdm(dataset, desc='Loading scans')]\n",
    "view_alignments = [scan['points_alignment'] for scan in dataset]"
   ]
  },
  {
   "cell_type": "code",
   "execution_count": 68,
   "metadata": {},
   "outputs": [
    {
     "name": "stdout",
     "output_type": "stream",
     "text": [
      "{'surface_based_aabb': <class 'sharpf.data.annotation.AABBSurfacePatchAnnotator'>} {'type': 'surface_based_aabb', 'distance_upper_bound': 10.0, 'always_check_adjacent_surfaces': True, 'distance_computation_method': 'geom'}\n"
     ]
    }
   ],
   "source": [
    "os.environ['OMP_NUM_THREADS'] = '36'\n",
    "\n",
    "# Prepare annotation stuff\n",
    "annotation_config = {\n",
    "    \"type\": \"surface_based_aabb\",\n",
    "    \"distance_upper_bound\": max_distance_to_feature,\n",
    "    \"always_check_adjacent_surfaces\": True,\n",
    "    \"distance_computation_method\": 'geom',\n",
    "}\n",
    "annotator = load_func_from_config(ANNOTATOR_BY_TYPE, annotation_config)\n",
    "smell_sharpness_discontinuities = smells.SmellSharpnessDiscontinuities.from_config({})\n"
   ]
  },
  {
   "cell_type": "code",
   "execution_count": 69,
   "metadata": {},
   "outputs": [],
   "source": [
    "view, view_alignment = views[0].copy(), view_alignments[0]\n",
    "\n",
    "points = view.depth\n",
    "aligned_points = tt.transform_points(points, view_alignment)\n"
   ]
  },
  {
   "cell_type": "code",
   "execution_count": 70,
   "metadata": {},
   "outputs": [],
   "source": [
    "# select only well-aligned points\n",
    "point_mesh_distance, mesh_face_indexes, _ = igl.point_mesh_squared_distance(\n",
    "    aligned_points,\n",
    "    mesh.vertices,\n",
    "    mesh.faces)\n",
    "well_aligned_mask = np.sqrt(point_mesh_distance) < max_point_mesh_distance\n"
   ]
  },
  {
   "cell_type": "code",
   "execution_count": 71,
   "metadata": {},
   "outputs": [
    {
     "data": {
      "application/vnd.jupyter.widget-view+json": {
       "model_id": "28efab03cb12402c9a3b04545bfb1856",
       "version_major": 2,
       "version_minor": 0
      },
      "text/plain": [
       "Output()"
      ]
     },
     "metadata": {},
     "output_type": "display_data"
    }
   ],
   "source": [
    "_ = display_sharpness(\n",
    "    mesh,\n",
    "    plot_meshvert=False,\n",
    "    samples=aligned_points,\n",
    "    samples_psize=0.5,\n",
    "    samples_distances=well_aligned_mask.astype(float),\n",
    "    cmap=k3d.colormaps.matplotlib_color_maps.plasma)"
   ]
  },
  {
   "cell_type": "code",
   "execution_count": 72,
   "metadata": {},
   "outputs": [],
   "source": [
    "aligned_points = aligned_points[well_aligned_mask]\n",
    "mesh_face_indexes = mesh_face_indexes[well_aligned_mask]\n"
   ]
  },
  {
   "cell_type": "code",
   "execution_count": 73,
   "metadata": {},
   "outputs": [
    {
     "data": {
      "application/vnd.jupyter.widget-view+json": {
       "model_id": "da4eac73950e4758ab64b6ad636a74f3",
       "version_major": 2,
       "version_minor": 0
      },
      "text/plain": [
       "Output()"
      ]
     },
     "metadata": {},
     "output_type": "display_data"
    }
   ],
   "source": [
    "_ = display_sharpness(\n",
    "    mesh,\n",
    "    plot_meshvert=False,\n",
    "    samples=aligned_points,\n",
    "    samples_psize=0.5,\n",
    "    cmap=k3d.colormaps.matplotlib_color_maps.plasma)"
   ]
  },
  {
   "cell_type": "code",
   "execution_count": 74,
   "metadata": {},
   "outputs": [],
   "source": [
    "if full_mesh:\n",
    "    nbhood = mesh\n",
    "    nbhood_features = yml_features\n",
    "    mesh_vertex_indexes = np.arange(len(mesh.vertices))\n",
    "    mesh_face_indexes = np.arange(len(mesh.faces))\n",
    "\n",
    "else:\n",
    "    nbhood, mesh_vertex_indexes, mesh_face_indexes = \\\n",
    "        submesh_from_hit_surfaces(mesh, yml_features, mesh_face_indexes)\n",
    "\n",
    "    # create annotations: condition the features onto the nbhood\n",
    "    nbhood_features = compute_features_nbhood(\n",
    "        mesh,\n",
    "        yml_features,\n",
    "        mesh_face_indexes,\n",
    "        mesh_vertex_indexes=mesh_vertex_indexes)\n",
    "\n",
    "    # remove vertices lying on the boundary (sharp edges found in 1 face only)\n",
    "    nbhood_features = remove_boundary_features(\n",
    "        nbhood,\n",
    "        nbhood_features,\n",
    "        how='edges')\n",
    "\n",
    "distances, directions, has_sharp = annotator.annotate(\n",
    "    nbhood,\n",
    "    nbhood_features,\n",
    "    aligned_points)\n",
    "has_smell_sharpness_discontinuities = smell_sharpness_discontinuities.run(aligned_points, distances)"
   ]
  },
  {
   "cell_type": "code",
   "execution_count": 75,
   "metadata": {},
   "outputs": [
    {
     "data": {
      "application/vnd.jupyter.widget-view+json": {
       "model_id": "58fc9f2c98484992bbcf0d1ba17ca7a3",
       "version_major": 2,
       "version_minor": 0
      },
      "text/plain": [
       "Output()"
      ]
     },
     "metadata": {},
     "output_type": "display_data"
    }
   ],
   "source": [
    "_ = display_sharpness(\n",
    "    mesh,\n",
    "    plot_meshvert=False,\n",
    "    samples=aligned_points,\n",
    "    samples_psize=0.5,\n",
    "    samples_distances=distances,\n",
    "    cmap=k3d.colormaps.matplotlib_color_maps.plasma_r,\n",
    "    max_distance_to_feature=max_distance_to_feature)"
   ]
  },
  {
   "cell_type": "code",
   "execution_count": 76,
   "metadata": {},
   "outputs": [],
   "source": [
    "view.depth = points[well_aligned_mask]\n",
    "view.signal = np.hstack((np.atleast_2d(distances).T, directions))\n",
    "\n",
    "pixel_view = view.to_pixels()\n",
    "image = pixel_view.depth\n",
    "distances, directions = pixel_view.signal[:, :, 0], pixel_view.signal[:, :, 1:]\n"
   ]
  },
  {
   "cell_type": "code",
   "execution_count": 77,
   "metadata": {},
   "outputs": [],
   "source": [
    "pixel_view_original = views[0].to_pixels()\n",
    "image_original = pixel_view_original.depth\n"
   ]
  },
  {
   "cell_type": "code",
   "execution_count": 78,
   "metadata": {},
   "outputs": [
    {
     "data": {
      "image/png": "[encoded data removed]",
      "text/plain": [
       "<Figure size 2304x1152 with 2 Axes>"
      ]
     },
     "metadata": {
      "needs_background": "light"
     },
     "output_type": "display_data"
    }
   ],
   "source": [
    "s = 512\n",
    "depth_images_for_display = [\n",
    "    image[\n",
    "        slice(1536 // 2 - s, 1536 // 2 + s),\n",
    "        slice(2048 // 2 - s, 2048 // 2 + s)]\n",
    "]\n",
    "sharpness_images_for_display = [\n",
    "    distances[\n",
    "        slice(1536 // 2 - s, 1536 // 2 + s),\n",
    "        slice(2048 // 2 - s, 2048 // 2 + s)]\n",
    "]\n",
    "\n",
    "def_plot.display_depth_sharpness(\n",
    "    depth_images=depth_images_for_display,\n",
    "    sharpness_images=sharpness_images_for_display,\n",
    "    ncols=1,\n",
    "    axes_size=(16, 16),\n",
    "    max_sharpness=max_distance_to_feature,\n",
    "    bgcolor='black')"
   ]
  },
  {
   "cell_type": "code",
   "execution_count": 79,
   "metadata": {},
   "outputs": [
    {
     "data": {
      "image/png": "[encoded data removed]",
      "text/plain": [
       "<Figure size 1152x1152 with 1 Axes>"
      ]
     },
     "metadata": {
      "needs_background": "light"
     },
     "output_type": "display_data"
    }
   ],
   "source": [
    "s = 512\n",
    "depth_images_for_display = [\n",
    "    image_original[\n",
    "        slice(1536 // 2 - s, 1536 // 2 + s),\n",
    "        slice(2048 // 2 - s, 2048 // 2 + s)]\n",
    "]\n",
    "# sharpness_images_for_display = [\n",
    "#     distances[\n",
    "#         slice(1536 // 2 - s, 1536 // 2 + s),\n",
    "#         slice(2048 // 2 - s, 2048 // 2 + s)]\n",
    "# ]\n",
    "\n",
    "def_plot.display_depth_sharpness(\n",
    "    depth_images=depth_images_for_display,\n",
    "    sharpness_images=None,\n",
    "    ncols=1,\n",
    "    axes_size=(16, 16),\n",
    "    max_sharpness=max_distance_to_feature,\n",
    "    bgcolor='black')"
   ]
  },
  {
   "cell_type": "code",
   "execution_count": null,
   "metadata": {},
   "outputs": [],
   "source": []
  },
  {
   "cell_type": "code",
   "execution_count": null,
   "metadata": {},
   "outputs": [],
   "source": []
  },
  {
   "cell_type": "code",
   "execution_count": null,
   "metadata": {},
   "outputs": [],
   "source": [
    "surfaces_ids_bad = [0, 14]"
   ]
  },
  {
   "cell_type": "code",
   "execution_count": null,
   "metadata": {},
   "outputs": [],
   "source": [
    "# display_patch_decomposition(mesh, yml_features)"
   ]
  },
  {
   "cell_type": "code",
   "execution_count": null,
   "metadata": {},
   "outputs": [],
   "source": [
    "sharp_vert_indexes = np.concatenate(\n",
    "    [c['vert_indices'] for c in yml_features['curves'] if c['sharp']]\n",
    ")\n",
    "sharp_vert = nbhood.vertices[sharp_vert_indexes]\n",
    "\n",
    "\n",
    "_ = display_sharpness(\n",
    "    mesh=nbhood,\n",
    "    samples=aligned_points,\n",
    "    samples_distances=distances,\n",
    "    samples_psize=0.5,\n",
    "    directions=directions,\n",
    "    sharp_vert=sharp_vert,\n",
    "    sharpvert_psize=0.75,\n",
    "    max_distance_to_feature=max_distance_to_feature,\n",
    ")"
   ]
  },
  {
   "cell_type": "code",
   "execution_count": null,
   "metadata": {},
   "outputs": [],
   "source": [
    "annotator.annotate??"
   ]
  },
  {
   "cell_type": "code",
   "execution_count": null,
   "metadata": {},
   "outputs": [],
   "source": [
    "mesh_patch = deepcopy(nbhood)\n",
    "features_patch = deepcopy(nbhood_features)\n",
    "points = deepcopy(aligned_points)\n",
    "\n",
    "# index mesh vertices to search for closest sharp features\n",
    "# tree = KDTree(mesh_patch.vertices, leafsize=100)\n",
    "# _, closest_nbhood_vertex_idx = tree.query(points)\n",
    "_, point_face_indexes, _ = \\\n",
    "    igl.point_mesh_squared_distance(points, mesh_patch.vertices, mesh_patch.faces)\n",
    "\n",
    "# understand which surface patches are adjacent to which sharp features\n",
    "# and other surface patches\n",
    "adjacent_sharp_features, adjacent_surfaces = \\\n",
    "    def_feature_utils.build_surface_patch_graph(mesh_patch, features_patch)\n",
    "\n",
    "\n",
    "# features_patch['surfaces'] = [\n",
    "#     surface for surface_idx, surface in enumerate(features_patch['surfaces']) \n",
    "#     if surface_idx not in surfaces_ids_bad]\n",
    "# curves_ids_bad = []\n",
    "# for surface_idx in surfaces_ids_bad:\n",
    "#     curves_ids_bad.extend(adjacent_sharp_features[surface_idx])\n",
    "# features_patch['curves'] = [\n",
    "#     curve for curve_idx, curve in enumerate(features_patch['curves']) \n",
    "#     if curve_idx not in curves_ids_bad]\n",
    "\n",
    "# understand which surface patches are adjacent to which sharp features\n",
    "# and other surface patches\n",
    "adjacent_sharp_features, adjacent_surfaces = \\\n",
    "    def_feature_utils.build_surface_patch_graph(mesh_patch, features_patch)\n",
    "\n",
    "\n",
    "# compute distance, iterating over points sampled from corresponding surface patches\n",
    "projections, distances, _ = annotator.flat_annotation(points)"
   ]
  },
  {
   "cell_type": "code",
   "execution_count": null,
   "metadata": {},
   "outputs": [],
   "source": [
    "def parallel_annotation_by_surface(\n",
    "        mesh_patch,\n",
    "        features_patch,\n",
    "        points,\n",
    "        surface_idx,\n",
    "        point_face_indexes,\n",
    "        adjacent_sharp_features,\n",
    "        adjacent_surfaces,\n",
    "        annotator_obj\n",
    "):\n",
    "    surface = features_patch['surfaces'][surface_idx]\n",
    "    # constrain distance computation to certain sharp features only\n",
    "    adjacent_sharp_indexes = def_feature_utils.get_adjacent_features_by_bfs_with_depth1(\n",
    "        surface_idx,\n",
    "        adjacent_sharp_features,\n",
    "        adjacent_surfaces,\n",
    "        always_check_adjacent_surfaces=annotator_obj.always_check_adjacent_surfaces)\n",
    "    surface_adjacent_features = {\n",
    "        'curves': [features_patch['curves'][idx]\n",
    "                   for idx in np.unique(adjacent_sharp_indexes)]\n",
    "    }\n",
    "    if len(surface_adjacent_features['curves']) == 0:\n",
    "        return [None] * 4\n",
    "\n",
    "    point_cloud_indexes = np.where(\n",
    "        in2d(mesh_patch.faces[point_face_indexes], \n",
    "             mesh_patch.faces[surface['face_indices']])\n",
    "    )[0]\n",
    "    if len(point_cloud_indexes) == 0:\n",
    "        return [None] * 4\n",
    "\n",
    "    # compute distances using parent class AABB method\n",
    "#     surface_matching_edges, surface_projections, surface_distances = \\\n",
    "#         annotator_obj.compute_aabb_nearest_points(\n",
    "#         mesh_patch, \n",
    "#         surface_adjacent_features, \n",
    "#         points[point_cloud_indexes])\n",
    "\n",
    "    aabboxes, sharp_edges = annotator_obj._prepare_aabb(mesh_patch, surface_adjacent_features)\n",
    "    surface_distances, surface_projections = find_projections_onto_edges(points[point_cloud_indexes], sharp_edges)\n",
    "#     directions = projections - points[point_cloud_indexes]\n",
    "#     directions /= (np.linalg.norm(directions, axis=1, keepdims=True) + 1e-6)\n",
    "\n",
    "    surface_matching_edges = None\n",
    "    return point_cloud_indexes, surface_matching_edges, surface_projections, surface_distances\n"
   ]
  },
  {
   "cell_type": "code",
   "execution_count": null,
   "metadata": {},
   "outputs": [],
   "source": [
    "sharp_edges = annotator._prepare_aabb(nbhood,\n",
    "        nbhood_features)"
   ]
  },
  {
   "cell_type": "code",
   "execution_count": null,
   "metadata": {},
   "outputs": [],
   "source": [
    "def find_projections_onto_edges(\n",
    "    points, \n",
    "    edges,\n",
    "):\n",
    "    distances = np.zeros(len(points))\n",
    "    projections = np.zeros_like(points)\n",
    "    for point_idx, point in tqdm(enumerate(points)):\n",
    "        distances_projections = [dist_vector_proj(point, i, edges) for i in range(len(edges))]\n",
    "        projection_idx = np.argmin([d for d, p in distances_projections])\n",
    "        distances[point_idx], projections[point_idx] = distances_projections[projection_idx]\n",
    "        \n",
    "    return distances, projections"
   ]
  },
  {
   "cell_type": "code",
   "execution_count": null,
   "metadata": {},
   "outputs": [],
   "source": [
    "surface_idx = 6\n",
    "annotator_obj = annotator\n",
    "args = (\n",
    "    mesh_patch,\n",
    "    features_patch,\n",
    "    points,\n",
    "    surface_idx,\n",
    "    point_face_indexes,\n",
    "    adjacent_sharp_features,\n",
    "    adjacent_surfaces,\n",
    "    annotator_obj)"
   ]
  },
  {
   "cell_type": "code",
   "execution_count": null,
   "metadata": {},
   "outputs": [],
   "source": [
    "point_cloud_indexes, _, surface_projections, surface_distances = parallel_annotation_by_surface(*args)\n",
    "surface_directions = surface_projections - points[point_cloud_indexes]\n",
    "surface_directions /= (np.linalg.norm(surface_directions, axis=1, keepdims=True) + 1e-6)"
   ]
  },
  {
   "cell_type": "code",
   "execution_count": null,
   "metadata": {},
   "outputs": [],
   "source": [
    "sharp_vert_indexes = np.concatenate(\n",
    "    [c['vert_indices'] for c in features_patch['curves'] if c['sharp']]\n",
    ")\n",
    "sharp_vert = nbhood.vertices[sharp_vert_indexes]\n",
    "\n",
    "\n",
    "display_sharpness(\n",
    "    mesh=nbhood,\n",
    "    plot_meshvert=False,\n",
    "    samples=points[point_cloud_indexes],\n",
    "    samples_distances=surface_distances,\n",
    "    samples_psize=0.5,\n",
    "    directions=surface_directions,\n",
    "    sharp_vert=sharp_vert,\n",
    "    sharpvert_psize=0.75,\n",
    "    max_distance_to_feature=max_distance_to_feature,\n",
    ")"
   ]
  },
  {
   "cell_type": "code",
   "execution_count": null,
   "metadata": {},
   "outputs": [],
   "source": []
  },
  {
   "cell_type": "code",
   "execution_count": null,
   "metadata": {},
   "outputs": [],
   "source": []
  },
  {
   "cell_type": "code",
   "execution_count": null,
   "metadata": {},
   "outputs": [],
   "source": []
  },
  {
   "cell_type": "code",
   "execution_count": null,
   "metadata": {},
   "outputs": [],
   "source": [
    "from pyaabb import pyaabb\n",
    "from sharpf.utils.geometry import dist_vector_proj\n",
    "from functools import partial"
   ]
  },
  {
   "cell_type": "code",
   "execution_count": null,
   "metadata": {},
   "outputs": [],
   "source": [
    "surface = features_patch['surfaces'][surface_idx]\n",
    "# constrain distance computation to certain sharp features only\n",
    "adjacent_sharp_indexes = def_feature_utils.get_adjacent_features_by_bfs_with_depth1(\n",
    "    surface_idx,\n",
    "    adjacent_sharp_features,\n",
    "    adjacent_surfaces,\n",
    "    always_check_adjacent_surfaces=annotator_obj.always_check_adjacent_surfaces)\n",
    "\n",
    "# surface_adjacent_features = {\n",
    "#     'curves': [features_patch['curves'][idx]\n",
    "#                for idx in np.unique(adjacent_sharp_indexes)]\n",
    "# }\n",
    "surface_adjacent_features = {\n",
    "    'curves': [features_patch['curves'][idx]\n",
    "               for idx in adjacent_sharp_features[surface_idx]]\n",
    "}\n",
    "\n",
    "if len(surface_adjacent_features['curves']) == 0:\n",
    "    print('no features')\n",
    "\n",
    "point_cloud_indexes = np.where(\n",
    "    in2d(mesh_patch.faces[point_face_indexes], \n",
    "         mesh_patch.faces[surface['face_indices']])\n",
    ")[0]\n",
    "if len(point_cloud_indexes) == 0:\n",
    "    print('no features')\n",
    "\n",
    "\n",
    "# # compute distances using parent class AABB method\n",
    "# surface_matching_edges, surface_projections, surface_distances = \\\n",
    "#     annotator_obj.compute_aabb_nearest_points(\n",
    "#     mesh_patch, \n",
    "#     surface_adjacent_features, \n",
    "#     pointsaligned_points[point_cloud_indexes])\n",
    "\n",
    "aabboxes, sharp_edges = annotator_obj._prepare_aabb(mesh_patch, surface_adjacent_features)\n",
    "\n",
    "aabb_solver = pyaabb.AABB()\n",
    "aabb_solver.build(aabboxes)\n",
    "distance_func = partial(dist_vector_proj, lines=sharp_edges)\n",
    "results = [\n",
    "    aabb_solver.nearest_point(p, distance_func)\n",
    "    for p in points[point_cloud_indexes]]\n",
    "\n",
    "surface_matching_edges = np.array([idx for idx, projection, distance in results])\n",
    "surface_projections = np.array([projection for idx, projection, distance in results])\n",
    "surface_distances = np.array([distance for idx, projection, distance in results])\n",
    "\n",
    "directions = surface_projections - points[point_cloud_indexes]\n",
    "directions /= (np.linalg.norm(directions, axis=1, keepdims=True) + 1e-6)"
   ]
  },
  {
   "cell_type": "code",
   "execution_count": null,
   "metadata": {},
   "outputs": [],
   "source": []
  },
  {
   "cell_type": "code",
   "execution_count": null,
   "metadata": {},
   "outputs": [],
   "source": [
    "display_sharp_edge_bboxes(\n",
    "    mesh=nbhood,\n",
    "    plot_meshvert=False,\n",
    "    sharp_aabboxes=aabboxes\n",
    ")"
   ]
  },
  {
   "cell_type": "code",
   "execution_count": null,
   "metadata": {},
   "outputs": [],
   "source": [
    "# aabb_samples = np.array([bbox[0] for bbox in aabboxes])\n",
    "# aabb_projections = np.array([bbox[1] for bbox in aabboxes])\n",
    "# aabb_directions = aabb_projections - aabb_samples\n",
    "\n",
    "# display_sharpness(\n",
    "#     mesh=nbhood,\n",
    "#     plot_meshvert=False,\n",
    "#     samples=aabb_samples,\n",
    "#     samples_distances=np.ones(len(aabb_samples)),\n",
    "#     samples_psize=0.5,\n",
    "#     directions=aabb_directions,\n",
    "#     directions_width=0.1,\n",
    "#     sharp_vert=sharp_edges,\n",
    "#     sharpvert_psize=0.75,\n",
    "#     max_distance_to_feature=max_distance_to_feature,\n",
    "# )"
   ]
  },
  {
   "cell_type": "code",
   "execution_count": null,
   "metadata": {},
   "outputs": [],
   "source": [
    "xx_edge, xx_projection, xx_distance = \\\n",
    "  aabb_solver.nearest_point(points[point_cloud_indexes][104], distance_func)"
   ]
  },
  {
   "cell_type": "code",
   "execution_count": null,
   "metadata": {},
   "outputs": [],
   "source": [
    "points[point_cloud_indexes][104]"
   ]
  },
  {
   "cell_type": "code",
   "execution_count": null,
   "metadata": {},
   "outputs": [],
   "source": [
    "x = [dist_vector_proj(\n",
    "    points[point_cloud_indexes][104],\n",
    "    i,\n",
    "    sharp_edges)\n",
    "for i in range(len(sharp_edges))]\n",
    "\n",
    "\n",
    "x_samples = np.repeat(np.atleast_2d(points[point_cloud_indexes[0]]), len(sharp_edges), axis=0)\n",
    "x_projections = np.array([xx[1] for xx in x])\n",
    "x_distances = np.linalg.norm(x_projections - x_samples, axis=1, keepdims=False)\n",
    "x_directions = (x_projections - x_samples)\n",
    "x_directions /= (np.linalg.norm(x_directions, axis=1, keepdims=True) + 1e-6)\n",
    "\n",
    "display_sharpness(\n",
    "    mesh=nbhood,\n",
    "    plot_meshvert=False,\n",
    "    samples=x_samples,\n",
    "    samples_distances=x_distances,\n",
    "    samples_psize=0.5,\n",
    "    directions=x_directions,\n",
    "    directions_width=0.5,\n",
    "    sharp_vert=np.concatenate(([xx_projection], sharp_edges[xx_edge])),\n",
    "    sharpvert_psize=0.75,\n",
    "    max_distance_to_feature=max_distance_to_feature,\n",
    ")"
   ]
  },
  {
   "cell_type": "code",
   "execution_count": null,
   "metadata": {},
   "outputs": [],
   "source": []
  },
  {
   "cell_type": "code",
   "execution_count": null,
   "metadata": {},
   "outputs": [],
   "source": []
  },
  {
   "cell_type": "code",
   "execution_count": null,
   "metadata": {},
   "outputs": [],
   "source": [
    "distances, projections = find_projections_onto_edges(points[point_cloud_indexes], sharp_edges)\n",
    "directions = projections - points[point_cloud_indexes]\n",
    "directions /= (np.linalg.norm(directions, axis=1, keepdims=True) + 1e-6)"
   ]
  },
  {
   "cell_type": "code",
   "execution_count": null,
   "metadata": {},
   "outputs": [],
   "source": [
    "sharp_vert_indexes = np.concatenate(\n",
    "    [c['vert_indices'] for c in surface_adjacent_features['curves'] if c['sharp']]\n",
    ")\n",
    "sharp_vert = nbhood.vertices[sharp_vert_indexes]\n",
    "\n",
    "\n",
    "display_sharpness(\n",
    "    mesh=nbhood,\n",
    "    plot_meshvert=False,\n",
    "    samples=points[point_cloud_indexes],\n",
    "    samples_distances=distances,\n",
    "    samples_psize=0.5,\n",
    "    directions=directions,\n",
    "    sharp_vert=sharp_edges,\n",
    "    sharpvert_psize=0.75,\n",
    "    max_distance_to_feature=max_distance_to_feature,\n",
    ")"
   ]
  },
  {
   "cell_type": "code",
   "execution_count": null,
   "metadata": {},
   "outputs": [],
   "source": []
  },
  {
   "cell_type": "code",
   "execution_count": null,
   "metadata": {},
   "outputs": [],
   "source": []
  },
  {
   "cell_type": "code",
   "execution_count": null,
   "metadata": {},
   "outputs": [],
   "source": [
    "idx = np.random.choice(len(point_face_indexes))\n",
    "\n",
    "submesh = reindex_zerobased(mesh, mesh_patch.faces[point_face_indexes[idx]], point_face_indexes[idx])\n",
    "\n",
    "plot = k3d.plot(grid_visible=False, height=768)\n",
    "\n",
    "plot += k3d.mesh(\n",
    "    mesh_patch.vertices,\n",
    "    mesh_patch.faces,\n",
    "    flat_shading=False,\n",
    "    color=0xdddddd,\n",
    "    side='both',\n",
    "    wireframe=False)\n",
    "\n",
    "plot += k3d.mesh(\n",
    "    submesh.vertices,\n",
    "    submesh.faces,\n",
    "    flat_shading=False,\n",
    "    color=0xff0000,\n",
    "    side='both',\n",
    "    wireframe=False)\n",
    "\n",
    "plot += k3d.points(\n",
    "    points[idx],\n",
    "    color=get_random_color(hue='green'),\n",
    "    side='both', \n",
    "    shader='flat',\n",
    "    point_size=0.25)\n",
    "\n",
    "plot.display()"
   ]
  },
  {
   "cell_type": "code",
   "execution_count": null,
   "metadata": {},
   "outputs": [],
   "source": [
    "idx, point_face_indexes[idx]"
   ]
  },
  {
   "cell_type": "code",
   "execution_count": null,
   "metadata": {},
   "outputs": [],
   "source": []
  },
  {
   "cell_type": "code",
   "execution_count": null,
   "metadata": {},
   "outputs": [],
   "source": []
  },
  {
   "cell_type": "code",
   "execution_count": null,
   "metadata": {
    "scrolled": false
   },
   "outputs": [],
   "source": [
    "pixel_views = [view.to_pixels() for view in views]\n",
    "\n",
    "s = 256\n",
    "depth_images_for_display = [\n",
    "    view.depth[\n",
    "        slice(1536 // 2 - s, 1536 // 2 + s),\n",
    "        slice(2048 // 2 - s, 2048 // 2 + s)]\n",
    "    for view in pixel_views]\n",
    "sharpness_images_for_display = None\n",
    "# [\n",
    "#     view.signal[\n",
    "#         slice(1536 // 2 - s, 1536 // 2 + s),\n",
    "#         slice(2048 // 2 - s, 2048 // 2 + s)]\n",
    "#     for view in pixel_views]\n",
    "display_depth_sharpness(\n",
    "    depth_images=depth_images_for_display,\n",
    "    sharpness_images=sharpness_images_for_display,\n",
    "    ncols=2,\n",
    "    axes_size=(16, 16*3),\n",
    "    max_sharpness=max_distance_to_feature)"
   ]
  },
  {
   "cell_type": "code",
   "execution_count": null,
   "metadata": {},
   "outputs": [],
   "source": []
  },
  {
   "cell_type": "code",
   "execution_count": null,
   "metadata": {},
   "outputs": [],
   "source": []
  },
  {
   "cell_type": "code",
   "execution_count": null,
   "metadata": {},
   "outputs": [],
   "source": []
  },
  {
   "cell_type": "code",
   "execution_count": null,
   "metadata": {},
   "outputs": [],
   "source": []
  },
  {
   "cell_type": "code",
   "execution_count": null,
   "metadata": {},
   "outputs": [],
   "source": [
    "from functools import partial\n",
    "\n",
    "import numpy as np\n",
    "from scipy.spatial.ckdtree import cKDTree\n",
    "\n",
    "# from sharpf.utils.py_utils.parallel import loky_parallel\n",
    "\n",
    "import os\n",
    "\n",
    "from joblib import Parallel, delayed\n",
    "\n",
    "\n",
    "def omp_parallel(func, iterable, backend='threading'):\n",
    "    n_omp_threads = int(os.environ.get('OMP_NUM_THREADS', 1))\n",
    "    parallel = Parallel(n_jobs=n_omp_threads, backend=backend)\n",
    "\n",
    "    def ensure_tuple(args):\n",
    "        return args if isinstance(args, tuple) else (args,)\n",
    "\n",
    "    delayed_iterable = (delayed(func)(*ensure_tuple(args)) for args in iterable)\n",
    "    return parallel(delayed_iterable)\n",
    "\n",
    "\n",
    "def threaded_parallel(func, iterable):\n",
    "    return omp_parallel(func, iterable, backend='threading')\n",
    "\n",
    "\n",
    "def multiproc_parallel(func, iterable):\n",
    "    return omp_parallel(func, iterable, backend='multiprocessing')\n",
    "\n",
    "\n",
    "def loky_parallel(func, iterable):\n",
    "    return omp_parallel(func, iterable, backend='loky')\n",
    "\n",
    "\n",
    "\n",
    "def point_edgeset_squared_distance(p, i, lines):\n",
    "    \"\"\"A helper function that computes distance from a point\n",
    "    to a line segment using a vector projection.\"\"\"\n",
    "    v1, v2 = lines[i]\n",
    "\n",
    "    # compute unit norm vector from v2 to v1 (linear subspace spanning line)\n",
    "    line_tangent = v2 - v1\n",
    "    line_tangent_norm = np.linalg.norm(line_tangent)\n",
    "    line_tangent = line_tangent / line_tangent_norm\n",
    "\n",
    "    # subtract tangential component, obtain point in L^T(line_tangent)\n",
    "    projection_diff = p - v1 - np.dot(p - v1, line_tangent) * line_tangent\n",
    "    projection_diff_norm = np.linalg.norm(projection_diff)\n",
    "\n",
    "    # compute line parameter value for projection\n",
    "    projection = p - projection_diff\n",
    "    t = np.dot(projection - v1, line_tangent) / line_tangent_norm\n",
    "\n",
    "    assert (np.linalg.norm(\n",
    "        ((1 - t) * v1 + t * v2) - projection) < 1e-10)\n",
    "\n",
    "    # compare distances to projection, v1 and v2, choose minimum\n",
    "    if 0 <= t <= 1:\n",
    "        return projection_diff_norm, projection\n",
    "    else:\n",
    "        proj_v1, proj_v2 = np.linalg.norm(p - v1), np.linalg.norm(p - v2)\n",
    "        if proj_v1 < proj_v2:\n",
    "            return proj_v1, v1\n",
    "        else:\n",
    "            return proj_v2, v2\n",
    "\n",
    "\n",
    "def point_edgeset_projection(point, edges):\n",
    "    \"\"\"For a single given point from a point set, compute its projection\n",
    "    onto a closest set from a given edge set. The edge set\n",
    "    must be given as a list of (XYZ_1, XYZ_2) pairs of edge\n",
    "    endpoints.\"\"\"\n",
    "    distances_projections = [\n",
    "        point_edgeset_squared_distance(point, i, edges)\n",
    "        for i in range(len(edges))]\n",
    "    projection_idx = np.argmin([d for d, p in distances_projections])\n",
    "    return distances_projections[projection_idx]\n",
    "\n",
    "\n",
    "def pointset_edgeset_projections(points, edges):\n",
    "    \"\"\"For each point from a point set, compute its projection\n",
    "    onto a closest set from a given edge set. The edge set\n",
    "    must be given as a list of (XYZ_1, XYZ_2) pairs of edge\n",
    "    endpoints.\"\"\"\n",
    "    distances = np.zeros(len(points))\n",
    "    projections = np.zeros_like(points)\n",
    "    for point_idx, point in tqdm(enumerate(points)):\n",
    "        distances[point_idx], projections[point_idx] = point_edgeset_projection(point, edges)\n",
    "    return distances, projections\n",
    "\n",
    "\n",
    "def parallel_pointset_edgeset_projections(points, edges):\n",
    "    \"\"\"A multiprocessing version of .\"\"\"\n",
    "    distances = np.zeros(len(points))\n",
    "    projections = np.zeros_like(points)\n",
    "\n",
    "    def _point_edgeset_projection_with_index(index, point, edges):\n",
    "        distance, projection = point_edgeset_projection(point, edges)\n",
    "        return index, distance, projection\n",
    "\n",
    "    fn = _point_edgeset_projection_with_index\n",
    "    it = ((index, point, edges) for index, point in enumerate(points))\n",
    "    for point_idx, distance, projection in loky_parallel(fn, it):\n",
    "        distances[point_idx], projections[point_idx] = distance, projection\n",
    "    return distances, projections\n",
    "\n",
    "    "
   ]
  },
  {
   "cell_type": "code",
   "execution_count": null,
   "metadata": {},
   "outputs": [],
   "source": [
    "os.environ['OMP_NUM_THREADS'] = '20'"
   ]
  },
  {
   "cell_type": "code",
   "execution_count": null,
   "metadata": {},
   "outputs": [],
   "source": [
    "parallel_pointset_edgeset_projections(points, sharp_edges[1])"
   ]
  },
  {
   "cell_type": "code",
   "execution_count": null,
   "metadata": {},
   "outputs": [],
   "source": []
  }
 ],
 "metadata": {
  "kernelspec": {
   "display_name": "Python 3",
   "language": "python",
   "name": "python3"
  },
  "language_info": {
   "codemirror_mode": {
    "name": "ipython",
    "version": 3
   },
   "file_extension": ".py",
   "mimetype": "text/x-python",
   "name": "python",
   "nbconvert_exporter": "python",
   "pygments_lexer": "ipython3",
   "version": "3.6.5"
  }
 },
 "nbformat": 4,
 "nbformat_minor": 4
}
