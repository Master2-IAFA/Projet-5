{
 "cells": [
  {
   "cell_type": "code",
   "execution_count": 1,
   "metadata": {},
   "outputs": [],
   "source": [
    "import os"
   ]
  },
  {
   "cell_type": "code",
   "execution_count": 2,
   "metadata": {},
   "outputs": [],
   "source": [
    "train_list = []\n",
    "with open('/home/user/project/point_patches/train.txt', 'r') as f:\n",
    "    for item in f.readlines():\n",
    "        train_list.append(item.strip())\n",
    "        \n",
    "test_list = []\n",
    "with open('/home/user/project/point_patches/test.txt', 'r') as f:\n",
    "    for item in f.readlines():\n",
    "        test_list.append(item.strip())"
   ]
  },
  {
   "cell_type": "code",
   "execution_count": 16,
   "metadata": {},
   "outputs": [],
   "source": [
    "train_path = '/home/user/project/point_patches/train/'\n",
    "test_path = '/home/user/project/point_patches/test/'\n",
    "data_path = '/home/user/project/data/'\n",
    "for item in train_list:\n",
    "    name = item.split('/')[-1]\n",
    "    src = os.path.join(data_path, name)\n",
    "    dst = os.path.join(train_path, name)\n",
    "    os.symlink(src, dst)\n",
    "for item in test_list:\n",
    "    name = item.split('/')[-1]\n",
    "    src = os.path.join(data_path, name)\n",
    "    dst = os.path.join(test_path, name)\n",
    "    os.symlink(src, dst)"
   ]
  }
 ],
 "metadata": {
  "kernelspec": {
   "display_name": "Python 3",
   "language": "python",
   "name": "python3"
  },
  "language_info": {
   "codemirror_mode": {
    "name": "ipython",
    "version": 3
   },
   "file_extension": ".py",
   "mimetype": "text/x-python",
   "name": "python",
   "nbconvert_exporter": "python",
   "pygments_lexer": "ipython3",
   "version": "3.6.5"
  }
 },
 "nbformat": 4,
 "nbformat_minor": 4
}
